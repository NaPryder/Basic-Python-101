{
 "cells": [
  {
   "cell_type": "markdown",
   "metadata": {},
   "source": [
    "# Excercise 1 - Create dict"
   ]
  },
  {
   "cell_type": "markdown",
   "metadata": {},
   "source": [
    "กำหนดให้ x = ['apple', 'mango', 'apple', 'banana', 'kiwi', 'peach', 'banana', 'banana']<br>\n",
    "\n",
    "สร้าง dict ใหม่โดยนับจำนวน item ของ x โดยให้ชื่อตัวแปรคือ dict_A\n",
    "1. ถ้ามี item เป็น key อยู่แล้วให้เพิ่มค่าขึ้น 1 หน่วย\n",
    "2. ถ้าไม่มี item เป็น key ให้สร้าง key, value ใหม่ โดยให้ item เป็น key และ value เท่ากับ 1\n",
    "\n",
    "Output:<br>\n",
    "แสดงผล dict_A\n",
    "\n",
    "Hint:<br>\n",
    "- ใช้ loop ในการแจกแจง item จากลิสต์\n",
    "- ใช้ if-else เพิ่มแบ่งข้อมูลว่ามี item เป็น key หรือไม่"
   ]
  },
  {
   "cell_type": "markdown",
   "metadata": {},
   "source": [
    "### ตัวอย่าง\n",
    "|input          |     Output       |\n",
    "|-------        |------------------|\n",
    "| ไม่มี input     | {'apple': 2, 'mango': 1, 'banana': 3, 'kiwi': 1, 'peach': 1}  |"
   ]
  },
  {
   "cell_type": "code",
   "execution_count": null,
   "metadata": {},
   "outputs": [],
   "source": [
    "x = ['apple', 'mango', 'apple', 'banana', 'kiwi', 'peach', 'banana', 'banana']\n",
    "dict_A = {}\n",
    "\n",
    "for item in x:\n",
    "\n",
    "    if item in dict_A:\n",
    "        dict_A[item] += 1\n",
    "\n",
    "    else:\n",
    "        dict_A[item] = 1\n",
    "\n",
    "print(dict_A)"
   ]
  }
 ],
 "metadata": {
  "interpreter": {
   "hash": "1f0945ea651c1069c7af037cbbaa82eca29c1e053adfed76f992832db8b6af67"
  },
  "kernelspec": {
   "display_name": "Python 3.9.10 64-bit",
   "language": "python",
   "name": "python3"
  },
  "language_info": {
   "codemirror_mode": {
    "name": "ipython",
    "version": 3
   },
   "file_extension": ".py",
   "mimetype": "text/x-python",
   "name": "python",
   "nbconvert_exporter": "python",
   "pygments_lexer": "ipython3",
   "version": "3.9.10"
  },
  "orig_nbformat": 4
 },
 "nbformat": 4,
 "nbformat_minor": 2
}
