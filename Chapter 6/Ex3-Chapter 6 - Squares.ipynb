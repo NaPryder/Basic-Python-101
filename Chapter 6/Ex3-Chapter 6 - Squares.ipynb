{
 "cells": [
  {
   "cell_type": "markdown",
   "metadata": {},
   "source": [
    "# Excercise 3 - Squares"
   ]
  },
  {
   "cell_type": "markdown",
   "metadata": {},
   "source": [
    "Input:<br>\n",
    "รับค่าจำนวนเต็มบวกที่มากกว่า 2 ผ่านทาง input เก็บไว้ในตัวแปร n<br>\n",
    "ถ้ารับค่า n <= 2 ให้แสดงผล invalid<br>\n",
    "\n",
    "Process:<br>\n",
    "loop ค่าตั้งแต่ 0 ถึง n+5 (ไม่นับค่า n+5) โดยค่า item แต่ละตัวที่ loop เก็บไว้ในตัวแปร i\n",
    "สร้าง dict ใหม่ โดย\n",
    "1. มี key = i\n",
    "2. มี value = i ยกกำลัง 2\n",
    "\n",
    "\n",
    "Output:<br>\n",
    "แสดงผล dict ที่สร้างใหม่\n",
    "\n",
    "Hint:<br>\n",
    "- ใช้ range() เพื่อกระจายค่าตั้งแต่ 0 ถึง n+5"
   ]
  },
  {
   "cell_type": "markdown",
   "metadata": {},
   "source": [
    "### ตัวอย่าง\n",
    "|input          |     Output       |\n",
    "|-------        |------------------|\n",
    "| 5    | {0: 0, 1: 1, 2: 4, 3: 9, 4: 16, 5: 25, 6: 36, 7: 49, 8: 64, 9: 81}  |\n",
    "| 2    | invalid  |"
   ]
  },
  {
   "cell_type": "code",
   "execution_count": null,
   "metadata": {},
   "outputs": [],
   "source": [
    "n = int(input('Enter n'))\n",
    "\n",
    "if n <= 2:\n",
    "    print('invalid')\n",
    "else:\n",
    "    dict_A = {}\n",
    "\n",
    "    for i in range(n+5):\n",
    "        dict_A[i] = i**2\n",
    "\n",
    "    print(dict_A)"
   ]
  }
 ],
 "metadata": {
  "interpreter": {
   "hash": "1f0945ea651c1069c7af037cbbaa82eca29c1e053adfed76f992832db8b6af67"
  },
  "kernelspec": {
   "display_name": "Python 3.9.10 64-bit",
   "language": "python",
   "name": "python3"
  },
  "language_info": {
   "codemirror_mode": {
    "name": "ipython",
    "version": 3
   },
   "file_extension": ".py",
   "mimetype": "text/x-python",
   "name": "python",
   "nbconvert_exporter": "python",
   "pygments_lexer": "ipython3",
   "version": "3.9.10"
  },
  "orig_nbformat": 4
 },
 "nbformat": 4,
 "nbformat_minor": 2
}
