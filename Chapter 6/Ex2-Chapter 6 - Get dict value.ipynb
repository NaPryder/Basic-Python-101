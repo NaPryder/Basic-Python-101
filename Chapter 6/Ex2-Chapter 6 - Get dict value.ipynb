{
 "cells": [
  {
   "cell_type": "markdown",
   "metadata": {},
   "source": [
    "# Excercise 2 - Get dict value"
   ]
  },
  {
   "cell_type": "markdown",
   "metadata": {},
   "source": [
    "กำหนดให้ x = {'a': 30, 'b': 40, 'c': 50}<br>\n",
    "\n",
    "เข้าถึง value ใน key 'a', 'b', 'c' เพื่อนำ value มาคำนวณแล้วสร้างเป็น dict ตัวใหม่ชื่อ dict_S มีเงื่อนไขดังนี้\n",
    "1. นำ value ของ key 'a' มา ยกกำลัง 2 แล้วบวกด้วย 99 แล้วเก็บใน dict_S ตัวใหม่โดยมี key = 'a'\n",
    "2. นำ value ของ key 'b' มา หาร 5 แล้ว ยกกำลัง 4 แล้วเก็บใน dict_S ตัวใหม่โดยมี key = 'b'\n",
    "2. นำ value ของ key 'c' มา ลบ 15 แล้ว ยกกำลัง 2 แล้วเก็บใน dict_S ตัวใหม่โดยมี key = 'c'\n",
    "4. นำค่าที่ได้ทั้งหมด รวมกัน แล้วเก็บใน dict_S ตัวใหม่โดยมี key = 'x'\n",
    "\n",
    "\n",
    "Output:<br>\n",
    "แสดงผล dict_S\n",
    "\n",
    "Hint:<br>\n",
    "- เข้าถึง value แต่ละตัวด้วยการ assign ค่า เช่น เข้าถึงค่าของ key a โดยการกำหนด a = x['a']"
   ]
  },
  {
   "cell_type": "markdown",
   "metadata": {},
   "source": [
    "### ตัวอย่าง\n",
    "|input          |     Output       |\n",
    "|-------        |------------------|\n",
    "| ไม่มี input     | {'a': 999, 'b': 4096.0, 'c': 1225, 'x': 6320.0}  |"
   ]
  },
  {
   "cell_type": "code",
   "execution_count": null,
   "metadata": {},
   "outputs": [],
   "source": [
    "x = {'a': 30, 'b': 40, 'c': 50}\n",
    "\n",
    "a = (x['a'] ** 2) + 99\n",
    "b = (x['b'] / 5) ** 4\n",
    "c = (x['c'] - 15) ** 2\n",
    "\n",
    "dict_S = { \n",
    "    'a': a,\n",
    "    'b': b,\n",
    "    'c': c,\n",
    "    'x': a + b + c\n",
    "}\n",
    "\n",
    "print(dict_S)\n"
   ]
  }
 ],
 "metadata": {
  "interpreter": {
   "hash": "1f0945ea651c1069c7af037cbbaa82eca29c1e053adfed76f992832db8b6af67"
  },
  "kernelspec": {
   "display_name": "Python 3.9.10 64-bit",
   "language": "python",
   "name": "python3"
  },
  "language_info": {
   "codemirror_mode": {
    "name": "ipython",
    "version": 3
   },
   "file_extension": ".py",
   "mimetype": "text/x-python",
   "name": "python",
   "nbconvert_exporter": "python",
   "pygments_lexer": "ipython3",
   "version": "3.9.10"
  },
  "orig_nbformat": 4
 },
 "nbformat": 4,
 "nbformat_minor": 2
}
