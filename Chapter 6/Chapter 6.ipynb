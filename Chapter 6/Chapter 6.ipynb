{
 "cells": [
  {
   "cell_type": "markdown",
   "metadata": {},
   "source": [
    "# Basic Python \n",
    "\n",
    "## Chapter 6 - Dictionary"
   ]
  },
  {
   "cell_type": "markdown",
   "metadata": {},
   "source": [
    "### Dictionary\n",
    "1. ใช้เก็บข้อมูลแปปคู่อันดับ (key, value)\n",
    "2. โดย key ต้องจะไม่ซ้ำกัน \n",
    "3. หนึ่ง key มี value ที่คู่กันเพียงค่าเดียว (แต่ value อาจเป็น list, tuple, ... ที่เก็บข้อมูลย่อย ๆ ได้)\n",
    "4. การใช้ key หา value ที่คู่กัน จะทำงานได้เร็ว"
   ]
  },
  {
   "cell_type": "markdown",
   "metadata": {},
   "source": [
    "### สร้าง Dictionary\n",
    "ทำได้หลายแบบ สามารถระบุสิ่งที่ต้องการเก็บด้วยก็ได้\n",
    "```python\n",
    "dict1 = {}\n",
    "```\n",
    "\n",
    "หรือ \n",
    "```python\n",
    "dict1 = dict()\n",
    "```\n",
    "\n",
    "จะได้เป็น dict ว่าง ๆ\n",
    "\n",
    "\n",
    "```python\n",
    "dict2 = {'Name': 'John', 'Age':15}\n",
    "```\n",
    "\n",
    "เป็นการสร้าง dict ที่เป็นคู่อันดับ  "
   ]
  },
  {
   "cell_type": "code",
   "execution_count": null,
   "metadata": {},
   "outputs": [],
   "source": [
    "dict2 = {'Name': 'John', 'Age':15}\n",
    "print(dict2)"
   ]
  },
  {
   "cell_type": "code",
   "execution_count": null,
   "metadata": {},
   "outputs": [],
   "source": [
    "thisdict = {\n",
    "  \"brand\": \"Ford\",\n",
    "  \"model\": \"Mustang\",\n",
    "  \"year\": 1964\n",
    "}\n",
    "print(thisdict)"
   ]
  },
  {
   "cell_type": "code",
   "execution_count": null,
   "metadata": {},
   "outputs": [],
   "source": [
    "# key เป็น string หรือ number ก็ได้\n",
    "x = {\n",
    "  2021 : \"A\",\n",
    "  2022 : \"B\",\n",
    "  55.55: 55\n",
    "}\n",
    "print(x)"
   ]
  },
  {
   "cell_type": "code",
   "execution_count": null,
   "metadata": {},
   "outputs": [],
   "source": [
    "# value เป็น list ก็ได้\n",
    "\n",
    "x = {\n",
    "  'John' : [1, 25, 'US'],\n",
    "  'Tom' : [2, 20, 'EN'],\n",
    "  'Eddy' : [3, 23, 'AU'],\n",
    "}\n",
    "print(x)"
   ]
  },
  {
   "cell_type": "code",
   "execution_count": null,
   "metadata": {},
   "outputs": [],
   "source": [
    "#  Dictionary ไม่รองรับ key ซ้ำ\n",
    "\n",
    "thisdict = {\n",
    "  \"brand\": \"Ford\",\n",
    "  \"model\": \"Mustang\",\n",
    "  \"year\": 1964, # key ซ้ำ\n",
    "  \"year\": 2020  # key ซ้ำ\n",
    "}\n",
    "print(thisdict)"
   ]
  },
  {
   "cell_type": "markdown",
   "metadata": {},
   "source": [
    "### Dictionary Items\n",
    "Dict สามารถเปลี่ยนแปลงค่าได้ <br>\n",
    "สามารถเข้าถึง dict ได้โดย เรียกค่า key ผ่านทาง [ ]\n",
    "```python\n",
    "thisdict = {\n",
    "  \"brand\": \"Ford\",\n",
    "  \"model\": \"Mustang\",\n",
    "  \"year\": 1964\n",
    "}\n",
    "print(thisdict[\"brand\"])\n",
    "```\n",
    "\n",
    "#### สามารถนับจำนวน key ได้จากฟังก์ชัน len()"
   ]
  },
  {
   "cell_type": "code",
   "execution_count": 14,
   "metadata": {},
   "outputs": [
    {
     "name": "stdout",
     "output_type": "stream",
     "text": [
      "Ford\n",
      "3\n"
     ]
    }
   ],
   "source": [
    "x = {\n",
    "  \"brand\": \"Ford\",\n",
    "  \"model\": \"Mustang\",\n",
    "  \"year\": 1964\n",
    "}\n",
    "print(x[\"brand\"])\n",
    "print(len(x))"
   ]
  },
  {
   "cell_type": "markdown",
   "metadata": {},
   "source": [
    "### method ใน dictionary\n",
    "\n",
    "1. `get` เก็บค่า value จาก key\n",
    "2. `keys` ตรวจสอบค่า key ทั้งหมด\n",
    "3. `values` ตรวจสอบค่า value ทั้งหมด\n",
    "4. `update` เพิ่มข้อมูล dictionary ใน dictionary ที่ต้องการ ถ้า key ซ้ำจะเป็นการแก้ไข value\n",
    "5. `pop` ลบข้อมูลจาก key ที่ต้องการ ถ้าไม่มี key อยู่ใน dict จะเกิด error\n",
    "6. `popitem` ลบ key, value ตัวสุดท้ายของ dictionary\n",
    "7. `copy` copy dictionary"
   ]
  },
  {
   "cell_type": "code",
   "execution_count": null,
   "metadata": {},
   "outputs": [],
   "source": [
    "# method get\n",
    "\n",
    "x = {\n",
    "  \"brand\": \"Ford\",\n",
    "  \"model\": \"Mustang\",\n",
    "  \"year\": 1964\n",
    "}\n",
    "print(x.get('A'))"
   ]
  },
  {
   "cell_type": "code",
   "execution_count": null,
   "metadata": {},
   "outputs": [],
   "source": [
    "# keys, values, items\n",
    "\n",
    "car = {\n",
    "\"brand\": \"Ford\",\n",
    "\"model\": \"Mustang\",\n",
    "\"year\": 1964\n",
    "}\n",
    "\n",
    "print(car.keys())\n",
    "print(car.values())\n",
    "print(car.items())"
   ]
  },
  {
   "cell_type": "code",
   "execution_count": null,
   "metadata": {},
   "outputs": [],
   "source": [
    "# update\n",
    "\n",
    "x = {1:'X'}\n",
    "y = {1:'A', 2:'B'}\n",
    "\n",
    "x.update(y)\n",
    "print(x)"
   ]
  },
  {
   "cell_type": "code",
   "execution_count": null,
   "metadata": {},
   "outputs": [],
   "source": [
    "# pop\n",
    "\n",
    "x = {\n",
    "    'A':1000, \n",
    "    'B':500, \n",
    "    'C': 350}\n",
    "x.pop('B')\n",
    "print(x)"
   ]
  },
  {
   "cell_type": "code",
   "execution_count": null,
   "metadata": {},
   "outputs": [],
   "source": [
    "# popitem\n",
    "\n",
    "x = {\n",
    "    'A':1000, \n",
    "    'B':500, \n",
    "    'C': 350}\n",
    "x.popitem()\n",
    "print(x)"
   ]
  },
  {
   "cell_type": "code",
   "execution_count": null,
   "metadata": {},
   "outputs": [],
   "source": [
    "# copy\n",
    "\n",
    "x = {\n",
    "    'A':1000, \n",
    "    'B':500, \n",
    "    'C': 350}\n",
    "y = x.copy()\n",
    "\n",
    "\n",
    "print(x, id(x))\n",
    "print(y, id(y))"
   ]
  },
  {
   "cell_type": "markdown",
   "metadata": {},
   "source": [
    "### การเพิ่มข้อมูลใน dict โดยการ assign\n",
    "\n",
    "```python\n",
    "x = {}\n",
    "\n",
    "x['key'] = 'value'\n",
    "```"
   ]
  },
  {
   "cell_type": "code",
   "execution_count": null,
   "metadata": {},
   "outputs": [],
   "source": [
    "#ใช้การ assign ค่า \n",
    "x = {}\n",
    "\n",
    "x['A'] = 'B'\n",
    "print(x)"
   ]
  },
  {
   "cell_type": "markdown",
   "metadata": {},
   "source": [
    "### ใช้ in ใน dictionary\n",
    "\n",
    "ใช้ `in` ตรวจสอบว่ามี key อยู่ใน dictionary หรือไม่"
   ]
  },
  {
   "cell_type": "code",
   "execution_count": null,
   "metadata": {},
   "outputs": [],
   "source": [
    "car = {\n",
    "\"brand\": \"Ford\",\n",
    "\"model\": \"Mustang\",\n",
    "\"year\": 1964\n",
    "}\n",
    "\n",
    "print( 'A' in car)\n",
    "print( 'brand' in car)"
   ]
  },
  {
   "cell_type": "code",
   "execution_count": null,
   "metadata": {},
   "outputs": [],
   "source": [
    "car = {\n",
    "\"brand\": \"Ford\",\n",
    "\"model\": \"Mustang\",\n",
    "\"year\": 1964\n",
    "}\n",
    "\n",
    "if 'A' in car:\n",
    "    print('found A')\n",
    "else:\n",
    "    print('not found A')\n"
   ]
  },
  {
   "cell_type": "code",
   "execution_count": null,
   "metadata": {},
   "outputs": [],
   "source": [
    "# ตรวจสอบ key ใน dict ก่อนเพิ่มข้อมูล\n",
    "name = {}\n",
    "\n",
    "if 'Smith' not in name:\n",
    "    name['Smith'] = 1\n",
    "\n",
    "if 'John' not in name:\n",
    "    name['John'] = 2\n",
    "\n",
    "if 'John' not in name:\n",
    "    name['John'] = 999\n",
    "\n",
    "print(name)"
   ]
  },
  {
   "cell_type": "markdown",
   "metadata": {},
   "source": [
    "### ใช้ Loop กับ dict\n",
    "\n",
    "สามารถใช้ for loop กับ dictionary ได้ <br>\n",
    "โดย item ที่ได้จะเป็น key\n",
    "\n",
    "```python\n",
    "for item in dict1:\n",
    "    # item ที่ได้ คือ key ของ dict1\n",
    "    # statement\n",
    "```\n",
    "\n",
    "หากต้องการ value ด้วยสามารถใช้ method `items()` เพื่อเก็บค่า (key, value) ดังนี้\n",
    "\n",
    "```python\n",
    "for item in dict1.items():\n",
    "    # item ที่ได้ คือ (key, value) ของ dict1\n",
    "    # statement\n",
    "```\n",
    "หรือ\n",
    "```python\n",
    "for key, value in dict1.items():\n",
    "    # statement\n",
    "```\n"
   ]
  },
  {
   "cell_type": "code",
   "execution_count": null,
   "metadata": {},
   "outputs": [],
   "source": [
    "# loop แบบได้ key อย่างเดียว\n",
    "\n",
    "car = {\n",
    "\"brand\": \"Ford\",\n",
    "\"model\": \"Mustang\",\n",
    "\"year\": 1964\n",
    "}\n",
    "\n",
    "for key in car:\n",
    "    print(key)"
   ]
  },
  {
   "cell_type": "code",
   "execution_count": null,
   "metadata": {},
   "outputs": [],
   "source": [
    "# loop แบบได้ key และ value\n",
    "\n",
    "car = {\n",
    "\"brand\": \"Ford\",\n",
    "\"model\": \"Mustang\",\n",
    "\"year\": 1964\n",
    "}\n",
    "\n",
    "for item in car.items():\n",
    "    print(item , type(item))"
   ]
  },
  {
   "cell_type": "code",
   "execution_count": null,
   "metadata": {},
   "outputs": [],
   "source": [
    "# loop แบบได้ key และ value\n",
    "\n",
    "car = {\n",
    "\"brand\": \"Ford\",\n",
    "\"model\": \"Mustang\",\n",
    "\"year\": 1964\n",
    "}\n",
    "\n",
    "for key, value in car.items():\n",
    "    print(key, value )"
   ]
  },
  {
   "cell_type": "markdown",
   "metadata": {},
   "source": [
    "### รูปแบบการใช้งานที่พบบ่อย\n",
    "\n",
    "ใช้ dict จับคู่ข้อมูลหรือสร้างความสัมพัธ์ระหว่างคู่ข้อมูล key กับ value <br>\n",
    "โดยหวังจพขอ value จากค่า key"
   ]
  },
  {
   "cell_type": "code",
   "execution_count": null,
   "metadata": {},
   "outputs": [],
   "source": [
    "# ถ้าต้องการชื่อย่อของเดือนภาษาอังกฤษ จาก key ที่เป็นตัวเลขเดือน\n",
    "month = {\n",
    "    1 : 'JAN',\n",
    "    2 : 'FEB',\n",
    "    3 : 'MAR',\n",
    "    4 : 'APR'\n",
    "}\n",
    "\n",
    "print(month[1]) # 1 ไม่ใช่ index แต่เป็น key"
   ]
  },
  {
   "cell_type": "markdown",
   "metadata": {},
   "source": [
    "### รูปแบบการใช้งานที่พบบ่อย\n",
    "\n",
    "ตรวจสอบ key ใน dict ก่อนเพิ่ม/แก้ไข value"
   ]
  },
  {
   "cell_type": "code",
   "execution_count": null,
   "metadata": {},
   "outputs": [],
   "source": [
    "# ตรวจสอบว่ามี brand รถ จาก list B ว่าเป็น key ใน dict car ไหม ถ้ามีให้เพิ่ม value +1 ถ้าไม่มีให้เพิ่ม brand ใหม่โดยมี value = 1\n",
    "B = ['Nissan', 'Audi', 'Benz', 'Mazda', 'BMW', 'BMW', 'Audi', 'Benz']\n",
    "car = {\n",
    "    'Audi': 1,\n",
    "    'BMW' : 2\n",
    "}\n",
    "\n",
    "for brand in B:\n",
    "\n",
    "    if brand in car:\n",
    "        # ถ้ามี brand เป็น key ใน dict จะเพิ่มค่าไป +1\n",
    "        car[brand] += 1\n",
    "    \n",
    "    else:\n",
    "        # ถ้าไม่มี brand เป็น key ใน dict จะสร้างค่าใหม่โดยให้ value = 1\n",
    "\n",
    "        '''ใช้วิธีสร้างค่าใหม่ แบบไหนก็ได้ ระหว่างการ update หรือ assign'''\n",
    "        # car.update({brand: 1})    # ใช้ update ในการสร้าง\n",
    "        car[brand] = 1              # ใช้การ assign ตัวแปร สร้างค่าใหม่\n",
    "    \n",
    "print(car)"
   ]
  },
  {
   "cell_type": "markdown",
   "metadata": {},
   "source": [
    "### Example\n",
    "\n",
    "Input: รับสตริงจากแป้นพิมพ์ (ตัวอักษรภาษาอังกฤษเท่านั้น) เก็บในตัวแปร x <br>\n",
    "\n",
    "สร้าง dict แสดงการนับตัวอักขระของ x <br>\n",
    "\n",
    "Output: dict ที่สร้าง (ไม่สนใจลำดับที่แสดงผล)<br>\n",
    "\n",
    "ตัวอย่างเช่น <br>\n",
    "- รับค่า book ให้แสดงผล {'b': 1, 'o': 2, 'k': 1} <br>\n",
    "- รับค่า Aabbcc ให้แสดงผล {'A': 1, 'a': 1, 'b': 2, 'c': 2}\n"
   ]
  },
  {
   "cell_type": "code",
   "execution_count": null,
   "metadata": {},
   "outputs": [],
   "source": [
    "x = input('Enter x')\n",
    "\n",
    "dict1 = {}\n",
    "for char in x:\n",
    "    \n",
    "    if char in dict1:\n",
    "        dict1[char] += 1\n",
    "    else:\n",
    "        dict1[char] = 1\n",
    "\n",
    "print(dict1)"
   ]
  },
  {
   "cell_type": "markdown",
   "metadata": {},
   "source": [
    "### Nested dict\n",
    "\n",
    "คือ dictionary ที่มี value เป็น dictionary เช่น\n",
    "```python\n",
    "myfamily = {\n",
    "    \"child1\" : { \"name\" : \"Emily\", \"year\" : 2004 },\n",
    "    \"child2\" : { \"name\" : \"Toby\", \"year\" : 2007 },\n",
    "    \"child3\" : { \"name\" : \"Abby\", \"year\" : 2011 }\n",
    "}\n",
    "```\n",
    "\n",
    "จากตัวอย่าง มี key 3 ตัว คือ `child1`, `child2`, `child3` <br>\n",
    "โดย key แต่ละตัวมี value เป็น dict อีกที"
   ]
  },
  {
   "cell_type": "code",
   "execution_count": 13,
   "metadata": {},
   "outputs": [
    {
     "name": "stdout",
     "output_type": "stream",
     "text": [
      "key=child1, value={'name': 'Emily', 'year': 2004}\n",
      "key=child2, value={'name': 'Toby', 'year': 2007}\n",
      "key=child3, value={'name': 'Abby', 'year': 2011}\n"
     ]
    }
   ],
   "source": [
    "# loop ใน nested dict\n",
    "\n",
    "myfamily = {\n",
    "    \"child1\" : { \"name\" : \"Emily\", \"year\" : 2004 },\n",
    "    \"child2\" : { \"name\" : \"Toby\", \"year\" : 2007 },\n",
    "    \"child3\" : { \"name\" : \"Abby\", \"year\" : 2011 }\n",
    "}\n",
    "\n",
    "for key, value in myfamily.items():\n",
    "    print(f\"key={key}, value={value}\")"
   ]
  }
 ],
 "metadata": {
  "interpreter": {
   "hash": "1f0945ea651c1069c7af037cbbaa82eca29c1e053adfed76f992832db8b6af67"
  },
  "kernelspec": {
   "display_name": "Python 3.9.10 64-bit",
   "language": "python",
   "name": "python3"
  },
  "language_info": {
   "codemirror_mode": {
    "name": "ipython",
    "version": 3
   },
   "file_extension": ".py",
   "mimetype": "text/x-python",
   "name": "python",
   "nbconvert_exporter": "python",
   "pygments_lexer": "ipython3",
   "version": "3.9.10"
  },
  "orig_nbformat": 4
 },
 "nbformat": 4,
 "nbformat_minor": 2
}
