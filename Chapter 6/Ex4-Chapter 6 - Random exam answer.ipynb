{
 "cells": [
  {
   "cell_type": "markdown",
   "metadata": {},
   "source": [
    "# Excercise 4 - Random exam answer"
   ]
  },
  {
   "cell_type": "markdown",
   "metadata": {},
   "source": [
    "## เขียนโปรแกรมสำหรับ คำนวณคะแนนสอบ\n",
    "\n",
    "Adrian, Bruno, Goran ต้องทำข้อสอบเป็นจำนวน N ข้อ แต่ละข้อมี 3 ตัวเลือกคือ A, B, C <br>\n",
    "ทั้ง 3 คนต้องการเดาคำตอบที่ถูกต้องโดยมีวิธีดังนี้ <br>\n",
    "- Adrian จะทำข้อสอบด้วยรูปแบบ A, B, C, A, B, C, A, B, C, ...\n",
    "- Bruno จะทำข้อสอบด้วยรูปแบบ B, A, B, C, B, A, B, C, B, A, ...\n",
    "- Goran จะทำข้อสอบด้วยรูปแบบ C, C, A, A, B, B, C, C, A, A, B, B, ...\n",
    "\n",
    "เขียนโปรแกรม รับเฉลยข้อสอบ และหาว่า วิธีของใครจะได้คะแนนมากที่สุด\n",
    "\n",
    "Input: <br>\n",
    "บรรทัดที่ 1 รับจำนวนคำถามในข้อสอบทั้งหมด เป็นจำนวนเต็มบวก โดย N >= 1\n",
    "บรรทัดที่ 2 รับข้อความความยาว N ที่ประกอบด้วยตัวอักษร 'A', 'B', 'C' ที่เป็นเฉลยของคำถามในแต่ละข้อเรียงกันตามลำดับ\n",
    "\n",
    "Output:<br>\n",
    "บรรทัดที่ 1 แสดงคะแนนที่มากที่สุด\n",
    "บรรทัดที่ 2 แสดงชื่อคนที่ได้คะแนนสูงสุดถ้ามีหลายคนให้แสดงบรรทัดละหนึ่งชื่อ\n",
    "\n",
    "Hint:\n",
    "- ใช้ dictionary ในการเก็บข้อมูลคะแนนของแต่ละคน\n",
    "- คำนวณหา pattern ที่แต่ละคนใช้ จากการคูณ list กับผลต่างจำนวนข้อ\n"
   ]
  },
  {
   "cell_type": "markdown",
   "metadata": {},
   "source": [
    "### ตัวอย่าง\n",
    "|Input              |     Output       |\n",
    "|-------            |------------------|\n",
    "| 9<br>AAAABBBBB    | 4<br>Adrian<br>Bruno<br>Goran    |\n",
    "| 5<br>BABCB       | 5<br>Bruno    |\n",
    "| 3<br>CCA      | 3<br>Goran   |\n",
    "| 4<br>ABCA      | 4<br>Adrian   |"
   ]
  },
  {
   "cell_type": "code",
   "execution_count": 1,
   "metadata": {},
   "outputs": [
    {
     "name": "stdout",
     "output_type": "stream",
     "text": [
      "4\n",
      "Adrian\n",
      "Bruno\n",
      "Goran\n"
     ]
    }
   ],
   "source": [
    "n = int(input(\"Enter n:\"))\n",
    "answers = input('Enter answer:').upper()\n",
    "\n",
    "dict_patterns = {\n",
    "    'Adrian': ['A', 'B', 'C'],\n",
    "    'Bruno' : ['B', 'A', 'B', 'C'],\n",
    "    'Goran' : ['C', 'C', 'A', 'A', 'B', 'B']\n",
    "}\n",
    "\n",
    "dict_score = {}\n",
    "\n",
    "max_score = 0\n",
    "for name, pattern in dict_patterns.items():\n",
    "    if len(pattern) < n:\n",
    "        diff = n - len(pattern)\n",
    "        if diff == 1:\n",
    "            pattern = pattern * 2\n",
    "        else:\n",
    "            pattern = pattern * diff\n",
    "    dict_score[name] = 0\n",
    "    # print(name, pattern[:n])\n",
    "    for i, choice in enumerate(pattern[:n]):\n",
    "        # print(choice, answers[i])\n",
    "        if choice == answers[i]:\n",
    "            dict_score[name] += 1 \n",
    "\n",
    "    if max_score < dict_score[name]:\n",
    "        max_score = dict_score[name]\n",
    "\n",
    "print(max_score)\n",
    "for name, score in dict_score.items():\n",
    "    if score == max_score:\n",
    "        print(name)\n",
    "\n",
    "\n",
    "\n"
   ]
  }
 ],
 "metadata": {
  "interpreter": {
   "hash": "1f0945ea651c1069c7af037cbbaa82eca29c1e053adfed76f992832db8b6af67"
  },
  "kernelspec": {
   "display_name": "Python 3.9.10 64-bit",
   "language": "python",
   "name": "python3"
  },
  "language_info": {
   "codemirror_mode": {
    "name": "ipython",
    "version": 3
   },
   "file_extension": ".py",
   "mimetype": "text/x-python",
   "name": "python",
   "nbconvert_exporter": "python",
   "pygments_lexer": "ipython3",
   "version": "3.9.10"
  },
  "orig_nbformat": 4
 },
 "nbformat": 4,
 "nbformat_minor": 2
}
