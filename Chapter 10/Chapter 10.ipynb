{
 "cells": [
  {
   "cell_type": "markdown",
   "metadata": {},
   "source": [
    "# Basic Python \n",
    "\n",
    "## Chapter 10 - Intro to Object Oriented Programing"
   ]
  },
  {
   "cell_type": "markdown",
   "metadata": {},
   "source": [
    "### Why OOP?\n",
    "\n",
    "ในปัจจุบันเราเขียนโปรแกรม เพื่อ แก้ปัญหาบางอย่าง <br>\n",
    "หลาย ๆ ครั้ง การแก้ปัญหาบางอย่าง เราจะแบ่งปัญหาออกเป็นส่วนเล็ก ๆ ก่อน ค่อยแก้มัน<br>\n",
    "\n",
    "เมื่อเราเขียนโปรแกรมใหม่ ๆ ปัญหา ที่เราแก้อาจจะมีขนาดเล็กมาก เราจะ Track ได้อย่างง่ายดาย <br>\n",
    "พอปัญหาที่ใหญ่ขึ้นมาหน่อย เราอาจจะต้องมีการใช้ Code เดิมซ้ำ ๆ หลาย ๆ จุด วิธีที่ง่ายที่สุดคือการ copy โค้ดไปแปะ<br>\n",
    "เลยมี concept การเขียนโปรแกรมเพื่อ reuse code เรา คือ Functional programing <br>\n",
    "แต่การเรียกใช้ function ซ้ำ ๆ กันในโปแกรมที่ใหญ่่ขึ้น การผูก function ไว้กับส่วนอื่นด้วยทำให้เราแก้ไขลำบากมาก<br>\n",
    "\n",
    "ทำให้มี concept การเขียนโปแกรม เพื่อให้เราจัดการกับปัญหาของเราได้ง่ายขึ้น ลดการพันกันระหว่าง Module <br>\n",
    "ส่วนไหนมีปัญหา เมื่อแก้ไขแล้วต้องไม่ไปกระทบกับอีกส่วน และต้องมีความยืดหยุ่นมากพอที่ทำให้เราดูแล Code ง่าย ๆ<br>\n",
    "นั่นคือ OOP คือ เราออกแบบทุกแย่างเป็น class และ object เปรียบเสมือนเราแยกส่วนแต่ละปัญหาเป็นส่วนย่อย ๆ (Module)<br>\n",
    "OOP ยังมีความสามารถในการ reuse code และ พัฒนาโค้ดต่อได้"
   ]
  },
  {
   "cell_type": "markdown",
   "metadata": {},
   "source": [
    "### Class\n",
    "\n",
    "ใช้สร้างประเภทข้อมูลใหม่ โดยเราสามารถกำหนดได้ว่า จะให้เก็บข้อมูลย่อยอะไรบ้าง และทำงานอะไรบ้าง <br>\n",
    "**`class`** คือ ประเภทข้อมูล <br>\n",
    "**`object`** คือ ตัวข้อมูล ที่ได้จากคลาส <br>\n",
    "**`method`** คือ ฟังก์ชันของคลาส <br>\n"
   ]
  },
  {
   "cell_type": "markdown",
   "metadata": {},
   "source": [
    "### การสร้าง Class\n",
    "\n",
    "ใช้ keyword `class` ตามด้วยชื่อของ class และ ปิดท้ายด้วย colon\n",
    "\n",
    "```python\n",
    "class Book:\n",
    "    # Statement\n",
    "```"
   ]
  },
  {
   "cell_type": "markdown",
   "metadata": {},
   "source": [
    "#### Method พิเศษ (Magic Method หรือ Dunder Method)\n",
    "Method พิเศษ จะขึ้นต้นและลงท้ายด้วย __ (double underscore)"
   ]
  },
  {
   "cell_type": "markdown",
   "metadata": {},
   "source": [
    "1. `__init__` คือ Constructor ของ class เมื่อมีการเรียกใช้ class จะใช้งานฟังก์ชันนี้อัติโนมัติ\n",
    "2. `__str__` คือ caster object ของเราเป็น str จะถูกเรียกใช้เมื่อใช้งานฟังก์ชัน str() หรือ print()\n",
    "3. `__lt__` คือ ตัวเปรียบเทียบ object method นี้จะถูกเรียกใช้เมื่อมีการเปรียบเทียบด้วยเครื่องหมาย < หรือ sort"
   ]
  },
  {
   "cell_type": "markdown",
   "metadata": {},
   "source": []
  },
  {
   "cell_type": "markdown",
   "metadata": {},
   "source": [
    "#### Design Object ก่อนสร้าง\n",
    "\n",
    "ก่อนจะเขียนโปรแกรม แบบ OOP เราจะต้องออกแบบก่อนว่า ควรจะมี class อะไรบ้าง\n",
    "\n",
    "หลักการออกแบบง่าย ๆ จะเริ่มจาก \n",
    "1. มี Object/Class อะไรบ้าง\n",
    "2. ในแต่ละ class มีคุณสมบัติ (attribute, property) อะไรบ้าง \n",
    "3. ในแต่ละ class มีความสามารถ (method) อะไรบ้าง "
   ]
  },
  {
   "cell_type": "markdown",
   "metadata": {},
   "source": [
    "##### Example สร้างคลาส ของ หนังสือ\n",
    "\n",
    "สิ่งที่ต้องการ\n",
    "1. มีคลาส Book \n",
    "2. มี property คือ id, title, price, author, page, publishing, publish_date\n",
    "3. มี method คือ\n",
    "    - แสดงรายละเอียดของหนังสือได้\n",
    "    - คำนวณว่าจจัดพิมพ์มาแล้วกี่วัน\n",
    "    - แก้ไขราคาขายได้"
   ]
  },
  {
   "cell_type": "code",
   "execution_count": null,
   "metadata": {},
   "outputs": [],
   "source": [
    "class Book:\n",
    "\n",
    "    # Statement\n",
    "    def __init__(self):\n",
    "        pass"
   ]
  }
 ],
 "metadata": {
  "interpreter": {
   "hash": "1f0945ea651c1069c7af037cbbaa82eca29c1e053adfed76f992832db8b6af67"
  },
  "kernelspec": {
   "display_name": "Python 3.9.10 64-bit",
   "language": "python",
   "name": "python3"
  },
  "language_info": {
   "name": "python",
   "version": "3.9.10"
  },
  "orig_nbformat": 4
 },
 "nbformat": 4,
 "nbformat_minor": 2
}
