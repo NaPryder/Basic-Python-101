{
 "cells": [
  {
   "cell_type": "markdown",
   "metadata": {},
   "source": [
    "# Basic Python \n",
    "\n",
    "## Chapter 10 - Intro to Object Oriented Programing"
   ]
  },
  {
   "cell_type": "markdown",
   "metadata": {},
   "source": [
    "### Why OOP?\n",
    "\n",
    "ในปัจจุบันเราเขียนโปรแกรม เพื่อ แก้ปัญหาบางอย่าง <br>\n",
    "หลาย ๆ ครั้ง การแก้ปัญหาบางอย่าง เราจะแบ่งปัญหาออกเป็นส่วนเล็ก ๆ ก่อน ค่อยแก้มัน<br>\n",
    "\n",
    "เมื่อเราเขียนโปรแกรมใหม่ ๆ ปัญหา ที่เราแก้อาจจะมีขนาดเล็กมาก เราจะ Track ได้อย่างง่ายดาย <br>\n",
    "พอปัญหาที่ใหญ่ขึ้นมาหน่อย เราอาจจะต้องมีการใช้ Code เดิมซ้ำ ๆ หลาย ๆ จุด วิธีที่ง่ายที่สุดคือการ copy โค้ดไปแปะ<br>\n",
    "เลยมี concept การเขียนโปรแกรมเพื่อ reuse code เรา คือ Functional programing <br>\n",
    "แต่การเรียกใช้ function ซ้ำ ๆ กันในโปแกรมที่ใหญ่่ขึ้น การผูก function ไว้กับส่วนอื่นด้วยทำให้เราแก้ไขลำบากมาก<br>\n",
    "\n",
    "ทำให้มี concept การเขียนโปแกรม เพื่อให้เราจัดการกับปัญหาของเราได้ง่ายขึ้น ลดการพันกันระหว่าง Module <br>\n",
    "ส่วนไหนมีปัญหา เมื่อแก้ไขแล้วต้องไม่ไปกระทบกับอีกส่วน และต้องมีความยืดหยุ่นมากพอที่ทำให้เราดูแล Code ง่าย ๆ<br>\n",
    "นั่นคือ OOP คือ เราออกแบบทุกแย่างเป็น class และ object เปรียบเสมือนเราแยกส่วนแต่ละปัญหาเป็นส่วนย่อย ๆ (Module)<br>\n",
    "OOP ยังมีความสามารถในการ reuse code และ พัฒนาโค้ดต่อได้"
   ]
  },
  {
   "cell_type": "markdown",
   "metadata": {},
   "source": [
    "### Class\n",
    "\n",
    "ใช้สร้างประเภทข้อมูลใหม่ โดยเราสามารถกำหนดได้ว่า จะให้เก็บข้อมูลย่อยอะไรบ้าง และทำงานอะไรบ้าง <br>\n",
    "**`class`** คือ ประเภทข้อมูล <br>\n",
    "**`object`** คือ ตัวข้อมูล ที่ได้จากคลาส <br>\n",
    "**`method`** คือ ฟังก์ชันของคลาส <br>\n"
   ]
  },
  {
   "cell_type": "markdown",
   "metadata": {},
   "source": [
    "### การสร้าง Class\n",
    "\n",
    "ใช้ keyword `class` ตามด้วยชื่อของ class และ ปิดท้ายด้วย colon\n",
    "\n",
    "```python\n",
    "class Book:\n",
    "    # Statement\n",
    "```"
   ]
  },
  {
   "cell_type": "markdown",
   "metadata": {},
   "source": [
    "#### Method พิเศษ (Magic Method หรือ Dunder Method)\n",
    "Method พิเศษ จะขึ้นต้นและลงท้ายด้วย __ (double underscore)"
   ]
  },
  {
   "cell_type": "markdown",
   "metadata": {},
   "source": [
    "1. `__init__` คือ Constructor ของ class เมื่อมีการเรียกใช้ class จะใช้งานฟังก์ชันนี้อัติโนมัติ\n",
    "2. `__str__` คือ caster object ของเราเป็น str จะถูกเรียกใช้เมื่อใช้งานฟังก์ชัน str() หรือ print()\n",
    "3. `__lt__` คือ ตัวเปรียบเทียบ object method นี้จะถูกเรียกใช้เมื่อมีการเปรียบเทียบด้วยเครื่องหมาย < หรือ sort"
   ]
  },
  {
   "cell_type": "markdown",
   "metadata": {},
   "source": [
    "#### Design Object ก่อนสร้าง\n",
    "\n",
    "ก่อนจะเขียนโปรแกรม แบบ OOP เราจะต้องออกแบบก่อนว่า ควรจะมี class อะไรบ้าง\n",
    "\n",
    "หลักการออกแบบง่าย ๆ จะเริ่มจาก \n",
    "1. มี Object/Class อะไรบ้าง\n",
    "2. ในแต่ละ class มีคุณสมบัติ (attribute, property) อะไรบ้าง \n",
    "3. ในแต่ละ class มีความสามารถ (method) อะไรบ้าง "
   ]
  },
  {
   "cell_type": "markdown",
   "metadata": {},
   "source": [
    "##### Example สร้างคลาส ของ หนังสือ\n",
    "\n",
    "สิ่งที่ต้องการ\n",
    "1. มีคลาส Book \n",
    "2. มี property คือ title, price, author\n",
    "3. มี method คือ\n",
    "    - แสดงรายละเอียดของหนังสือได้\n",
    "    - แก้ไขราคาขายได้"
   ]
  },
  {
   "cell_type": "code",
   "execution_count": 4,
   "metadata": {},
   "outputs": [],
   "source": [
    "# สร้าง class Book ขึ้นมาเตรียมไว้ก่อน\n",
    "class Book:\n",
    "    pass\n",
    "\n",
    "# กำหนดค่า\n",
    "book = Book()       # เราต้องการเข้าถึง class Book โดยการสร้าง object ชื่อ book \n",
    "book.title = 'book A'\n",
    "book.price = 100\n",
    "book.author = 'John'\n",
    "\n",
    "print(f\"Book {book.title}, price:{book.price} author:{book.author}\" )"
   ]
  },
  {
   "cell_type": "code",
   "execution_count": 9,
   "metadata": {},
   "outputs": [
    {
     "name": "stdout",
     "output_type": "stream",
     "text": [
      "Book book A, price:120 author:John\n"
     ]
    }
   ],
   "source": [
    "# สามารถ กำหนดให้ง่ายขึ้น ด้วยการใช้ฟังก์ชัน __init__\n",
    "class Book:\n",
    "    def __init__(self, title, price, author):\n",
    "        self.title = title\n",
    "        self.price = price\n",
    "        self.author = author\n",
    "\n",
    "# กำหนดค่า\n",
    "book = Book(title='book A', price=120, author='John')\n",
    "print(f\"Book {book.title}, price:{book.price} author:{book.author}\" )\n"
   ]
  },
  {
   "cell_type": "code",
   "execution_count": 10,
   "metadata": {},
   "outputs": [
    {
     "name": "stdout",
     "output_type": "stream",
     "text": [
      "<__main__.Book object at 0x0000016C755C19A0>\n"
     ]
    }
   ],
   "source": [
    "print(book)"
   ]
  },
  {
   "cell_type": "code",
   "execution_count": 1,
   "metadata": {},
   "outputs": [
    {
     "name": "stdout",
     "output_type": "stream",
     "text": [
      "Book book C, price:120 author:John\n"
     ]
    }
   ],
   "source": [
    "# ใช้ฟังก์ชัน __str__ เพื่อแสดงรายละเอียดหนังสือ\n",
    "\n",
    "class Book:\n",
    "    def __init__(self, title, price, author):\n",
    "        self.title = title\n",
    "        self.price = price\n",
    "        self.author = author\n",
    "    \n",
    "    def __str__(self):\n",
    "        return f\"Book {self.title}, price:{self.price} author:{self.author}\" \n",
    "\n",
    "# กำหนดค่า\n",
    "book = Book(title='book C', price=120, author='John')\n",
    "print(book)"
   ]
  },
  {
   "cell_type": "code",
   "execution_count": 2,
   "metadata": {},
   "outputs": [
    {
     "name": "stdout",
     "output_type": "stream",
     "text": [
      "Book book C, price:333 author:John\n"
     ]
    }
   ],
   "source": [
    "# แก้ไขราคาใหม่ โดยการ assign\n",
    "\n",
    "book.price = 333\n",
    "print(book)"
   ]
  },
  {
   "cell_type": "code",
   "execution_count": 5,
   "metadata": {},
   "outputs": [
    {
     "name": "stdout",
     "output_type": "stream",
     "text": [
      "ก่อนปรับราคา Book book D, price:200 author:John\n",
      "หลังปรับราคา Book book D, price:320 author:John\n"
     ]
    }
   ],
   "source": [
    "# แก้ไขราคาใหม่ โดยการ ใช้ฟังก์ชัน\n",
    "\n",
    "class Book:\n",
    "    def __init__(self, title, price, author):\n",
    "        self.title = title\n",
    "        self.price = price\n",
    "        self.author = author\n",
    "    \n",
    "    def __str__(self):\n",
    "        return f\"Book {self.title}, price:{self.price} author:{self.author}\" \n",
    "    \n",
    "    # เพิ่ม ฟังก์ชันสำหรับเปลี่ยนแปลงราคา\n",
    "    def set_new_price(self, new_price):\n",
    "        self.price = new_price\n",
    "\n",
    "book = Book(title='book D', price=200, author='John')\n",
    "print(f\"ก่อนปรับราคา\", book)\n",
    "\n",
    "# แก้ไขราคาใหม่ ด้วย method set_new_price() ใน class\n",
    "book.set_new_price(new_price=320)\n",
    "print(f\"หลังปรับราคา\", book)\n"
   ]
  }
 ],
 "metadata": {
  "interpreter": {
   "hash": "1f0945ea651c1069c7af037cbbaa82eca29c1e053adfed76f992832db8b6af67"
  },
  "kernelspec": {
   "display_name": "Python 3.9.10 64-bit",
   "language": "python",
   "name": "python3"
  },
  "language_info": {
   "codemirror_mode": {
    "name": "ipython",
    "version": 3
   },
   "file_extension": ".py",
   "mimetype": "text/x-python",
   "name": "python",
   "nbconvert_exporter": "python",
   "pygments_lexer": "ipython3",
   "version": "3.9.10"
  },
  "orig_nbformat": 4
 },
 "nbformat": 4,
 "nbformat_minor": 2
}
