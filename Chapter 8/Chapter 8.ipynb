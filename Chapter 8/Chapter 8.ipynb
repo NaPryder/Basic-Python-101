{
 "cells": [
  {
   "cell_type": "markdown",
   "metadata": {},
   "source": [
    "# Basic Python \n",
    "\n",
    "## Chapter 8 - Function and Recursion"
   ]
  },
  {
   "cell_type": "markdown",
   "metadata": {},
   "source": [
    "### Function\n",
    "\n",
    "Function คือ ส่วนของโค้ดหรือโปรแกรมที่ทำงานเพื่อวัตถุประสงค์บางอย่าง <br>\n",
    "Function จะทำงานได้ก็ต่อเมื่อมีการเรียกใช้งาน\n"
   ]
  },
  {
   "cell_type": "markdown",
   "metadata": {},
   "source": [
    "#### การใช้งาน function\n",
    "1. แยกส่วนโปรแกรมที่เป็นคำสั่งซ้ำ ๆ กัน หรือเข้าใจยาก ออกจากโปรแกรมหลัก\n",
    "2. ทำให้โปรแกรมอ่านง่าย\n",
    "3. สามารถเรียกใช้งานได้โดยไม่ต้องเขียนคำสั่งหลายรอบ\n",
    "4. ต้องเขียนฟังก์ชันไว้ก่อนที่จะเรียกใช้งาน\n",
    "5. ฟังก์ชันควรมีหน้าที่การทำงานที่ชัดเจน"
   ]
  },
  {
   "cell_type": "markdown",
   "metadata": {},
   "source": [
    "#### องค์ประกอบของฟังก์ชัน\n",
    "\n",
    "1. ชื่อฟังก์ชัน ตั้งชื่อเหมือนตัวแปร\n",
    "2. ค่าที่รับเข้ามา หรือ parameter (ไม่จำเป็นต้องมีก็ได้)\n",
    "3. การคืนค่าจากฟังก์ชัน ด้วยคำสั่ง return (ไม่จำเป็นต้องมีก็ได้)\n",
    "\n",
    "ตัวอย่าง\n",
    "```python\n",
    "def average_3(x, y, z):\n",
    "    s = x+y+z\n",
    "    return s/3\n",
    "```\n",
    "\n",
    "จากตัวอย่าง <br>\n",
    "1. ชื่อฟังก์ชัน คือ `average_3`\n",
    "2. parameter มี 3 ตัว คือ x, y, z\n",
    "3. มี return ค่า 1 ตัว"
   ]
  },
  {
   "cell_type": "markdown",
   "metadata": {},
   "source": [
    "#### สร้าง function\n",
    "\n",
    "ใช้ keyword `def`\n",
    "\n",
    "```python\n",
    "def function_name():\n",
    "    # statement\n",
    "```\n"
   ]
  },
  {
   "cell_type": "code",
   "execution_count": null,
   "metadata": {},
   "outputs": [],
   "source": [
    "# สร้างฟังก์ชัน ไม่มี parameter และ ไม่มี return\n",
    "def say_hi():\n",
    "    print('Hello1')\n",
    "    print('Hello1')\n",
    "    print('Hello1')\n",
    "\n",
    "def say_hi_2():\n",
    "    print('*********')\n",
    "    print('Hello 2')\n",
    "    print('Hello 2')\n",
    "    print('Hello 2')\n",
    "    print('*********')\n",
    "    return      # เทียบเท่า ไม่มี return\n",
    "\n",
    "# เรียกใช้ฟังก์ชัน\n",
    "say_hi_2()\n",
    "say_hi()\n",
    "say_hi_2()\n",
    "say_hi()\n"
   ]
  },
  {
   "cell_type": "code",
   "execution_count": null,
   "metadata": {},
   "outputs": [],
   "source": [
    "# สร้างฟังก์ชัน มี parameter แต่ ไม่มี return\n",
    "def say_hi(name):\n",
    "    print(f\"Hello {name}.\")\n",
    "\n",
    "# เรียกใช้ฟังก์ชันที่มี parameter\n",
    "say_hi(name=\"John\")\n",
    "say_hi(\"Tom\")\n",
    "say_hi(\"A\")\n",
    "say_hi(\"B\")"
   ]
  },
  {
   "cell_type": "code",
   "execution_count": null,
   "metadata": {},
   "outputs": [],
   "source": [
    "# สร้างฟังก์ชัน ไม่มี parameter แต่ มี return\n",
    "def get_message():\n",
    "    a = \"message a\"\n",
    "    b = \"message b\"\n",
    "    c = \"message c\"\n",
    "    return a, b, c\n",
    "\n",
    "# เรียกใช้ฟังก์ชันที่มี return จะใช้เครื่องหมายเท่ากับเพื่อสร้างตัวแปรใหม่มารับค่าที่ return\n",
    "return_data = get_message()\n",
    "print(return_data, type(return_data))"
   ]
  },
  {
   "cell_type": "code",
   "execution_count": null,
   "metadata": {},
   "outputs": [],
   "source": [
    "# สร้างฟังก์ชัน ไม่มี parameter แต่ มี return\n",
    "def get_message():\n",
    "    a = \"message a\"\n",
    "    b = \"message b\"\n",
    "    c = \"message c\"\n",
    "    return a, b, c\n",
    "\n",
    "# เรียกใช้ฟังก์ชันที่มี return จะใช้เครื่องหมายเท่ากับเพื่อสร้างตัวแปรใหม่มารับค่าที่ return\n",
    "A, B, C = get_message()\n",
    "print(A, type(A))\n",
    "print(B, type(B))\n",
    "print(C, type(C))"
   ]
  },
  {
   "cell_type": "code",
   "execution_count": null,
   "metadata": {},
   "outputs": [],
   "source": [
    "# สร้างฟังก์ชัน มี parameter และ มี return\n",
    "\n",
    "def average_3(x, y, z):\n",
    "    s = x + y + z\n",
    "    return s/3\n",
    "\n",
    "# เรียกใช้ฟังก์ชันที่มี parameter สามาส่งค่าได้ 2 แบบ\n",
    "# แบบที่ 1\n",
    "avg = average_3(x=5, y=10, z=9)\n",
    "print(avg)\n",
    "\n",
    "# แบบที่ 2\n",
    "avg2 = average_3(5, 10, 9)\n",
    "print(avg2)\n"
   ]
  },
  {
   "cell_type": "markdown",
   "metadata": {},
   "source": [
    "#### การ return\n",
    "1. สามารถ return ได้หลายที่ในฟังก์ชัน\n",
    "2. เมื่อทำงานที่คำสั่ง return แล้ว จะหยุดการทำงานของฟังก์ชันทันที และกลับไปทำงานที่จุดเรียกใช้ฟังก์ชัน\n",
    "3. return หลายค่า จะได้ tuple ของสิ่งที่ return \n",
    "4. ถ้าคำสั่งสุดท้ายของฟังก์ชันไม่ใช่ return ระบบจะเพิ่มคำสั่ง return None ให้เอง "
   ]
  },
  {
   "cell_type": "code",
   "execution_count": null,
   "metadata": {},
   "outputs": [],
   "source": [
    "# return หลายที่ในฟังก์ชัน\n",
    "\n",
    "def check_data(n):\n",
    "\n",
    "    if n == 0:\n",
    "        return \"0000000\"\n",
    "    elif n == 1:\n",
    "        return \"1111111\"\n",
    "    \n",
    "    return 'n not 0 or 1'\n",
    "\n",
    "# call function\n",
    "result1 = check_data(0)\n",
    "print(result1)\n",
    "\n",
    "result2 = check_data(1)\n",
    "print(result2)\n",
    "\n",
    "result3 = check_data(55)\n",
    "print(result3)\n"
   ]
  },
  {
   "cell_type": "code",
   "execution_count": null,
   "metadata": {},
   "outputs": [],
   "source": [
    "# ถ้าคำสั่งสุดท้ายของฟังก์ชันไม่ใช่ return ระบบจะเพิ่มคำสั่ง return None ให้เอง \n",
    "def say_hi():\n",
    "    print(\"--start function--\")\n",
    "    print(\"Hello\")\n",
    "    print('--end function--')\n",
    "    \n",
    "# call function\n",
    "a = say_hi()\n",
    "print()\n",
    "print(f\" a = {a} type={type(a)}\")\n",
    "print('--end program--')"
   ]
  },
  {
   "cell_type": "markdown",
   "metadata": {},
   "source": [
    "#### Local variables\n",
    "\n",
    "ตัวแปรในฟังก์ชัน \n",
    "1. สามารถตั้งชื่อซ้ำกับตัวแปรในฟังก์ชันอื่น\n",
    "2. เรียกใช้ตัวแปรในฟังกืชันอื่นไม่ได้\n",
    "3. หากส่งตัวแปรประเภท int, float, str, bool เข้ามาในฟังก์ชัน จะถือว่าเป็นคนละตัวกัน\n",
    "4. หากส่งตัวแปรประเภท list, dict, set เข้ามาในฟังก์ชัน ถ้ามีการเปลี่ยนค่าในฟังก์ชัน ตัวแปรเดิมจะถูกเปลี่ยนค่าด้วย\n"
   ]
  },
  {
   "cell_type": "code",
   "execution_count": null,
   "metadata": {},
   "outputs": [],
   "source": [
    "# ตัวแปร n ในฟังก์ชันทั้ง 2 ฟังก์ชัน คือคนละตัวกัน\n",
    "def get_x(n):\n",
    "\n",
    "    if n%2 == 0:\n",
    "        return 100\n",
    "    return 10\n",
    "\n",
    "def get_y(n):\n",
    "    if n >= 10:\n",
    "        n = (n/3) + 2\n",
    "        return n\n",
    "    return 30 - n\n",
    "\n",
    "a = 15\n",
    "x = get_x(n=a * 2)\n",
    "y = get_y(n=a + 1)\n",
    "\n",
    "print(x)\n",
    "print(y)"
   ]
  },
  {
   "cell_type": "code",
   "execution_count": null,
   "metadata": {},
   "outputs": [],
   "source": [
    "# แก้ไขค่ากับตัวแปร int, float, str, bool\n",
    "\n",
    "def change_value(x):\n",
    "    x = 50\n",
    "    return x\n",
    "\n",
    "# int\n",
    "x = 0\n",
    "new_x = change_value(x)\n",
    "print(f\"int x = {x}, new_x = {new_x}\")\n",
    "\n",
    "# float\n",
    "x = 0.5\n",
    "new_x = change_value(x)\n",
    "print(f\"float x = {x}, new_x = {new_x}\")\n",
    "\n",
    "# str\n",
    "x = '99'\n",
    "new_x = change_value(x)\n",
    "print(f\"str x = {x}, new_x = {new_x}\")\n",
    "\n",
    "# bool\n",
    "x = True\n",
    "new_x = change_value(x)\n",
    "print(f\"bool x = {x}, new_x = {new_x}\")"
   ]
  },
  {
   "cell_type": "code",
   "execution_count": null,
   "metadata": {},
   "outputs": [],
   "source": [
    "# แก้ไขค่ากับตัวแปร list\n",
    "\n",
    "def change_value_list(x):\n",
    "    print('--start function---')\n",
    "    x[0] = 99999\n",
    "    print('--end function---')\n",
    "\n",
    "list_x = [100, 500, 1000]\n",
    "\n",
    "print(f\"before call function list_x={list_x}\")\n",
    "change_value_list(list_x)\n",
    "print(f\"after call function list_x={list_x}\")\n"
   ]
  },
  {
   "cell_type": "code",
   "execution_count": null,
   "metadata": {},
   "outputs": [],
   "source": [
    "# แก้ไขค่ากับตัวแปร dict\n",
    "\n",
    "def change_value_dict(x):\n",
    "    print('--start function---')\n",
    "    x['A'] = 0\n",
    "    print('--end function---')\n",
    "\n",
    "d = {\n",
    "    'A' : 5000,\n",
    "    'B' : True\n",
    "}\n",
    "\n",
    "print(f\"before call function d={d}\")\n",
    "change_value_dict(d)\n",
    "print(f\"after call function d={d}\")\n"
   ]
  },
  {
   "cell_type": "markdown",
   "metadata": {},
   "source": [
    "#### Global variables\n",
    "\n",
    "ตัวแปรที่สร้างขึ้นนอกฟังก์ชัน (สร้างไว้ก่อนเรียกใช้ฟังก์ชัน) <br>\n",
    "ถ้าสร้างตัวแปรในฟังก์ชันที่มีชื่อเหมือนกับ global variable ตัวแปรใฝนฟังก์ชันจะเป็น local variable"
   ]
  },
  {
   "cell_type": "code",
   "execution_count": null,
   "metadata": {},
   "outputs": [],
   "source": [
    "# ค่า PI เป็น global variable\n",
    "PI = 3.142\n",
    "\n",
    "def calculate_area(r):\n",
    "    area = PI * r * r\n",
    "    return area\n",
    "\n",
    "a = calculate_area(5)\n",
    "print(a)"
   ]
  },
  {
   "cell_type": "code",
   "execution_count": null,
   "metadata": {},
   "outputs": [],
   "source": [
    "# ค่า PI เป็น global variable และ กำหนดค่า PI เป็น local \n",
    "PI = 3.142\n",
    "\n",
    "def calculate_area(r):\n",
    "    print('--start function---')\n",
    "\n",
    "    # assign PI เป็น local variable \n",
    "    PI = 3.1\n",
    "    print(f\"local PI: {PI}\")\n",
    "    area = PI * r * r\n",
    "\n",
    "    print('--end function---')\n",
    "    return area\n",
    "\n",
    "print(f\"PI เก่า = {PI}\")\n",
    "a = calculate_area(5)\n",
    "\n",
    "print(f\"area = {a}\")\n",
    "print(f\"PI ใหม่ = {PI}\")"
   ]
  },
  {
   "cell_type": "markdown",
   "metadata": {},
   "source": [
    "##### Global keyword\n",
    "\n",
    "ถ้าต้องการสร้าง/เปลี่ยนแปลงค่า global variable ในฟังก์ชัน <br>\n",
    "ใช้ keyword `global` เพื่อเข้าถึง global variable"
   ]
  },
  {
   "cell_type": "code",
   "execution_count": 2,
   "metadata": {},
   "outputs": [
    {
     "name": "stdout",
     "output_type": "stream",
     "text": [
      "--start function---\n",
      "--end function---\n",
      "area = 78.5\n",
      "PI ใหม่: 3.14\n"
     ]
    }
   ],
   "source": [
    "# สร้าง global variable P ในฟังก์ชัน\n",
    "def calculate_area(r):\n",
    "    print('--start function---')\n",
    "    \n",
    "    global PI\n",
    "    # assign P เป็น global variable \n",
    "    PI = 3.14\n",
    "    area = PI * r * r\n",
    "\n",
    "    print('--end function---')\n",
    "    return area\n",
    "\n",
    "a = calculate_area(5)\n",
    "\n",
    "print(f\"area = {a}\")\n",
    "print(f\"PI ใหม่: {PI}\")"
   ]
  },
  {
   "cell_type": "code",
   "execution_count": 3,
   "metadata": {},
   "outputs": [
    {
     "name": "stdout",
     "output_type": "stream",
     "text": [
      "P เก่า = 3.142\n",
      "--start function---\n",
      "--end function---\n",
      "area = 77.5\n",
      "P ใหม่ = 3.1\n"
     ]
    }
   ],
   "source": [
    "# แก้ไขค่า global variable P ในฟังก์ชัน\n",
    "\n",
    "P = 3.142\n",
    "\n",
    "def calculate_area(r):\n",
    "    print('--start function---')\n",
    "    \n",
    "    global P\n",
    "    P = 3.1\n",
    "    area = P * r * r\n",
    "\n",
    "    print('--end function---')\n",
    "    return area\n",
    "\n",
    "print(f\"P เก่า = {P}\")\n",
    "a = calculate_area(5)\n",
    "\n",
    "print(f\"area = {a}\")\n",
    "print(f\"P ใหม่ = {P}\")"
   ]
  },
  {
   "cell_type": "markdown",
   "metadata": {},
   "source": [
    "### Recursion\n",
    "ฟังก์ชันเวียนเกิด คือ ฟังก์ชันที่มีการเรียกใช้ฟังก์ชันซ้ำไปเรื่อย ๆ จนกว่าจะได้ผลลัพธ์ที่ต้องการ คล้ายกับการ loop \n",
    "1. มี 2 ส่วน คือ ส่วนคำนวณพื้นฐาน และ ส่วนที่มีการเรียกซ้ำ\n",
    "2. บางครั้งเขียนง่ายกว่า loop เหมาะกับการทำงานไม่รู้จบ\n",
    "3. ทำงานช้ากว่า loop และใช้หน่วยความจำมากกว่า\n",
    "\n",
    "เช่น ฟังก์ชันการหา factorial โดยการรับค่า n \n",
    "```python\n",
    "def factorial(n):\n",
    "    if n<2:\n",
    "        return 1\n",
    "    return n * factorial(n-1)\n",
    "```\n",
    "\n",
    "ส่วนการคำนวณพื้นฐานคือ \n",
    "```python\n",
    "    if n<2:\n",
    "        return 1\n",
    "```\n",
    "ส่วนที่มีการเรียกซ้ำคือ \n",
    "```python\n",
    "    return n * factorial(n-1)\n",
    "```\n"
   ]
  },
  {
   "cell_type": "code",
   "execution_count": 7,
   "metadata": {},
   "outputs": [
    {
     "name": "stdout",
     "output_type": "stream",
     "text": [
      "98750442008336013624115798714482080125644041369783596059584700502676714572050143649033796427745042294071023050579626404736512939596842694895821378210620013388054747214795243520000000000000000000000000000\n"
     ]
    }
   ],
   "source": [
    "def factorial(n):\n",
    "    if n<2:\n",
    "        return 1\n",
    "    return n * factorial(n-1)\n",
    "\n",
    "# factorial ของ 5 = 5*4*3*2*1 = 120\n",
    "print(factorial(122))"
   ]
  },
  {
   "cell_type": "code",
   "execution_count": 8,
   "metadata": {},
   "outputs": [
    {
     "name": "stdout",
     "output_type": "stream",
     "text": [
      "98750442008336013624115798714482080125644041369783596059584700502676714572050143649033796427745042294071023050579626404736512939596842694895821378210620013388054747214795243520000000000000000000000000000\n"
     ]
    }
   ],
   "source": [
    "def factorial_2(n):\n",
    "    my_fac = 1\n",
    "    while n>0:\n",
    "        my_fac *= n\n",
    "        n -= 1\n",
    "    return my_fac\n",
    "\n",
    "print(factorial_2(122))"
   ]
  }
 ],
 "metadata": {
  "interpreter": {
   "hash": "1f0945ea651c1069c7af037cbbaa82eca29c1e053adfed76f992832db8b6af67"
  },
  "kernelspec": {
   "display_name": "Python 3.9.10 64-bit",
   "language": "python",
   "name": "python3"
  },
  "language_info": {
   "codemirror_mode": {
    "name": "ipython",
    "version": 3
   },
   "file_extension": ".py",
   "mimetype": "text/x-python",
   "name": "python",
   "nbconvert_exporter": "python",
   "pygments_lexer": "ipython3",
   "version": "3.9.10"
  },
  "orig_nbformat": 4
 },
 "nbformat": 4,
 "nbformat_minor": 2
}
