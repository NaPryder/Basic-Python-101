{
 "cells": [
  {
   "cell_type": "markdown",
   "metadata": {},
   "source": [
    "# Excercise 2 - Find day between date"
   ]
  },
  {
   "cell_type": "markdown",
   "metadata": {},
   "source": [
    "Input:<br>\n",
    "บรรทัดที่ 1 รับค่าวัน เดือน ปี เก็บในตัวแปร d1, m1, y1 คั่นด้วยช่องว่าง ตามลำดับ<br>\n",
    "บรรทัดที่ 2 รับค่าวัน เดือน ปี เก็บในตัวแปร d2, m2, y2 คั่นด้วยช่องว่าง ตามลำดับ<br>\n",
    "กำหนดให้รับวัน เดือน ปี เป็นวันที่ที่ถูกต้อง<br>\n",
    "\n",
    "Process:<br>\n",
    "หาว่าวันเดือนปีที่รับเข้ามาทั้ง 2 ชุดมีจำนวนวันต่างกัน กี่วัน<br>\n",
    "กำหนดให้สร้างเป็นฟังก์ชัน<br>\n",
    "\n",
    "Output:<br>\n",
    "แสดงผล จำนวนวันที่ต่างกัน (ไม่คิดเครื่องหมายลบ)"
   ]
  },
  {
   "cell_type": "markdown",
   "metadata": {},
   "source": [
    "### ตัวอย่าง\n",
    "|input                      |     Output       |\n",
    "|-------                    |------------------|\n",
    "| 29 4 2024<br>1 5 2024     | 2 |\n",
    "| 31 3 2024<br>3 2 2024     | 57 |\n",
    "| 12 1 2024<br>3 12 2024    | 326 |"
   ]
  },
  {
   "cell_type": "code",
   "execution_count": null,
   "metadata": {},
   "outputs": [],
   "source": [
    "# is_leap_year 3\n",
    "def is_leap_year(y):\n",
    "    return (y%4 == 0) and (y%100!=0 or y%400==0)"
   ]
  },
  {
   "cell_type": "code",
   "execution_count": null,
   "metadata": {},
   "outputs": [],
   "source": [
    "def day_of_year(d, m, y):\n",
    "    # กำหนด ลิสต์ของวันที่ทั้งหมดในแต่ละเดือน\n",
    "    D = [31, 28, 31, 30, 31, 30, 31, 31, 30, 31, 30, 31]\n",
    "\n",
    "    if is_leap_year(y):\n",
    "        D[1] += 1\n",
    "    \n",
    "    days = 0\n",
    "    # นับจำนวนวันทั้งหมดของเดือนที่ผ่านมา (m-1)\n",
    "    for i in range(m-1):\n",
    "        days += D[i]\n",
    "    \n",
    "    # นับจำนวนวันทั้งหมดในเดือนปัจจุบัน\n",
    "    days += d\n",
    "    return days\n"
   ]
  },
  {
   "cell_type": "code",
   "execution_count": null,
   "metadata": {},
   "outputs": [],
   "source": [
    "# Answer\n",
    "d1, m1, y1 = [int(i) for i in input('Enter day month year 1:').strip().split(' ')]\n",
    "d2, m2, y2 = [int(i) for i in input('Enter day month year 2:').strip().split(' ')]\n",
    "\n",
    "days1 = day_of_year(d1, m1, y1)\n",
    "days2 = day_of_year(d2, m2, y2)\n",
    "diff = abs(days2 - days1)\n",
    "# print(days1)\n",
    "# print(days2)\n",
    "print(diff)"
   ]
  }
 ],
 "metadata": {
  "interpreter": {
   "hash": "1f0945ea651c1069c7af037cbbaa82eca29c1e053adfed76f992832db8b6af67"
  },
  "kernelspec": {
   "display_name": "Python 3.9.10 64-bit",
   "language": "python",
   "name": "python3"
  },
  "language_info": {
   "codemirror_mode": {
    "name": "ipython",
    "version": 3
   },
   "file_extension": ".py",
   "mimetype": "text/x-python",
   "name": "python",
   "nbconvert_exporter": "python",
   "pygments_lexer": "ipython3",
   "version": "3.9.10"
  },
  "orig_nbformat": 4
 },
 "nbformat": 4,
 "nbformat_minor": 2
}
