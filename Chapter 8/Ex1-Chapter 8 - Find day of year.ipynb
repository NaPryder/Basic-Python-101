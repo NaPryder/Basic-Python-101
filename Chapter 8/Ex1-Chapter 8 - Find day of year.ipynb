{
 "cells": [
  {
   "cell_type": "markdown",
   "metadata": {},
   "source": [
    "# Excercise 1 - Find day of year"
   ]
  },
  {
   "cell_type": "markdown",
   "metadata": {},
   "source": [
    "Input:<br>\n",
    "รับค่าวัน เดือน ปี เป็นจำนวนเต็มเก็บในตัวแปร d, m, y ตามลำดับ<br>\n",
    "กำหนดให้รับวัน เดือน ปี เป็นวันที่ที่ถูกต้อง<br>\n",
    "\n",
    "Process:<br>\n",
    "หาว่าวัน เดือน ปี ที่รับเข้ามาเป็นวันที่เท่าไหร่ของปี<br>\n",
    "กำหนดให้สร้างเป็นฟังก์ชัน<br>\n",
    "\n",
    "Output:<br>\n",
    "แสดงผล วันที่เท่าไหร่ของปีที่ได้จากการคำนวณ\n",
    "\n",
    "if (y%4 == 0) and (y%100!=0 or y%400==0)"
   ]
  },
  {
   "cell_type": "markdown",
   "metadata": {},
   "source": [
    "### ตัวอย่าง\n",
    "|input                      |     Output       |\n",
    "|-------                    |------------------|\n",
    "| 29<br>4<br>2024           | 120 |\n",
    "| 9<br>1<br>2022            | 9 |\n",
    "| 31<br>12<br>2024            | 366 |\n",
    "| 31<br>12<br>2023            | 365 |"
   ]
  },
  {
   "cell_type": "code",
   "execution_count": 2,
   "metadata": {},
   "outputs": [],
   "source": [
    "# is_leap_year 1\n",
    "def is_leap_year(y):\n",
    "    if (y%4 == 0) and (y%100!=0 or y%400==0):\n",
    "        return True\n",
    "    else:\n",
    "        return False"
   ]
  },
  {
   "cell_type": "code",
   "execution_count": null,
   "metadata": {},
   "outputs": [],
   "source": [
    "# is_leap_year 2\n",
    "def is_leap_year(y):\n",
    "    if (y%4 == 0) and (y%100!=0 or y%400==0):\n",
    "        return True\n",
    "    return False"
   ]
  },
  {
   "cell_type": "code",
   "execution_count": null,
   "metadata": {},
   "outputs": [],
   "source": [
    "# is_leap_year 3\n",
    "def is_leap_year(y):\n",
    "    return (y%4 == 0) and (y%100!=0 or y%400==0)"
   ]
  },
  {
   "cell_type": "code",
   "execution_count": 3,
   "metadata": {},
   "outputs": [],
   "source": [
    "\n",
    "def day_of_year(d, m, y):\n",
    "    # กำหนด ลิสต์ของวันที่ทั้งหมดในแต่ละเดือน\n",
    "    D = [31, 28, 31, 30, 31, 30, 31, 31, 30, 31, 30, 31]\n",
    "\n",
    "    if is_leap_year(y):\n",
    "        D[1] += 1\n",
    "    \n",
    "    days = 0\n",
    "    # นับจำนวนวันทั้งหมดของเดือนที่ผ่านมา (m-1)\n",
    "    for i in range(m-1):\n",
    "        days += D[i]\n",
    "    \n",
    "    # นับจำนวนวันทั้งหมดในเดือนปัจจุบัน\n",
    "    days += d\n",
    "    return days\n"
   ]
  },
  {
   "cell_type": "code",
   "execution_count": 4,
   "metadata": {},
   "outputs": [
    {
     "name": "stdout",
     "output_type": "stream",
     "text": [
      "120\n"
     ]
    }
   ],
   "source": [
    "# Answer\n",
    "d = int(input('Enter day:'))\n",
    "m = int(input('Enter month:'))\n",
    "y = int(input('Enter year:'))\n",
    "\n",
    "days = day_of_year(d, m, y)\n",
    "print(days)"
   ]
  }
 ],
 "metadata": {
  "interpreter": {
   "hash": "1f0945ea651c1069c7af037cbbaa82eca29c1e053adfed76f992832db8b6af67"
  },
  "kernelspec": {
   "display_name": "Python 3.9.10 64-bit",
   "language": "python",
   "name": "python3"
  },
  "language_info": {
   "codemirror_mode": {
    "name": "ipython",
    "version": 3
   },
   "file_extension": ".py",
   "mimetype": "text/x-python",
   "name": "python",
   "nbconvert_exporter": "python",
   "pygments_lexer": "ipython3",
   "version": "3.9.10"
  },
  "orig_nbformat": 4
 },
 "nbformat": 4,
 "nbformat_minor": 2
}
