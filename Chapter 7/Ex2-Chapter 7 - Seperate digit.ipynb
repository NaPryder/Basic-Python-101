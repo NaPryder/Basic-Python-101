{
 "cells": [
  {
   "cell_type": "markdown",
   "metadata": {},
   "source": [
    "# Excercise 2 - Seperate digit"
   ]
  },
  {
   "cell_type": "markdown",
   "metadata": {},
   "source": [
    "Input:<br>\n",
    "รับค่าจำนวนเต็มบวก 1 จำนวนจาก keyboard เก็บใน x (โดย x > 0) <br>\n",
    "\n",
    "Process:<br>\n",
    "สร้าง tuple ของการแยกหลักของ x <br>\n",
    "\n",
    "Output:<br>\n",
    "แสดงผล tuple ที่สร้าง\n",
    "\n",
    "Hint:<br>\n",
    "- ใช้ loop ในการ เพิ่มข้อมูลทีละหลัก"
   ]
  },
  {
   "cell_type": "markdown",
   "metadata": {},
   "source": [
    "### ตัวอย่าง\n",
    "|input          |     Output       |\n",
    "|-------        |------------------|\n",
    "| 123803        | (1, 2, 3, 8, 0, 3) |\n",
    "| 500           | (5, 0, 0) |\n",
    "| 2             | (2,) |"
   ]
  },
  {
   "cell_type": "code",
   "execution_count": null,
   "metadata": {},
   "outputs": [],
   "source": [
    "# เฉลย 1\n",
    "x = int(input())\n",
    "t = []\n",
    "while x > 0:\n",
    "    t.append(x%10)\n",
    "    x //= 10\n",
    "t.reverse()\n",
    "print(tuple(t))"
   ]
  },
  {
   "cell_type": "code",
   "execution_count": 8,
   "metadata": {},
   "outputs": [
    {
     "name": "stdout",
     "output_type": "stream",
     "text": [
      "(1, 2, 3, 8, 0, 3)\n"
     ]
    }
   ],
   "source": [
    "# เฉลย 2\n",
    "x = input().strip() \n",
    "t = []\n",
    "for i in x:\n",
    "    t.append(int(i))\n",
    "\n",
    "print(tuple(t))"
   ]
  },
  {
   "cell_type": "code",
   "execution_count": null,
   "metadata": {},
   "outputs": [],
   "source": [
    "# เฉลย 3\n",
    "x = input().strip('')\n",
    "\n",
    "print(tuple([int(i) for i in x]))"
   ]
  }
 ],
 "metadata": {
  "interpreter": {
   "hash": "1f0945ea651c1069c7af037cbbaa82eca29c1e053adfed76f992832db8b6af67"
  },
  "kernelspec": {
   "display_name": "Python 3.9.10 64-bit",
   "language": "python",
   "name": "python3"
  },
  "language_info": {
   "codemirror_mode": {
    "name": "ipython",
    "version": 3
   },
   "file_extension": ".py",
   "mimetype": "text/x-python",
   "name": "python",
   "nbconvert_exporter": "python",
   "pygments_lexer": "ipython3",
   "version": "3.9.10"
  },
  "orig_nbformat": 4
 },
 "nbformat": 4,
 "nbformat_minor": 2
}
