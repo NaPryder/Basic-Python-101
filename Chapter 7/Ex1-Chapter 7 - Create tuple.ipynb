{
 "cells": [
  {
   "cell_type": "markdown",
   "metadata": {},
   "source": [
    "# Excercise 1 - Create tuple"
   ]
  },
  {
   "cell_type": "markdown",
   "metadata": {},
   "source": [
    "Input:<br>\n",
    "รับค่าจำนวนเต็มบวก 1 จำนวนจาก keyboard เก็บใน x (โดย x > 0) <br>\n",
    "\n",
    "Process:<br>\n",
    "สร้าง tuple ของจำนวนเต็มที่เป็นเลขคู่ตั้งแต่ 0 และน้อยกว่า x <br>\n",
    "\n",
    "Output:<br>\n",
    "แสดงผล tuple ที่สร้าง"
   ]
  },
  {
   "cell_type": "markdown",
   "metadata": {},
   "source": [
    "### ตัวอย่าง\n",
    "|input          |     Output       |\n",
    "|-------        |------------------|\n",
    "| 10            | (0, 2, 4, 6, 8) |\n",
    "| 2             | (0,) |"
   ]
  },
  {
   "cell_type": "code",
   "execution_count": 3,
   "metadata": {},
   "outputs": [
    {
     "name": "stdout",
     "output_type": "stream",
     "text": [
      "(0,)\n"
     ]
    }
   ],
   "source": [
    "# เฉลย 1\n",
    "x = int(input())\n",
    "t = []\n",
    "\n",
    "for i in range(0, x, 2):\n",
    "    t.append(i)\n",
    "print(tuple(t))"
   ]
  },
  {
   "cell_type": "code",
   "execution_count": 2,
   "metadata": {},
   "outputs": [
    {
     "name": "stdout",
     "output_type": "stream",
     "text": [
      "(0, 2, 4, 6, 8)\n"
     ]
    }
   ],
   "source": [
    "# เฉลย 2\n",
    "x = int(input())\n",
    "\n",
    "print(tuple(range(0, x, 2)))"
   ]
  }
 ],
 "metadata": {
  "interpreter": {
   "hash": "1f0945ea651c1069c7af037cbbaa82eca29c1e053adfed76f992832db8b6af67"
  },
  "kernelspec": {
   "display_name": "Python 3.9.10 64-bit",
   "language": "python",
   "name": "python3"
  },
  "language_info": {
   "codemirror_mode": {
    "name": "ipython",
    "version": 3
   },
   "file_extension": ".py",
   "mimetype": "text/x-python",
   "name": "python",
   "nbconvert_exporter": "python",
   "pygments_lexer": "ipython3",
   "version": "3.9.10"
  },
  "orig_nbformat": 4
 },
 "nbformat": 4,
 "nbformat_minor": 2
}
