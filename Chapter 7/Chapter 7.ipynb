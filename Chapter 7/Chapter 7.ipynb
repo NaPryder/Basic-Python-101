{
 "cells": [
  {
   "cell_type": "markdown",
   "metadata": {},
   "source": [
    "# Basic Python \n",
    "\n",
    "## Chapter 7 - Tuple & Set"
   ]
  },
  {
   "cell_type": "markdown",
   "metadata": {},
   "source": [
    "### Tuple\n",
    "\n",
    "1. ใช้เก็บข้อมูลคล้าย list\n",
    "2. จะใช้วงเล็บ ( ) \n",
    "3. ค่าใน Tuple จะไม่สามารถเปลี่ยนแปลงได้ (Unchangeable) \n",
    "4. มี Item ซ้ำกันได้\n"
   ]
  },
  {
   "cell_type": "code",
   "execution_count": 1,
   "metadata": {},
   "outputs": [
    {
     "name": "stdout",
     "output_type": "stream",
     "text": [
      "('apple', 'banana', 'cherry')\n",
      "<class 'tuple'>\n"
     ]
    }
   ],
   "source": [
    "# ตัวอย่าง Tuple\n",
    "x = (\"apple\", \"banana\", \"cherry\")\n",
    "print(x)\n",
    "print(type(x))"
   ]
  },
  {
   "cell_type": "markdown",
   "metadata": {},
   "source": [
    "#### Length tuple\n",
    "\n",
    "หาจำนวน item ทั้งหมดจาก tuple โดยใช้คำสั่ง `len()`"
   ]
  },
  {
   "cell_type": "code",
   "execution_count": null,
   "metadata": {},
   "outputs": [],
   "source": [
    "# ตัวอย่าง Tuple\n",
    "x = (\"apple\", \"banana\", \"cherry\")\n",
    "print(len(x))"
   ]
  },
  {
   "cell_type": "markdown",
   "metadata": {},
   "source": [
    "#### Access Item in Tuple\n",
    "\n",
    "Tuple เรียงลำดับ Index และ Negative index เหมือนกับ list <br>\n",
    "เข้าถึง Tuple ได้จากการกำหนด Index <br>\n",
    "\n",
    "เข้าถึงข้อมูลได้เหมือน list เลย"
   ]
  },
  {
   "cell_type": "code",
   "execution_count": null,
   "metadata": {},
   "outputs": [],
   "source": [
    "# เข้าถึง 'apple' จาก x\n",
    "x = (\"apple\", \"banana\", \"cherry\")\n",
    "print(x[0])\n",
    "print(type(x[0]))"
   ]
  },
  {
   "cell_type": "code",
   "execution_count": null,
   "metadata": {},
   "outputs": [],
   "source": [
    "# เข้าถึง กลุ่มของ item จาก x\n",
    "x = (\"apple\", \"banana\", \"cherry\")\n",
    "print(x[-1])\n",
    "print(type(x[-1]))"
   ]
  },
  {
   "cell_type": "code",
   "execution_count": null,
   "metadata": {},
   "outputs": [],
   "source": [
    "# เข้าถึง กลุ่มของ item จาก x\n",
    "x = (\"apple\", \"banana\", \"cherry\")\n",
    "print(x[0:2])\n",
    "print(type(x[0:2]))"
   ]
  },
  {
   "cell_type": "markdown",
   "metadata": {},
   "source": [
    "#### การดำเนินการใน Tuple\n",
    "\n",
    "##### การบวก Tuple\n",
    "เป็นการรวม tuple เข้าด้วยกัน"
   ]
  },
  {
   "cell_type": "code",
   "execution_count": 2,
   "metadata": {},
   "outputs": [
    {
     "name": "stdout",
     "output_type": "stream",
     "text": [
      "('apple', 'banana', 'cherry', 'kiwi', 'orange', 1, 2, 3, 4)\n"
     ]
    }
   ],
   "source": [
    "# เข้าถึง กลุ่มของ item จาก x\n",
    "a = (\"apple\", \"banana\", \"cherry\")\n",
    "b = (\"kiwi\", \"orange\")\n",
    "c = (1,2,3,4)\n",
    "d = a + b + c\n",
    "print(d)"
   ]
  },
  {
   "cell_type": "markdown",
   "metadata": {},
   "source": [
    "##### การคูณ Tuple\n",
    "เป็นการบวก tuple ตัวเดิมซ้ำกันเป็นจำนวน n ครั้ง"
   ]
  },
  {
   "cell_type": "code",
   "execution_count": 3,
   "metadata": {},
   "outputs": [
    {
     "name": "stdout",
     "output_type": "stream",
     "text": [
      "('apple', 'banana', 'cherry', 'apple', 'banana', 'cherry', 'apple', 'banana', 'cherry', 'apple', 'banana', 'cherry')\n"
     ]
    }
   ],
   "source": [
    "# เข้าถึง กลุ่มของ item จาก x\n",
    "a = (\"apple\", \"banana\", \"cherry\")\n",
    "print(a*4)"
   ]
  },
  {
   "cell_type": "markdown",
   "metadata": {},
   "source": [
    "#### Tuple ไม่สามารถแก้ไขค่าได้  "
   ]
  },
  {
   "cell_type": "code",
   "execution_count": 4,
   "metadata": {},
   "outputs": [
    {
     "ename": "TypeError",
     "evalue": "'tuple' object does not support item assignment",
     "output_type": "error",
     "traceback": [
      "\u001b[1;31m---------------------------------------------------------------------------\u001b[0m",
      "\u001b[1;31mTypeError\u001b[0m                                 Traceback (most recent call last)",
      "\u001b[1;32mc:\\Users\\Nachai.Pa\\OneDrive - STelligence Co., Ltd\\Documents\\Projects\\Tutors\\Chapter 7\\Chapter 7.ipynb Cell 15'\u001b[0m in \u001b[0;36m<cell line: 2>\u001b[1;34m()\u001b[0m\n\u001b[0;32m      <a href='vscode-notebook-cell:/c%3A/Users/Nachai.Pa/OneDrive%20-%20STelligence%20Co.%2C%20Ltd/Documents/Projects/Tutors/Chapter%207/Chapter%207.ipynb#ch0000014?line=0'>1</a>\u001b[0m a \u001b[39m=\u001b[39m (\u001b[39m\"\u001b[39m\u001b[39mapple\u001b[39m\u001b[39m\"\u001b[39m, \u001b[39m\"\u001b[39m\u001b[39mbanana\u001b[39m\u001b[39m\"\u001b[39m, \u001b[39m\"\u001b[39m\u001b[39mcherry\u001b[39m\u001b[39m\"\u001b[39m)\n\u001b[1;32m----> <a href='vscode-notebook-cell:/c%3A/Users/Nachai.Pa/OneDrive%20-%20STelligence%20Co.%2C%20Ltd/Documents/Projects/Tutors/Chapter%207/Chapter%207.ipynb#ch0000014?line=1'>2</a>\u001b[0m a[\u001b[39m0\u001b[39m] \u001b[39m=\u001b[39m \u001b[39m555\u001b[39m\n",
      "\u001b[1;31mTypeError\u001b[0m: 'tuple' object does not support item assignment"
     ]
    }
   ],
   "source": [
    "a = (\"apple\", \"banana\", \"cherry\")\n",
    "a[0] = 555"
   ]
  },
  {
   "cell_type": "markdown",
   "metadata": {},
   "source": [
    "##### Change value in tuple\n",
    "\n",
    "เราไม่สามารถเปลี่ยนค่า item ใน tuple ได้ <br>\n",
    "แต่ถ้าหากต้องการเปลี่ยนจริง ๆ ทำได้โดยการ casting tuple เป็น list ก่อนแล้วค่อยเปลี่ยนค่า"
   ]
  },
  {
   "cell_type": "code",
   "execution_count": 5,
   "metadata": {},
   "outputs": [
    {
     "name": "stdout",
     "output_type": "stream",
     "text": [
      "('apple', 'kiwi', 'cherry')\n"
     ]
    }
   ],
   "source": [
    "# ต้องการเปลี่ยน banana เป็น kiwi\n",
    "x = (\"apple\", \"banana\", \"cherry\")\n",
    "\n",
    "# casting tuple เป็น list\n",
    "y = list(x)\n",
    "y[1] = \"kiwi\"   # เปลี่ยนค่าใน list\n",
    "\n",
    "# casting กลับมาเป็น tuple\n",
    "x = tuple(y)\n",
    "\n",
    "print(x)"
   ]
  },
  {
   "cell_type": "markdown",
   "metadata": {},
   "source": [
    "#### Loop Tuple\n",
    "\n",
    "ใช้ for loop ได้เหมือน sequence ตัวอื่น ๆ"
   ]
  },
  {
   "cell_type": "code",
   "execution_count": null,
   "metadata": {},
   "outputs": [],
   "source": [
    "x = (\"apple\", \"banana\", \"cherry\")\n",
    "for i in x:\n",
    "    print(i)"
   ]
  },
  {
   "cell_type": "code",
   "execution_count": null,
   "metadata": {},
   "outputs": [],
   "source": [
    "x = (\"apple\", \"banana\", \"cherry\")\n",
    "for i in range(len(x)):\n",
    "    print(x[i])"
   ]
  },
  {
   "cell_type": "markdown",
   "metadata": {},
   "source": [
    "### Set\n",
    "\n",
    "1. เป็นเซตทางคณิตศาสตร์ ไม่เก็บข้อมูลซ้ำ\n",
    "2. สามารถ union, intersect, difference ได้\n",
    "3. ทำ operation `in` ได้เร็วมาก\n",
    "4. ใช้เครื่องหมาย `{}` คล้ายกับ dictionary แต่จะเก็บข้อมูลเดี่ยว (item)\n",
    "5. เซตจะไม่เรียงลำดับข้อมูล (Unordered)\n",
    "6. Item จะไม่สามารถเปลี่ยนแปลงค่าได้ (Unchangeable)\n",
    "7. เก็บข้อมูล int, float, str, tuple, bool เท่านั้น"
   ]
  },
  {
   "cell_type": "markdown",
   "metadata": {},
   "source": [
    "#### สร้าง Set\n",
    "สร้างเซตว่าง\n",
    "```python\n",
    "x = set()\n",
    "```\n",
    "\n",
    "หรือ สร้างเซตที่มีข้อมูล\n",
    "\n",
    "```python\n",
    "x = {1, 2, 3}\n",
    "```\n",
    "\n",
    "หรือ\n",
    "```python\n",
    "x = set('Hello')\n",
    "```\n",
    "\n",
    "<br>\n",
    "\n",
    "**ไม่สามารถสร้างเซตว่างแบบนี้**\n",
    "```python\n",
    "x = {}\n",
    "```\n",
    "แบบนี้คือ dictionary"
   ]
  },
  {
   "cell_type": "code",
   "execution_count": 6,
   "metadata": {},
   "outputs": [
    {
     "name": "stdout",
     "output_type": "stream",
     "text": [
      "set() <class 'set'>\n",
      "{} <class 'dict'>\n"
     ]
    }
   ],
   "source": [
    "# การสร้างเซต\n",
    "\n",
    "x = set()   # ได้เซตว่าง\n",
    "y = {}\n",
    "print(x, type(x))\n",
    "print(y, type(y))"
   ]
  },
  {
   "cell_type": "code",
   "execution_count": 7,
   "metadata": {},
   "outputs": [
    {
     "name": "stdout",
     "output_type": "stream",
     "text": [
      "{1, 2, 3} <class 'set'>\n"
     ]
    }
   ],
   "source": [
    "# สร้างเซตที่มีข้อมูล\n",
    "x = {1, 2, 3}\n",
    "print(x, type(x))\n"
   ]
  },
  {
   "cell_type": "code",
   "execution_count": 8,
   "metadata": {},
   "outputs": [
    {
     "name": "stdout",
     "output_type": "stream",
     "text": [
      "{1, 2, 3, 4, 5, '5'} <class 'set'>\n"
     ]
    }
   ],
   "source": [
    "# สร้างเซตจาก list \n",
    "\n",
    "x = set([1, 2, 3, 4, 5, 5, 5, '5'])\n",
    "print(x, type(x))"
   ]
  },
  {
   "cell_type": "code",
   "execution_count": 9,
   "metadata": {},
   "outputs": [
    {
     "name": "stdout",
     "output_type": "stream",
     "text": [
      "{1, 2, 3, 4, 5, '5'} <class 'set'>\n"
     ]
    }
   ],
   "source": [
    "# สร้างเซตจาก tuple\n",
    "\n",
    "x = set((1, 2, 3, 4, 5, 5, 5, '5'))\n",
    "print(x, type(x))"
   ]
  },
  {
   "cell_type": "code",
   "execution_count": 10,
   "metadata": {},
   "outputs": [
    {
     "name": "stdout",
     "output_type": "stream",
     "text": [
      "{0, 1, 2, 3, 4, 5, 6, 7, 8, 9} <class 'set'>\n"
     ]
    }
   ],
   "source": [
    "# สร้างเซตจาก range\n",
    "\n",
    "x = set(range(10))\n",
    "print(x, type(x))"
   ]
  },
  {
   "cell_type": "code",
   "execution_count": 11,
   "metadata": {},
   "outputs": [
    {
     "name": "stdout",
     "output_type": "stream",
     "text": [
      "{'A', 'D', 'C', 'B'} <class 'set'>\n"
     ]
    }
   ],
   "source": [
    "# สร้างเซตจาก dictionary\n",
    "d = {\n",
    "    'A':1,\n",
    "    'B':2,\n",
    "    'C':3,\n",
    "    'D':4,\n",
    "}\n",
    "\n",
    "x = set(d)\n",
    "print(x, type(x)) # จะสร้างจาก key และข้อมูลจะไม่เรียงลำดับ"
   ]
  },
  {
   "cell_type": "markdown",
   "metadata": {},
   "source": [
    "#### หาจำนวนสมาชิกของเซต\n",
    "\n",
    "ใช้คำสั่ง `len()`"
   ]
  },
  {
   "cell_type": "code",
   "execution_count": 12,
   "metadata": {},
   "outputs": [
    {
     "name": "stdout",
     "output_type": "stream",
     "text": [
      "5\n"
     ]
    }
   ],
   "source": [
    "x = {\"abc\", 34, True, 40.25, \"ABC\"}\n",
    "print(len(x))"
   ]
  },
  {
   "cell_type": "markdown",
   "metadata": {},
   "source": [
    "#### Set method\n",
    "\n",
    "1. `add` เพิ่ม item ใน set\n",
    "2. `update` เพิ่ม set ลงในอีก set หนึ่ง\n",
    "3. `discard` ลบ item ใน set ถ้าไม่มี item ที่ต้องการจะได้ค่าเดิม\n"
   ]
  },
  {
   "cell_type": "code",
   "execution_count": 13,
   "metadata": {},
   "outputs": [
    {
     "name": "stdout",
     "output_type": "stream",
     "text": [
      "{'apple', 'cherry', 'orange', 'banana'}\n",
      "{(2, 1), 'apple', 'cherry', 'orange', 'banana'}\n"
     ]
    }
   ],
   "source": [
    "# add item\n",
    "x = {\"apple\", \"banana\", \"cherry\"}\n",
    "\n",
    "x.add(\"orange\") # Add string\n",
    "print(x)\n",
    "\n",
    "x.add((2, 1))   # Add tuple\n",
    "print(x)\n",
    "\n"
   ]
  },
  {
   "cell_type": "code",
   "execution_count": 14,
   "metadata": {},
   "outputs": [
    {
     "name": "stdout",
     "output_type": "stream",
     "text": [
      "{1, 'cherry', 2, 3, 'apple', 'banana'}\n"
     ]
    }
   ],
   "source": [
    "# update item\n",
    "x = {\"apple\", \"banana\", \"cherry\"}\n",
    "y = {1, 2, 3}\n",
    "\n",
    "x.update(y)  \n",
    "print(x)\n"
   ]
  },
  {
   "cell_type": "code",
   "execution_count": 15,
   "metadata": {},
   "outputs": [
    {
     "name": "stdout",
     "output_type": "stream",
     "text": [
      "{'cherry', 'banana'}\n"
     ]
    }
   ],
   "source": [
    "# discard item\n",
    "x = {\"apple\", \"banana\", \"cherry\"}\n",
    "\n",
    "x.discard(\"apple\")   \n",
    "print(x)"
   ]
  },
  {
   "cell_type": "code",
   "execution_count": null,
   "metadata": {},
   "outputs": [],
   "source": [
    "# discard item\n",
    "x = {\"apple\", \"banana\", \"cherry\"}\n",
    "\n",
    "x.discard(500)   \n",
    "print(x)"
   ]
  },
  {
   "cell_type": "markdown",
   "metadata": {},
   "source": [
    "#### การดำเนินการของ set\n",
    "1. Union = การรวมกันทั้งหมด\n",
    "2. Intersection = การนับเฉพาะสมาชิกที่เหมือนกัน\n",
    "3. Difference = การลบกันของเซต"
   ]
  },
  {
   "cell_type": "code",
   "execution_count": 16,
   "metadata": {},
   "outputs": [
    {
     "name": "stdout",
     "output_type": "stream",
     "text": [
      "{1, 2, 3, 4}\n",
      "{1, 2, 3, 4}\n"
     ]
    }
   ],
   "source": [
    "# union หรือใช้เครื่องหมาย | \n",
    "a = {1, 2, 3}\n",
    "b = {2, 3, 4}\n",
    "\n",
    "c = a.union(b)\n",
    "d = a | b\n",
    "print(c)\n",
    "print(d)"
   ]
  },
  {
   "cell_type": "code",
   "execution_count": 17,
   "metadata": {},
   "outputs": [
    {
     "name": "stdout",
     "output_type": "stream",
     "text": [
      "{2, 3}\n",
      "{2, 3}\n"
     ]
    }
   ],
   "source": [
    "# intersection หรือใช้เครื่องหมาย & \n",
    "a = {1, 2, 3}\n",
    "b = {2, 3, 4}\n",
    "\n",
    "c = a.intersection(b)\n",
    "d = a & b\n",
    "print(c)\n",
    "print(d)"
   ]
  },
  {
   "cell_type": "code",
   "execution_count": 18,
   "metadata": {},
   "outputs": [
    {
     "name": "stdout",
     "output_type": "stream",
     "text": [
      "{1}\n",
      "{1}\n"
     ]
    }
   ],
   "source": [
    "# difference หรือใช้เครื่องหมาย -\n",
    "a = {1, 2, 3}\n",
    "b = {2, 3, 4}\n",
    "\n",
    "c = a.difference(b)\n",
    "d = a - b\n",
    "\n",
    "print(c)\n",
    "print(d)"
   ]
  },
  {
   "cell_type": "code",
   "execution_count": 19,
   "metadata": {},
   "outputs": [
    {
     "name": "stdout",
     "output_type": "stream",
     "text": [
      "{1}\n",
      "{4}\n"
     ]
    }
   ],
   "source": [
    "# a - b ไม่เท่ากับ b - a\n",
    "a = {1, 2, 3}\n",
    "b = {2, 3, 4}\n",
    "\n",
    "print(a-b)\n",
    "print(b-a)"
   ]
  },
  {
   "cell_type": "markdown",
   "metadata": {},
   "source": [
    "#### ตรวจสอบสมาชิก\n"
   ]
  },
  {
   "cell_type": "code",
   "execution_count": 20,
   "metadata": {},
   "outputs": [
    {
     "name": "stdout",
     "output_type": "stream",
     "text": [
      "True\n",
      "False\n"
     ]
    }
   ],
   "source": [
    "# ใช้ in ตรวจสอบความเป็นสมาชิกของเซต\n",
    "a = {1, 2, 3}\n",
    "\n",
    "print(1 in a)\n",
    "print(5 in a)"
   ]
  },
  {
   "cell_type": "code",
   "execution_count": null,
   "metadata": {},
   "outputs": [],
   "source": [
    "# issubset , issupperset\n",
    "a = {1, 2, 3}\n",
    "b = {1, 2}\n",
    "\n",
    "print(\"a เป็น subset ของ b หรือไม่\", a.issubset(b))     \n",
    "print(\"b เป็น subset ของ a หรือไม่\", b.issubset(a))     \n",
    "\n",
    "print(\"a เป็น superset ของ b หรือไม่\", a.issuperset(b))  \n",
    "print(\"b เป็น superset ของ a หรือไม่\", b.issuperset(a))"
   ]
  },
  {
   "cell_type": "markdown",
   "metadata": {},
   "source": [
    "#### Loop Set \n",
    "ใช้สำหรับแจกแจง set"
   ]
  },
  {
   "cell_type": "code",
   "execution_count": 21,
   "metadata": {},
   "outputs": [
    {
     "name": "stdout",
     "output_type": "stream",
     "text": [
      "1\n",
      "2\n",
      "3\n"
     ]
    }
   ],
   "source": [
    "a = {1, 2, 3}\n",
    "for i in a:\n",
    "    print(i)"
   ]
  },
  {
   "cell_type": "code",
   "execution_count": 23,
   "metadata": {},
   "outputs": [
    {
     "name": "stdout",
     "output_type": "stream",
     "text": [
      "0\n",
      "1\n",
      "2\n"
     ]
    }
   ],
   "source": [
    "a = {1, 2, 3}\n",
    "for i in range(len(a)):\n",
    "    print(i)"
   ]
  },
  {
   "cell_type": "markdown",
   "metadata": {},
   "source": [
    "## สรุปการใช้งาน\n",
    "|      |List  | Tuple | Dictionary  | Set |\n",
    "|------|------|-------|-------------|-----|\n",
    "|**การใช้งาน**|ลำดับมีความหมาย<br>สร้างแล้วแก้ไขได้|ลำดับมีความหมาย<br>สร้างแล้วแก้ไขไม่ได้|เก็บคู่ลำดับ key, value<br>key ไม่ซ้ำ ไม่สนลำดับ|เก็บข้อมูลไม่ซ้ำ ไม่สนลำดับ|\n",
    "|**ประเภทข้อมูล**|อะไรก็ได้|อะไรก็ได้|key เป็น int, float, str, tuple, bool <br>value เป็นอะไรก็ได้|int, float, str, tuple, bool|\n",
    "|**การเข้าถึงข้อมูล**|ระบุ index|ระบุ index|ระบุ key ได้ value<br>*ไม่มีแบบระบุ value แล้วได้ key*|ไม่มี|\n",
    "|**การแจกแจง**|for i in x: <br>ได้ลำดับจากซ้ายไปขวา|for i in x: <br>ได้ลำดับจากซ้ายไปขวา|for i in x: <br>for k, v in x.items(): <br>ได้ลำดับไม่แน่นอน|for i in x: <br>ได้ลำดับไม่แน่นอน|\n",
    "|**การค้นข้อมูลด้วย in/not in**|ค้นจากซ้ายไปขวา (ช้า)|ค้นจากซ้ายไปขวา (ช้า)|ค้น key (เร็วมาก)|ค้นข้อมูลเร็วมาก|\n",
    "|**การสร้าง**|`x = list()`<br>`x = []`<br>`x = [1,2,3]`|`x = tuple()`<br>`x = ()`<br>`x = (1,2,3)`|`x = dict()`<br>`x = {}`<br>`x = {'A':1, 'B':2}`|`x = set()`<br>`x = {1,2,3}`|\n",
    "|**การเพิ่มข้อมูล**|`x.append(5)`<br>`x.insert(1,5)`|ต้องสร้างตัวใหม่<br>หรือ casting เป็น list ก่อนค่อยเพิ่ม|`x['Z'] = 5`<br>`x.update({'A':5})`|`x.add(5)`<br>`x.update({5})`|\n",
    "|**การลบข้อมูล**|`x.pop(2)`<br>`x.insert(1,5)`|ต้องสร้างตัวใหม่<br>หรือ casting เป็น list ก่อนค่อยลบ|`x.pop('B')`|`x.discard(55)`|\n",
    "|**การแก้ไขข้อมูล**|`x[0] = 1`|ต้องสร้างตัวใหม่<br>หรือ casting เป็น list ก่อนค่อยแก้ไข|`x['A'] = 1`|ต้องลบแล้วเพิ่มใหม่|"
   ]
  }
 ],
 "metadata": {
  "interpreter": {
   "hash": "1f0945ea651c1069c7af037cbbaa82eca29c1e053adfed76f992832db8b6af67"
  },
  "kernelspec": {
   "display_name": "Python 3.9.10 64-bit",
   "language": "python",
   "name": "python3"
  },
  "language_info": {
   "codemirror_mode": {
    "name": "ipython",
    "version": 3
   },
   "file_extension": ".py",
   "mimetype": "text/x-python",
   "name": "python",
   "nbconvert_exporter": "python",
   "pygments_lexer": "ipython3",
   "version": "3.9.10"
  },
  "orig_nbformat": 4
 },
 "nbformat": 4,
 "nbformat_minor": 2
}
