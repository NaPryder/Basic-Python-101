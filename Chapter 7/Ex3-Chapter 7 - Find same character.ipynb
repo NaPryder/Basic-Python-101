{
 "cells": [
  {
   "cell_type": "markdown",
   "metadata": {},
   "source": [
    "# Excercise 3 - Find same charater"
   ]
  },
  {
   "cell_type": "markdown",
   "metadata": {},
   "source": [
    "Input:<br>\n",
    "รับสตริง 2 บรรทัดจาก keyboard เก็บใน x และ y<br>\n",
    "\n",
    "Process:<br>\n",
    "1. สร้าง set ของตัวอักษรใน x \n",
    "2. สร้าง set ของตัวอักษรใน y\n",
    "3. หาตัวอักษรที่เหมือนกันทั้ง x และ y\n",
    "\n",
    "Output:<br>\n",
    "แสดงผล set ของตัวอักษรที่เหมือนกัน (ไม่สนใจลำดับที่แสดงผล) <br>\n",
    "ถ้าไม่มีตัวอักษรที่ซ้ำกันเลย (ได้ set ว่าง) ให้แสดงผล _None_"
   ]
  },
  {
   "cell_type": "markdown",
   "metadata": {},
   "source": [
    "### ตัวอย่าง\n",
    "|input          |     Output       |\n",
    "|-------        |------------------|\n",
    "| Book<br>Bank  | {'B', 'k'} |\n",
    "| abc<br>ABC    | None |\n",
    "| AAA<br>BBBA   | {'A'} |"
   ]
  },
  {
   "cell_type": "code",
   "execution_count": 10,
   "metadata": {},
   "outputs": [
    {
     "name": "stdout",
     "output_type": "stream",
     "text": [
      "None\n"
     ]
    }
   ],
   "source": [
    "x = input().strip()\n",
    "y = input().strip()\n",
    "\n",
    "set_x = set(x)\n",
    "set_y = set(y)\n",
    "\n",
    "# ตรวจสอบ set ว่าง\n",
    "if set_x.intersection(set_y) == set():\n",
    "    print(None)\n",
    "else:\n",
    "    print(set_x.intersection(set_y))"
   ]
  },
  {
   "cell_type": "code",
   "execution_count": 9,
   "metadata": {},
   "outputs": [
    {
     "name": "stdout",
     "output_type": "stream",
     "text": [
      "None\n"
     ]
    }
   ],
   "source": [
    "# เฉลย 2\n",
    "x = set(input().strip())\n",
    "y = set(input().strip())\n",
    "z = x.intersection(y) \n",
    "print(None if z == set() else z)\n"
   ]
  }
 ],
 "metadata": {
  "interpreter": {
   "hash": "1f0945ea651c1069c7af037cbbaa82eca29c1e053adfed76f992832db8b6af67"
  },
  "kernelspec": {
   "display_name": "Python 3.9.10 64-bit",
   "language": "python",
   "name": "python3"
  },
  "language_info": {
   "codemirror_mode": {
    "name": "ipython",
    "version": 3
   },
   "file_extension": ".py",
   "mimetype": "text/x-python",
   "name": "python",
   "nbconvert_exporter": "python",
   "pygments_lexer": "ipython3",
   "version": "3.9.10"
  },
  "orig_nbformat": 4
 },
 "nbformat": 4,
 "nbformat_minor": 2
}
