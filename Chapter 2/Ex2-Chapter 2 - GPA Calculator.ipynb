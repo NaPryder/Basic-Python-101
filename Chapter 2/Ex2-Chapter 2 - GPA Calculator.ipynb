{
 "cells": [
  {
   "cell_type": "markdown",
   "metadata": {},
   "source": [
    "# Excercise 2 - GPA calculator"
   ]
  },
  {
   "cell_type": "markdown",
   "metadata": {},
   "source": [
    "## เขียนโปรแกรมสำหรับ คำนวณ GPA\n",
    "\n",
    "ในเทอมนี้ นักเรียน ลงเรียนทั้งหมด 6 วิชา แต่ละวิชามีหน่วยกิต 3, 3, 3, 2, 1, 1.5 หน่วย ตามลำดับ<br>\n",
    "ให้รับเกรดของแต่ละวิชา (วิชาละ 1 บรรทัด) เก็บไว้ในตัวแปร<br>\n",
    "คำนวณว่า เกรดเฉลี่ยสะสมเป็นเท่าไหร่<br>\n",
    "\n",
    "สูตรคำนวณ\n",
    "- นำเกรดคูณหน่วยกิตของแต่ละวิชา\n",
    "- รวมผลคูณของทุกวิชา\n",
    "- หารจำนวนหน่วยกิตรวม\n",
    "\n",
    "`GPA = ( (เกรดวิชาที่ 1 * หน่วยกิตวิชาที่ 1) + (เกรดวิชาที่ 2 * หน่วยกิตวิชาที่ 2) + ... ) / ( หน่วยกิตวิชาที่ 1 + หน่วยกิตวิชาที่ 2 + ... )`\n",
    "\n",
    "เงื่อนไข\n",
    "- เกรดเฉลี่ยนรายวิชาที่รับเข้ามาต้องมีค่า 0.0 - 4.0 เท่านั้น\n",
    "- แสดงผลลัพธ์เป็นทศนิยม 1-2 ตำแหน่ง\n"
   ]
  },
  {
   "cell_type": "markdown",
   "metadata": {},
   "source": [
    "### ตัวอย่าง\n",
    "|Input              |     Output       |\n",
    "|-------            |------------------|\n",
    "| 4 4 4 4 4 4       | GPA = 4.0         |\n",
    "| 4 4 3 2.5 2.5 3.5 | GPA = 3.39        |\n",
    "| 1 1 1 1 1 1       | GPA = 1.0         |\n",
    "| 2.5 2.5 2.5 3 4 4 | GPA = 2.85        |\n",
    "| 4 4 3 2.5 2.5 2.5 | GPA = 3.28        |\n",
    "| 3 3 1 1.5 0 0     | GPA = 1.78        |"
   ]
  },
  {
   "cell_type": "code",
   "execution_count": 8,
   "metadata": {},
   "outputs": [
    {
     "name": "stdout",
     "output_type": "stream",
     "text": [
      "GPA =  1.78\n"
     ]
    }
   ],
   "source": [
    "unit1, unit2, unit3, unit4, unit5, unit6 = 3, 3, 3, 2, 1, 1.5\n",
    "\n",
    "total_unit = unit1 + unit2 + unit3 + unit4 + unit5 + unit6\n",
    "\n",
    "score_1 = float(input(\"Enter subject 1 score:\")) * unit1\n",
    "score_2 = float(input(\"Enter subject 2 score:\")) * unit2\n",
    "score_3 = float(input(\"Enter subject 3 score:\")) * unit3\n",
    "score_4 = float(input(\"Enter subject 4 score:\")) * unit4\n",
    "score_5 = float(input(\"Enter subject 5 score:\")) * unit5\n",
    "score_6 = float(input(\"Enter subject 6 score:\")) * unit6\n",
    "\n",
    "GPA = ( score_1 + score_2 + score_3 + score_4 + score_5 + score_6 ) / total_unit\n",
    "\n",
    "print(\"GPA = \", round(GPA, 2))"
   ]
  }
 ],
 "metadata": {
  "interpreter": {
   "hash": "1f0945ea651c1069c7af037cbbaa82eca29c1e053adfed76f992832db8b6af67"
  },
  "kernelspec": {
   "display_name": "Python 3.9.10 64-bit",
   "language": "python",
   "name": "python3"
  },
  "language_info": {
   "codemirror_mode": {
    "name": "ipython",
    "version": 3
   },
   "file_extension": ".py",
   "mimetype": "text/x-python",
   "name": "python",
   "nbconvert_exporter": "python",
   "pygments_lexer": "ipython3",
   "version": "3.9.10"
  },
  "orig_nbformat": 4
 },
 "nbformat": 4,
 "nbformat_minor": 2
}
