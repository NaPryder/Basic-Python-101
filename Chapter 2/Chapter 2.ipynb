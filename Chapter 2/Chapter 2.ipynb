{
 "cells": [
  {
   "cell_type": "markdown",
   "metadata": {},
   "source": [
    "# Basic Python \n",
    "\n",
    "## Chapter 2 - Variables & Selection"
   ]
  },
  {
   "cell_type": "markdown",
   "metadata": {},
   "source": [
    "### Assign Variable\n",
    "#### ทบทวนการประกาศตัวแปร\n",
    "\n",
    "- ควรตั้งชื่อตัวแปรให้สื่อความหมาย\n",
    "- ควรตามชื่อตามสไดล์การตั้งชื่อ Pascal case, Camel case, Snake case \n",
    "- ไม่ควรใช้ชื่อตัวแปรที่เหมือนกับตัวแปรที่มีอยู่แล้ว\n",
    "- ชื่อตัวแปร จะอยู่ทางซ้าย ของเครื่องหมายเท่ากับ (=) \n",
    "- ค่าของตัวแปร จะอยู่ทางขวา ของเครื่องหมายเท่ากับ (=)\n",
    "\n",
    "ตัวอย่าง 1\n",
    "```python\n",
    "    name = \"John\"\n",
    "```\n",
    "ชื่อตัวแปร คือ name <br>\n",
    "ค่าของตัวแปร คือ \"John\"<br>\n",
    "Data type คือ string (str)\n",
    "\n",
    "ตัวอย่าง 2\n",
    "```python\n",
    "    age = 19 \n",
    "```\n",
    "ชื่อตัวแปร คือ age <br>\n",
    "ค่าของตัวแปร คือ 19<br>\n",
    "Data type คือ integet (int)\n",
    "\n",
    "ตัวอย่าง 3\n",
    "```python\n",
    "    price = 85.75 \n",
    "```\n",
    "ชื่อตัวแปร คือ price <br>\n",
    "ค่าของตัวแปร คือ 85.75<br>\n",
    "Data type คือ float (float)"
   ]
  },
  {
   "cell_type": "markdown",
   "metadata": {},
   "source": [
    "### การรับข้อมูล Input ผ่านทาง keyboard\n",
    "ใช้ คำสั่ง input เพื่อรับข้อมูลผ่านทาง keyboard\n",
    "\n",
    "**เทคนิค** <br>\n",
    "    _สามารถใช้ Casting เพื่อเปลี่ยนชนิดของตัวแปรได้ในบรรทัดเดียว_"
   ]
  },
  {
   "cell_type": "code",
   "execution_count": 1,
   "metadata": {},
   "outputs": [
    {
     "name": "stdout",
     "output_type": "stream",
     "text": [
      "AAA <class 'str'>\n"
     ]
    }
   ],
   "source": [
    "#ต้องการรับข้อมูลชื่อเล่น ผ่านทาง keyboard \n",
    "nickname = input(\"Please enter your nickname:\")\n",
    "print(nickname, type(nickname) )"
   ]
  },
  {
   "cell_type": "code",
   "execution_count": 3,
   "metadata": {},
   "outputs": [
    {
     "ename": "ValueError",
     "evalue": "could not convert string to float: 'AAs123'",
     "output_type": "error",
     "traceback": [
      "\u001b[1;31m---------------------------------------------------------------------------\u001b[0m",
      "\u001b[1;31mValueError\u001b[0m                                Traceback (most recent call last)",
      "\u001b[1;32mc:\\Users\\Nachai.Pa\\OneDrive - STelligence Co., Ltd\\Documents\\Projects\\Tutors\\Chapter 2\\Chapter 2.ipynb Cell 5'\u001b[0m in \u001b[0;36m<cell line: 2>\u001b[1;34m()\u001b[0m\n\u001b[0;32m      <a href='vscode-notebook-cell:/c%3A/Users/Nachai.Pa/OneDrive%20-%20STelligence%20Co.%2C%20Ltd/Documents/Projects/Tutors/Chapter%202/Chapter%202.ipynb#ch0000004?line=0'>1</a>\u001b[0m \u001b[39m#ต้องการรับข้อมูลราคาสินค้า ผ่านทาง keyboard และ casting ให้เป็น type float\u001b[39;00m\n\u001b[1;32m----> <a href='vscode-notebook-cell:/c%3A/Users/Nachai.Pa/OneDrive%20-%20STelligence%20Co.%2C%20Ltd/Documents/Projects/Tutors/Chapter%202/Chapter%202.ipynb#ch0000004?line=1'>2</a>\u001b[0m product_price \u001b[39m=\u001b[39m \u001b[39mfloat\u001b[39;49m( \u001b[39minput\u001b[39;49m(\u001b[39m\"\u001b[39;49m\u001b[39mEnter product price:\u001b[39;49m\u001b[39m\"\u001b[39;49m) )\n\u001b[0;32m      <a href='vscode-notebook-cell:/c%3A/Users/Nachai.Pa/OneDrive%20-%20STelligence%20Co.%2C%20Ltd/Documents/Projects/Tutors/Chapter%202/Chapter%202.ipynb#ch0000004?line=2'>3</a>\u001b[0m \u001b[39mprint\u001b[39m( product_price )\n\u001b[0;32m      <a href='vscode-notebook-cell:/c%3A/Users/Nachai.Pa/OneDrive%20-%20STelligence%20Co.%2C%20Ltd/Documents/Projects/Tutors/Chapter%202/Chapter%202.ipynb#ch0000004?line=3'>4</a>\u001b[0m \u001b[39mprint\u001b[39m( \u001b[39mtype\u001b[39m(product_price) )\n",
      "\u001b[1;31mValueError\u001b[0m: could not convert string to float: 'AAs123'"
     ]
    }
   ],
   "source": [
    "#ต้องการรับข้อมูลราคาสินค้า ผ่านทาง keyboard และ casting ให้เป็น type float\n",
    "product_price = float( input(\"Enter product price:\") )\n",
    "print( product_price )\n",
    "print( type(product_price) )"
   ]
  },
  {
   "cell_type": "markdown",
   "metadata": {},
   "source": [
    "### การดำเนินการทางคณิตศาสตร์\n",
    "+, -, *, **, /, //, %\n",
    "\n",
    "x = 10 #กำหนดค่า <br>\n",
    "x = 1 + 1   #บวก  <br>\n",
    "x = 2 - 3   #ลบ   <br>\n",
    "x = 4 * 5   #คูณ   <br>\n",
    "x = 2 ** 5  #ยกกำลัง   <br>\n",
    "x = 8 / 4   #หาร  <br>\n",
    "x = 8 // 4  #หารปัดเศษทิ้ง  <br>\n",
    "x = 7 % 3   #หาเศษจากการหาร    <br>\n",
    "\n",
    "### วิธีการเขียนพิเศษ\n",
    "x += 1 #มีค่าเท่ากับการเขียนว่า x = x + 1 <br>\n",
    "x -= 1 #มีค่าเท่ากับการเขียนว่า x = x - 1 <br>\n",
    "x *= 2 #มีค่าเท่ากับการเขียนว่า x = x * 2 <br>\n"
   ]
  },
  {
   "cell_type": "code",
   "execution_count": null,
   "metadata": {},
   "outputs": [],
   "source": [
    "x = 0\n",
    "\n",
    "x = x + 1\n",
    "print(x)"
   ]
  },
  {
   "cell_type": "code",
   "execution_count": 4,
   "metadata": {},
   "outputs": [
    {
     "name": "stdout",
     "output_type": "stream",
     "text": [
      "1\n"
     ]
    }
   ],
   "source": [
    "x = 0\n",
    "\n",
    "x += 1  #x = x + 1\n",
    "print(x)"
   ]
  },
  {
   "cell_type": "code",
   "execution_count": 6,
   "metadata": {},
   "outputs": [
    {
     "name": "stdout",
     "output_type": "stream",
     "text": [
      "5\n"
     ]
    }
   ],
   "source": [
    "x = 10\n",
    "x //= 1  # x = x - 1\n",
    "print(x)"
   ]
  },
  {
   "cell_type": "markdown",
   "metadata": {},
   "source": [
    "### ตัวดำเนินการเปรียบเทียบ\n",
    "\n",
    "ตัวดำเนินการที่ใช้ในการเปรียบเทียบ ได้แก่ \n",
    "\n",
    "* น้อยกว่า (<) \n",
    "\n",
    "* มากกว่า (>) \n",
    "\n",
    "* เท่ากับ (==) \n",
    "\n",
    "* น้อยกว่าหรือเท่ากับ (<=) \n",
    "\n",
    "* มากกว่าหรือเท่ากับ (>=) \n",
    "\n",
    "* ไม่เท่ากับ (!=)"
   ]
  },
  {
   "cell_type": "markdown",
   "metadata": {},
   "source": [
    "## การทำงานแบบมีทางเลือก\n",
    "\n",
    "ใช้คำสั่ง if เพื่อกำหนดเงื่อนไขทางเลือก \n",
    "สามารถตรวจสอบเงื่อนไขได้หลาย นิพจน์ (Expression) ในการเขียน if 1 ครั้ง\n",
    "\n",
    "**Syntax**<br><br>\n",
    "\n",
    "_if (Expression) :_ <br>\n",
    "  &nbsp;&nbsp;&nbsp;&nbsp; _Scope_<br>\n",
    "\n",
    "ขึ้นต้นด้วย if <br>\n",
    "ตามด้วย expression ที่ต้องการตรวจสอบ จะมีหรือไม่มีวงเล็บก็ได้ <br>\n",
    "ปิดท้ายด้วยเครื่องหมาย colon ( : ) <br>\n",
    "\n"
   ]
  },
  {
   "cell_type": "code",
   "execution_count": null,
   "metadata": {},
   "outputs": [],
   "source": [
    "x = int(input('Enter a number: '))\n",
    "\n",
    "if x < 50 :\n",
    "    print('Too small')\n",
    "\n",
    "if x > 50 :\n",
    "    print('Too large')\n",
    "\n",
    "if x == 50 :\n",
    "    print('Perfect')\n"
   ]
  },
  {
   "cell_type": "code",
   "execution_count": null,
   "metadata": {},
   "outputs": [],
   "source": [
    "#สามารถใช้ตรวจสอบ ค่าความจริง ได้โดยการ print ประพจน์ ดังนี้\n",
    "\n",
    "x = 10\n",
    "\n",
    "#อยากรู้ว่า x > 50 ไหม\n",
    "print(\" Is x greater than 50?\", x > 50 )\n",
    "\n",
    "#อยากรู้ว่า x = 50 ไหม\n",
    "print(\" Is x equal 50?\", x == 50 )\n",
    "\n",
    "#อยากรู้ว่า x < 50 ไหม\n",
    "print(\" Is x lower than 50?\", x < 50 )"
   ]
  },
  {
   "cell_type": "code",
   "execution_count": null,
   "metadata": {},
   "outputs": [],
   "source": [
    "#ตรวจสอบหลาย expression ในการเขียน if 1 ครั้ง\n",
    "age = 60\n",
    "country = 'Thailandx'\n",
    "\n",
    "if (age >= 50) and (country == 'Thailand'):\n",
    "    print('Old man from Thailand')\n",
    "\n",
    "if (age <= 25) and (country == 'Thailand'):\n",
    "    print('Young man from Thailand')\n",
    "\n",
    "if (age < 50) and (age > 25 ) and (country == 'Thailand'):\n",
    "    print('Adult from Thailand')\n"
   ]
  },
  {
   "cell_type": "code",
   "execution_count": null,
   "metadata": {},
   "outputs": [],
   "source": [
    "#ในการตรวจสอบช่วง ของข้อมูล สามารถเขียนให้อยู่ในนิพจน์เดียวได้ ดังนี้\n",
    "age = 15\n",
    "\n",
    "if ( 25 < age < 50):    #ต้องการตรวจสอบว่า age มีค่ามากกว่า 25 แต่น้อยกว่า 50\n",
    "    print('Adult')\n"
   ]
  },
  {
   "cell_type": "markdown",
   "metadata": {},
   "source": [
    "### การใช้ if - else\n",
    "ในเมื่อ การใช้ if จะรันคำสั่งใน scope ก็ต่อเมื่อ expression ใน if เป็นจริง\n",
    "\n",
    "ดังนั้น การใช้ else จึงมาช่วยให้สามารถรันคำสั่งในส่วนที่ expression เป็นเท็จ\n",
    "\n",
    "**Syntax**<br><br>\n",
    "_if (Expression) :_<br>\n",
    "&nbsp;&nbsp;&nbsp;&nbsp; _Scope if_<br>\n",
    "   \n",
    "_else :_<br>\n",
    "&nbsp;&nbsp;&nbsp;&nbsp; _Scope else_<br>\n",
    "\n",
    "\n",
    "ข้อควรระวัง <br>\n",
    "ระวังการเว้นวรรค ถ้า เว้นวรรคผิด อาจทำให้โค้ดรันไม่ได้ เพราะผิด Scope"
   ]
  },
  {
   "cell_type": "code",
   "execution_count": null,
   "metadata": {},
   "outputs": [],
   "source": [
    "#ตัวอย่างการใช้ if-else\n",
    "# ต้องการตรวจสอบว่า day เป็นอาทิตย์ หรือไม่\n",
    "\n",
    "day = 1\n",
    "\n",
    "if (day == 'Sun'):   #ตรวจสอบถ้า day เป็นวันอาทิตย์\n",
    "    print('Sunday!!')\n",
    "\n",
    "else :                                   # day ไม่ใช่วันอาทิตย์                  \n",
    "    print('Working day')\n",
    "\n",
    "    "
   ]
  },
  {
   "cell_type": "markdown",
   "metadata": {},
   "source": [
    "### สามารถตรวจสอบได้หลาย Expression ในการเรียก if หนึ่งครั้ง\n",
    "โปรแกรมจะรันคำสั่งใน scope if ก็ต่อเมื่อ expression ทั้งหมดเป็นจริง\n",
    "\n",
    "`if (day == 'Sun') or (day == 'Sat') ` \n",
    "\n",
    "หมายความว่า ไม่ว่า day จะมีค่าเท่ากับ \"Sun\" หรือ \"Sat\" จะถือว่า expression นี้เป็นจริง"
   ]
  },
  {
   "cell_type": "code",
   "execution_count": null,
   "metadata": {},
   "outputs": [],
   "source": [
    "#ตัวอย่างการใช้ if-else\n",
    "# ต้องการตรวจสอบว่า day เป็นวันเสาร์/อาทิตย์ หรือไม่\n",
    "\n",
    "\n",
    "day = 'Sun'\n",
    "\n",
    "if (day == 'Sun') or (day == 'Sat') :   #ตรวจสอบถ้า day เป็นวันเสาร์/อาทิตย์\n",
    "    print('Holiday')\n",
    "\n",
    "else:                                   # day ไม่ใช่วันเสาร์/อาทิตย์                  \n",
    "    print('Working day')"
   ]
  },
  {
   "cell_type": "markdown",
   "metadata": {},
   "source": [
    "### การใช้ if - else if - else\n",
    "ในการตรวจสอบ if ถ้าเป็น else แล้วต้องการตรวจสอบเงื่อนไขถัดไป สามารถใช้ else if ได้\n",
    "\n",
    "**Syntax**<br><br>\n",
    "\n",
    "_if (Expression) :_<br>\n",
    "&nbsp;&nbsp;&nbsp;&nbsp; _Scope if_<br>\n",
    "\n",
    "_elif (Expression) :_<br>\n",
    "&nbsp;&nbsp;&nbsp;&nbsp; _Scope else if_<br>\n",
    "   \n",
    "_else :_<br>\n",
    "&nbsp;&nbsp;&nbsp;&nbsp; _Scope else_<br>\n",
    "\n",
    "#### จุดสังเกตุ\n",
    "- การตรวจสอบ expression ถัดไปจะทำ ก็ต่อเมื่อ express if เป็นเท็จ\n",
    "- สามาุรถมี else if ได้หลายตัวในหนึ่ง statement\n",
    "- การใช้ else if จะเขียนแทนด้วย elif\n"
   ]
  },
  {
   "cell_type": "code",
   "execution_count": 7,
   "metadata": {},
   "outputs": [
    {
     "name": "stdout",
     "output_type": "stream",
     "text": [
      "Other day\n"
     ]
    }
   ],
   "source": [
    "#ตรวจสอบเงื่อนไขแบบไม่ใช้ elif\n",
    "\n",
    "day = 'Tue'\n",
    "\n",
    "if (day == 'Sun'):              #ตรวจสอบก่อน ถ้า expression เป็นจริง จะัรนคำสั่งใน scope\n",
    "    print('Sunday!!')\n",
    "\n",
    "else:\n",
    "    if (day == 'Sat'):          #จะตรวจสอบเมื่อ expression ก่อนหน้า เป็นเท็จ\n",
    "        print('Saturday!!')\n",
    "        \n",
    "    else:\n",
    "        if (day == 'Mon'):   #จะตรวจสอบเมื่อ expression ก่อนหน้า เป็นเท็จ\n",
    "            print('Monday!!')\n",
    "\n",
    "        else:                   #จะทำงาน ถ้าทุก expression ก่อนหน้าเป็นเท็จหมด              \n",
    "            print('Other day')\n",
    "\n",
    "\n",
    "#สังเกตุว่า จะเป็นการใช้ if else ซ้อนกันหลายชั้น ทำให้โค้ดอ่านยาก"
   ]
  },
  {
   "cell_type": "code",
   "execution_count": null,
   "metadata": {},
   "outputs": [],
   "source": [
    "#ตรวจสอบเงื่อนไขแบบใช้ elif\n",
    "\n",
    "day = 'Mon'\n",
    "\n",
    "if (day == 'Sun'):          #ตรวจสอบก่อน ถ้า expression เป็นจริง จะัรนคำสั่งใน scope\n",
    "    print('Sunday!!')\n",
    "\n",
    "elif (day == 'Sat'):        #จะตรวจสอบเมื่อ expression ก่อนหน้า เป็นเท็จ\n",
    "    print('Saturday!!')\n",
    "\n",
    "elif (day == 'Mon'):     #จะตรวจสอบเมื่อ expression ก่อนหน้า เป็นเท็จ\n",
    "    print('****')\n",
    "    print('Monday')\n",
    "\n",
    "else:                       #จะทำงาน ถ้าทุก expression ก่อนหน้าเป็นเท็จหมด              \n",
    "    print('Other day')\n",
    "\n",
    "\n",
    "\n",
    "#สังเกตุว่า จะเป็นการใช้ elif แทนการซ้อน if ใน else ทำให้โค้ดดูง่ายกว่า"
   ]
  },
  {
   "cell_type": "markdown",
   "metadata": {},
   "source": [
    "### Nested if\n",
    "#### คือ การมี if ซ้อนอยู่ ใน if หลาย ๆ ชั้น ใช้สำหรับการทำงานที่ซับซ้อนขึ้น"
   ]
  },
  {
   "cell_type": "markdown",
   "metadata": {},
   "source": [
    "### สรุป if - elif - else\n",
    "\n",
    "การตรวจสอบเงื่อนไข สามารถทำได้หลายรูปแบบ\n",
    "- ในการใช้ if จะทำงานก็ต่อเมื่อ expression เป็นจริง\n",
    "- การตรวจสอบเงื่อนไขบางอย่าง ไม่จำเป็นต้องมี elif หรือ else ก็ได้\n",
    "- สามารถตรวจสอบได้หลาย expression ในการเขียน if/elif หนึ่งครั้ง\n",
    "- ต้องมีเครื่องหมาย colon ( : ) ปิดท้าย expression ทุกครั้ง\n",
    "- ต้องจัด scope ให้ดี เพื่อป้องกัน indentation error (indent คือการเว้นช่อง scope จะใช้ tab หรือ space ก็ได้)"
   ]
  },
  {
   "cell_type": "markdown",
   "metadata": {},
   "source": [
    "### สรุปการใช้ AND\n",
    "\n",
    "\n",
    "| AND                   | Result                        |\n",
    "| -----------           | -----------                   |\n",
    "| _True_ <span style=\"color:lime\">and</span> _True_     | <span style=\"color:aqua\">_True_</span>                        |\n",
    "| _True_ <span style=\"color:lime\">and</span> _False_    | <span style=\"color:red\">_False_</span>                       |\n",
    "| _False_ <span style=\"color:lime\">and</span> _True_    | <span style=\"color:red\">_False_</span>                       |\n",
    "| _False_ <span style=\"color:lime\">and</span> _False_   | <span style=\"color:red\">_False_</span>                       |"
   ]
  },
  {
   "cell_type": "markdown",
   "metadata": {},
   "source": [
    "### สรุปการใช้ OR \n",
    "\n",
    "\n",
    "| OR                    | Result                        |\n",
    "| -----------           | -----------                   |\n",
    "| _True_ <span style=\"color:lime\">or</span> _True_     | <span style=\"color:aqua\">_True_</span>                        |\n",
    "| _True_ <span style=\"color:lime\">or</span> _False_    | <span style=\"color:aqua\">_True_</span>                        |\n",
    "| _False_ <span style=\"color:lime\">or</span> _True_    | <span style=\"color:aqua\">_True_</span>                        |\n",
    "| _False_ <span style=\"color:lime\">or</span> _False_   | <span style=\"color:red\">_False_</span>                        |           "
   ]
  },
  {
   "cell_type": "markdown",
   "metadata": {},
   "source": [
    "\n",
    "### สรุปการใช้ NOT \n",
    "\n",
    "\n",
    "| NOT                                            | Result                                                        |\n",
    "| -----------                                    | -----------                                                   |\n",
    "| <span style=\"color:lime\">not</span> _True_     | <span style=\"color:red\">_False_</span>                        |\n",
    "| <span style=\"color:lime\">not</span> _False_    | <span style=\"color:aqua\">_True_</span>                        |\n"
   ]
  },
  {
   "cell_type": "code",
   "execution_count": null,
   "metadata": {},
   "outputs": [],
   "source": [
    "# ตรวจสอบ expression ใน if\n",
    "\n",
    "is_holiday = False\n",
    "\n",
    "if is_holiday == False:\n",
    "    print('Working day')\n",
    "\n",
    "else :\n",
    "    print('Holiday!!')\n"
   ]
  },
  {
   "cell_type": "code",
   "execution_count": null,
   "metadata": {},
   "outputs": [],
   "source": [
    "# เขียนแบบย่อ ๆ \n",
    "\n",
    "is_holiday = False\n",
    "\n",
    "if is_holiday:              # การเขียนแบบนี้ คือ is_holiday == True\n",
    "    print('Working day')\n",
    "\n",
    "else :\n",
    "    print('Holiday!!')"
   ]
  },
  {
   "cell_type": "code",
   "execution_count": null,
   "metadata": {},
   "outputs": [],
   "source": [
    "# เขียนแบบย่อ ๆ \n",
    "\n",
    "is_holiday = False\n",
    "\n",
    "if not is_holiday:              # การเขียนแบบนี้ คือ is_holiday == False\n",
    "    print('Working day')\n",
    "\n",
    "else :\n",
    "    print('Holiday!!')"
   ]
  },
  {
   "cell_type": "code",
   "execution_count": null,
   "metadata": {},
   "outputs": [],
   "source": [
    "# สามารถตรวจสอบชนิดของตัวแปรได้\n",
    "\n",
    "x = True\n",
    "\n",
    "if type(x) == str:\n",
    "    print('type x is String')\n",
    "\n",
    "elif type(x) == int:\n",
    "    print('type x is int')\n",
    "\n",
    "elif type(x) == bool:\n",
    "    print('type x is boolean')\n",
    "\n",
    "else:\n",
    "    print('Unknow')\n",
    "\n"
   ]
  },
  {
   "cell_type": "markdown",
   "metadata": {},
   "source": [
    "### Boolean Operators\n",
    "\n",
    "ประโยคคำสั่งที่ต้องมีการเปรียบเที่ยบเงื่อนไข เช่น if , if-else while เป็นต้น \n",
    "\n",
    "เราต้องระบุนิพจน์เปรียบเทียบได้แก่ True หรือ False ในการกำหนดเงื่อนไข\n",
    "\n",
    "แต่หาต้องการกำหนดเงือนไขที่ซับซ้อนขึ้น สามารถใช้ตัวดำเนินการบูลีนได้แก่ and or หรือ not ในการเชื่อมนิพจน์เปรียบเทียบอย่างง่ายเข้าด้วยกันได้"
   ]
  },
  {
   "cell_type": "code",
   "execution_count": 8,
   "metadata": {},
   "outputs": [
    {
     "name": "stdout",
     "output_type": "stream",
     "text": [
      "12\n"
     ]
    }
   ],
   "source": [
    "age = 12\n",
    "print(age)"
   ]
  },
  {
   "cell_type": "code",
   "execution_count": 9,
   "metadata": {},
   "outputs": [
    {
     "name": "stdout",
     "output_type": "stream",
     "text": [
      "False\n"
     ]
    }
   ],
   "source": [
    "# AND\n",
    "print((age > 12) and (age < 19))"
   ]
  },
  {
   "cell_type": "code",
   "execution_count": 10,
   "metadata": {},
   "outputs": [
    {
     "name": "stdout",
     "output_type": "stream",
     "text": [
      "True\n"
     ]
    }
   ],
   "source": [
    "# OR\n",
    "print(age > 13 or age < 19)"
   ]
  },
  {
   "cell_type": "code",
   "execution_count": null,
   "metadata": {},
   "outputs": [],
   "source": [
    "# Not \n",
    "print(not age > 13)"
   ]
  },
  {
   "cell_type": "markdown",
   "metadata": {},
   "source": [
    "# ตัวอย่างเงื่อนไขที่เขียนแทนกันได้\n",
    "\n",
    "| Case 1                                                        | Case 2                                                        |\n",
    "| -----------                                                   | -----------                                                   |\n",
    "| `not(x == 0)`                                                 | `x != 0`                                                      |\n",
    "| `not(x == 2 or x == 4)`                                       | `x != 2 and x != 4 `                                          |\n",
    "| `not(x < 2 and y >= 4)`                                       | `x >= 2 or y < 4 `                                            |\n",
    "| `3 <= x and x < 9`                                            | `3 <= x < 9`                                                  |\n",
    "| `a < b and b < c and c < d and d <= e`                        | `a < b < c < d <= e`                                          |\n",
    "| `x == 'a' or c == 'e' or c == 'i' or c == 'o' or c == 'u'`    | `c in 'aeiou'`      _หรือ_<br>`c in('a', 'e', 'i', 'o', 'u')`  |"
   ]
  },
  {
   "cell_type": "markdown",
   "metadata": {},
   "source": [
    "## Example\n",
    "เขียนโปรแกรมตรวจสอบว่า จำนวนเต็มใด ๆ ( ให้ชื่อว่า x ) หาร 9 ลงตัวหรือไม่\n",
    "\n",
    "กำหนดให้ใช้ข้อมูลนำเข้าจาก keyboard เป็นจำนวนเต็ม\n",
    "\n",
    "ถ้า x หาร 9 ลงตัว ให้แสดงผลว่า \"หารลงตัว\" <br>\n",
    "ถ้า x หาร 9 ไม่ลงตัว ให้แสดงผลว่า \"หารไม่ลงตัว\"\n",
    "\n",
    "### วิเคราะห์โจทย์\n",
    "\n",
    "1. เขียนการรับ input เก็บไว้ในตัวแปรชื่อ x พร้อมกับ casting ให้เป็นจำนวนเต็ม (int)\n",
    "2. การหารลงตัว แสดงว่าต้องหารแล้วได้เศษเท่ากับ 0 \n",
    "3. ใช้ if-else กำหนดเงื่อนไข\n",
    "4. แสดงผล"
   ]
  },
  {
   "cell_type": "code",
   "execution_count": null,
   "metadata": {},
   "outputs": [],
   "source": [
    "# รับข้อมูลจาก keyboard\n",
    "x = int(input(\"Enter number:\"))\n",
    "\n",
    "# ตรวจสอบว่า ลงตัวหรือไม่\n",
    "if x % 9 == 0:\n",
    "    print(\"หารลงตัว\")\n",
    "else:\n",
    "    print(\"หารไม่ลงตัว\")"
   ]
  },
  {
   "cell_type": "markdown",
   "metadata": {},
   "source": [
    "### Refactoring Code\n",
    "\n",
    "จากตัวอย่างข้อก่อนหน้า <br>\n",
    "\n",
    "ให้ปรับปรุงโค้ดที่เขียน โดยการ <br>\n",
    " - เพิ่มวิธีตรวจสอบ ว่า user พิมพ์ตัวเลขจำนวนเต็มเข้ามา โปรแกรมถึงจะทำงานต่อได้ \n",
    "    * ถ้าไม่ใช่ตัวเลขจำนวนเต็ม ให้แสดงผลว่า \"type error\"\n",
    " - ปรับปรุงให้สามารถเปลี่ยนจำนวนหารได้ โดยกำหนดเป็นค่าคงที่\n",
    " - ปรับปรุงการแสดงผล ให้บอกรายละเอียดว่า x หารกับจำนวนอะไร ลงตัวหรือไม่ลงตัว\n",
    " \n",
    "\n",
    "การตรวจสอบ type ทำได้หลายวิธี ในบทจะแนะนำให้ใช้คำสั่ง `isnumeric()` ของ string"
   ]
  },
  {
   "cell_type": "code",
   "execution_count": 23,
   "metadata": {},
   "outputs": [
    {
     "name": "stdout",
     "output_type": "stream",
     "text": [
      "True\n"
     ]
    }
   ],
   "source": [
    "# isnumeric() คือ การตรวจสอบว่าสตริงนั้นเป็นจำนวนหรือไม่\n",
    "x = \"1234\"\n",
    "print(x.isnumeric())"
   ]
  },
  {
   "cell_type": "code",
   "execution_count": 24,
   "metadata": {},
   "outputs": [
    {
     "name": "stdout",
     "output_type": "stream",
     "text": [
      "False\n"
     ]
    }
   ],
   "source": [
    "# ตรวจสอบสตริงแบบมีทศนิยม\n",
    "x = \"1234.12\"\n",
    "print(x.isnumeric())"
   ]
  },
  {
   "cell_type": "code",
   "execution_count": 25,
   "metadata": {},
   "outputs": [
    {
     "name": "stdout",
     "output_type": "stream",
     "text": [
      "False\n"
     ]
    }
   ],
   "source": [
    "# ตรวจสอบสตริงแบบมีเครื่องหมาย comma (,)  \n",
    "x = \"1,234\"\n",
    "print(x.isnumeric())"
   ]
  },
  {
   "cell_type": "code",
   "execution_count": 26,
   "metadata": {},
   "outputs": [
    {
     "name": "stdout",
     "output_type": "stream",
     "text": [
      "type error please enter integer number instead: 1,000\n"
     ]
    }
   ],
   "source": [
    "# รับข้อมูลจาก keyboard\n",
    "x = input(\"Enter number:\")\n",
    "# print('x=',x , type(x))\n",
    "constant = 9\n",
    "\n",
    "is_int = x.isnumeric()\n",
    "# print('is_int',is_int , type(is_int))\n",
    "\n",
    "# ตรวจสอบประเภทตัวแปรว่าเป็น int หรือไม่\n",
    "if is_int:\n",
    "    \n",
    "    # ตรวจสอบว่า ลงตัวหรือไม่\n",
    "    if int(x) % constant == 0:\n",
    "        print(x , \"หาร\", constant, \"ลงตัว\")      #แสดงผลโดยละเอียด\n",
    "\n",
    "    else:\n",
    "        print(x , \"หาร\", constant, \"ไม่ลงตัว\")    #แสดงผลโดยละเอียด\n",
    "\n",
    "else:\n",
    "    # แสดงผลว่า type error\n",
    "    # print('type error')\n",
    "    print('type error please enter integer number instead:',x )\n",
    "\n"
   ]
  }
 ],
 "metadata": {
  "interpreter": {
   "hash": "1f0945ea651c1069c7af037cbbaa82eca29c1e053adfed76f992832db8b6af67"
  },
  "kernelspec": {
   "display_name": "Python 3.9.10 64-bit",
   "language": "python",
   "name": "python3"
  },
  "language_info": {
   "codemirror_mode": {
    "name": "ipython",
    "version": 3
   },
   "file_extension": ".py",
   "mimetype": "text/x-python",
   "name": "python",
   "nbconvert_exporter": "python",
   "pygments_lexer": "ipython3",
   "version": "3.9.10"
  },
  "orig_nbformat": 4
 },
 "nbformat": 4,
 "nbformat_minor": 2
}
