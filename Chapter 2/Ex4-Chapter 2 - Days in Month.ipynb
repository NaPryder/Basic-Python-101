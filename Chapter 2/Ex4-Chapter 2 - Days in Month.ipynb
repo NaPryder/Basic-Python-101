{
 "cells": [
  {
   "cell_type": "markdown",
   "metadata": {},
   "source": [
    "# Excercise 3 - Days in Month"
   ]
  },
  {
   "cell_type": "markdown",
   "metadata": {},
   "source": [
    "## เขียนโปรแกรมสำหรับ คำนวณหาจำนวนวันทั้งหมดในปีที่ต้องการ\n",
    "\n",
    "รับ input ค่าเดือนและปีพุทธศักราช เก็บในตัวแปร<br>\n",
    "คำนวณหาว่าในเดือนของปีที่รับเข้ามา มีจำนวนวันทั้งสิ้นกี่วัน<br>\n",
    "\n",
    "Hint:\n",
    "ในเดือนกุมภาพันธ์จะมี 29 วัน ก็ต่อเมื่อ <br>\n",
    "`(ปีค.ศ. หารด้วย 4 ลงตัว แต่ หารด้วย 100 ไม่ลงตัว) หรือ (ปีค.ศ. หารด้วย 400 ลงตัว)`\n",
    "\n"
   ]
  },
  {
   "cell_type": "markdown",
   "metadata": {},
   "source": [
    "### ตัวอย่าง\n",
    "|Input          |     Output        |\n",
    "|-------        |------------------ |\n",
    "| 10 2557       | 31 |\n",
    "| 4 2556        | 30 |\n",
    "| 2 2547        | 29 |\n",
    "| 2 2563        | 29 |\n",
    "| 2 2562        | 28 |\n"
   ]
  },
  {
   "cell_type": "code",
   "execution_count": 2,
   "metadata": {},
   "outputs": [
    {
     "name": "stdout",
     "output_type": "stream",
     "text": [
      "31\n"
     ]
    }
   ],
   "source": [
    "month = int(input(\"Enter month:\"))  \n",
    "year = int(input(\"Enter year:\"))\n",
    "\n",
    "if (month == 1) or (month == 3) or (month == 5) or (month == 7) or (month == 8) or (month == 10) or (month == 11):\n",
    "    days = 31\n",
    "elif month == 2:\n",
    "\n",
    "    year = year - 543\n",
    "    # find leap year\n",
    "    if ((year%4 == 0) and (year%100 != 0)) or (year%400 ==0):\n",
    "        days = 29\n",
    "    else:\n",
    "        days = 28\n",
    "        \n",
    "else:\n",
    "    days = 30\n",
    "\n",
    "print(days)\n",
    "\n"
   ]
  }
 ],
 "metadata": {
  "interpreter": {
   "hash": "1f0945ea651c1069c7af037cbbaa82eca29c1e053adfed76f992832db8b6af67"
  },
  "kernelspec": {
   "display_name": "Python 3.9.10 64-bit",
   "language": "python",
   "name": "python3"
  },
  "language_info": {
   "codemirror_mode": {
    "name": "ipython",
    "version": 3
   },
   "file_extension": ".py",
   "mimetype": "text/x-python",
   "name": "python",
   "nbconvert_exporter": "python",
   "pygments_lexer": "ipython3",
   "version": "3.9.10"
  },
  "orig_nbformat": 4
 },
 "nbformat": 4,
 "nbformat_minor": 2
}
