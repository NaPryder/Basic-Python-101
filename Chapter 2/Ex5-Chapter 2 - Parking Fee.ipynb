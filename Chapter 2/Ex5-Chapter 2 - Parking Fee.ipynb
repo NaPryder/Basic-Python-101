{
 "cells": [
  {
   "cell_type": "markdown",
   "metadata": {},
   "source": [
    "# Excercise 3 - Parking Fee"
   ]
  },
  {
   "cell_type": "markdown",
   "metadata": {},
   "source": [
    "## เขียนโปรแกรมสำหรับ คำนวณหาค่าที่จอดรถ\n",
    "\n",
    "ให้รับเวลาเข้า-ออกของรถคันหนึ่ง (เปิด 5:00 - 23:00) และคำนวนค่าที่จอดรถที่ต้องจ่าย <br>\n",
    "โดยมีเกณฑ์ดังนี้\n",
    "- จอดฟรีถ้าจอดไม่เกิน 10 นาที\n",
    "- จอดรถตั้งแต่ 10 นาที ถึง 3 ชั่วโมง คิดค่าบริการชั่วโมงละ 10 บาท เศษของชั่วโมงให้ปัดเป็น 1 ชั่วโมง\n",
    "- จอดรถตั้งแต่ 4 ชั่วโมง ถึง 6 ชั่วโมง คิดค่าบริการชัวโมงที่ 4-6 ชั่วโมงละ 20 บาท เศษของชั่วโมงให้ปัดเป็น 1 ชั่วโมง\n",
    "- จอดรถตั้งแต่ 6 ชั่วโมงขึ้นไป เหมาข่ายวันละ 200 บาท\n",
    "\n",
    "รับ input 4 บรรทัดเป็นจำนวนเต็มหนึ่งจำนวน<br>\n",
    "- บรรทัดที่ 1-2 เป็นชั่วโมงและนาที ของเวลาเข้า<br>\n",
    "- บรรทัดที่ 3-4 เป็นชั่วโมงและนาที ของเวลาออก<br>\n",
    "\n",
    "Hint:\n",
    "- แยกแต่ละเงื่อนไขโดยแปลงเป็นหน่วยนาที\n",
    "- คิดค่าบริการใช้หน่วยชั่วโมง\n",
    "- ใช้ Mod ในการตรวจสอบเศษของชั่วโมง\n",
    "\n"
   ]
  },
  {
   "cell_type": "markdown",
   "metadata": {},
   "source": [
    "### ตัวอย่าง\n",
    "|Input          |     Output        |\n",
    "|-------        |------------------ |\n",
    "| 7<br> 0<br>7<br>10      | ค่าจอดรถทั้งหมด = 0 บาท|\n",
    "| 7<br> 0<br>7<br>11      | ค่าจอดรถทั้งหมด = 10 บาท|\n",
    "| 7<br>30<br>10<br>30     | ค่าจอดรถทั้งหมด = 30 บาท|\n",
    "| 7<br>30<br>10<br>31      | ค่าจอดรถทั้งหมด = 50 บาท|\n",
    "| 7<br>30<br>13<br>30      | ค่าจอดรถทั้งหมด = 90 บาท|\n",
    "| 7<br>30<br>13<br>31      | ค่าจอดรถทั้งหมด = 200 บาท|\n",
    "| 7<br>30<br>19<br>30      | ค่าจอดรถทั้งหมด = 200 บาท|\n"
   ]
  },
  {
   "cell_type": "code",
   "execution_count": 21,
   "metadata": {},
   "outputs": [
    {
     "name": "stdout",
     "output_type": "stream",
     "text": [
      "total_min 720 0\n",
      "200\n"
     ]
    }
   ],
   "source": [
    "# in_hour = int(input(\"Enter in hour:\"))  \n",
    "# in_min = int(input(\"Enter in minute:\"))\n",
    "# out_hour = int(input(\"Enter out hour:\"))  \n",
    "# out_min = int(input(\"Enter out minute:\"))\n",
    "\n",
    "in_hour = 7  \n",
    "in_min = 30\n",
    "out_hour = 19\n",
    "out_min = 30\n",
    "\n",
    "# print(\"in_hour\", in_hour)\n",
    "# print(\"in_min\", in_min)\n",
    "# print(\"out_hour\", out_hour)\n",
    "# print(\"out_min\", out_min)\n",
    "\n",
    "# แปลงเป็นหน่วยนาที\n",
    "convert_in = (in_hour*60) + in_min\n",
    "convert_out = (out_hour*60) + out_min\n",
    "total_min = convert_out - convert_in\n",
    "print(\"total_min\", total_min, total_min%60)\n",
    "\n",
    "#หาว่า จอดรถทั้งหมดกี่ชั่วโมง กี่นาที\n",
    "if total_min <= 10:\n",
    "    fee = 0\n",
    "\n",
    "elif 10 < total_min <= 180:\n",
    "\n",
    "    # คำนวณหาเวลาจอดรถ หน่วยชั่วโมง\n",
    "    if total_min%60 == 0:\n",
    "        hr = total_min/60\n",
    "    else:\n",
    "        hr = (total_min//60) + 1\n",
    "\n",
    "    fee = hr * 10\n",
    "\n",
    "elif 180 < total_min <= 360:\n",
    "    \n",
    "    # ค่าบริการรวม 3 ชั่วโมงแรก \n",
    "    fee_1_3 = 30\n",
    "\n",
    "    # คำนวณหาเวลาจอดรถ หน่วยชั่วโมง\n",
    "    if total_min%60 == 0:\n",
    "        # ถ้าหารลงตัว จะได้จำนวนชั่วโมงเลย\n",
    "        hr = total_min/60\n",
    "    else:\n",
    "        # หารไม่ลงตัว ปัดเศษขึ้น 1 ชั่วโมง\n",
    "        hr = (total_min//60) + 1\n",
    "    \n",
    "    # ค่าบริการของชัวโมง ที่ 4-6\n",
    "    fee_4_6 = (hr-3) * 20\n",
    "\n",
    "    # รวมค่าบริการที่ต้องจ่าย\n",
    "    fee =  fee_1_3 + fee_4_6\n",
    "\n",
    "else:\n",
    "    # เหมาจ่าย 200 บาท \n",
    "    fee = 200\n",
    "\n",
    "print(fee)\n",
    "\n"
   ]
  }
 ],
 "metadata": {
  "interpreter": {
   "hash": "1f0945ea651c1069c7af037cbbaa82eca29c1e053adfed76f992832db8b6af67"
  },
  "kernelspec": {
   "display_name": "Python 3.9.10 64-bit",
   "language": "python",
   "name": "python3"
  },
  "language_info": {
   "codemirror_mode": {
    "name": "ipython",
    "version": 3
   },
   "file_extension": ".py",
   "mimetype": "text/x-python",
   "name": "python",
   "nbconvert_exporter": "python",
   "pygments_lexer": "ipython3",
   "version": "3.9.10"
  },
  "orig_nbformat": 4
 },
 "nbformat": 4,
 "nbformat_minor": 2
}
