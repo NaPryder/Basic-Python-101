{
 "cells": [
  {
   "cell_type": "markdown",
   "metadata": {},
   "source": [
    "# Excercise 1 - Grade calculator"
   ]
  },
  {
   "cell_type": "markdown",
   "metadata": {},
   "source": [
    "## เขียนโปรแกรมสำหรับ คำนวณเกรดที่จะได้รับจากคะแนนรวม\n",
    "\n",
    "รับ Input คะแนนรวมของนักเรียน จาก keyboard เก็บไว้ในตัวแปร\n",
    "\n",
    "คำนวณหาค่า ว่าคะแนนที่รับมาอยู่ใน range ไหน เพื่อหาเกรดที่จะได้รับ <br>\n",
    "\n",
    "เงื่อนไข\n",
    "- คะแนนที่รับเข้ามาต้องอยู่ในช่วง 0 – 100 ถ้าไม่อยู่ในช่วงนี้ ให้แสดงผลว่า ไม่สามารถคำนวณได้\n",
    "- ได้เกรด F เมื่อคะแนนน้อยกว่าหรือเท่ากับ 50\n",
    "- ได้เกรด D เมื่อคะแนนอยู่ระหว่าง 51 ถึง 55\n",
    "- ได้เกรด D+ เมื่อคะแนนอยู่ระหว่าง 56 ถึง 60\n",
    "- ได้เกรด C เมื่อคะแนนอยู่ระหว่าง 61 ถึง 65\n",
    "- ได้เกรด C+ เมื่อคะแนนอยู่ระหว่าง 66 ถึง 70 \n",
    "- ได้เกรด B เมื่อคะแนนอยู่ระหว่าง 71 ถึง 75 \n",
    "- ได้เกรด B+ เมื่อคะแนนอยู่ระหว่าง 76 ถึง 79 \n",
    "- ได้เกรด A เมื่อคะแนนมากกว่าหรือเท่ากับ 80\n",
    "\n"
   ]
  },
  {
   "cell_type": "markdown",
   "metadata": {},
   "source": [
    "### ตัวอย่าง\n",
    "|Input  |     Output       |\n",
    "|-------|------------------|\n",
    "| 102   | ไม่สามารถคำนวณได้  |\n",
    "| 55    |         D        |\n",
    "| 76    |         B+       |\n",
    "| 89    |         A        |\n",
    "| -3   | ไม่สามารถคำนวณได้  |\n",
    "| 49    |         F        |"
   ]
  },
  {
   "cell_type": "code",
   "execution_count": 2,
   "metadata": {},
   "outputs": [
    {
     "name": "stdout",
     "output_type": "stream",
     "text": [
      "F\n"
     ]
    }
   ],
   "source": [
    "#เฉลย\n",
    "score = int( input(\"Enter score :\"))\n",
    "\n",
    "if score < 0 or score > 100:\n",
    "    print(\"ไม่สามารถคำนวณได้\")\n",
    "\n",
    "elif score >= 80:\n",
    "    print(\"A\")\n",
    "\n",
    "elif score >= 76:\n",
    "    print(\"B+\")\n",
    "\n",
    "elif score >= 71:\n",
    "    print(\"B\")\n",
    "\n",
    "elif score >= 66:\n",
    "    print(\"C+\")\n",
    "\n",
    "elif score >= 61:\n",
    "    print(\"C\")\n",
    "\n",
    "elif score >= 56:\n",
    "    print(\"D+\")\n",
    "\n",
    "elif score >= 51:\n",
    "    print(\"D\")\n",
    "\n",
    "else: \n",
    "    print(\"F\")"
   ]
  }
 ],
 "metadata": {
  "interpreter": {
   "hash": "1f0945ea651c1069c7af037cbbaa82eca29c1e053adfed76f992832db8b6af67"
  },
  "kernelspec": {
   "display_name": "Python 3.9.10 64-bit",
   "language": "python",
   "name": "python3"
  },
  "language_info": {
   "codemirror_mode": {
    "name": "ipython",
    "version": 3
   },
   "file_extension": ".py",
   "mimetype": "text/x-python",
   "name": "python",
   "nbconvert_exporter": "python",
   "pygments_lexer": "ipython3",
   "version": "3.9.10"
  },
  "orig_nbformat": 4
 },
 "nbformat": 4,
 "nbformat_minor": 2
}
