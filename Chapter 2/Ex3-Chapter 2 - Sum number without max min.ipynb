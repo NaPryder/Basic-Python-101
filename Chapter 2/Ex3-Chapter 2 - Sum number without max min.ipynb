{
 "cells": [
  {
   "cell_type": "markdown",
   "metadata": {},
   "source": [
    "# Excercise 3 - Calculate total number with out max-min"
   ]
  },
  {
   "cell_type": "markdown",
   "metadata": {},
   "source": [
    "## เขียนโปรแกรมสำหรับ คำนวณหาผลรวมของจำนวนที่รับมา ตามเงื่อนไข\n",
    "\n",
    "รับ input เลขจำนวนเต็ม 4 จำนวน เก็บไว้ในตัวแปร a, b, c, d ตามลำดับ<br>\n",
    "หาผลรวมของจำนวนที่รับมา โดยไม่รวมจำนวนที่มากที่สุดหนึ่งจำนวน และ จำนวนที่น้อยที่สุดหนึ่งจำนวน<br>\n",
    "\n",
    "Hint:\n",
    "- หาจำนวนที่มากที่สุด\n",
    "- หาจำนวนที่น้อยที่สุด\n",
    "- นำจำนวนทั้งหมดมารวมกัน แล้วลบจำนวนที่มากสุด กับ น้อยสุด\n"
   ]
  },
  {
   "cell_type": "markdown",
   "metadata": {},
   "source": [
    "### ตัวอย่าง\n",
    "|Input          |     Output        |\n",
    "|-------        |------------------ |\n",
    "| 1 2 3 4       | max = 4 <br>min = 1 <br>Result = 5    |\n",
    "| 1 1 2 1       | max = 2 <br>min = 1 <br>Result = 2    |\n",
    "| 5 6 5 6       | max = 6 <br>min = 5 <br>Result = 11   |\n",
    "| 0 1 2 -1      | max = 2 <br>min = -1 <br>Result = 1   |\n",
    "| 1 1 1 1       | max = 1 <br>min = 1 <br>Result = 2    |"
   ]
  },
  {
   "cell_type": "code",
   "execution_count": 10,
   "metadata": {},
   "outputs": [
    {
     "name": "stdout",
     "output_type": "stream",
     "text": [
      "a= 1 b= 1 c= 1 d= 1\n",
      "max = 1\n",
      "min = 1\n",
      "Result = 2\n"
     ]
    }
   ],
   "source": [
    "a = int(input(\"Enter integer number a:\"))  \n",
    "b = int(input(\"Enter integer number b:\"))\n",
    "c = int(input(\"Enter integer number c:\"))\n",
    "d = int(input(\"Enter integer number d:\"))\n",
    "\n",
    "# print('a=', a, 'b=', b, 'c=', c, 'd=',d)\n",
    "# กำหนดจำนวนค่าสูงสุด ให้เป็น a \n",
    "max_number = a\n",
    "if b > max_number:\n",
    "    max_number = b\n",
    "if c > max_number:\n",
    "    max_number = c\n",
    "if d > max_number:\n",
    "    max_number = d\n",
    "\n",
    "# กำหนนดจำนวนค่าน้อยสุด เป็น a \n",
    "min_number = a\n",
    "if b < min_number:\n",
    "    min_number = b\n",
    "if c < min_number:\n",
    "    min_number = c\n",
    "if d < min_number:\n",
    "    min_number = d\n",
    "\n",
    "result = (a+b+c+d) - max_number - min_number\n",
    "print('max =', max_number)\n",
    "print('min =', min_number)\n",
    "print('Result =', result)\n"
   ]
  }
 ],
 "metadata": {
  "interpreter": {
   "hash": "1f0945ea651c1069c7af037cbbaa82eca29c1e053adfed76f992832db8b6af67"
  },
  "kernelspec": {
   "display_name": "Python 3.9.10 64-bit",
   "language": "python",
   "name": "python3"
  },
  "language_info": {
   "codemirror_mode": {
    "name": "ipython",
    "version": 3
   },
   "file_extension": ".py",
   "mimetype": "text/x-python",
   "name": "python",
   "nbconvert_exporter": "python",
   "pygments_lexer": "ipython3",
   "version": "3.9.10"
  },
  "orig_nbformat": 4
 },
 "nbformat": 4,
 "nbformat_minor": 2
}
