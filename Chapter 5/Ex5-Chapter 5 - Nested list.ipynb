{
 "cells": [
  {
   "cell_type": "markdown",
   "metadata": {},
   "source": [
    "# Excercise 5 - Nested list"
   ]
  },
  {
   "cell_type": "markdown",
   "metadata": {},
   "source": [
    "Input: <br>\n",
    "มีบรรทัดเดียว รับตัวเลขจำนวนเต็ม n ตัว คั่นด้วยช่องว่าง ผ่านทาง keyboard (n > 2)<br>\n",
    "\n",
    "Process: <br>\n",
    "- ถ้า n <= 2 ให้แสดง error ตามตัวอย่าง\n",
    "- ใช้ split สตริงแบ่งข้อมูลแต่ละตัวออกจากกัน\n",
    "- สร้างลิสต์ที่มีข้อมูล item ครึ่งตัวแรก (ตัวที่ 0 ถึง ตัวที่ n/2) เก็บไว้ในลิสต์ y\n",
    "- สร้างลิสต์ที่มีข้อมูล item ครึ่งตัวหลัง (ตัวที่เหลือ) เก็บไว้ในลิสต์ z\n",
    "- สร้าง nested list จาก [y, z, [จำนวนสมาชิกของ y, จำนวนสมาชิกของ z, จำนวนสมาชิกทั้งหมด]]\n",
    "\n",
    "Output:<br>\n",
    "ใช้ for loop แสดงผลลัพธ์ของ nested list พร้อม index\n",
    "\n",
    "Hint:<br>\n",
    "- ใช้ split เพื่แบ่งข้อมูล\n",
    "- ถ้า n เป็นเลขคี่ ให้ปัดลง\n",
    "- ใช้ enumerate แสดง index หรือ ใช้ range ก็ได้"
   ]
  },
  {
   "cell_type": "markdown",
   "metadata": {},
   "source": [
    "### ตัวอย่าง\n",
    "|input                  |     Output       |\n",
    "|-------                |------------------|\n",
    "| 1 5 9 8 7 6 AA EE RR  |0 ['1', '5', '9', '8']<br>1 ['7', '6', 'AA', 'EE', 'RR']<br>2 [4, 5, 9] |\n",
    "| 2 6 R A 9 8           |0 ['2', '6', 'R']<br>1 ['A', '9', '8']<br>2 [3, 3, 6]|\n",
    "| AAA BBB               | Invalid item <= 2  |"
   ]
  },
  {
   "cell_type": "code",
   "execution_count": 18,
   "metadata": {},
   "outputs": [
    {
     "name": "stdout",
     "output_type": "stream",
     "text": [
      "Invalid item <= 2\n"
     ]
    }
   ],
   "source": [
    "# ไม่ใช้ list comprehension\n",
    "# x = input().strip().split(' ')\n",
    "x = \"AAA BBB \"\n",
    "x = x.strip().split(' ')\n",
    "\n",
    "if len(x) > 2:\n",
    "    y = x[:int(len(x)//2)]\n",
    "    z = x[int(len(x)//2):]\n",
    "    result = [y, z, [len(y), len(z), len(x)]]\n",
    "\n",
    "    for i, item in enumerate(result):\n",
    "        print(i, item)\n",
    "else:\n",
    "    print('Invalid item <= 2')"
   ]
  }
 ],
 "metadata": {
  "interpreter": {
   "hash": "1f0945ea651c1069c7af037cbbaa82eca29c1e053adfed76f992832db8b6af67"
  },
  "kernelspec": {
   "display_name": "Python 3.9.10 64-bit",
   "language": "python",
   "name": "python3"
  },
  "language_info": {
   "codemirror_mode": {
    "name": "ipython",
    "version": 3
   },
   "file_extension": ".py",
   "mimetype": "text/x-python",
   "name": "python",
   "nbconvert_exporter": "python",
   "pygments_lexer": "ipython3",
   "version": "3.9.10"
  },
  "orig_nbformat": 4
 },
 "nbformat": 4,
 "nbformat_minor": 2
}
