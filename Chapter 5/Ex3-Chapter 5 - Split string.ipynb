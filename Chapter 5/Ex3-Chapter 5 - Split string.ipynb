{
 "cells": [
  {
   "cell_type": "markdown",
   "metadata": {},
   "source": [
    "# Excercise 3 - Split string"
   ]
  },
  {
   "cell_type": "markdown",
   "metadata": {},
   "source": [
    "Input: <br>\n",
    "มีบรรทัดเดียว รับตัวเลขจำนวนเต็ม 4 ตัว คั่นด้วยช่องว่าง ผ่านทาง keyboard <br>\n",
    "\n",
    "Process: <br>\n",
    "ใช้ split สตริงแบ่งข้อมูลแต่ละตัวออกจากกัน\n",
    "และ หาผลรวมของตัวเลขทั้ง 4 โดยไม่ใช้ list comprehension\n",
    "\n",
    "Output:<br>\n",
    "บรรทัดที่ 1 แสดงข้อมูลที่ split และผลรวม \n",
    "\n",
    "Hint:<br>\n",
    "- ใช้ split เพื่แบ่งข้อมูล"
   ]
  },
  {
   "cell_type": "markdown",
   "metadata": {},
   "source": [
    "### ตัวอย่าง\n",
    "|input          |     Output       |\n",
    "|-------        |------------------|\n",
    "| 1 5 9 7 66 10 -8    |['1', '5', '9', '7', '66', '10', '-8'] 90 |\n",
    "| 7 9 8 55 -100 3     |['7', '9', '8', '55', '-100', '3'] -18    |\n",
    "| 0 1 0 1 6 3 8       |['0', '1', '0', '1', '6', '3', '8'] 19    |"
   ]
  },
  {
   "cell_type": "code",
   "execution_count": 3,
   "metadata": {},
   "outputs": [
    {
     "name": "stdout",
     "output_type": "stream",
     "text": [
      "['0', '1', '0', '1', '6', '3', '8'] 19\n"
     ]
    }
   ],
   "source": [
    "# ไม่ใช้ list comprehension\n",
    "x = input().strip().split(' ')\n",
    "\n",
    "total = 0\n",
    "for i in x:\n",
    "    total += int(i)\n",
    "\n",
    "print(x, total)"
   ]
  },
  {
   "cell_type": "code",
   "execution_count": 5,
   "metadata": {},
   "outputs": [
    {
     "name": "stdout",
     "output_type": "stream",
     "text": [
      "['1', '5', '9', '7', '66', '10', '-8'] 90\n"
     ]
    }
   ],
   "source": [
    "# ใช้ list comprehension\n",
    "x = [i for i in input().strip().split(' ')]\n",
    "print(x, sum(int(i) for i in x))"
   ]
  }
 ],
 "metadata": {
  "interpreter": {
   "hash": "1f0945ea651c1069c7af037cbbaa82eca29c1e053adfed76f992832db8b6af67"
  },
  "kernelspec": {
   "display_name": "Python 3.9.10 64-bit",
   "language": "python",
   "name": "python3"
  },
  "language_info": {
   "codemirror_mode": {
    "name": "ipython",
    "version": 3
   },
   "file_extension": ".py",
   "mimetype": "text/x-python",
   "name": "python",
   "nbconvert_exporter": "python",
   "pygments_lexer": "ipython3",
   "version": "3.9.10"
  },
  "orig_nbformat": 4
 },
 "nbformat": 4,
 "nbformat_minor": 2
}
