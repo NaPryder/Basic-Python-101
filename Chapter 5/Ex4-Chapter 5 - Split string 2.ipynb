{
 "cells": [
  {
   "cell_type": "markdown",
   "metadata": {},
   "source": [
    "# Excercise 3 - Split string 2"
   ]
  },
  {
   "cell_type": "markdown",
   "metadata": {},
   "source": [
    "Input: <br>\n",
    "มีบรรทัดเดียว รับข้อความตัวอักษรหรือตัวเลข อย่างน้อย 5 ตัว คั่นด้วยช่องว่าง ผ่านทาง keyboard <br>\n",
    "โดยต้องมีตัวอักษรอย่างน้อย 1 ตัว และ ตัวเลขอย่างน้อย 1 ตัว <br>\n",
    "\n",
    "Process: <br>\n",
    "1. ใช้ split สตริงแบ่งข้อมูลแต่ละตัวออกจากกัน\n",
    "2. หาผลรวมของตัวเลขทั้งหมดในลิสต์ ถ้าเป็นตัวอักษร กำหนดให้ค่าเป็น 0\n",
    "3. หาผลรวมของ item ที่ index เป็นเลขคู่ เริ่มตั้งแต่ 0 ถ้าเป็นตัวอักษร กำหนดให้ค่าเป็น 0\n",
    "4. นับจำนวนตัวอักษร\n",
    "\n",
    "Output:<br>\n",
    "บรรทัดที่ 1 แสดงข้อมูลที่ split<br>\n",
    "บรรทัดที่ 2 แสดงผลรวมของตัวเลขทั้งหมดในลิสต์<br>\n",
    "บรรทัดที่ 3 แสดงผลรวมของ item ที่ index เป็นเลขคู่<br>\n",
    "บรรทัดที่ 4 แสดงผลรวมของจำนวนตัวอักษร<br>\n",
    "\n",
    "Hint:<br>\n",
    "- ใช้ split เพื่แบ่งข้อมูล\n",
    "- ใช้ loop แจกแจงข้อมูลเพื่อ ทำตามเงื่อนไข"
   ]
  },
  {
   "cell_type": "markdown",
   "metadata": {},
   "source": [
    "### ตัวอย่าง\n",
    "|input          |     Output       |\n",
    "|-------        |------------------|\n",
    "| 0 1 2 3 4 A B C         |['0', '1', '2', '3', '4', 'A', 'B', 'C']<br>10<br>6<br>3 |\n",
    "| -55 A 7 11 8 RRR F 3 9  |['-55', 'A', '7', '11', '8', 'RRR', 'F', '3', '9']<br>38<br>24<br>3    |\n",
    "| A B C D E R T Y Z 11    |['A', 'B', 'C', 'D', 'E', 'R', 'T', 'Y', 'Z', '11']<br>11<br>0<br>9   |"
   ]
  },
  {
   "cell_type": "code",
   "execution_count": null,
   "metadata": {},
   "outputs": [],
   "source": [
    "# ไม่ใช้ list comprehension\n",
    "x = input().strip().split(' ')\n",
    "\n",
    "total = 0\n",
    "total_mod2 = 0\n",
    "count_alphabet = 0\n",
    "for i, item in enumerate(x):\n",
    "\n",
    "    if item.isalpha():\n",
    "        count_alphabet += 1\n",
    "    else:\n",
    "        if item.isnumeric():\n",
    "            total += int(item)\n",
    "\n",
    "    if i%2 == 0:\n",
    "        if item.isnumeric():\n",
    "            total_mod2 += int(item)\n",
    "\n",
    "print(x)\n",
    "print(total)\n",
    "print(total_mod2)\n",
    "print(count_alphabet)"
   ]
  },
  {
   "cell_type": "code",
   "execution_count": null,
   "metadata": {},
   "outputs": [],
   "source": [
    "# ใช้ list comprehension\n",
    "x = '0 1 2 3 4 A B C   '\n",
    "x = x.split(' ')\n",
    "total = sum([int(i) if i.isnumeric() else 0 for i in x])\n",
    "total_mod2 = sum([int(i) if i.isnumeric() else 0 for i in x[::2]])\n",
    "count_alphabet = sum([1 for i in x if str(i).isalpha()])\n",
    "\n",
    "print(x)\n",
    "print(total)\n",
    "print(total_mod2)\n",
    "print(count_alphabet)"
   ]
  }
 ],
 "metadata": {
  "interpreter": {
   "hash": "1f0945ea651c1069c7af037cbbaa82eca29c1e053adfed76f992832db8b6af67"
  },
  "kernelspec": {
   "display_name": "Python 3.9.10 64-bit",
   "language": "python",
   "name": "python3"
  },
  "language_info": {
   "codemirror_mode": {
    "name": "ipython",
    "version": 3
   },
   "file_extension": ".py",
   "mimetype": "text/x-python",
   "name": "python",
   "nbconvert_exporter": "python",
   "pygments_lexer": "ipython3",
   "version": "3.9.10"
  },
  "orig_nbformat": 4
 },
 "nbformat": 4,
 "nbformat_minor": 2
}
