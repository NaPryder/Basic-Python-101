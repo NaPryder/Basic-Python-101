{
 "cells": [
  {
   "cell_type": "markdown",
   "metadata": {},
   "source": [
    "# Excercise 2 - Count item"
   ]
  },
  {
   "cell_type": "markdown",
   "metadata": {},
   "source": [
    "กำหนดให้ x = [1, -2, 1, 5, -6, '10', 'A', 'R', 'E', 0, 8, 7, '-88', '100', 55]  <br>\n",
    "นับจำนวน item ตามเงื่อนไข\n",
    "1. นับจำนวน item ที่มีค่าน้อยกว่า 0 เก็บไว้ในลิสต์ a\n",
    "2. นับจำนวน item ที่มีค่ามากกว่า 2 เก็บไว้ในลิสต์ b\n",
    "3. นับจำนวน item ที่มีเป็นสตริง เก็บไว้ในลิสต์ c\n",
    "\n",
    "Output:<br>\n",
    "บรรทัดที่ 1 แสดง a และจำนวนสมาชิกในลิสต์ a<br>\n",
    "บรรทัดที่ 2 แสดง b และจำนวนสมาชิกในลิสต์ b<br>\n",
    "บรรทัดที่ 3 แสดง c และจำนวนสมาชิกในลิสต์ c<br>\n",
    "\n",
    "Hint:<br>\n",
    "- ใช้ loop ในการแจกแจง item จากลิสต์\n",
    "- เช็ค data type โดย type(item) == str"
   ]
  },
  {
   "cell_type": "markdown",
   "metadata": {},
   "source": [
    "### ตัวอย่าง\n",
    "|input          |     Output       |\n",
    "|-------        |------------------|\n",
    "| ไม่มี input     |[-2, -6] 2<br>[5, 8, 7, 55] 4<br>['10', 'A', 'R', 'E', '-88', '100'] 6 |"
   ]
  },
  {
   "cell_type": "code",
   "execution_count": 2,
   "metadata": {},
   "outputs": [
    {
     "name": "stdout",
     "output_type": "stream",
     "text": [
      "[-2, -6] 2\n",
      "[5, 8, 7, 55] 4\n",
      "['10', 'A', 'R', 'E', '-88', '100'] 6\n"
     ]
    }
   ],
   "source": [
    "x = [1, -2, 1, 5, -6, '10', 'A', 'R', 'E', 0, 8, 7, '-88', '100', 55] \n",
    "a = []\n",
    "b = []\n",
    "c = []\n",
    "\n",
    "for item in x:\n",
    "    if type(item) == str:\n",
    "        c.append(item)\n",
    "    elif item < 0:\n",
    "        a.append(item)\n",
    "    elif item > 2:\n",
    "        b.append(item)\n",
    "\n",
    "print(a, len(a))\n",
    "print(b, len(b))\n",
    "print(c, len(c))"
   ]
  }
 ],
 "metadata": {
  "interpreter": {
   "hash": "1f0945ea651c1069c7af037cbbaa82eca29c1e053adfed76f992832db8b6af67"
  },
  "kernelspec": {
   "display_name": "Python 3.9.10 64-bit",
   "language": "python",
   "name": "python3"
  },
  "language_info": {
   "codemirror_mode": {
    "name": "ipython",
    "version": 3
   },
   "file_extension": ".py",
   "mimetype": "text/x-python",
   "name": "python",
   "nbconvert_exporter": "python",
   "pygments_lexer": "ipython3",
   "version": "3.9.10"
  },
  "orig_nbformat": 4
 },
 "nbformat": 4,
 "nbformat_minor": 2
}
