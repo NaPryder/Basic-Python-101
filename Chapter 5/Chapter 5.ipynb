{
 "cells": [
  {
   "cell_type": "markdown",
   "metadata": {},
   "source": [
    "# Basic Python \n",
    "\n",
    "## Chapter 5 - List"
   ]
  },
  {
   "cell_type": "markdown",
   "metadata": {},
   "source": [
    "### List\n",
    "\n",
    "List คือรายการ เป็นกลุ่มของข้อมูลที่มีลำดับ แต่ละตัวมีเลข index บ่งบอกลำดับ <br>\n",
    "เริ่มนับ 0 จากตัวแรก (ตัวซ้ายสุด) <br>\n",
    "\n",
    "#### Changeable\n",
    "list สามารถเปลี่ยนแปลงค่าได้ โดยการ เพิ่ม, ลบ, แก้ไข item\n",
    "\n",
    "#### Allow Duplicate\n",
    "list สามารถมี item ที่ซ้ำกันได้\n",
    "\n",
    "\n",
    "การสร้าง list ทำได้ 2 แบบ คือ\n",
    "```python\n",
    "x = list()\n",
    "```\n",
    "หรือ\n",
    "```python\n",
    "x = []\n",
    "```\n",
    "\n",
    "จะได้ลิสต์ว่างๆ"
   ]
  },
  {
   "cell_type": "markdown",
   "metadata": {},
   "source": [
    "### ตรวจสอบจำนวน item ใน List\n",
    "ใช้คำสั่ง `len()` ตรวจสอบจำนวน item ในลิสต์ ดังนี้\n",
    "```python\n",
    "len(x)\n",
    "```"
   ]
  },
  {
   "cell_type": "code",
   "execution_count": 1,
   "metadata": {},
   "outputs": [
    {
     "name": "stdout",
     "output_type": "stream",
     "text": [
      "[]\n",
      "0\n"
     ]
    }
   ],
   "source": [
    "# create list \n",
    "x = []\n",
    "print(x)\n",
    "print(len(x))"
   ]
  },
  {
   "cell_type": "code",
   "execution_count": 2,
   "metadata": {},
   "outputs": [
    {
     "name": "stdout",
     "output_type": "stream",
     "text": [
      "[]\n",
      "0\n"
     ]
    }
   ],
   "source": [
    "# create list\n",
    "x = list()\n",
    "print(x)\n",
    "print(len(x))"
   ]
  },
  {
   "cell_type": "code",
   "execution_count": 3,
   "metadata": {},
   "outputs": [
    {
     "name": "stdout",
     "output_type": "stream",
     "text": [
      "['apple', 'banana', 'mango']\n",
      "3\n"
     ]
    }
   ],
   "source": [
    "x = ['apple', 'banana', 'mango']\n",
    "print(x)\n",
    "print(len(x))"
   ]
  },
  {
   "cell_type": "markdown",
   "metadata": {},
   "source": [
    "### การดำเนินการกับ List"
   ]
  },
  {
   "cell_type": "markdown",
   "metadata": {},
   "source": [
    "#### การบวก\n",
    "ใช้เพื่อต่อ list "
   ]
  },
  {
   "cell_type": "code",
   "execution_count": 1,
   "metadata": {},
   "outputs": [
    {
     "name": "stdout",
     "output_type": "stream",
     "text": [
      "[1, 2, 3, 'A', 'B', 'C']\n"
     ]
    }
   ],
   "source": [
    "x = [1, 2, 3]\n",
    "y = ['A', 'B', 'C']\n",
    "\n",
    "z = x+y\n",
    "print(z)"
   ]
  },
  {
   "cell_type": "markdown",
   "metadata": {},
   "source": [
    "#### การคูณ\n",
    "ใช้เพื่อบวก list หลายๆครั้ง "
   ]
  },
  {
   "cell_type": "code",
   "execution_count": 5,
   "metadata": {},
   "outputs": [
    {
     "name": "stdout",
     "output_type": "stream",
     "text": [
      "[1, 2, 3, 1, 2, 3, 1, 2, 3, 1, 2, 3, 1, 2, 3]\n"
     ]
    }
   ],
   "source": [
    "x = [1, 2, 3] * 5\n",
    "print(x)"
   ]
  },
  {
   "cell_type": "markdown",
   "metadata": {},
   "source": [
    "#### การนับ index ของ List\n",
    "\n",
    "จะเริ่มนับจาก item ตัวแรก (ซ้ายสุด) นับเริ่มที่ 0 เช่น\n",
    "\n",
    "```python\n",
    "a = 88\n",
    "x =  ['AAA', 'BBB', 'C C', 1, 2.5, [0, 0] , \"\", a]\n",
    "```\n",
    "\n",
    "กระจาย item แต่ละตัวได้ดังนี้\n",
    "\n",
    "|item      | Type   |  Index       |Negative Index       |\n",
    "|-------   |--------|--------------|----------|\n",
    "| `'AAA'`  |  _str_ | 0            | -8   |\n",
    "| `'BBB'`  |  _str_ | 1            | -7   |\n",
    "| `\"C C\"`  |  _str_ | 2            | -6   |\n",
    "| `1`      |  _int_ | 3            | -4   |   \n",
    "| `2.5`    | _float_| 4            | -5   |\n",
    "| `[0, 0]` | _list_ | 5            | -3   |\n",
    "| `\"\"`     | _str_  | 6             | -2   |\n",
    "| `88`     | _int_  | 7             | -1   |\n",
    "\n",
    "*จุดสังเกต 1 มี item ทั้งหมด 8 ตัว แต่ index ตัวสุดท้ายเท่ากับ 7 เพราะว่านับเริ่มที่ 0* <br>\n",
    "*จุดสังเกต 2 สามารถเก็บ item type อะไรก็ได้*"
   ]
  },
  {
   "cell_type": "markdown",
   "metadata": {},
   "source": [
    "### การเข้าถึง item ใน list\n",
    "\n",
    "สามารถเข้าถึง item ในลิสต์ได้โดยการระบุ index\n",
    "```python\n",
    "x = ['A', 'B', 'C']\n",
    "```\n",
    "สามารถเข้าถึง `'A'` ได้ด้วย `x[0]`"
   ]
  },
  {
   "cell_type": "code",
   "execution_count": 6,
   "metadata": {},
   "outputs": [
    {
     "name": "stdout",
     "output_type": "stream",
     "text": [
      "AAA <class 'str'>\n",
      "BBB <class 'str'>\n",
      "C C <class 'str'>\n",
      "1 <class 'int'>\n",
      "2.5 <class 'float'>\n",
      "[0, 0] <class 'list'>\n"
     ]
    }
   ],
   "source": [
    "x = ['AAA', 'BBB', 'C C', 1, 2.5, [0, 0] ]\n",
    "\n",
    "print(x[0], type(x[0]))\n",
    "print(x[1], type(x[1]))\n",
    "print(x[2], type(x[2]))\n",
    "print(x[3], type(x[3]))\n",
    "print(x[4], type(x[4]))\n",
    "print(x[5], type(x[5]))"
   ]
  },
  {
   "cell_type": "code",
   "execution_count": null,
   "metadata": {},
   "outputs": [],
   "source": [
    "x = ['AAA', 'BBB', 'C C', 1, 2.5, [0, 0] ]\n",
    "\n",
    "print(x[-6], type(x[-6]))\n",
    "print(x[-5], type(x[-5]))\n",
    "print(x[-4], type(x[-4]))\n",
    "print(x[-3], type(x[-3]))\n",
    "print(x[-2], type(x[-2]))\n",
    "print(x[-1], type(x[-1]))"
   ]
  },
  {
   "cell_type": "markdown",
   "metadata": {},
   "source": [
    "#### การเข้าถึง กลุ่มของ list\n",
    "\n",
    "ใช้วิธีการเดียวกับ slice string \n",
    "```python\n",
    "x = ['A', 'B', 'C']\n",
    "```\n",
    "สามารถเข้าถึง `['A', 'B']` ได้ด้วย `x[0:2]`"
   ]
  },
  {
   "cell_type": "code",
   "execution_count": 7,
   "metadata": {},
   "outputs": [
    {
     "name": "stdout",
     "output_type": "stream",
     "text": [
      "['AAA', 'BBB', 'C C'] <class 'list'>\n",
      "['AAA', 'BBB', 'C C'] <class 'list'>\n",
      "[1, 2.5, [0, 0]] <class 'list'>\n"
     ]
    }
   ],
   "source": [
    "x = ['AAA', 'BBB', 'C C', 1, 2.5, [0, 0] ]\n",
    "\n",
    "print(x[0:3], type(x[0:3]))     # เอา item ที่ 0 1 2\n",
    "print(x[:3], type(x[0:3]))     # เอา item ที่ 0 1 2\n",
    "print(x[3:], type(x[3:]))     # เอา item ที่ 0 1 2\n"
   ]
  },
  {
   "cell_type": "markdown",
   "metadata": {},
   "source": [
    "#### การเปลี่ยนค่าใน list\n",
    "\n",
    "สามารถเปลี่ยนค่า item ใน list ได้โดย assign index ของ item ที่ต้องการเปลี่ยน เช่น\n",
    "```python\n",
    "x = ['A', 'B', 'C']\n",
    "```\n",
    "ต้องการเปลี่ยน `'A'` เป็น `'T'` ทำได้โดย\n",
    "```python\n",
    "x[0] = 'T'\n",
    "```"
   ]
  },
  {
   "cell_type": "code",
   "execution_count": 2,
   "metadata": {},
   "outputs": [
    {
     "name": "stdout",
     "output_type": "stream",
     "text": [
      "['AAA', 'BBB', 'C C', 1, 2.5, [0, 0]]\n",
      "['T', 'BBB', 'C C', 1, 2.5, [0, 0]]\n"
     ]
    }
   ],
   "source": [
    "# Change item value\n",
    "x = ['AAA', 'BBB', 'C C', 1, 2.5, [0, 0] ]\n",
    "print(x)\n",
    "x[0] = 'T'\n",
    "print(x)"
   ]
  },
  {
   "cell_type": "code",
   "execution_count": 9,
   "metadata": {},
   "outputs": [
    {
     "name": "stdout",
     "output_type": "stream",
     "text": [
      "['AAA', 'BBB', 'C C', 1, 2.5, [0, 0]]\n",
      "['AAA', 'BBB', 'C C', 1, 2.5, 123456789]\n"
     ]
    }
   ],
   "source": [
    "# Change item value\n",
    "x = ['AAA', 'BBB', 'C C', 1, 2.5, [0, 0] ]\n",
    "print(x)\n",
    "x[-1] = 123456789\n",
    "print(x)"
   ]
  },
  {
   "cell_type": "code",
   "execution_count": 4,
   "metadata": {},
   "outputs": [
    {
     "name": "stdout",
     "output_type": "stream",
     "text": [
      "['AAA', 'BBB']\n",
      "[12345678, 'C C', 1, 2.5, [0, 0]]\n"
     ]
    }
   ],
   "source": [
    "# Change item value\n",
    "x = ['AAA', 'BBB', 'C C', 1, 2.5, [0, 0] ]\n",
    "print(x[0:2])\n",
    "x[0:2] = [12345678]\n",
    "print(x)"
   ]
  },
  {
   "cell_type": "code",
   "execution_count": 6,
   "metadata": {},
   "outputs": [
    {
     "name": "stdout",
     "output_type": "stream",
     "text": [
      "['AAA', 'BBB']\n",
      "[123456789, 'C C', 1, 2.5, [0, 0]]\n",
      "[123456789, 'C C', 1, 2.5, [0, 0], 'sss']\n"
     ]
    }
   ],
   "source": [
    "# Change item value\n",
    "x = ['AAA', 'BBB', 'C C', 1, 2.5, [0, 0] ]\n",
    "print(x[0:2])\n",
    "x[0:2] = [123456789]\n",
    "print(x)\n",
    " "
   ]
  },
  {
   "cell_type": "code",
   "execution_count": null,
   "metadata": {},
   "outputs": [],
   "source": [
    "# Change item value\n",
    "x = ['AAA', 'BBB', 'C C', 1, 2.5, [0, 0] ]\n",
    "x[0:3] = [123456789]\n",
    "print(x)"
   ]
  },
  {
   "cell_type": "markdown",
   "metadata": {},
   "source": [
    "### การสลับตำแหน่งค่าใน list\n",
    "\n",
    "```python\n",
    "x = ['A', 'B', 'C']\n",
    "```\n",
    "\n",
    "ต้องการสลับค่า 'A' กับ 'B' ให้ได้แบบนี้\n",
    "```python\n",
    "x = ['B', 'A', 'C']\n",
    "```\n",
    "\n",
    "ทำได้โดย การกำหนดตัวแปรหลายค่า (multiple assign)\n",
    "```python\n",
    "x[0] , x[1] = x[1] , x[0]\n",
    "```\n",
    "\n",
    "คือ  <br>\n",
    "นำ x[1] ทางขวาไปเก็บไว้ใน x[0] ทางซ้าย พร้อมกับ <br>\n",
    "\n",
    "นำ x[0] ทางขวาไปเก็บไว้ใน x[1] ทางซ้าย \n"
   ]
  },
  {
   "cell_type": "code",
   "execution_count": 10,
   "metadata": {},
   "outputs": [
    {
     "name": "stdout",
     "output_type": "stream",
     "text": [
      "['A', 'B', 'C', 'Z']\n",
      "['B', 'C', 'C', 'Z']\n"
     ]
    }
   ],
   "source": [
    "# multiple assign\n",
    "\n",
    "x = ['A', 'B', 'C', 'Z']\n",
    "print(x)\n",
    "\n",
    "x[0], x[1] = x[1], x[0] \n",
    "# x = [x[-1]] + x[:-1]\n",
    "print(x)"
   ]
  },
  {
   "cell_type": "code",
   "execution_count": 11,
   "metadata": {},
   "outputs": [
    {
     "name": "stdout",
     "output_type": "stream",
     "text": [
      "['B', 'A', 'C']\n"
     ]
    }
   ],
   "source": [
    "# ถ้าไม่ใช้ multiple assign\n",
    "\n",
    "x = ['A', 'B', 'C']\n",
    "dummy = x[0]        # กำหนดตัวแปรมารับค่า x[0] ก่อน\n",
    "x[0] = x[1]         # กำหนดค่า x[0] ใหม่ ให้เท่้ากับ x[1]\n",
    "x[1] = dummy        # กำหนดค่า x[1] ใหม่ ให้เท่้ากับ dummy\n",
    "print(x)"
   ]
  },
  {
   "cell_type": "markdown",
   "metadata": {},
   "source": [
    "### List Method\n",
    "\n",
    "แนะนำ Build-in function ของ list\n",
    "\n",
    "1. `Append` ใช้เพิ่ม item ลงไปในลิสต์ต่อจาก item สุดท้าย\n",
    "2. `Insert` ใช้แทรก item ลงไปในลิสต์ในตำแหน่งที่กำหนด\n",
    "3. `Extend` ใช้เพิ่ม item ของ sequence อื่น ลงไปในลิสต์ที่กำหนด\n",
    "4. `Remove` ใช้ remove item ในลิสต์\n",
    "5. `Pop` ใช้ remove index ในลิสต์\n",
    "6. `Delete` ใช้ลบตัวแปรออกจากระบบ\n",
    "7. `Clear` remove ทุก item ใน list\n",
    "8. `Copy` copy item ทุกตัวในลิสต์ \n",
    "9. `Count` หาจำนวนของ item ในลิสต์\n",
    "10. `Index` หา index ที่น้อยที่สุดของ item ที่ต้องการในลิสต์\n",
    "11. `Reverse` เรียงค่า index ในลิสต์จากตัวสุดท้ายถึงตัวแรก (ไม่ return ค่ากลับมา)\n",
    "12. `Sort` เรียงลำดับ item จากน้อยไปมาก (ไม่ return ค่ากลับมา)\n"
   ]
  },
  {
   "cell_type": "code",
   "execution_count": 12,
   "metadata": {},
   "outputs": [
    {
     "name": "stdout",
     "output_type": "stream",
     "text": [
      "['apple', 'banana', 'cherry', 'orange', 123]\n"
     ]
    }
   ],
   "source": [
    "# append\n",
    "\n",
    "x = [\"apple\", \"banana\", \"cherry\"]\n",
    "x.append(\"orange\")\n",
    "x.append(123)\n",
    "print(x)"
   ]
  },
  {
   "cell_type": "code",
   "execution_count": 14,
   "metadata": {},
   "outputs": [
    {
     "name": "stdout",
     "output_type": "stream",
     "text": [
      "['apple', 'banana', 'orange', 'cherry']\n"
     ]
    }
   ],
   "source": [
    "# insert\n",
    "\n",
    "x = [\"apple\", \"banana\", \"cherry\"]\n",
    "x.insert(1, \"orange\")\n",
    "print(x)"
   ]
  },
  {
   "cell_type": "code",
   "execution_count": 15,
   "metadata": {},
   "outputs": [
    {
     "name": "stdout",
     "output_type": "stream",
     "text": [
      "['apple', 'banana', 'cherry', 'mango', 'pineapple', 'papaya']\n"
     ]
    }
   ],
   "source": [
    "# extend\n",
    "\n",
    "x = [\"apple\", \"banana\", \"cherry\"]\n",
    "list_2 = [\"mango\", \"pineapple\", \"papaya\"]\n",
    "x.extend(list_2)\n",
    "print(x)"
   ]
  },
  {
   "cell_type": "code",
   "execution_count": 18,
   "metadata": {},
   "outputs": [
    {
     "name": "stdout",
     "output_type": "stream",
     "text": [
      "['apple', 'banana', 'cherry', 'kiwi', 'orange']\n"
     ]
    }
   ],
   "source": [
    "# extend\n",
    "\n",
    "x = [\"apple\", \"banana\", \"cherry\"]\n",
    "tuple_A = (\"kiwi\", \"orange\")\n",
    "x.extend(tuple_A)\n",
    "print(x)\n",
    "\n"
   ]
  },
  {
   "cell_type": "code",
   "execution_count": 21,
   "metadata": {},
   "outputs": [
    {
     "name": "stdout",
     "output_type": "stream",
     "text": [
      "['apple', 'cherry']\n"
     ]
    }
   ],
   "source": [
    "# remove\n",
    "\n",
    "x = [\"apple\", \"banana\", \"cherry\"]\n",
    "x.remove(\"banana\")\n",
    "print(x)"
   ]
  },
  {
   "cell_type": "code",
   "execution_count": 22,
   "metadata": {},
   "outputs": [
    {
     "name": "stdout",
     "output_type": "stream",
     "text": [
      "['apple', 'cherry']\n"
     ]
    }
   ],
   "source": [
    "# pop แบบใส่ parameter\n",
    "\n",
    "x = [\"apple\", \"banana\", \"cherry\"]\n",
    "x.pop(1)    # remove index 1\n",
    "print(x)"
   ]
  },
  {
   "cell_type": "code",
   "execution_count": 23,
   "metadata": {},
   "outputs": [
    {
     "name": "stdout",
     "output_type": "stream",
     "text": [
      "['apple', 'banana']\n"
     ]
    }
   ],
   "source": [
    "# pop แบบไม่ใส่ parameter\n",
    "\n",
    "x = [\"apple\", \"banana\", \"cherry\"]\n",
    "x.pop()    # remove index สุดท้าย\n",
    "print(x)"
   ]
  },
  {
   "cell_type": "code",
   "execution_count": 24,
   "metadata": {},
   "outputs": [
    {
     "name": "stdout",
     "output_type": "stream",
     "text": [
      "['apple', 'banana']\n"
     ]
    }
   ],
   "source": [
    "# delete item\n",
    "\n",
    "x = [\"apple\", \"banana\", \"cherry\"]\n",
    "del x[2]\n",
    "print(x)"
   ]
  },
  {
   "cell_type": "code",
   "execution_count": 25,
   "metadata": {},
   "outputs": [
    {
     "ename": "NameError",
     "evalue": "name 'x' is not defined",
     "output_type": "error",
     "traceback": [
      "\u001b[1;31m---------------------------------------------------------------------------\u001b[0m",
      "\u001b[1;31mNameError\u001b[0m                                 Traceback (most recent call last)",
      "Cell \u001b[1;32mIn[25], line 5\u001b[0m\n\u001b[0;32m      3\u001b[0m x \u001b[39m=\u001b[39m [\u001b[39m\"\u001b[39m\u001b[39mapple\u001b[39m\u001b[39m\"\u001b[39m, \u001b[39m\"\u001b[39m\u001b[39mbanana\u001b[39m\u001b[39m\"\u001b[39m, \u001b[39m\"\u001b[39m\u001b[39mcherry\u001b[39m\u001b[39m\"\u001b[39m]\n\u001b[0;32m      4\u001b[0m \u001b[39mdel\u001b[39;00m x\n\u001b[1;32m----> 5\u001b[0m \u001b[39mprint\u001b[39m(x)\n",
      "\u001b[1;31mNameError\u001b[0m: name 'x' is not defined"
     ]
    }
   ],
   "source": [
    "# delete variable\n",
    "\n",
    "x = [\"apple\", \"banana\", \"cherry\"]\n",
    "del x\n",
    "print(x)"
   ]
  },
  {
   "cell_type": "code",
   "execution_count": 27,
   "metadata": {},
   "outputs": [
    {
     "name": "stdout",
     "output_type": "stream",
     "text": [
      "[]\n"
     ]
    }
   ],
   "source": [
    "# clear\n",
    "\n",
    "x = [\"apple\", \"banana\", \"cherry\"]\n",
    "x.clear()\n",
    "print(x)"
   ]
  },
  {
   "cell_type": "code",
   "execution_count": 28,
   "metadata": {},
   "outputs": [
    {
     "name": "stdout",
     "output_type": "stream",
     "text": [
      "['apple', 'banana', 'cherry'] 1826023214336\n",
      "['apple', 'banana', 'cherry'] 1826023211520\n"
     ]
    }
   ],
   "source": [
    "# copy\n",
    "\n",
    "x = [\"apple\", \"banana\", \"cherry\"]\n",
    "\n",
    "new_list = x.copy()\n",
    "\n",
    "print(x, id(x))\n",
    "print(new_list, id(new_list))"
   ]
  },
  {
   "cell_type": "code",
   "execution_count": 30,
   "metadata": {},
   "outputs": [
    {
     "name": "stdout",
     "output_type": "stream",
     "text": [
      "x = ['apple', ['000'], 'cherry'] 1826023630400\n",
      "y = ['apple', ['000'], 'cherry'] 1826023630400\n",
      "a = ['apple', 'banana', 'cherry'] 1826023223040\n"
     ]
    }
   ],
   "source": [
    "# copy vs. assign\n",
    "\n",
    "x = [\"apple\", \"banana\", \"cherry\"]\n",
    "y = x           \n",
    "a = x.copy()\n",
    "\n",
    "\n",
    "print(\"x =\", x, id(x))\n",
    "print(\"y =\", y, id(y))\n",
    "print(\"a =\", a, id(a))"
   ]
  },
  {
   "cell_type": "code",
   "execution_count": null,
   "metadata": {},
   "outputs": [],
   "source": [
    "# copy vs. assign\n",
    "\n",
    "x = [\"apple\", \"banana\", \"cherry\"]\n",
    "y = x           \n",
    "a = x.copy()\n",
    "\n",
    "y[0] = 1\n",
    "x[1] = 5555\n",
    "\n",
    "print(\"x =\", x, id(x))\n",
    "print(\"y =\", y, id(y))\n",
    "print(\"a =\", a, id(a))"
   ]
  },
  {
   "cell_type": "code",
   "execution_count": 33,
   "metadata": {},
   "outputs": [
    {
     "name": "stdout",
     "output_type": "stream",
     "text": [
      "0\n"
     ]
    }
   ],
   "source": [
    "# count\n",
    "\n",
    "x = [\"A\", \"B\", \"B\", \"C\", \"D\"]\n",
    "a = x.count('A')\n",
    "print(a)"
   ]
  },
  {
   "cell_type": "code",
   "execution_count": 31,
   "metadata": {},
   "outputs": [
    {
     "name": "stdout",
     "output_type": "stream",
     "text": [
      "0\n",
      "3\n"
     ]
    }
   ],
   "source": [
    "# count\n",
    "\n",
    "x = [1, 1, 1, 2, 3, 4, 5]\n",
    "a = x.count('B')\n",
    "b = x.count(1)\n",
    "print(a)\n",
    "print(b)"
   ]
  },
  {
   "cell_type": "code",
   "execution_count": 34,
   "metadata": {},
   "outputs": [
    {
     "name": "stdout",
     "output_type": "stream",
     "text": [
      "0\n"
     ]
    }
   ],
   "source": [
    "# index\n",
    "\n",
    "x = [1, 1, 1, 2, 3, 4, 5]\n",
    "\n",
    "print(x.index(1))"
   ]
  },
  {
   "cell_type": "code",
   "execution_count": null,
   "metadata": {},
   "outputs": [],
   "source": [
    "# index\n",
    "\n",
    "x = [\"A\", \"B\", \"B\", \"C\", \"D\"]\n",
    "\n",
    "print(x.index(\"C\"))"
   ]
  },
  {
   "cell_type": "code",
   "execution_count": null,
   "metadata": {},
   "outputs": [],
   "source": [
    "# index กรณีไม่มี item ที่ต้องการ จะ error\n",
    "\n",
    "x = [\"A\", \"B\", \"B\", \"C\", \"D\"]\n",
    "a = x.index(\"A\")\n",
    "print(a)"
   ]
  },
  {
   "cell_type": "code",
   "execution_count": 35,
   "metadata": {},
   "outputs": [
    {
     "name": "stdout",
     "output_type": "stream",
     "text": [
      "[11, 19, 51, 12, 0, -3, 1, 4, 15, 6, 9]\n",
      "[9, 6, 15, 4, 1, -3, 0, 12, 51, 19, 11]\n"
     ]
    }
   ],
   "source": [
    "# reverse\n",
    "\n",
    "x = [11, 19, 51, 12, 0, -3, 1, 4, 15, 6, 9]\n",
    "print(x)\n",
    "\n",
    "x.reverse()\n",
    "print(x)"
   ]
  },
  {
   "cell_type": "code",
   "execution_count": 36,
   "metadata": {},
   "outputs": [
    {
     "name": "stdout",
     "output_type": "stream",
     "text": [
      "[-3, 0, 1, 4, 6, 9, 11, 12, 15, 19, 51]\n"
     ]
    }
   ],
   "source": [
    "# sort จะไม่ return ค่ากลับมา \n",
    "\n",
    "x = [11, 19, 51, 12, 0, -3, 1, 4, 15, 6, 9]\n",
    "x.sort()    \n",
    "print(x)"
   ]
  },
  {
   "cell_type": "code",
   "execution_count": 37,
   "metadata": {},
   "outputs": [
    {
     "name": "stdout",
     "output_type": "stream",
     "text": [
      "['0', '1', '2', '3', 'A', 'AAAA', 'B', 'CC', 'Z', 'a', 'b', 'cc', 'ก', 'ข', 'ด', 'า']\n"
     ]
    }
   ],
   "source": [
    "# sort จะไม่ return ค่ากลับมา \n",
    "\n",
    "x = ['A', 'a', 'b', 'B', 'CC', 'cc', 'ก', 'า', 'ด', 'ข', '0', '1', '2', '3', 'Z', 'AAAA']\n",
    "x.sort()    \n",
    "print(x)"
   ]
  },
  {
   "cell_type": "code",
   "execution_count": 38,
   "metadata": {},
   "outputs": [
    {
     "ename": "TypeError",
     "evalue": "'<' not supported between instances of 'int' and 'str'",
     "output_type": "error",
     "traceback": [
      "\u001b[1;31m---------------------------------------------------------------------------\u001b[0m",
      "\u001b[1;31mTypeError\u001b[0m                                 Traceback (most recent call last)",
      "Cell \u001b[1;32mIn[38], line 4\u001b[0m\n\u001b[0;32m      1\u001b[0m \u001b[39m# sort จะไม่ return ค่ากลับมา \u001b[39;00m\n\u001b[0;32m      3\u001b[0m x \u001b[39m=\u001b[39m [\u001b[39m'\u001b[39m\u001b[39mA\u001b[39m\u001b[39m'\u001b[39m, \u001b[39m'\u001b[39m\u001b[39ma\u001b[39m\u001b[39m'\u001b[39m, \u001b[39m'\u001b[39m\u001b[39mb\u001b[39m\u001b[39m'\u001b[39m, \u001b[39m'\u001b[39m\u001b[39mB\u001b[39m\u001b[39m'\u001b[39m, \u001b[39m'\u001b[39m\u001b[39mCC\u001b[39m\u001b[39m'\u001b[39m, \u001b[39m'\u001b[39m\u001b[39mcc\u001b[39m\u001b[39m'\u001b[39m, \u001b[39m'\u001b[39m\u001b[39mก\u001b[39m\u001b[39m'\u001b[39m, \u001b[39m'\u001b[39m\u001b[39mา\u001b[39m\u001b[39m'\u001b[39m, \u001b[39m'\u001b[39m\u001b[39mด\u001b[39m\u001b[39m'\u001b[39m, \u001b[39m'\u001b[39m\u001b[39mข\u001b[39m\u001b[39m'\u001b[39m, \u001b[39m'\u001b[39m\u001b[39m0\u001b[39m\u001b[39m'\u001b[39m, \u001b[39m'\u001b[39m\u001b[39m1\u001b[39m\u001b[39m'\u001b[39m, \u001b[39m'\u001b[39m\u001b[39m2\u001b[39m\u001b[39m'\u001b[39m, \u001b[39m'\u001b[39m\u001b[39m3\u001b[39m\u001b[39m'\u001b[39m, \u001b[39m'\u001b[39m\u001b[39mZ\u001b[39m\u001b[39m'\u001b[39m, \u001b[39m'\u001b[39m\u001b[39mAAAA\u001b[39m\u001b[39m'\u001b[39m, \u001b[39m11\u001b[39m, \u001b[39m19\u001b[39m, \u001b[39m51\u001b[39m, \u001b[39m12\u001b[39m, \u001b[39m0\u001b[39m, \u001b[39m-\u001b[39m\u001b[39m3\u001b[39m, \u001b[39m1\u001b[39m, \u001b[39m4\u001b[39m, \u001b[39m15\u001b[39m, \u001b[39m6\u001b[39m, \u001b[39m9\u001b[39m]\n\u001b[1;32m----> 4\u001b[0m x\u001b[39m.\u001b[39;49msort()    \n\u001b[0;32m      5\u001b[0m \u001b[39mprint\u001b[39m(x)\n",
      "\u001b[1;31mTypeError\u001b[0m: '<' not supported between instances of 'int' and 'str'"
     ]
    }
   ],
   "source": [
    "# sort จะไม่ return ค่ากลับมา \n",
    "\n",
    "x = ['A', 'a', 'b', 'B', 'CC', 'cc', 'ก', 'า', 'ด', 'ข', '0', '1', '2', '3', 'Z', 'AAAA', 11, 19, 51, 12, 0, -3, 1, 4, 15, 6, 9]\n",
    "x.sort()    \n",
    "print(x)"
   ]
  },
  {
   "cell_type": "markdown",
   "metadata": {},
   "source": [
    "### Function ที่ใช้บ่อย\n",
    "1. `Sorted` return ลิสต์ใหม่ ที่เรียงลำดับจากน้อยไปมาก (ลิสต์ตั้งต้นจะไม่เปลี่ยนแปลงค่า) \n",
    "2. `Sum`  return ผลรวมของจำนวนในลิสต์\n",
    "3. `Max`  return ค่ามากที่สุดของจำนวนในลิสต์\n",
    "4. `Min`  return ค่าน้อยที่สุดของจำนวนในลิสต์"
   ]
  },
  {
   "cell_type": "code",
   "execution_count": 39,
   "metadata": {},
   "outputs": [
    {
     "name": "stdout",
     "output_type": "stream",
     "text": [
      "[11, 19, 51, 12, 0, -3, 1, 4, 15, 6, 9]\n",
      "[-3, 0, 1, 4, 6, 9, 11, 12, 15, 19, 51]\n"
     ]
    }
   ],
   "source": [
    "# sorted จะ return ค่ากลับมา \n",
    "\n",
    "x = [11, 19, 51, 12, 0, -3, 1, 4, 15, 6, 9]\n",
    "a = sorted(x)    \n",
    "print(x)\n",
    "print(a)"
   ]
  },
  {
   "cell_type": "code",
   "execution_count": 45,
   "metadata": {},
   "outputs": [
    {
     "name": "stdout",
     "output_type": "stream",
     "text": [
      "['A', 'a', 'b', 'B', 'CC', 'cc', 'ก', 'า', 'ด', 'ข', '0', '1', '2', '3', 'Z', 'AAAA']\n",
      "['0', '1', '2', '3', 'A', 'AAAA', 'B', 'CC', 'Z', 'a', 'b', 'cc', 'ก', 'ข', 'ด', 'า']\n"
     ]
    }
   ],
   "source": [
    "# sort จะไม่ return ค่ากลับมา \n",
    "\n",
    "x = ['A', 'a', 'b', 'B', 'CC', 'cc', 'ก', 'า', 'ด', 'ข', '0', '1', '2', '3', 'Z', 'AAAA']\n",
    "a = sorted(x) \n",
    "# a = x.sort()\n",
    "print(x)\n",
    "print(a)"
   ]
  },
  {
   "cell_type": "code",
   "execution_count": 16,
   "metadata": {},
   "outputs": [
    {
     "name": "stdout",
     "output_type": "stream",
     "text": [
      "125\n"
     ]
    }
   ],
   "source": [
    "# sum\n",
    "\n",
    "x = [11, 19, 51, 12, 0, -3, 1, 4, 15, 6, 9]\n",
    "a = sum(x)\n",
    "print(a)"
   ]
  },
  {
   "cell_type": "code",
   "execution_count": 46,
   "metadata": {},
   "outputs": [
    {
     "name": "stdout",
     "output_type": "stream",
     "text": [
      "99999.555\n"
     ]
    }
   ],
   "source": [
    "# max   \n",
    "x = [11, 19, 51, 12, 0, -3, 1, 4, 15, 6, 99999.555]\n",
    "a = max(x)\n",
    "print(a)"
   ]
  },
  {
   "cell_type": "code",
   "execution_count": 47,
   "metadata": {},
   "outputs": [
    {
     "name": "stdout",
     "output_type": "stream",
     "text": [
      "-3\n"
     ]
    }
   ],
   "source": [
    "# min\n",
    "x = [11, 19, 51, 12, 0, -3, 1, 4, 15, 6, 9]\n",
    "a = min(x)\n",
    "print(a)"
   ]
  },
  {
   "cell_type": "markdown",
   "metadata": {},
   "source": [
    "### ใช้คำสั่ง in กับ list\n",
    "`in` ใช้สำหรับตรวจสอบว่า item ที่ต้องการเป็นสมาชิกของ list หรือไม่ <br>"
   ]
  },
  {
   "cell_type": "code",
   "execution_count": 48,
   "metadata": {},
   "outputs": [
    {
     "name": "stdout",
     "output_type": "stream",
     "text": [
      "True\n",
      "False\n",
      "False\n"
     ]
    }
   ],
   "source": [
    "# in\n",
    "x = [1111, 2, 3, 4]\n",
    "print(2 in x)\n",
    "print(\"\" in x)\n",
    "print(\"A\" in x)\n"
   ]
  },
  {
   "cell_type": "code",
   "execution_count": 49,
   "metadata": {},
   "outputs": [
    {
     "name": "stdout",
     "output_type": "stream",
     "text": [
      "yes\n"
     ]
    }
   ],
   "source": [
    "# ใช้ in ใน if\n",
    "x = ['A', 'B', 'C']\n",
    "\n",
    "if 'A' in x:   \n",
    "    print('yes')\n",
    "else:\n",
    "    print('no')"
   ]
  },
  {
   "cell_type": "markdown",
   "metadata": {},
   "source": [
    "### ใช้คำสั่ง for กับ list\n",
    "\n",
    "เราสามารถเข้าถึง item แต่ละตัวของ list ได้ โดยใช้คำสั่ง for เช่นเดียวกับสตริง\n",
    "```python\n",
    "x = ['A', 'B', 'C']\n",
    "for item in x:\n",
    "    # statement\n",
    "```"
   ]
  },
  {
   "cell_type": "code",
   "execution_count": 50,
   "metadata": {},
   "outputs": [
    {
     "name": "stdout",
     "output_type": "stream",
     "text": [
      "AAA <class 'str'>\n",
      "BCC <class 'str'>\n",
      "CDDD <class 'str'>\n",
      "222 <class 'int'>\n"
     ]
    }
   ],
   "source": [
    "x = ['AAA', 'BCC', 'CDDD', 222]\n",
    "for item in x:\n",
    "    print(item, type(item))"
   ]
  },
  {
   "cell_type": "markdown",
   "metadata": {},
   "source": [
    "### รูปแบบการใช้งานที่พบบ่อย\n",
    "ใช้ลิสต์เก็บข้อมูล เพื่อนำมาใช้ทีหลัง"
   ]
  },
  {
   "cell_type": "code",
   "execution_count": null,
   "metadata": {},
   "outputs": [],
   "source": [
    "# อ่านข้อมูล input n ตัว \n",
    "n = int(input('Enter round'))\n",
    "data = []\n",
    "for i in range(n):\n",
    "    number = float(input('Enter number'))\n",
    "    data.append(number)\n",
    "\n",
    "print(data)"
   ]
  },
  {
   "cell_type": "markdown",
   "metadata": {},
   "source": [
    "### รูปแบบการใช้งานที่พบบ่อย\n",
    "ต้องการหยิบข้อมูลในลิสต์ _จากซ้ายไปขวา_ มาประมวลผลทีละตัว"
   ]
  },
  {
   "cell_type": "code",
   "execution_count": null,
   "metadata": {},
   "outputs": [],
   "source": [
    "# ต้องการนับว่าลิสต์ x มีข้อมูลเท่ากับ e กี่ตัว\n",
    "\n",
    "c = 0\n",
    "e = 'A'\n",
    "x = ['A', 'AA', 'AaA', 'B', 'A', 'a']\n",
    "\n",
    "for item in x:\n",
    "    if item == e:\n",
    "        c+=1\n",
    "print(c)"
   ]
  },
  {
   "cell_type": "code",
   "execution_count": null,
   "metadata": {},
   "outputs": [],
   "source": [
    "# หรือแบบสั้น ๆ จะใช้คำสั่ง count\n",
    "e = 'A'\n",
    "x = ['A', 'AA', 'AaA', 'B', 'A', 'a']\n",
    "\n",
    "c = x.count(e)\n",
    "print(c)"
   ]
  },
  {
   "cell_type": "markdown",
   "metadata": {},
   "source": [
    "### รูปแบบการใช้งานที่พบบ่อย\n",
    "\n",
    "สร้าง list จาก input string โดยใช้ split"
   ]
  },
  {
   "cell_type": "code",
   "execution_count": null,
   "metadata": {},
   "outputs": [],
   "source": [
    "s = \"A B C E \"\n",
    "x = s.split(\"C\")\n",
    "print(x)"
   ]
  },
  {
   "cell_type": "markdown",
   "metadata": {},
   "source": [
    "### รูปแบบการใช้งานที่พบบ่อย\n",
    "ต้องการหยิบข้อมูลแต่ละตัว พร้อมกับ index ของตัวนั้น ๆ"
   ]
  },
  {
   "cell_type": "code",
   "execution_count": null,
   "metadata": {},
   "outputs": [],
   "source": [
    "# วิธีที่ 1 ใช้ range\n",
    "x = ['A', 'B', 'C']\n",
    "for i in range(len(x)): \n",
    "    item = x[i]\n",
    "    print(f\"index:{i} item:{item}\")"
   ]
  },
  {
   "cell_type": "code",
   "execution_count": null,
   "metadata": {},
   "outputs": [],
   "source": [
    "# วิธีที่ 2 ใช้ enumerate\n",
    "x = ['A', 'B', 'C']\n",
    "for i, item in enumerate(x): \n",
    "    print(f\"index:{i} item:{item}\")"
   ]
  },
  {
   "cell_type": "markdown",
   "metadata": {},
   "source": [
    "### รูปแบบการใช้งานที่พบบ่อย\n",
    "\n",
    "ต้องการหยิบข้อมูลในลิสต์จากซ้ายไปขวามาประมวลผลทีละคู่ข้อมูลที่ติดกัน"
   ]
  },
  {
   "cell_type": "code",
   "execution_count": null,
   "metadata": {},
   "outputs": [],
   "source": [
    "# ต้องการตรวจดูว่า ข้อมูลในลิสต์ s เรียงลำดับจากน้อยไปมากหรือไม่\n",
    "s = [1, 2, 3, 4, 116, 122, 1111]\n",
    "\n",
    "for k in range(len(s)-1):\n",
    "    print(f\"index:{k}  {s[k]} > {s[k+1]} == {s[k] > s[k+1]} \")\n",
    "    if s[k] > s[k+1]:\n",
    "        print('ข้อมูลในลิสต์ s ไม่เรียงลำดับจากน้อยไปมาก')\n",
    "        break\n",
    "else:\n",
    "    print('ข้อมูลในลิสต์ s เรียงลำดับจากน้อยไปมาก')"
   ]
  },
  {
   "cell_type": "markdown",
   "metadata": {},
   "source": [
    "### รูปแบบการใช้งานที่พบบ่อย\n",
    "\n",
    "ต้องการหยิบข้อมูลทุก ๆ คู่ในลิสต์ (ไม่จำเป็นต้องติดกัน) มาประมวลผล"
   ]
  },
  {
   "cell_type": "code",
   "execution_count": null,
   "metadata": {},
   "outputs": [],
   "source": [
    "# ต้องการนับว่า มีข้อมูลกี่คู่ในลิสต์ ที่ตัวทางซ้ายมากกว่าตัวทางขวา (ไม่จำเป็นต้องอยู่ติดกัน)\n",
    "x = [1, 22, 3, 4, 316, 22, 111, 33]\n",
    "c = 0\n",
    "\n",
    "for i in range(len(x)):\n",
    "    for j in range(i+1, len(x)):\n",
    "        if x[i] > x[j]:\n",
    "            print(f\"{x[i]} > {x[j]}\")\n",
    "            c+=1\n",
    "print(c)"
   ]
  },
  {
   "cell_type": "markdown",
   "metadata": {},
   "source": [
    "### รูปแบบการใช้งานที่พบบ่อย\n",
    "\n",
    "เรียงลำดับข้อมูลในลิสต์ (ด้วยวิธี bubble sort)"
   ]
  },
  {
   "cell_type": "code",
   "execution_count": null,
   "metadata": {},
   "outputs": [],
   "source": [
    "# ต้องการเรียงลำดับข้อมูลในลิสต์ x จากน้อยไปมาก\n",
    "x = [4, 22, 3, 1, 316, 22, 111, 33]\n",
    "\n",
    "for k in range(len(x)-1): \n",
    "    for i in range(len(x)-1):\n",
    "        print(x[i], x[i+1], x)\n",
    "        if x[i] > x[i+1]:\n",
    "            # สลับตำแหน่ง i กับ i+1\n",
    "\n",
    "            x[i], x[i+1] = x[i+1], x[i]\n",
    "\n",
    "print(x)"
   ]
  },
  {
   "cell_type": "code",
   "execution_count": null,
   "metadata": {},
   "outputs": [],
   "source": [
    "x = [1, 22, 3, 4, 316, 22, 111, 33]\n",
    "x = sorted(x)\n",
    "print(x)"
   ]
  },
  {
   "cell_type": "markdown",
   "metadata": {},
   "source": [
    "### Nested List\n",
    "ลิสต์เก็บอะไรก็ได้ จำนวนเต็ม จำนวนจริง สตริง หรือ อื่น ๆ หรือแม้กระทั่งลิสต์ก็ได้ <br>\n",
    "ให้ x เป็นลิสต์ และถ้า `x[k]` ก็เป็นลิสต์ จะได้ `x[k][j]` คือข้อมูลตัวที่ index j ของลิสต์ `x[k]`\n",
    "```python\n",
    "x = [[1, 2], [3, 4, 5]]\n",
    "```"
   ]
  },
  {
   "cell_type": "code",
   "execution_count": 51,
   "metadata": {},
   "outputs": [
    {
     "name": "stdout",
     "output_type": "stream",
     "text": [
      "1\n",
      "2\n",
      "3\n",
      "4\n",
      "5\n"
     ]
    }
   ],
   "source": [
    "# เข้าถึง item ใน nested list\n",
    "\n",
    "x = [[1, 2], [3, 4, 5]]\n",
    "\n",
    "\n",
    "print(x[0][0])  #ต้องการเข้าถึงค่า 1 \n",
    "print(x[0][1])  #ต้องการเข้าถึงค่า 2 \n",
    "print(x[1][0])  #ต้องการเข้าถึงค่า 3 \n",
    "print(x[1][1])  #ต้องการเข้าถึงค่า 4\n",
    "print(x[1][2])  #ต้องการเข้าถึงค่า 5"
   ]
  },
  {
   "cell_type": "markdown",
   "metadata": {},
   "source": [
    "### รูปแบบการใช้งานที่พบบ่อย\n",
    "\n",
    "ใช้ nested list แทนการเก็บลิสต์ของข้อมูล โดยข้อมูลแต่ละตัวเป็นลิสต์ที่มีข้อมูลย่อย ๆ จำนวนเท่า ๆ กัน"
   ]
  },
  {
   "cell_type": "code",
   "execution_count": null,
   "metadata": {},
   "outputs": [],
   "source": [
    "# ใช้เก็บข้อมูล รายละเอียดนักเรียนแต่ละคน\n",
    "# โดย รายละเอียดประกอบด้วย id, name, age \n",
    "\n",
    "student_details = [\n",
    "    [1, 'John', 12],\n",
    "    [2, 'Tommy', 13],\n",
    "    [3, 'Nick', 9],\n",
    "]\n",
    "\n",
    "# แสดงรายละเอียด โดย for loop\n",
    "for detail in student_details:\n",
    "    print(detail, type(detail))"
   ]
  },
  {
   "cell_type": "markdown",
   "metadata": {},
   "source": [
    "### Example 1\n",
    "\n",
    "Input: <br>\n",
    "บรรทัดแรกเป็นจำนวนเต็ม เก็บไว้ในตัวแปร n <br>\n",
    "บรรทัดที่ 2 ถึง n เป็นจำนวนเต็มอะไรก็ได้ เก็บในตัวแปร x<br>\n",
    "\n",
    "Process: <br>\n",
    "เรียงลำดับข้อมูลทั้ง n ตัว _จากน้อยไปมาก_ เก็บไว้ในลิสต์ โดยใช้ build-in method\n",
    "\n",
    "Output: <br>\n",
    "จำนวนเต็มทั้ง n ตัวในลิสต์ ที่เรียงจากน้อยไปมาก"
   ]
  },
  {
   "cell_type": "code",
   "execution_count": null,
   "metadata": {},
   "outputs": [],
   "source": [
    "n = int(input('Enter n'))\n",
    "\n",
    "data = []\n",
    "for i in range(n):\n",
    "    x = int(input())\n",
    "    data.append(x)\n",
    "data.sort()\n",
    "print(data)"
   ]
  },
  {
   "cell_type": "markdown",
   "metadata": {},
   "source": [
    "### Example 2 \n",
    "จากข้อ 1 เปลี่ยน process ใหม่ดังนี้\n",
    "\n",
    "Process: <br>\n",
    "เรียงลำดับข้อมูลทั้ง n ตัว _จากมากไปน้อย_ เก็บไว้ในลิสต์ โดยใช้ build-in method\n",
    "\n",
    "Output: <br>\n",
    "จำนวนเต็มทั้ง n ตัวในลิสต์ ที่เรียงจากมากไปน้อย"
   ]
  },
  {
   "cell_type": "code",
   "execution_count": null,
   "metadata": {},
   "outputs": [],
   "source": [
    "n = int(input('Enter n'))\n",
    "\n",
    "data = []\n",
    "for i in range(n):\n",
    "    x = int(input())\n",
    "    data.append(x)\n",
    "\n",
    "data.sort()         #เรียงลำดับ น้อยไปมาก\n",
    "data.reverse()      #เรียงค่าใหม่จาก index สุดท้าย\n",
    "print(data)"
   ]
  },
  {
   "cell_type": "markdown",
   "metadata": {},
   "source": [
    "### List Comprehension\n",
    "สามารถสร้าง list ใหม่ จากการลูปข้อมูลในลิสต์เดิมได้ง่าย ๆ ในบรรทัดเดียว\n",
    "```python\n",
    "# list เดิม\n",
    "x = ['1', '2', '3', '4']\n",
    "```\n",
    "\n",
    "ต้องการ casting item แต่ละตัวให้เป็น int แล้วเก็บไว้ในตัวแปรใหม่\n",
    "```python\n",
    "# list ที่ต้องการ\n",
    "[1, 2, 3, 4]\n",
    "```"
   ]
  },
  {
   "cell_type": "code",
   "execution_count": 52,
   "metadata": {},
   "outputs": [
    {
     "name": "stdout",
     "output_type": "stream",
     "text": [
      "['1', '2', '3', '4']\n",
      "[1, 2, 3, 4]\n"
     ]
    }
   ],
   "source": [
    "#ต้องการ casting เป็น int ทั้งหมด\n",
    "x = ['1', '2', '3', '4']\n",
    "\n",
    "new = []      # สร้าง list ว่างขึ้นมาเพื่อรอเก็บข้อมูลใหม่   \n",
    "for item in x:  \n",
    "    new.append(int(item))     # ใช้ append เก็บข้อมูลที่ casting เป็น int ลงในลิสต์ y\n",
    "\n",
    "print(x)\n",
    "print(new)"
   ]
  },
  {
   "cell_type": "markdown",
   "metadata": {},
   "source": [
    "การทำ list comprehension คือการลดรูปการเขียนลง<br>\n",
    "มี syntax ดังนี้\n",
    "```python\n",
    "y = [int(item) for item in x]\n",
    "```\n",
    "ด้านขวาของเครื่องหมาย = <br>\n",
    "- `int(item)` คือ การ casting item ให้เป็น int _สิ่งที่อยู่หน้า for จะเรียกว่า Expression_<br>\n",
    "- `for item in x` คือ การแจกแจง item แต่ละตัว <br>\n",
    "แล้วเก็บไว้ใน list"
   ]
  },
  {
   "cell_type": "code",
   "execution_count": 54,
   "metadata": {},
   "outputs": [
    {
     "name": "stdout",
     "output_type": "stream",
     "text": [
      "['1', '2', '3', '4']\n",
      "[5, 10, 15, 20]\n"
     ]
    }
   ],
   "source": [
    "# ใช้ list comprehension\n",
    "x = ['1', '2', '3', '4']\n",
    "\n",
    "# ต้องการ casting เป็น int ทั้งหมด\n",
    "y = [int(item)*5 for item in x]\n",
    "\n",
    "print(x)\n",
    "print(y)"
   ]
  },
  {
   "cell_type": "markdown",
   "metadata": {},
   "source": [
    "### List Comprehension แบบมีเงื่อนไข\n",
    "\n",
    "เราสามารถเพิ่มเงื่อนไขในการสร้าง list ได้\n",
    "```python\n",
    "# list เดิม\n",
    "x = ['1', '2', '3', '4', '5', '6', '7']\n",
    "```\n",
    "\n",
    "ต้องการ ค่าที่ หาร 2 ลงตัวเก็บไว้ในลิสต์ใหม่\n",
    "```python\n",
    "# list ที่ต้องการ\n",
    "[2, 4, 6]\n",
    "```"
   ]
  },
  {
   "cell_type": "code",
   "execution_count": null,
   "metadata": {},
   "outputs": [],
   "source": [
    "# ต้องการ ค่าที่ หาร 2 ลงตัวเก็บไว้ในลิสต์ใหม่\n",
    "x = ['1', '2', '3', '4', '5', '6', '7']\n",
    "\n",
    "new = []      # สร้าง list ว่างขึ้นมาเพื่อรอเก็บข้อมูลใหม่   \n",
    "for item in x:  \n",
    "    \n",
    "    if int(item)%2 == 0:    \n",
    "        new.append(int(item))     # ใช้ append เก็บข้อมูล ลงในลิสต์ y\n",
    "\n",
    "print(x)\n",
    "print(new)"
   ]
  },
  {
   "cell_type": "code",
   "execution_count": 67,
   "metadata": {},
   "outputs": [
    {
     "name": "stdout",
     "output_type": "stream",
     "text": [
      "['1', '2', '3', '4', '5', '6', '7']\n",
      "[2, 99, 55555]\n"
     ]
    }
   ],
   "source": [
    "# ใช้ list comprehension\n",
    "# ต้องการ ค่าที่ หาร 2 ลงตัวเก็บไว้ในลิสต์ใหม่\n",
    "x = ['1', '2', '3', '4', '5', '6', '7']\n",
    "\n",
    "# new = []      # สร้าง list ว่างขึ้นมาเพื่อรอเก็บข้อมูลใหม่   \n",
    "\n",
    "new = [int(item) if int(item)==2 else  (99 if int(item)==4 else 55555) for item in x if int(item)%2 == 0 and item!='']\n",
    "\n",
    "    \n",
    "#     if int(item)%2 == 0:    \n",
    "#         new.append(int(item))     # ใช้ append เก็บข้อมูล ลงในลิสต์ y\n",
    "\n",
    "print(x)\n",
    "print(new)"
   ]
  },
  {
   "cell_type": "markdown",
   "metadata": {},
   "source": [
    "### การใช้ List comprehension กับ split และ input\n",
    "\n",
    "การใช้คำสั่ง input จะได้ข้อความ มา 1 ชุด <br>\n",
    "เราสามารถแบ่งข้อมูลที่ต้องการรับเข้ามา จากข้อความได้โดยใช้ split เพื่อเก็บค่าไว้ใน list<br>\n",
    "\n",
    "ต้องการรับข้อความ \"A 1 5 11\" คั่นด้วยช่องว่าง โดย<br>\n",
    "- `A` คือ ชื่อ\n",
    "- `1` คือ จำนวนจริงตัวที่ 1\n",
    "- `5` คือ จำนวนจริงตัวที่ 2\n",
    "- `11` คือ จำนวนจริงตัวที่ 3\n",
    "\n",
    "```python\n",
    "x = input() # รับ \"A 1 5 11\"\n",
    "print(x)    # จะได้ \"A 1 5 11\"\n",
    "```\n",
    "\n",
    "ในเมื่อเราต้องข้อมูล 4 ตัว แต่ละตัวคั่นด้วยช่องว่าง <br>\n",
    "เราสามารถใช้ split เพื่อแบ่งข้อความออก แล้ว เก็บไว้ในลิสต์ได้\n",
    "\n",
    "```python\n",
    "x = input().split(' ') # รับ \"A 1 5 11\"\n",
    "print(x)               # จะได้ ['A', '1', '5', '11']\n",
    "```"
   ]
  },
  {
   "cell_type": "code",
   "execution_count": null,
   "metadata": {},
   "outputs": [],
   "source": [
    "# ใช้ split แบ่งข้อความ\n",
    "x = input()\n",
    "print(x)\n",
    "\n",
    "x = x.split(' ')\n",
    "print(x)"
   ]
  },
  {
   "cell_type": "code",
   "execution_count": null,
   "metadata": {},
   "outputs": [],
   "source": [
    "# เขียนย่อ ๆ  \n",
    "x = input().split(' ')\n",
    "print(x)"
   ]
  },
  {
   "cell_type": "code",
   "execution_count": null,
   "metadata": {},
   "outputs": [],
   "source": [
    "# ควรใช้ strip ก่อนเพื่อตัดช่องว่างหัวท้าย\n",
    "x = input().strip().split(' ')\n",
    "print(x)"
   ]
  },
  {
   "cell_type": "markdown",
   "metadata": {},
   "source": [
    "ต้องการ casting type ของข้อมูลด้วย สามารถใช้ list comprehension ได้\n",
    "\n",
    "```python\n",
    "x = ['A', '1', '5', '11']\n",
    "```\n",
    "เราต้องการให้ข้อมูล index ที่ 1 ถึง index สุดท้ายเป็น int<br> \n",
    "ใช้ list comprehension มา casting ดังนี้\n",
    "\n",
    "```python\n",
    "x = ['A', '1', '5', '11']\n",
    "x = x[0] + [int(i) for i in x[1:]]\n",
    "```"
   ]
  },
  {
   "cell_type": "code",
   "execution_count": null,
   "metadata": {},
   "outputs": [],
   "source": [
    "# casting ตัวที่ 1 ถึง ตัวสุดท้าย\n",
    "\n",
    "x = ['A', '1', '5', '11']\n",
    "\n",
    "x = [x[0]] + [int(i) for i in x[1:]]  # แยกตัวที่ 0 ออกมาก่อนเพราะไม่สามารถ casting เป็น int\n",
    "print(x)"
   ]
  },
  {
   "cell_type": "code",
   "execution_count": null,
   "metadata": {},
   "outputs": [],
   "source": [
    "# casting ตัวที่ 1 ถึง ตัวสุดท้าย แบบที่ ไม่สามารถแยกตัวอักษรได้\n",
    "\n",
    "x = ['A', '1', '5', '11', 'B', '446EE34s', '999']\n",
    "y = []\n",
    "for i in x:\n",
    "    if i.isnumeric():\n",
    "        y.append(int(i))    # i คือตัวเลข\n",
    "    else:\n",
    "        y.append(i)         # i ไม่ใช่ตัวเลข\n",
    "x = y\n",
    "print(x)"
   ]
  },
  {
   "cell_type": "code",
   "execution_count": 68,
   "metadata": {},
   "outputs": [
    {
     "name": "stdout",
     "output_type": "stream",
     "text": [
      "['A', 1, 5, 11, 'B', '446EE34s', 999]\n"
     ]
    }
   ],
   "source": [
    "# casting ตัวที่ 1 ถึง ตัวสุดท้าย แบบที่ ไม่สามารถแยกตัวอักษรได้ เขียนแบบย่อ ๆ\n",
    "\n",
    "x = ['A', '1', '5', '11', 'B', '446EE34s', '999']\n",
    "\n",
    "x = [int(i) if i.isnumeric() else i for i in x]  # ใน expression จะเขียน if else แบบย่อ\n",
    "print(x)"
   ]
  }
 ],
 "metadata": {
  "kernelspec": {
   "display_name": "Python 3",
   "language": "python",
   "name": "python3"
  },
  "language_info": {
   "codemirror_mode": {
    "name": "ipython",
    "version": 3
   },
   "file_extension": ".py",
   "mimetype": "text/x-python",
   "name": "python",
   "nbconvert_exporter": "python",
   "pygments_lexer": "ipython3",
   "version": "3.10.5"
  },
  "orig_nbformat": 4,
  "vscode": {
   "interpreter": {
    "hash": "2bd6cfaa8a8359414f85749a6a6580f591974caa3acf786ed1d87da5ed9452a8"
   }
  }
 },
 "nbformat": 4,
 "nbformat_minor": 2
}
