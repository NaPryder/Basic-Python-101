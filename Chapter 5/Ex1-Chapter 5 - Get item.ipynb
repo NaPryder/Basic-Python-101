{
 "cells": [
  {
   "cell_type": "markdown",
   "metadata": {},
   "source": [
    "# Excercise 1 - Get item"
   ]
  },
  {
   "cell_type": "markdown",
   "metadata": {},
   "source": [
    "กำหนดให้ x = [1, 2, 3, 13, 55, 23, 45, 1, -6, 17, 30]<br>\n",
    "สร้างลิสต์ใหม่จาก x โดย \n",
    "1. item แต่ละตัวต้องมีค่าน้อยกว่า 30 เก็บไว้ในลิสต์ y\n",
    "2. item แต่ละตัวต้องมีค่าน้อยกว่า 30 และหาร 2 ลงตัว เก็บไว้ในลิสต์ z\n",
    "\n",
    "Output:<br>\n",
    "บรรทัดที่ 1 แสดงลิสต์ y<br>\n",
    "บรรทัดที่ 2 แสดงลิสต์ z\n",
    "\n",
    "Hint:<br>\n",
    "- ใช้ loop ในการแจกแจง item จากลิสต์\n",
    "- ใช้ append เก็บข้อมูล"
   ]
  },
  {
   "cell_type": "markdown",
   "metadata": {},
   "source": [
    "### ตัวอย่าง\n",
    "|input          |     Output       |\n",
    "|-------        |------------------|\n",
    "| ไม่มี input     | [1, 2, 3, 13, 23, 1, -6, 17] <br>[2, -6]   |"
   ]
  },
  {
   "cell_type": "code",
   "execution_count": null,
   "metadata": {},
   "outputs": [],
   "source": [
    "x = [1, 2, 3, 13, 55, 23, 45, 1, -6, 17, 30] \n",
    "y = []\n",
    "z = []\n",
    "\n",
    "for item in x:\n",
    "    if item < 30:\n",
    "        y.append(item)\n",
    "\n",
    "        if item%2 == 0:\n",
    "            z.append(item)\n",
    "\n",
    "print(y)\n",
    "print(z)"
   ]
  }
 ],
 "metadata": {
  "interpreter": {
   "hash": "1f0945ea651c1069c7af037cbbaa82eca29c1e053adfed76f992832db8b6af67"
  },
  "kernelspec": {
   "display_name": "Python 3.9.10 64-bit",
   "language": "python",
   "name": "python3"
  },
  "language_info": {
   "codemirror_mode": {
    "name": "ipython",
    "version": 3
   },
   "file_extension": ".py",
   "mimetype": "text/x-python",
   "name": "python",
   "nbconvert_exporter": "python",
   "pygments_lexer": "ipython3",
   "version": "3.9.10"
  },
  "orig_nbformat": 4
 },
 "nbformat": 4,
 "nbformat_minor": 2
}
