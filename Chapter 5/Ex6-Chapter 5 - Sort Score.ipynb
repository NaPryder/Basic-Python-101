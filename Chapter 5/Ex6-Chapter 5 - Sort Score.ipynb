{
 "cells": [
  {
   "cell_type": "markdown",
   "metadata": {},
   "source": [
    "# Excercise 5 - Sort Score"
   ]
  },
  {
   "cell_type": "markdown",
   "metadata": {},
   "source": [
    "รับรหัสนักเรียนและรายการของคะแนนการสอบย่อยต่าง ๆ ของนักเรียนจำนวนหนึ่ง<br>\n",
    "มาประมวลผลเพื่อ แสดงรหัสนักเรียนและคะแนนรวมตามลำดับคะแนนรวม จากมากไปน้อย<br>\n",
    "\n",
    "Input:<br>\n",
    "บรรทัดที่ 1 รับค่าจำนวนเต็มบวก n กับ m คั่นด้วยช่องว่างใน 1 บรรทัด จาก keyboard โดย n คือจำนวนนักเรียน และ m คือจำนวนการสอบย่อยแต่ละครั้ง <br>\n",
    "บรรทัดที่ 2 ถึง n แต่ละบรรทัดรับ รหัสนักเรียน ตามด้วยคะแนนของการสอบแต่ละครั้ง (m ครั้ง) คั่นด้วยช่องว่าง <br>\n",
    "\n",
    "Output: <br>\n",
    "ถ้ามีบรรทัดที่จำนวนคะแนนย่อยไม่ตรงกับ m <br>\n",
    "- ให้รวบรวมรหัสนักเรียนมาแสดงตามตัวอย่าง (เรียงตามที่ได้รับจากข้อมูลนำเข้า)\n",
    "<br>\n",
    "\n",
    "ถ้าทุกบรรทัดมีคะแนนครบจำนวนทุกคน <br>\n",
    "- ให้แสดงรหัสนักเรียนตามด้วยคะแนนรวมของนักเรียนบรรทัดละคน เรียงลำดับตามคะแนนรวมจาก ` มากไปน้อย `\n",
    "- ในกรณีที่มีคะแนนรวมเท่ากัน ให้เรียงตามรหัสนักเรียนจาก ` น้อยไปมาก `\n",
    "\n",
    "Hint:<br>\n",
    "- ใช้ loop ในการแจกแจง item\n",
    "- ใช้ split เพื่อแยกข้อมูล input ไปเก็บไว้ในลิสต์\n",
    "- เก็บข้อมูลด้วย nested list\n",
    "- ใช้ len() เพื่อตรวจสอบจำนวน\n",
    "- ใช้ bubble sort เพื่อเรียงลำดับคะแนน และ รหัสนักเรียน\n",
    "- แสดงผลด้วย .join ของ string"
   ]
  },
  {
   "cell_type": "markdown",
   "metadata": {},
   "source": [
    "### ตัวอย่าง\n",
    "|Input              |     Output       |\n",
    "|-------            |------------------|\n",
    "| 3 2<br>A 3.0 2.0<br>B 4.0 5.0<br>C 2.0 3.0       | B 9.0<br>A 5.0<br>C 5.0    |\n",
    "| 3 3<br>AA 3.0<br>B 9.0 4.0 7.0<br>AC 8.0 3.0       | Invalid data:<br>AA<br>AC    |"
   ]
  },
  {
   "cell_type": "code",
   "execution_count": null,
   "metadata": {},
   "outputs": [],
   "source": [
    "n, m = [int(e) for e in input(\"Enter m n:\").strip().split(' ')]\n",
    "\n",
    "invalid = []\n",
    "valid = []\n",
    "\n",
    "# รับข้อมูล รายละเอียดคะแนน พร้อมตรวจสอบว่าจำนวนคะแนนที่รับมาเท่ากับ m หรือไม่\n",
    "for i in range(n):\n",
    "    data = input('Enter detail').split(' ')\n",
    "\n",
    "    if m != len(data[1:]):\n",
    "        invalid.append(data[0])\n",
    "    else:\n",
    "        # หาผลรวม ก่อนเก็บเข้าลิสต์\n",
    "        sum_score = sum([float(score) for score in data[1:]])\n",
    "        valid.append([data[0], sum_score])\n",
    "\n",
    "# เช็คผล\n",
    "if invalid:\n",
    "    print('Invalid data:')\n",
    "    for i in invalid:\n",
    "        print(i) \n",
    "\n",
    "else:\n",
    "    # หาคะแนนที่มากที่สุด\n",
    "    max_score = 0\n",
    "    for i in range(len(valid) - 1):\n",
    "        for j in range(len(valid) - 1):\n",
    "\n",
    "            # check score\n",
    "            if valid[j][1] > valid[j+1][1]:\n",
    "                print(f\"{valid[j][1]} > {valid[j+1][1]}\")\n",
    "                valid[j], valid[j+1] = valid[j+1], valid[j]\n",
    "            \n",
    "            # check student code\n",
    "            elif valid[j][1] == valid[j+1][1]:\n",
    "                print(f\"{valid[j][0]} {valid[j][1]} == {valid[j+1][0]} {valid[j+1][1]} {valid[j][0] > valid[j+1][0]}\")\n",
    "                if valid[j][0] < valid[j+1][0]:\n",
    "                    valid[j], valid[j+1] = valid[j+1], valid[j]\n",
    "\n",
    "    # show result\n",
    "    valid.reverse()\n",
    "    for data in valid:\n",
    "        print(' '.join([str(e) for e in data]))\n",
    "    "
   ]
  }
 ],
 "metadata": {
  "interpreter": {
   "hash": "1f0945ea651c1069c7af037cbbaa82eca29c1e053adfed76f992832db8b6af67"
  },
  "kernelspec": {
   "display_name": "Python 3.9.10 64-bit",
   "language": "python",
   "name": "python3"
  },
  "language_info": {
   "codemirror_mode": {
    "name": "ipython",
    "version": 3
   },
   "file_extension": ".py",
   "mimetype": "text/x-python",
   "name": "python",
   "nbconvert_exporter": "python",
   "pygments_lexer": "ipython3",
   "version": "3.9.10"
  },
  "orig_nbformat": 4
 },
 "nbformat": 4,
 "nbformat_minor": 2
}
