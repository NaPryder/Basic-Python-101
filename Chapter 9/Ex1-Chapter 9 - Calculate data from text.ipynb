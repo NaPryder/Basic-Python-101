{
 "cells": [
  {
   "cell_type": "markdown",
   "metadata": {},
   "source": [
    "# Excercise 1 - Calculate data from text"
   ]
  },
  {
   "cell_type": "markdown",
   "metadata": {},
   "source": [
    "Input: <br>\n",
    "อ่านข้อมูลจากไฟล์ \"Score.txt\" ที่อยู่ในโฟลเดอร์ \"D:\\Read_file\" <br>\n",
    "- บรรทัดแรกเป็นชื่อ header <br>\n",
    "- บรรทัดที่ 2 ถึงบรรทัดสุดท้าย แต่ละบรรทัด เก็บข้อมูลชื่อ ตามด้วยช่องว่างหนึ่งช่อง ตามด้วยคะแนน<br>\n",
    "\n",
    "Process: <br>\n",
    "- ให้ใช้การต่อ path จาก library os เท่านั้น<br>\n",
    "- คำนวณหาคะแนนเฉลี่ย\n",
    "- คำนวณหาว่าใครได้คะแนนสูงสุด\n",
    "- คำนวณหาว่าใครได้คะแนนต่ำสุด\n",
    "- คำนวณหาว่า มีกี่คนที่ได้คะแนนต่ำกว่า 14.00\n",
    "\n",
    "Output: <br>\n",
    "- แสดงผลคะแนนเฉลี่ย (ทศนิยม 3 ตำแหน่ง)\n",
    "- แสดงชื่อและคะแนนสูงสุด\n",
    "- แสดงชื่อและคะแนนต่ำสุด\n",
    "- แสดงลิสต์จำนวนคน และชื่อ ที่ได้คะแนนต่ำกว่า 14.00"
   ]
  },
  {
   "cell_type": "markdown",
   "metadata": {},
   "source": [
    "### ตัวอย่าง\n",
    "|input                      |     Output       |\n",
    "|-------                    |------------------|\n",
    "| input from text file         | max socre:19.99 name:E<br>min socre:10.01 name:X<br>average:14.308<br>name score < 14:['A', 'B', 'C', 'D', 'G', 'J', 'K', 'T', 'U', 'X', 'Y'] total:11|"
   ]
  },
  {
   "cell_type": "code",
   "execution_count": null,
   "metadata": {},
   "outputs": [],
   "source": [
    "# Answer\n",
    "import os\n",
    "\n",
    "def check_min(score, name):\n",
    "    global score_min, name_min\n",
    "\n",
    "    if score < score_min:\n",
    "        score_min = score\n",
    "        name_min = name\n",
    "\n",
    "def check_max(score, name):\n",
    "    global score_max, name_max\n",
    "\n",
    "    if score > score_max:\n",
    "        score_max = score\n",
    "        name_max = name\n",
    "\n",
    "def find_average(data):\n",
    "    all_score = [d[1] for d in data]\n",
    "    return round(sum(all_score)/len(all_score), 3)\n",
    "\n",
    "def find_min_14(data):\n",
    "    return [d[0] for d in data if d[1]<14.00]\n",
    "\n"
   ]
  },
  {
   "cell_type": "code",
   "execution_count": null,
   "metadata": {},
   "outputs": [],
   "source": [
    "file = os.path.join(r\"D:\\Read_file\", \"Score.txt\")\n",
    "\n",
    "name_max = ''\n",
    "score_max = 0\n",
    "name_min = ''\n",
    "score_min = 0\n",
    "data = []\n",
    "\n",
    "with open(file, 'r') as txt_file:\n",
    "    for i, line in enumerate(txt_file):\n",
    "        if i < 1: \n",
    "            continue\n",
    "        \n",
    "        name, score = line.strip().split(' ')\n",
    "        score = float(score)\n",
    "\n",
    "        if i == 1:\n",
    "            score_max, score_min = score, score\n",
    "            name_max, name_min = name, name\n",
    "        else:\n",
    "            # check min & max\n",
    "            check_min(score=score, name=name)\n",
    "            check_max(score=score, name=name)\n",
    "\n",
    "        # check score < 14.00\n",
    "        data.append([name, score])\n",
    "\n",
    "average = find_average(data=data)\n",
    "min_14 = find_min_14(data=data)\n",
    "\n",
    "print(f\"max socre:{score_max} name:{name_max}\")\n",
    "print(f\"min socre:{score_min} name:{name_min}\")\n",
    "print(f\"average:{average}\")\n",
    "print(f\"name score < 14:{min_14} total:{len(min_14)}\")"
   ]
  }
 ],
 "metadata": {
  "interpreter": {
   "hash": "1f0945ea651c1069c7af037cbbaa82eca29c1e053adfed76f992832db8b6af67"
  },
  "kernelspec": {
   "display_name": "Python 3.9.10 64-bit",
   "language": "python",
   "name": "python3"
  },
  "language_info": {
   "codemirror_mode": {
    "name": "ipython",
    "version": 3
   },
   "file_extension": ".py",
   "mimetype": "text/x-python",
   "name": "python",
   "nbconvert_exporter": "python",
   "pygments_lexer": "ipython3",
   "version": "3.9.10"
  },
  "orig_nbformat": 4
 },
 "nbformat": 4,
 "nbformat_minor": 2
}
