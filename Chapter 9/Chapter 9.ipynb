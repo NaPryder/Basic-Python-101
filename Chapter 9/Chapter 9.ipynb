{
 "cells": [
  {
   "cell_type": "markdown",
   "metadata": {},
   "source": [
    "# Basic Python \n",
    "\n",
    "## Chapter 9 - Library & File"
   ]
  },
  {
   "cell_type": "markdown",
   "metadata": {},
   "source": [
    "### File\n",
    "\n",
    "สามารถอ่านข้อมูลในไฟล์เพื่อมาประมวลผลได้หลายทาง<br>\n",
    "ในบทนี้จะใช้ text file (ไฟล์ข้อความ) ในการสอน<br>\n"
   ]
  },
  {
   "cell_type": "markdown",
   "metadata": {},
   "source": [
    "### Absolute path หรือ path\n",
    "ใช้อ้างอิงที่อยู่ของไฟล์/โฟลเดอร์\n",
    "\n",
    "เช่น <br>\n",
    "\n",
    "#### ต้องการอ้างอิงถึงที่อยู่ของโฟลเดอร์\n",
    "`D:\\Projects\\Basic Python\\Chapter 9` <br>\n",
    "\n",
    "Path location = `D:\\Projects\\Basic Python`<br>\n",
    "ชื่อโฟลเดอร์ = `Chapter 9`\n",
    "\n",
    "#### ต้องการอ้างอิงถึงที่อยู่ของไฟล์ \n",
    "`D:\\Projects\\Basic Python\\Chapter 9\\aaa.txt` <br>\n",
    "\n",
    "Path location = `D:\\Projects\\Basic Python\\Chapter 9`<br>\n",
    "ชื่อไฟล์ = `aaa.txt`\n",
    "\n"
   ]
  },
  {
   "cell_type": "markdown",
   "metadata": {},
   "source": [
    "### Open file\n",
    "\n",
    "ใช้คำสั่ง `open()` ในการอ่านไฟล์ \n",
    "```python\n",
    "filename = r\"a.txt\"\n",
    "file = open(filename, 'r')\n",
    "```\n",
    "\n",
    "เมื่อทำงานเสร็จแล้ว ต้องปิดไฟล์เสมอ ใช้คำสั่ง `close()`\n",
    "\n",
    "```python\n",
    "file.close()\n",
    "```\n"
   ]
  },
  {
   "cell_type": "markdown",
   "metadata": {},
   "source": [
    "#### ในคำสั่ง open จะมี mode พื้นฐานให้เลือก 3 mode\n",
    "1. `'r'` คือ read-only\n",
    "1. `'w'` คือ write จะเขียนข้อมูลใหม่ _ทับ_ ข้อมูลเก่า (overwrite)\n",
    "1. `'a'` คือ append จะเขียนข้อมูลใหม่ _ต่อท้าย_ ข้อมูลเก่า (append)\n"
   ]
  },
  {
   "cell_type": "markdown",
   "metadata": {},
   "source": [
    "#### Read only mode\n",
    "\n",
    "ใช้ keyword `'r'` สำหรับอ่านข้อความในไฟล์เท่านั้น ไม่สามารถแก้ไขไฟล์ได้"
   ]
  },
  {
   "cell_type": "code",
   "execution_count": null,
   "metadata": {},
   "outputs": [],
   "source": [
    "# ตัวอย่างในไฟล์ a.txt\n",
    "# อ่านไฟล์ทุกบรรทัด\n",
    "filename = r'a.txt'\n",
    "file = open(filename, 'r')\n",
    "\n",
    "for line in file:\n",
    "    print(line)\n",
    "\n",
    "file.close()"
   ]
  },
  {
   "cell_type": "code",
   "execution_count": null,
   "metadata": {},
   "outputs": [],
   "source": [
    "# ตัวอย่างในไฟล์ a.txt\n",
    "# อ่านไฟล์ทุกบรรทัด และเก็บข้อความไว้ใน list\n",
    "filename = r'a.txt'\n",
    "file = open(filename, 'r')\n",
    "data = []\n",
    "\n",
    "for line in file:\n",
    "    data.append(line.strip())\n",
    "    print(line.strip())\n",
    "\n",
    "file.close()\n",
    "\n",
    "print(data)    \n",
    "print(len(data))"
   ]
  },
  {
   "cell_type": "code",
   "execution_count": null,
   "metadata": {},
   "outputs": [],
   "source": [
    "# ตัวอย่างในไฟล์ a.txt\n",
    "# อ่านไฟล์บรรทัดที่ 2 - บรรทัดสุดท้าย และเก็บ value ไว้ในลิสต์\n",
    "filename = r'a.txt'\n",
    "file = open(filename, 'r')\n",
    "data = []\n",
    "\n",
    "\n",
    "for i, line in enumerate(file):\n",
    "\n",
    "    # ข้ามบรรทัดที่ 1\n",
    "    if i < 1: \n",
    "        continue\n",
    "\n",
    "    name, value = line.strip().split(' ')\n",
    "    print(name, value)\n",
    "    data.append(float(value))\n",
    "\n",
    "file.close()\n",
    "\n",
    "print(data)    \n",
    "print(len(data))"
   ]
  },
  {
   "cell_type": "markdown",
   "metadata": {},
   "source": [
    "#### Write mode\n",
    "ใช้ keyword `'w'` สำหรับเขียนข้อความในไฟล์เท่านั้น ไม่สามารถอ่านไฟล์ได้ \n",
    "- ถ้ามีไฟล์อยู่แล้ว จะเขียนข้อความทับข้อความเดิมทั้งหมด (overwrite)\n",
    "- ถ้าไม่มีไฟล์ จะสร้างไฟล์และเขียนข้อความใหม่"
   ]
  },
  {
   "cell_type": "code",
   "execution_count": null,
   "metadata": {},
   "outputs": [],
   "source": [
    "# ตัวอย่างเขียนข้อความลงบนไฟล์ใหม่ชื่อ write_file.txt\n",
    "filename = r'write_file.txt'\n",
    "file = open(filename, 'w')\n",
    "\n",
    "data = [\n",
    "    'X 100',\n",
    "    'Y 200',\n",
    "    'Z 150'\n",
    "]\n",
    "\n",
    "for line in data:\n",
    "    # file.write(line)\n",
    "    file.write(line + '\\n')\n",
    "file.close()"
   ]
  },
  {
   "cell_type": "markdown",
   "metadata": {},
   "source": [
    "#### Append mode\n",
    "ใช้ keyword `'a'` สำหรับเขียนข้อความในไฟล์เท่านั้น ไม่สามารถอ่านไฟล์ได้ \n",
    "- ถ้ามีไฟล์อยู่แล้ว จะเขียนข้อความต่อจากข้อความเดิม\n",
    "- ถ้าไม่มีไฟล์ จะสร้างไฟล์และเขียนข้อความใหม่"
   ]
  },
  {
   "cell_type": "code",
   "execution_count": null,
   "metadata": {},
   "outputs": [],
   "source": [
    "# ตัวอย่างเขียนข้อความลงบนไฟล์ใหม่ชื่อ append_file.txt\n",
    "filename = r'append_file.txt'\n",
    "file = open(filename, 'a')\n",
    "\n",
    "data = [\n",
    "    'X 1',\n",
    "    'Y 2',\n",
    "    'Z 3'\n",
    "]\n",
    "\n",
    "for line in data:\n",
    "    file.write(line + '\\n')\n",
    "\n",
    "file.close()"
   ]
  },
  {
   "cell_type": "markdown",
   "metadata": {},
   "source": [
    "### With Statement\n",
    "ใช้สำหรับทำให้โต้ดอ่านง่ายขึ้น <br>\n",
    "โดย with จะมีการปิด session ให้อัติโนมัติเมื่อทำงานเสร็จ<br>\n",
    "โดยไม่ต้องมีคำสั่ง close()<br>\n",
    "\n",
    "Syntax:<br>\n",
    "\n",
    "แบบไม่ใช้ with\n",
    "```python\n",
    "file = open(filename, mode)\n",
    "#statement\n",
    "file.close()\n",
    "```\n",
    "<br>\n",
    "\n",
    "แบบใช้ with\n",
    "```python\n",
    "with open(filename, mode) as file:\n",
    "    #statement\n",
    "```"
   ]
  },
  {
   "cell_type": "code",
   "execution_count": null,
   "metadata": {},
   "outputs": [],
   "source": [
    "# ลองอ่านไฟล์ 'a.txt'\n",
    "\n",
    "filename = r'a.txt'\n",
    "with open(filename, 'r') as file:\n",
    "    for line in file:\n",
    "        print(line.strip())\n"
   ]
  },
  {
   "cell_type": "markdown",
   "metadata": {},
   "source": [
    "### Library และ Module\n",
    "\n",
    "`Module` คือ กลุ่มของตัวแปร ฟังก์ชัน หรือคลาส ที่ทำงานคล้ายๆ กันแล้วเอามารวมๆ กันไว้ในไฟล์ไฟล์เดียว\n",
    "<br>\n",
    "\n",
    "`Library` คือ โปรแกรมสำเร็จรูปที่เก็บ module สำหรับการทำงานที่เฉพาะทาง \n",
    "\n",
    "ประโยชน์ของ library และ module คือ เราไม่จำเป็นที่จะต้องเขียนโปรแกรมบางอย่างขึ้นมาใหม่เองทั้งหมด<br> \n",
    "แต่สามารถนำ library/module ที่มีการพัฒนาไว้อยู่แล้วมาใช้งานได้เลย โดยการ `import`\n",
    "\n"
   ]
  },
  {
   "cell_type": "markdown",
   "metadata": {},
   "source": [
    "### Build-in module\n",
    "ที่น่าสนใจ มีดังนี้\n",
    "1. os\n",
    "2. math\n",
    "3. datetime\n",
    "4. shutil\n",
    "5. time\n"
   ]
  },
  {
   "cell_type": "markdown",
   "metadata": {},
   "source": [
    "#### การเรียกใช้ module อื่น ๆ \n",
    "เราต้อง import module เข้ามาก่อนเพื่อใช้งาน โดยใช้คำสั่ง `import`\n",
    "\n",
    "ต้องการเรียกใช้ library os\n",
    "```python\n",
    "import os\n",
    "```\n",
    "\n",
    "หรือ \n",
    "\n",
    "ต้องการเรียกใช้ module path ใน library os\n",
    "```python\n",
    "from os import path\n",
    "```"
   ]
  },
  {
   "cell_type": "markdown",
   "metadata": {},
   "source": [
    "#### OS\n",
    "\n",
    "เป็น library ที่ใช้กับระบบปฎิบัติการของคอมพิวเตอร์ ในที่นี้จะแนะนำการเข้าถึง ไฟล์/โฟลเดอร์ ด้วย os\n",
    "\n",
    "method ที่ใช้\n",
    "1. `os.makedirs()` สร้างโฟลเดอร์ที่กำหนด\n",
    "2. `os.rmdir()` ลบโฟลเดอร์ที่กำหนด\n",
    "3. `os.remove()` ลบไฟล์ที่กำหนด\n",
    "4. `os.rename()` เปลี่ยนชื่อไฟล์/โฟลเดอร์ที่ต้องการ\n",
    "5. `os.listdir()` จะได้ list ของไฟล์ ในโฟลเดอร์ที่กำหนด\n",
    "6. `os.path.join()` การนำสตริงของ path มาต่อกัน\n",
    "7. `os.path.exists()` ตรวจสอบว่ามีไฟล์หรือไม่"
   ]
  },
  {
   "cell_type": "code",
   "execution_count": null,
   "metadata": {},
   "outputs": [],
   "source": [
    "# เรียกใช้ library os\n",
    "import os\n"
   ]
  },
  {
   "cell_type": "code",
   "execution_count": null,
   "metadata": {},
   "outputs": [],
   "source": [
    "# สร้างโฟลเดอร์\n",
    "\n",
    "folder = r\"D:\\Basic Python\\Test_FolderSSS\"\n",
    "os.makedirs(folder)"
   ]
  },
  {
   "cell_type": "code",
   "execution_count": null,
   "metadata": {},
   "outputs": [],
   "source": [
    "# ลบโฟลเดอร์\n",
    "\n",
    "folder = r\"D:\\Basic Python\\Test_FolderSSS\"\n",
    "os.rmdir(folder)"
   ]
  },
  {
   "cell_type": "code",
   "execution_count": null,
   "metadata": {},
   "outputs": [],
   "source": [
    "# ลบไฟล์\n",
    "\n",
    "file = r\"D:\\Basic Python\\Test files\\a.txt\"\n",
    "os.remove(file)"
   ]
  },
  {
   "cell_type": "code",
   "execution_count": 20,
   "metadata": {},
   "outputs": [],
   "source": [
    "# เปลี่ยนชื่อไฟล์/โฟลเดอร์\n",
    "\n",
    "source_file = r\"D:\\Basic Python\\Test rename\\name1.txt\"\n",
    "destination_file = r\"D:\\Basic Python\\Test rename\\new_name.txt\"\n",
    "os.rename(source_file, destination_file)"
   ]
  },
  {
   "cell_type": "code",
   "execution_count": 21,
   "metadata": {},
   "outputs": [
    {
     "name": "stdout",
     "output_type": "stream",
     "text": [
      "['b.txt', 'c.txt', 'd.txt']\n",
      "<class 'list'>\n",
      "3\n"
     ]
    }
   ],
   "source": [
    "# เก็บชื่อไฟล์ทั้งหมดใน folder\n",
    "\n",
    "folder = r\"D:\\Basic Python\\Test files\"\n",
    "list_files = os.listdir(folder)\n",
    "\n",
    "print(list_files )\n",
    "print(type(list_files))\n",
    "print(len(list_files) )"
   ]
  },
  {
   "cell_type": "code",
   "execution_count": 23,
   "metadata": {},
   "outputs": [
    {
     "name": "stdout",
     "output_type": "stream",
     "text": [
      "D:\\Basic Python\\Test files\\sub_folder\\fff.txt\n"
     ]
    }
   ],
   "source": [
    "# การนำ path มาต่อกัน \n",
    "\n",
    "filename = 'fff.txt'\n",
    "sub_folder = 'sub_folder'\n",
    "folder = r\"D:\\Basic Python\\Test files\"\n",
    "\n",
    "file_fff = os.path.join(folder, sub_folder, filename)\n",
    "print(file_fff)"
   ]
  },
  {
   "cell_type": "code",
   "execution_count": 25,
   "metadata": {},
   "outputs": [
    {
     "name": "stdout",
     "output_type": "stream",
     "text": [
      "D:\\Basic Python\\Test files99\n",
      "False\n"
     ]
    }
   ],
   "source": [
    "# ตรวจสอบว่ามีไฟล์/โฟลเดอร์ หรือไม่\n",
    "\n",
    "check_path = r\"D:\\Basic Python\\Test files\"\n",
    "isFound_path = os.path.exists(check_path)\n",
    "\n",
    "print(check_path)\n",
    "print(isFound_path)"
   ]
  },
  {
   "cell_type": "markdown",
   "metadata": {},
   "source": [
    "##### Example \n",
    "\n",
    "Input: <br>\n",
    "อ่านข้อมูลจากไฟล์ \"Score.txt\" ที่อยู่ในโฟลเดอร์ \"D:\\Read_file\" <br>\n",
    "- บรรทัดแรกเป็นชื่อ header <br>\n",
    "- บรรทัดที่ 2 ถึงบรรทัดสุดท้าย แต่ละบรรทัด เก็บข้อมูลชื่อ ตามด้วยช่องว่างหนึ่งช่อง ตามด้วยคะแนน<br>\n",
    "\n",
    "Process: <br>\n",
    "- ให้ใช้การต่อ path จาก library os เท่านั้น<br>\n",
    "- คำนวนหาคะแนนเฉลี่ย\n",
    "\n",
    "Output: <br>\n",
    "- แสดงผลคะแนนเฉลี่ย (ทศนิยม 3 ตำแหน่ง)"
   ]
  },
  {
   "cell_type": "code",
   "execution_count": 26,
   "metadata": {},
   "outputs": [
    {
     "name": "stdout",
     "output_type": "stream",
     "text": [
      "14.308\n"
     ]
    }
   ],
   "source": [
    "# Answer\n",
    "\n",
    "filename = \"Score.txt\"\n",
    "folder = \"D:\\Read_file\"\n",
    "file_read = os.path.join(folder, filename)\n",
    "data = []\n",
    "\n",
    "with open(file_read, 'r') as txt_file:\n",
    "    for i, line in enumerate(txt_file):\n",
    "        if i < 1: \n",
    "            continue\n",
    "        name, score = line.strip().split(' ')\n",
    "        data.append(float(score))\n",
    "\n",
    "print(round(sum(data)/len(data), 3))"
   ]
  },
  {
   "cell_type": "markdown",
   "metadata": {},
   "source": [
    "#### Math\n",
    "\n",
    "ใช้การคำนวณทางคณิตศาสตร์ เช่น \n",
    "1. `math.pi` ค่า PI \n",
    "2. `math.e` ค่า e \n",
    "3. `math.sqrt()` หาค่ารากที่สอง\n",
    "4. `math.radians()` หาค่า มุมหน่วย radians จาก มุมหน่วยองศา\n",
    "5. `math.sin()` หาค่า sin ของมุมหน่วย radians \n",
    "6. `math.cos()` หาค่า cos ของมุมหน่วย radians \n",
    "7. `math.tan()` หาค่า tan ของมุมหน่วย radians \n",
    "8. `math.ceil()` ปัดเศษทศนิยมที่มากกว่า 0 ขึ้น\n",
    "9. `math.floor()` ปัดเศษทศนิยมลง \n",
    "10. `math.pow()` ยกกำลัง\n",
    "11. `math.dist()` หาระยะห่างระหว่างจุด 2 จุด\n"
   ]
  },
  {
   "cell_type": "code",
   "execution_count": null,
   "metadata": {},
   "outputs": [],
   "source": [
    "import math"
   ]
  },
  {
   "cell_type": "code",
   "execution_count": null,
   "metadata": {},
   "outputs": [],
   "source": [
    "# PI & e\n",
    "\n",
    "print(math.pi)\n",
    "print(math.e)"
   ]
  },
  {
   "cell_type": "code",
   "execution_count": null,
   "metadata": {},
   "outputs": [],
   "source": [
    "# square root\n",
    "\n",
    "x = math.sqrt(9)\n",
    "print(x)"
   ]
  },
  {
   "cell_type": "code",
   "execution_count": null,
   "metadata": {},
   "outputs": [],
   "source": [
    "# sin + radians\n",
    "x_0 = math.sin(math.radians(0))\n",
    "x_90 = math.sin(math.radians(90))\n",
    "\n",
    "print(x_0)\n",
    "print(x_90)"
   ]
  },
  {
   "cell_type": "code",
   "execution_count": null,
   "metadata": {},
   "outputs": [],
   "source": [
    "# cos + radians\n",
    "x_0 = math.cos(math.radians(0))\n",
    "x_90 = math.cos(math.radians(90))\n",
    "\n",
    "print(x_0)\n",
    "print(x_90)"
   ]
  },
  {
   "cell_type": "code",
   "execution_count": null,
   "metadata": {},
   "outputs": [],
   "source": [
    "# tan + radians\n",
    "x_0 = math.tan(math.radians(0))\n",
    "x_90 = math.tan(math.radians(90))\n",
    "print(x_0)\n",
    "print(x_90)"
   ]
  },
  {
   "cell_type": "code",
   "execution_count": null,
   "metadata": {},
   "outputs": [],
   "source": [
    "# ceiling\n",
    "print(math.ceil(1.0))\n",
    "print(math.ceil(1.1))\n",
    "print(math.ceil(1.4))\n",
    "print(math.ceil(1.5))\n",
    "print(math.ceil(1.6))\n",
    "print(math.ceil(1.9))"
   ]
  },
  {
   "cell_type": "code",
   "execution_count": null,
   "metadata": {},
   "outputs": [],
   "source": [
    "# floor\n",
    "print(math.floor(1.0))\n",
    "print(math.floor(1.1))\n",
    "print(math.floor(1.4))\n",
    "print(math.floor(1.5))\n",
    "print(math.floor(1.6))\n",
    "print(math.floor(1.9))"
   ]
  },
  {
   "cell_type": "code",
   "execution_count": null,
   "metadata": {},
   "outputs": [],
   "source": [
    "# pow\n",
    "print(math.pow(3,1))    # 3**1\n",
    "print(math.pow(3,2))    # 3**2\n",
    "print(math.pow(3,3))    # 3**3\n",
    "print(math.pow(3,4))    # 3**4\n",
    "print(math.pow(3,5))    # 3**5"
   ]
  },
  {
   "cell_type": "code",
   "execution_count": null,
   "metadata": {},
   "outputs": [],
   "source": [
    "# dist\n",
    "\n",
    "print(math.dist((0, 0), (1, 1)))\n",
    "print(math.dist((0, 1), (0, 2)))\n",
    "print(math.dist((1, 0), (1, 0)))\n",
    "print(math.dist((-3, 1), (3, -1)))"
   ]
  },
  {
   "cell_type": "markdown",
   "metadata": {},
   "source": [
    "#### Datetime\n",
    "เป็น data type ที่ใช้กับการคำนวณวัน-เวลา โดยต้อง import module datetime เข้ามาใช้\n",
    "\n",
    "Built-in method ที่น่าสนใจ\n",
    "1. `strftime()` แปลง datetime เป็น string ตาม format ที่ต้องการ \n",
    "2. `strptime()` แปลง string เป็น datetime จาก format ที่กำหนด\n",
    "\n",
    "สามารถดู format ได้ดังนี้ \n",
    "[https://www.w3schools.com/python/python_datetime.asp]"
   ]
  },
  {
   "cell_type": "code",
   "execution_count": null,
   "metadata": {},
   "outputs": [],
   "source": [
    "import datetime"
   ]
  },
  {
   "cell_type": "code",
   "execution_count": null,
   "metadata": {},
   "outputs": [],
   "source": [
    "x = datetime.datetime.now()\n",
    "\n",
    "print(x, type(x))"
   ]
  },
  {
   "cell_type": "code",
   "execution_count": null,
   "metadata": {},
   "outputs": [],
   "source": [
    "# access date & time\n",
    "\n",
    "day = x.day\n",
    "month = x.month\n",
    "year = x.year\n",
    "hour = x.hour\n",
    "minute = x.minute\n",
    "\n",
    "print(day, type(day))\n",
    "print(month, type(month))\n",
    "print(year, type(year))\n",
    "print(hour, type(hour))\n",
    "print(minute, type(minute))"
   ]
  },
  {
   "cell_type": "code",
   "execution_count": null,
   "metadata": {},
   "outputs": [],
   "source": [
    "# strftime()\n",
    "x = datetime.datetime.now()\n",
    "\n",
    "wd = x.strftime('%a')\n",
    "weekday = x.strftime('%A')\n",
    "m = x.strftime('%b')\n",
    "mouth = x.strftime('%B')\n",
    "dmy = x.strftime('%d %m %Y')\n",
    "\n",
    "print(wd)\n",
    "print(weekday)\n",
    "print(m)\n",
    "print(mouth)\n",
    "print(dmy)"
   ]
  },
  {
   "cell_type": "code",
   "execution_count": null,
   "metadata": {},
   "outputs": [],
   "source": [
    "# strptime()\n",
    "s = '20-05-2022'\n",
    "x = datetime.datetime.strptime(s, '%d-%m-%Y')\n",
    "\n",
    "print(x, type(x))"
   ]
  },
  {
   "cell_type": "code",
   "execution_count": null,
   "metadata": {},
   "outputs": [],
   "source": [
    "# create datetime\n",
    "x = datetime.datetime(2022, 8, 1)\n",
    "print(x, type(x))"
   ]
  },
  {
   "cell_type": "markdown",
   "metadata": {},
   "source": [
    "##### Time delta \n",
    "ใช้บวกลบวัน เวลา"
   ]
  },
  {
   "cell_type": "code",
   "execution_count": null,
   "metadata": {},
   "outputs": [],
   "source": [
    "# timedelta บวกลบ วัน เวลา ได้\n",
    "\n",
    "x = datetime.datetime(2022, 8, 1)\n",
    "\n",
    "y = x + datetime.timedelta(days=2)\n",
    "z = x + datetime.timedelta(hours=5)\n",
    "\n",
    "print(x)\n",
    "print(y)\n",
    "print(z)"
   ]
  },
  {
   "cell_type": "markdown",
   "metadata": {},
   "source": [
    "##### การดำเนินการกับเวลา\n",
    "การลบ จะได้จำนวนวันที่ต่างกัน <br>\n",
    "การเปรียบเทียบ สามารถเปรียบเทียบ datetime ได้ปกติ"
   ]
  },
  {
   "cell_type": "code",
   "execution_count": null,
   "metadata": {},
   "outputs": [],
   "source": [
    "# การลบ\n",
    "c = datetime.datetime(2022, 1, 12, 10) - datetime.datetime(2022, 1, 1, 15)\n",
    "print(c, type(c))\n",
    "print(c.days, type(c.days))\n",
    "print(c.seconds, type(c.seconds))\n",
    "print(f\"h = {c.seconds/3600}\")"
   ]
  },
  {
   "cell_type": "code",
   "execution_count": null,
   "metadata": {},
   "outputs": [],
   "source": [
    "# การเปรียบเทียบ\n",
    "a = datetime.datetime.now()\n",
    "b = datetime.datetime(2022, 5, 17)\n",
    "\n",
    "print(f\"a == b : {a == b}\")\n",
    "print(f\"a <  b : {a < b}\")\n",
    "print(f\"a <= b : {a <= b}\")\n",
    "print(f\"a >  b : {a > b}\")\n",
    "print(f\"a >= b : {a >= b}\")"
   ]
  },
  {
   "cell_type": "markdown",
   "metadata": {},
   "source": [
    "#### Date Util\n",
    "\n",
    "สามารถใช้ module นี้สำหรับการ add/subtract datetime ได้ <br>\n",
    "โดยจะ import module relativedelta จาก dateutil"
   ]
  },
  {
   "cell_type": "code",
   "execution_count": null,
   "metadata": {},
   "outputs": [],
   "source": [
    "from dateutil.relativedelta import relativedelta"
   ]
  },
  {
   "cell_type": "code",
   "execution_count": null,
   "metadata": {},
   "outputs": [],
   "source": [
    "# add/subtract days\n",
    "x = datetime.datetime(2022, 1, 1)\n",
    "y = x - relativedelta(days=5)\n",
    "z = x + relativedelta(days=5)\n",
    "\n",
    "print(x)\n",
    "print(y)\n",
    "print(z)"
   ]
  },
  {
   "cell_type": "code",
   "execution_count": null,
   "metadata": {},
   "outputs": [],
   "source": [
    "# add/subtract months\n",
    "x = datetime.datetime(2022, 1, 1)\n",
    "y = x - relativedelta(months=5)\n",
    "z = x + relativedelta(months=5)\n",
    "\n",
    "print(x)\n",
    "print(y)\n",
    "print(z)"
   ]
  },
  {
   "cell_type": "code",
   "execution_count": null,
   "metadata": {},
   "outputs": [],
   "source": [
    "# add/subtract years\n",
    "x = datetime.datetime(2022, 1, 1)\n",
    "y = x - relativedelta(years=5)\n",
    "z = x + relativedelta(years=5)\n",
    "\n",
    "print(x)\n",
    "print(y)\n",
    "print(z)"
   ]
  },
  {
   "cell_type": "code",
   "execution_count": null,
   "metadata": {},
   "outputs": [],
   "source": [
    "# add/subtract hours\n",
    "x = datetime.datetime(2022, 1, 1)\n",
    "y = x - relativedelta(hours=5)\n",
    "z = x + relativedelta(hours=5)\n",
    "\n",
    "print(x)\n",
    "print(y)\n",
    "print(z)"
   ]
  },
  {
   "cell_type": "code",
   "execution_count": null,
   "metadata": {},
   "outputs": [],
   "source": [
    "# add/subtract minutes\n",
    "x = datetime.datetime(2022, 1, 1)\n",
    "y = x - relativedelta(minutes=5)\n",
    "z = x + relativedelta(minutes=5)\n",
    "\n",
    "print(x)\n",
    "print(y)\n",
    "print(z)"
   ]
  },
  {
   "cell_type": "code",
   "execution_count": null,
   "metadata": {},
   "outputs": [],
   "source": [
    "# add/subtract minutes\n",
    "x = datetime.datetime(2022, 1, 1)\n",
    "y = x - relativedelta(days=1, months=2, years=3, hours=1, minutes=10)\n",
    "z = x + relativedelta(days=1, months=2, years=3, hours=1, minutes=10)\n",
    "\n",
    "print(x)\n",
    "print(y)\n",
    "print(z)"
   ]
  }
 ],
 "metadata": {
  "interpreter": {
   "hash": "1f0945ea651c1069c7af037cbbaa82eca29c1e053adfed76f992832db8b6af67"
  },
  "kernelspec": {
   "display_name": "Python 3.9.10 64-bit",
   "language": "python",
   "name": "python3"
  },
  "language_info": {
   "codemirror_mode": {
    "name": "ipython",
    "version": 3
   },
   "file_extension": ".py",
   "mimetype": "text/x-python",
   "name": "python",
   "nbconvert_exporter": "python",
   "pygments_lexer": "ipython3",
   "version": "3.9.10"
  },
  "orig_nbformat": 4
 },
 "nbformat": 4,
 "nbformat_minor": 2
}
