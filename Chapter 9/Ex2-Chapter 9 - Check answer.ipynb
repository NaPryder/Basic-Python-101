{
 "cells": [
  {
   "cell_type": "markdown",
   "metadata": {},
   "source": [
    "# Excercise 2 - Check answer"
   ]
  },
  {
   "cell_type": "markdown",
   "metadata": {},
   "source": [
    "Input: <br>\n",
    "อ่านข้อมูลจากไฟล์ \"Anwsers.txt\" ที่อยู่ในโฟลเดอร์ \"D:\\Read_file\" <br>\n",
    "- บรรทัดที่ 1 เป็นเฉลยคำตอบ A, B, C, D  <br>\n",
    "- บรรทัดที่ 2 ถึงบรรทัดสุดท้าย แต่ละบรรทัด เก็บข้อมูลเลขประจำตัว ตามด้วยช่องว่างหนึ่งช่อง ตามด้วยชุดคำตอบ A, B, C, D (กรณีเป็นช่องว่าง หรือ ตัวอักขระอื่นที่ไม่ใช่ A, B, C, D คือ ไม่ตอบข้อนั้น ) เรียงลำดับจากข้อ 1 ถึงข้อสุดท้าย <br>\n",
    "\n",
    "Process: <br>\n",
    "- เขียนไฟล์ใหม่ ชื่อ \"result.txt\" เก็บไว้ในโฟลเดอร์ \"D:\\Read_file\"\n",
    "- แต่ละบรรทัดของไฟล์ประกอบด้วยเลขประจำตัวตามด้วยคะแนนที่ได้ คั่นด้วย comma\n",
    "\n",
    "Output: <br>\n",
    "บันทึกคะแนนของแต่ละคนลงไฟล์ \"result.txt\""
   ]
  },
  {
   "cell_type": "markdown",
   "metadata": {},
   "source": [
    "### ตัวอย่าง\n",
    "|input                      |     Output       |\n",
    "|-------                    |------------------|\n",
    "| read from file \"Anwsers.txt\"<br>AABBCCCBBCCDDDABABDDCCDDCC<br>0001 AABBCCCBBCCDDDABABDDCCDDCA<br>0002 A BBCD BDBAAABA ABDBCCCDCC<br>0003 ABABCCNNAADDDABAB CCDDAC C<br>0004 AABBCCCBBCCDDDABABDDCCDD D<br>0005 AABBC D BCCDDDABABDDCCDD A<br>0006 C BBCCCBBCCDCDABABD A DDC<br>0007 A CBCCCBABCCD ABABDAA DD<br>0008 A CB AABABC DDABABD ABDCCC<br>0009 AABBCCCBB CDDDABABDCA DCCC | write to file \"result.txt\"<br>0001, 25<br>0002, 14<br>0003, 7<br>0004, 24<br>0005, 21<br>0006, 19<br>0007, 15<br>0008, 14<br>0009, 21|"
   ]
  },
  {
   "cell_type": "code",
   "execution_count": 29,
   "metadata": {},
   "outputs": [],
   "source": [
    "# Answer\n",
    "import os\n",
    "\n",
    "def check_answer(test_answer, answer):\n",
    "    score = 0\n",
    "    for i in range(len(answer)):\n",
    "        if answer[i] == test_answer[i]:\n",
    "            score += 1\n",
    "    return score\n",
    "\n",
    "def write_file(file_save, data):\n",
    "    with open(file_save, 'w') as txt_file:\n",
    "        for line in data:\n",
    "            txt_file.write(line + \"\\n\")"
   ]
  },
  {
   "cell_type": "code",
   "execution_count": 30,
   "metadata": {},
   "outputs": [
    {
     "name": "stdout",
     "output_type": "stream",
     "text": [
      "['0001, 25', '0002, 14', '0003, 7', '0004, 24', '0005, 21', '0006, 19', '0007, 15', '0008, 14', '0009, 21']\n"
     ]
    }
   ],
   "source": [
    "file_read = os.path.join(r\"D:\\Read_file\", \"Answers.txt\")\n",
    "file_save = os.path.join(r\"D:\\Read_file\", \"result.txt\")\n",
    "data = []\n",
    "\n",
    "\n",
    "with open(file_read, 'r') as txt_file:\n",
    "    test_answer = ''\n",
    "    for i, line in enumerate(txt_file):\n",
    "        if i < 1: \n",
    "            test_answer = [a for a in line.strip()]\n",
    "            continue\n",
    "        split_idx = line.strip().find(' ')\n",
    "        name = line[:split_idx].strip()\n",
    "        answer = line[split_idx:].strip()\n",
    "        score = check_answer(test_answer, answer)\n",
    "\n",
    "        data.append(f\"{name}, {score}\")\n",
    "        \n",
    "write_file(file_save, data)\n",
    "# print(data)"
   ]
  }
 ],
 "metadata": {
  "interpreter": {
   "hash": "1f0945ea651c1069c7af037cbbaa82eca29c1e053adfed76f992832db8b6af67"
  },
  "kernelspec": {
   "display_name": "Python 3.9.10 64-bit",
   "language": "python",
   "name": "python3"
  },
  "language_info": {
   "codemirror_mode": {
    "name": "ipython",
    "version": 3
   },
   "file_extension": ".py",
   "mimetype": "text/x-python",
   "name": "python",
   "nbconvert_exporter": "python",
   "pygments_lexer": "ipython3",
   "version": "3.9.10"
  },
  "orig_nbformat": 4
 },
 "nbformat": 4,
 "nbformat_minor": 2
}
