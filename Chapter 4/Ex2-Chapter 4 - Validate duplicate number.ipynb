{
 "cells": [
  {
   "cell_type": "markdown",
   "metadata": {},
   "source": [
    "# Excercise 2 - Validate duplicate number"
   ]
  },
  {
   "cell_type": "markdown",
   "metadata": {},
   "source": [
    "รับค่าสตริง 1 บรรทัด จาก keyboard (เป็นข้อความที่ประกอบด้วยตัวเลข 0-9)<br>\n",
    "ตรวจสอบว่าสตริงที่รับเข้ามามีเลขซ้ำกันหรือไม่<br>\n",
    "เช่น ถ้ารับ '...102..89..3..' แบบนี้ไม่มีเลขซ้ำ <br>\n",
    "แต่ถ้ารับ '...102..89.2....' แบบนี้มีเลข 2 ซ้ำกัน\n",
    "\n",
    "Hint:<br>\n",
    "- ใช้ loop ในการแจกแจงสตริง\n",
    "- ตรวจสอบเลขซ้ำโดยใช้ if \n",
    "- ใช้วิธี slice string เพื่อตรวจสอบเลขซ้ำตัวถัดไปในสตริง\n",
    "- ใช้ enumerate เพื่อเก็บ index ของ loop"
   ]
  },
  {
   "cell_type": "markdown",
   "metadata": {},
   "source": [
    "### ตัวอย่าง\n",
    "|Input              |     Output       |\n",
    "|-------            |------------------|\n",
    "| ...102..89..3..     | False    |\n",
    "| ...102..89.2..       | True    |\n",
    "| AA445298   | True    |"
   ]
  },
  {
   "cell_type": "code",
   "execution_count": null,
   "metadata": {},
   "outputs": [],
   "source": [
    "string = input(\"Enter string:\")\n",
    "result = ''\n",
    "for i, c in enumerate(string):\n",
    "    print(i, c ,  string[i+1:])\n",
    "    if ('0' <= c <= '9') and (c in string[i+1:]):\n",
    "        print(True)\n",
    "        break\n",
    "else:\n",
    "    print(False)"
   ]
  }
 ],
 "metadata": {
  "interpreter": {
   "hash": "1f0945ea651c1069c7af037cbbaa82eca29c1e053adfed76f992832db8b6af67"
  },
  "kernelspec": {
   "display_name": "Python 3.9.10 64-bit",
   "language": "python",
   "name": "python3"
  },
  "language_info": {
   "codemirror_mode": {
    "name": "ipython",
    "version": 3
   },
   "file_extension": ".py",
   "mimetype": "text/x-python",
   "name": "python",
   "nbconvert_exporter": "python",
   "pygments_lexer": "ipython3",
   "version": "3.9.10"
  },
  "orig_nbformat": 4
 },
 "nbformat": 4,
 "nbformat_minor": 2
}
