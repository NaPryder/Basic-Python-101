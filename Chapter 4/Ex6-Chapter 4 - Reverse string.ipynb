{
 "cells": [
  {
   "cell_type": "markdown",
   "metadata": {},
   "source": [
    "# Excercise 5 - Reverse string"
   ]
  },
  {
   "cell_type": "markdown",
   "metadata": {},
   "source": [
    "รับค่าสตริง s ความยาว n ตัว <br>\n",
    "ต้องการสตริงที่เรียงจากตัวสุดท้ายถึงตัวแรกของสตริง s"
   ]
  },
  {
   "cell_type": "markdown",
   "metadata": {},
   "source": [
    "### ตัวอย่าง\n",
    "|Input              |     Output       |\n",
    "|-------            |------------------|\n",
    "| \"ABCDE\"           | \"EDCBA\"    |\n",
    "| \"12345678\"       | \"87654321\"    |"
   ]
  },
  {
   "cell_type": "code",
   "execution_count": 2,
   "metadata": {},
   "outputs": [
    {
     "name": "stdout",
     "output_type": "stream",
     "text": [
      "['A', 'B', 'C', 'D', 'E']\n",
      "EDCBA\n"
     ]
    }
   ],
   "source": [
    "# two pointers\n",
    "\n",
    "s = input()\n",
    "left = 0\n",
    "right = len(s) - 1\n",
    "\n",
    "x = [e for e in s]\n",
    "print(x)\n",
    "while left < right:\n",
    "    x[left], x[right] = x[right], x[left]\n",
    "    left += 1\n",
    "    right -= 1\n",
    "\n",
    "print(''.join(x))\n"
   ]
  },
  {
   "cell_type": "code",
   "execution_count": 1,
   "metadata": {},
   "outputs": [
    {
     "name": "stdout",
     "output_type": "stream",
     "text": [
      "EDCBA\n"
     ]
    }
   ],
   "source": [
    "x = 'ABCDE'\n",
    "print(x[::-1])"
   ]
  }
 ],
 "metadata": {
  "interpreter": {
   "hash": "1f0945ea651c1069c7af037cbbaa82eca29c1e053adfed76f992832db8b6af67"
  },
  "kernelspec": {
   "display_name": "Python 3.9.10 64-bit",
   "language": "python",
   "name": "python3"
  },
  "language_info": {
   "codemirror_mode": {
    "name": "ipython",
    "version": 3
   },
   "file_extension": ".py",
   "mimetype": "text/x-python",
   "name": "python",
   "nbconvert_exporter": "python",
   "pygments_lexer": "ipython3",
   "version": "3.9.10"
  },
  "orig_nbformat": 4
 },
 "nbformat": 4,
 "nbformat_minor": 2
}
