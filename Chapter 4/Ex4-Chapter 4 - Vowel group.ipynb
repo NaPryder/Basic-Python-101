{
 "cells": [
  {
   "cell_type": "markdown",
   "metadata": {},
   "source": [
    "# Excercise 4 - Vowel group"
   ]
  },
  {
   "cell_type": "markdown",
   "metadata": {},
   "source": [
    "คำภาษาอังกฤษมีสระ คือ a, e, i, o, u จะเรียกสระที่อยู่ติดกันว่ากลุ่มสระ เช่น)<br>\n",
    "`beautiful` มี 3 กลุ่มสระ คือ eau, i, u <br>\n",
    "`vowel` มี 2 กลุ่มสระ คือ o, e <br>\n",
    "`group` มี 1 กลุ่มสระ คือ ou <br>\n",
    "`rhythm` มี 0 กลุ่มสระ  <br>\n",
    "\n",
    "รับค่าสตริง 1 บรรทัด จาก keyboard (เป็นข้อความภาษาอังกฤษ เว้นวรรคได้ เป็นตัวเลขได้)<br>\n",
    "ตรวจสอบว่าสตริงที่รับเข้ามามีจำนวนกลุ่มสระกี่กลุ่ม<br>\n",
    "\n",
    "Hint:<br>\n",
    "- ใช้ loop ในการแจกแจงสตริง\n",
    "- ตรวจสอบเงื่อนไขว่าเป็นสระหรือไม่โดยใช้ in\n",
    "- ใช้ boolean เก็บค่าว่าตัวอักษรเป็นกลุ่มสระเดียวกันกับตัวอักษรก่อนหน้าหรือไม่"
   ]
  },
  {
   "cell_type": "markdown",
   "metadata": {},
   "source": [
    "### ตัวอย่าง\n",
    "|Input              |     Output       |\n",
    "|-------            |------------------|\n",
    "| beautiful         | 3    |\n",
    "| vowel             | 2    |\n",
    "| group             | 1    |\n",
    "| rhythm            | 0    |"
   ]
  },
  {
   "cell_type": "code",
   "execution_count": null,
   "metadata": {},
   "outputs": [],
   "source": [
    "string = input()\n",
    "\n",
    "is_vowel = False\n",
    "group_count = 0\n",
    "\n",
    "for c in string:\n",
    "    \n",
    "    if c in 'aeiou':\n",
    "        if is_vowel:\n",
    "            continue\n",
    "        else:\n",
    "            group_count += 1\n",
    "            is_vowel = True\n",
    "    else:\n",
    "        is_vowel = False    \n",
    "\n",
    "print(group_count)"
   ]
  }
 ],
 "metadata": {
  "interpreter": {
   "hash": "1f0945ea651c1069c7af037cbbaa82eca29c1e053adfed76f992832db8b6af67"
  },
  "kernelspec": {
   "display_name": "Python 3.9.10 64-bit",
   "language": "python",
   "name": "python3"
  },
  "language_info": {
   "codemirror_mode": {
    "name": "ipython",
    "version": 3
   },
   "file_extension": ".py",
   "mimetype": "text/x-python",
   "name": "python",
   "nbconvert_exporter": "python",
   "pygments_lexer": "ipython3",
   "version": "3.9.10"
  },
  "orig_nbformat": 4
 },
 "nbformat": 4,
 "nbformat_minor": 2
}
