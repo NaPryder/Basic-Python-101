{
 "cells": [
  {
   "cell_type": "markdown",
   "metadata": {},
   "source": [
    "# Excercise 5 - Convert date"
   ]
  },
  {
   "cell_type": "markdown",
   "metadata": {},
   "source": [
    "อ่านวันที่ในรูปแบบ เดือน/วัน/ปี (mm/dd/yyyy) โดยรับค่าทาง keyboard <br>\n",
    "แปลงวันที่ให้อยู่ในรูปแบบ วันที่ เดือน ปี (dd MMM yyyy) โดยค่าของเดือนจะแปลงเป็นตัวย่อของเดือน<br>\n",
    "\n",
    "\n",
    "Hint:<br>\n",
    "- เข้าถึงข้อมูลวัน เดือน ปี โดยใช้ slice string\n",
    "- แปลงข้อมูลเดือนจากจำนวนเต็มเป็นสตริงที่เก็บข้อมูลชื่อเดือนเป็นค่าคงที่"
   ]
  },
  {
   "cell_type": "markdown",
   "metadata": {},
   "source": [
    "### ตัวอย่าง\n",
    "|Input              |     Output       |\n",
    "|-------            |------------------|\n",
    "| 08/27/2017        | 27 AUG 2017    |\n",
    "| 02/01/2018        | 01 FEB 2018    |"
   ]
  },
  {
   "cell_type": "code",
   "execution_count": 6,
   "metadata": {},
   "outputs": [
    {
     "name": "stdout",
     "output_type": "stream",
     "text": [
      "27 AUG 2017\n"
     ]
    }
   ],
   "source": [
    "string = input(\"Enter string:\")\n",
    "months = \"JANFEBMARAPRMAYJUNJULAUGSEPOCTNOVDEC\"\n",
    "\n",
    "m = int(string[0:2])\n",
    "dd = string[3:5]\n",
    "yyyy = string[6:]\n",
    "if 1 <= m <= 12:\n",
    "    mmm = months[(m-1)*3:m*3]\n",
    "\n",
    "    print(f\"{dd} {mmm} {yyyy}\")\n"
   ]
  }
 ],
 "metadata": {
  "interpreter": {
   "hash": "1f0945ea651c1069c7af037cbbaa82eca29c1e053adfed76f992832db8b6af67"
  },
  "kernelspec": {
   "display_name": "Python 3.9.10 64-bit",
   "language": "python",
   "name": "python3"
  },
  "language_info": {
   "codemirror_mode": {
    "name": "ipython",
    "version": 3
   },
   "file_extension": ".py",
   "mimetype": "text/x-python",
   "name": "python",
   "nbconvert_exporter": "python",
   "pygments_lexer": "ipython3",
   "version": "3.9.10"
  },
  "orig_nbformat": 4
 },
 "nbformat": 4,
 "nbformat_minor": 2
}
