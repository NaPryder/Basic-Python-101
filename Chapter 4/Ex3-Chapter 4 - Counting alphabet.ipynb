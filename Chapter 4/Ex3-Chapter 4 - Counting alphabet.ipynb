{
 "cells": [
  {
   "cell_type": "markdown",
   "metadata": {},
   "source": [
    "# Excercise 3 - Counting alphabet"
   ]
  },
  {
   "cell_type": "markdown",
   "metadata": {},
   "source": [
    "รับค่าสตริง 1 บรรทัด จาก keyboard (เป็นข้อความภาษาอังกฤษ เว้นวรรคได้ เป็นตัวเลขได้)<br>\n",
    "ตรวจสอบว่าสตริงที่รับเข้ามามีจำนวนตัวอักษรที่เป็นตัวใหญ่กี่ตัว<br>\n",
    "\n",
    "Hint:<br>\n",
    "- ใช้ loop ในการแจกแจงสตริง\n",
    "- ตรวจสอบเงื่อนไขเป็นตัวอักษรก่อน ตรวจสอบตัวใหญ่/เล็ก"
   ]
  },
  {
   "cell_type": "markdown",
   "metadata": {},
   "source": [
    "### ตัวอย่าง\n",
    "|Input              |     Output       |\n",
    "|-------            |------------------|\n",
    "| HelLo WoRLd       | 5    |\n",
    "| PYTHON1234        | 6    |\n",
    "| yes !!!           | 0    |"
   ]
  },
  {
   "cell_type": "code",
   "execution_count": 4,
   "metadata": {},
   "outputs": [
    {
     "name": "stdout",
     "output_type": "stream",
     "text": [
      "0\n"
     ]
    }
   ],
   "source": [
    "string = input(\"Enter string:\")\n",
    "result_upper = 0\n",
    "for c in string:\n",
    "    if c.isalpha() and c.isupper():\n",
    "        result_upper += 1\n",
    "\n",
    "print(result_upper)"
   ]
  }
 ],
 "metadata": {
  "interpreter": {
   "hash": "1f0945ea651c1069c7af037cbbaa82eca29c1e053adfed76f992832db8b6af67"
  },
  "kernelspec": {
   "display_name": "Python 3.9.10 64-bit",
   "language": "python",
   "name": "python3"
  },
  "language_info": {
   "codemirror_mode": {
    "name": "ipython",
    "version": 3
   },
   "file_extension": ".py",
   "mimetype": "text/x-python",
   "name": "python",
   "nbconvert_exporter": "python",
   "pygments_lexer": "ipython3",
   "version": "3.9.10"
  },
  "orig_nbformat": 4
 },
 "nbformat": 4,
 "nbformat_minor": 2
}
