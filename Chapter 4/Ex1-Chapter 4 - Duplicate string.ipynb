{
 "cells": [
  {
   "cell_type": "markdown",
   "metadata": {},
   "source": [
    "# Excercise 1 - Duplicate string"
   ]
  },
  {
   "cell_type": "markdown",
   "metadata": {},
   "source": [
    "รับค่าสตริง 1 บรรทัด จาก keyboard<br>\n",
    "รับค่า n เป็นจำนวนเต็มจาก keyboard (n > 1)<br>\n",
    "สร้างสตริงใหม่ที่ทุกอักขระในสตริงที่รับเข้ามา ให้ปรากฎซ้ำอีก n ตัว<br><br>\n",
    "\n",
    "Hint:<br>\n",
    "- ใช้ loop ในการแจกแจงสตริง\n",
    "- ใช้การเก็บสะสมสตริงเพื่อแสดงผลทีเดียว"
   ]
  },
  {
   "cell_type": "markdown",
   "metadata": {},
   "source": [
    "### ตัวอย่าง\n",
    "|Input              |     Output       |\n",
    "|-------            |------------------|\n",
    "| pypy<br>2       | ppyyppyy    |\n",
    "| ABC<br>3       | AAABBBCCC    |\n",
    "| 111 222 333<br>3   | 111111111   222222222   333333333      |"
   ]
  },
  {
   "cell_type": "code",
   "execution_count": null,
   "metadata": {},
   "outputs": [],
   "source": [
    "# string = input(\"Enter string:\")\n",
    "# n = int(input(\"Enter n:\")) \n",
    "\n",
    "string = \"RR TT\"\n",
    "n = 2\n",
    "result = ''\n",
    "for c in string:\n",
    "    result += c * n # RRRR  TTTT \n",
    "    print(result)\n",
    "\n",
    "print(result)"
   ]
  }
 ],
 "metadata": {
  "interpreter": {
   "hash": "1f0945ea651c1069c7af037cbbaa82eca29c1e053adfed76f992832db8b6af67"
  },
  "kernelspec": {
   "display_name": "Python 3.9.10 64-bit",
   "language": "python",
   "name": "python3"
  },
  "language_info": {
   "codemirror_mode": {
    "name": "ipython",
    "version": 3
   },
   "file_extension": ".py",
   "mimetype": "text/x-python",
   "name": "python",
   "nbconvert_exporter": "python",
   "pygments_lexer": "ipython3",
   "version": "3.9.10"
  },
  "orig_nbformat": 4
 },
 "nbformat": 4,
 "nbformat_minor": 2
}
