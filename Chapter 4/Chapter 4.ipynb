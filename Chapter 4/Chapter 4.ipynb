{
 "cells": [
  {
   "cell_type": "markdown",
   "metadata": {},
   "source": [
    "# Basic Python \n",
    "\n",
    "## Chapter 4 - String"
   ]
  },
  {
   "cell_type": "markdown",
   "metadata": {},
   "source": [
    "### ทบทวน string\n",
    "\n",
    "- เก็บอักขระ (character) ตั้งแต่ 0 ตัวขึ้นไป เรียงจากซ้ายไปขวา ไว้ใน quote\n",
    "- อักขระแต่ละตัวเป็น ตัวเลข ตัวอักษร หรือสัญลักษณ์ต่าง ๆ \n",
    "- อักขระแต่ละตัวมีเลข index ระบุตำแหน่ง โดย index คัวแรกนับเริ่มจากซ้ายสุด คือ 0\n",
    "\n",
    "เปลี่ยน data type อื่น ๆ เป็น string ได้ ด้วยการ casting `str()`"
   ]
  },
  {
   "cell_type": "markdown",
   "metadata": {},
   "source": [
    "#### การเขียนสตริง\n",
    "เขียนได้ 4 แบบ\n",
    "1. ใช้ single quotes เช่น ` 'I am \"Python\".' `\n",
    "2. ใช้ double quotes เช่น ` \"I'm Python.\" `\n",
    "2. ใช้ tripple single quotes เช่น ` '''I am \"Python\".''' `\n",
    "2. ใช้ tripple double quotes เช่น ` \"\"\"I'm Python.\"\"\" `"
   ]
  },
  {
   "cell_type": "markdown",
   "metadata": {},
   "source": [
    "#### การนับ index \n",
    "\n",
    "จะเริ่มนับจากอักขระตัวแรก (ซ้ายสุด) นับเริ่มที่ 0 เช่น\n",
    "\n",
    "```python\n",
    "name = \"John1234\"\n",
    "```\n",
    "\n",
    "แยกอักขระแต่ละตัวได้ดังนี้\n",
    "\n",
    "|Character  |  Index       |Negative Index       |\n",
    "|-------    |--------------|----------|\n",
    "| `\"J\"`       | 0            | -8    |\n",
    "| `\"o\"`       | 1            | -7       |\n",
    "| `\"h\"`       | 2            | -6   |\n",
    "| `\"1\"`       | 4            | -4   |   \n",
    "| `\"n\"`       | 3            | -5   |\n",
    "| `\"2\"`       | 5            | -3   |\n",
    "| `\"3\"`       | 6            | -2   |\n",
    "| `\"4\"`       | 7            | -1   |\n",
    "\n",
    "*จุดสังเกต มีอักขระทั้งหมด 8 ตัว แต่ index ตัวสุดท้ายเท่ากับ 7 เพราะว่านับเริ่มที่ 0*"
   ]
  },
  {
   "cell_type": "markdown",
   "metadata": {},
   "source": [
    "#### การหาจำนวนของสตริง\n",
    "\n",
    "ใช้ฟังก์ชัน `len()` เพื่อหาจำนวน"
   ]
  },
  {
   "cell_type": "code",
   "execution_count": null,
   "metadata": {},
   "outputs": [],
   "source": [
    "name = \"John1234\"\n",
    "print(len(name))"
   ]
  },
  {
   "cell_type": "code",
   "execution_count": null,
   "metadata": {},
   "outputs": [],
   "source": [
    "name = \"John 1234\"\n",
    "print(len(name))"
   ]
  },
  {
   "cell_type": "code",
   "execution_count": null,
   "metadata": {},
   "outputs": [],
   "source": [
    "name = \"12\"\n",
    "print(len(name))"
   ]
  },
  {
   "cell_type": "code",
   "execution_count": null,
   "metadata": {},
   "outputs": [],
   "source": [
    "name = ''\n",
    "print(len(name))"
   ]
  },
  {
   "cell_type": "code",
   "execution_count": null,
   "metadata": {},
   "outputs": [],
   "source": [
    "name = ' '\n",
    "print(len(name))"
   ]
  },
  {
   "cell_type": "markdown",
   "metadata": {},
   "source": [
    "#### การเข้าถึงอักขระแต่ละตัว\n",
    "\n",
    "```python\n",
    "name = \"John1234\"\n",
    "```\n",
    "\n",
    "เราสามารถเข้าถึงอักขระแต่ละตัวได้โดยการระบุ index ดังนี้\n",
    "```python\n",
    "first_char = name[0]\n",
    "second_char = name[1]\n",
    "third_char = name[2]\n",
    "```"
   ]
  },
  {
   "cell_type": "code",
   "execution_count": 12,
   "metadata": {},
   "outputs": [
    {
     "name": "stdout",
     "output_type": "stream",
     "text": [
      "J\n",
      "o\n",
      "h\n"
     ]
    }
   ],
   "source": [
    "# เข้าถึงสตริงแต่ละตัว\n",
    "name = \"John1234\"\n",
    "\n",
    "#index\n",
    "first_char = name[0]\n",
    "second_char = name[1]\n",
    "third_char = name[2]\n",
    "\n",
    "print(first_char)\n",
    "print(second_char)\n",
    "print(third_char)"
   ]
  },
  {
   "cell_type": "code",
   "execution_count": 13,
   "metadata": {},
   "outputs": [
    {
     "name": "stdout",
     "output_type": "stream",
     "text": [
      "J\n",
      "o\n",
      "h\n"
     ]
    }
   ],
   "source": [
    "# เข้าถึงสตริงแต่ละตัว\n",
    "name = \"John1234\"\n",
    "\n",
    "#reverse index\n",
    "first_char_negative = name[-8]\n",
    "second_char_negative = name[-7]\n",
    "third_char_negative = name[-6]\n",
    "\n",
    "print(first_char_negative)\n",
    "print(second_char_negative)\n",
    "print(third_char_negative)"
   ]
  },
  {
   "cell_type": "code",
   "execution_count": 39,
   "metadata": {},
   "outputs": [
    {
     "ename": "IndexError",
     "evalue": "string index out of range",
     "output_type": "error",
     "traceback": [
      "\u001b[1;31m---------------------------------------------------------------------------\u001b[0m",
      "\u001b[1;31mIndexError\u001b[0m                                Traceback (most recent call last)",
      "\u001b[1;32mc:\\Users\\Nachai.Pa\\OneDrive - STelligence Co., Ltd\\Documents\\Projects\\Tutors\\Chapter 4\\Chapter 4.ipynb Cell 14'\u001b[0m in \u001b[0;36m<cell line: 4>\u001b[1;34m()\u001b[0m\n\u001b[0;32m      <a href='vscode-notebook-cell:/c%3A/Users/Nachai.Pa/OneDrive%20-%20STelligence%20Co.%2C%20Ltd/Documents/Projects/Tutors/Chapter%204/Chapter%204.ipynb#ch0000028?line=0'>1</a>\u001b[0m \u001b[39m# เข้าถึงสตริงแต่ละตัว\u001b[39;00m\n\u001b[0;32m      <a href='vscode-notebook-cell:/c%3A/Users/Nachai.Pa/OneDrive%20-%20STelligence%20Co.%2C%20Ltd/Documents/Projects/Tutors/Chapter%204/Chapter%204.ipynb#ch0000028?line=1'>2</a>\u001b[0m name \u001b[39m=\u001b[39m \u001b[39m\"\u001b[39m\u001b[39mJohn1234\u001b[39m\u001b[39m\"\u001b[39m\n\u001b[1;32m----> <a href='vscode-notebook-cell:/c%3A/Users/Nachai.Pa/OneDrive%20-%20STelligence%20Co.%2C%20Ltd/Documents/Projects/Tutors/Chapter%204/Chapter%204.ipynb#ch0000028?line=3'>4</a>\u001b[0m \u001b[39mprint\u001b[39m(name[\u001b[39m99\u001b[39;49m])\n",
      "\u001b[1;31mIndexError\u001b[0m: string index out of range"
     ]
    }
   ],
   "source": [
    "# เข้าถึงสตริงแต่ละตัว\n",
    "name = \"John1234\"\n",
    "\n",
    "print(name[99]) # เกินจำนวนอักขระทั้งหมด จะ error"
   ]
  },
  {
   "cell_type": "markdown",
   "metadata": {},
   "source": [
    "#### String Slicing\n",
    "\n",
    "เราสามารถเข้าถึงอักขระเป็นกลุ่มได้ โดยการ slice string <br>\n",
    "โดยกำหนด start index และ end index แยกกันด้วยเครื่องหมาย colon ( : )<br>\n",
    "\n",
    "เช่น\n",
    "\n",
    "กำหนดให้\n",
    "```python\n",
    "name = \"John1234\"\n",
    "```\n",
    "\n",
    "ต้องการแค่คำว่า 'John' เก็บในตัวแปร a<br>\n",
    "สามารถ slice string ได้ดังนี้\n",
    "\n",
    "```python\n",
    "a = name[0:4]\n",
    "```\n",
    "\n",
    "โดย \n",
    "- 0 คือ index เริ่มต้น\n",
    "- 4 คือ index สุดท้าย (จะไม่นับ index นี้)\n",
    "\n",
    "**ถ้าไม่ใส่ start index จะกำหนดให้เริ่มจากตัวแรก**<br>\n",
    "**ถ้าไม่ใส่ end index จะกำหนดให้สิ้นสุดที่ตัวสุดท้าย**"
   ]
  },
  {
   "cell_type": "code",
   "execution_count": 10,
   "metadata": {},
   "outputs": [
    {
     "name": "stdout",
     "output_type": "stream",
     "text": [
      "name[4] = 1\n",
      "John\n"
     ]
    }
   ],
   "source": [
    "# ค้องการแค่คำว่า 'John'  \n",
    "name = \"John1234\"\n",
    "\n",
    "print(\"name[4] =\", name[4])\n",
    "\n",
    "a = name[0:4]   # หมายความว่า เอาอักขระตัวที่ 0, 1, 2, 3 เท่านั้น ไม่เอา 4\n",
    "print(a)"
   ]
  },
  {
   "cell_type": "code",
   "execution_count": 19,
   "metadata": {},
   "outputs": [
    {
     "name": "stdout",
     "output_type": "stream",
     "text": [
      "name[7] = 4\n",
      "hn123\n"
     ]
    }
   ],
   "source": [
    "# ค้องการแค่คำว่า 'hn123'  \n",
    "name = \"John1234\"\n",
    "\n",
    "print(\"name[7] =\", name[7])\n",
    "\n",
    "a = name[2:7]   # หมายความว่า เอาอักขระตัวที่ 2, 3, 4, 5, 6  เท่านั้น ไม่เอา 7\n",
    "print(a)"
   ]
  },
  {
   "cell_type": "code",
   "execution_count": 20,
   "metadata": {},
   "outputs": [
    {
     "name": "stdout",
     "output_type": "stream",
     "text": [
      "name[-1] = 4\n",
      "hn123\n"
     ]
    }
   ],
   "source": [
    "# ค้องการแค่คำว่า 'hn123' \n",
    "name = \"John1234\"\n",
    "\n",
    "print(\"name[-1] =\", name[-1])\n",
    "\n",
    "a = name[2:-1]   # หมายความว่า เอาอักขระตัวที่ 2 ถึงตัวสุดท้าย (-1)  เท่านั้น ไม่เอาตัวสุดท้าย\n",
    "print(a)"
   ]
  },
  {
   "cell_type": "code",
   "execution_count": 23,
   "metadata": {},
   "outputs": [
    {
     "name": "stdout",
     "output_type": "stream",
     "text": [
      "name[-1] = 4\n",
      "hn123\n"
     ]
    }
   ],
   "source": [
    "# ค้องการแค่คำว่า 'hn123' \n",
    "name = \"John1234\"\n",
    "\n",
    "print(\"name[-1] =\", name[-1])\n",
    "\n",
    "a = name[-6:7]   # หมายความว่า เอาอักขระตัวที่ -6 (ตัวที่ 2) ถึงตัวที่ 6 เท่านั้น ไม่เอาตัวที่ 7\n",
    "print(a)"
   ]
  },
  {
   "cell_type": "code",
   "execution_count": 24,
   "metadata": {},
   "outputs": [
    {
     "name": "stdout",
     "output_type": "stream",
     "text": [
      "John1\n"
     ]
    }
   ],
   "source": [
    "#Slice from start\n",
    "name = \"John1234\"\n",
    "\n",
    "#ต้องการตัวแรกถึงตัวที่5\n",
    "a = name[:5]\n",
    "print(a)"
   ]
  },
  {
   "cell_type": "code",
   "execution_count": 25,
   "metadata": {},
   "outputs": [
    {
     "name": "stdout",
     "output_type": "stream",
     "text": [
      "n1234\n"
     ]
    }
   ],
   "source": [
    "#Slice to end\n",
    "name = \"John1234\"\n",
    "\n",
    "#ต้องการตัวที่ 3 ถึงตัวสุดท้าย\n",
    "a = name[3:]\n",
    "print(a)"
   ]
  },
  {
   "cell_type": "code",
   "execution_count": 26,
   "metadata": {},
   "outputs": [
    {
     "name": "stdout",
     "output_type": "stream",
     "text": [
      "John1234\n"
     ]
    }
   ],
   "source": [
    "#Slice from start to end\n",
    "name = \"John1234\"\n",
    "\n",
    "#ต้องการตัวแรกถึงตัวสุดท้าย\n",
    "a = name[:]\n",
    "print(a)\n",
    "\n",
    "# มีค่าเท่ากับ name \n",
    "# แต่ไม่นิยมใช้ [:] "
   ]
  },
  {
   "cell_type": "code",
   "execution_count": 32,
   "metadata": {},
   "outputs": [
    {
     "name": "stdout",
     "output_type": "stream",
     "text": [
      "\n",
      "0\n"
     ]
    }
   ],
   "source": [
    "#Slice โดยเกินจำนวนตัวอักขระ\n",
    "name = \"John1234\"\n",
    "\n",
    "#ต้องการตัวแรกถึงตัวสุดท้าย\n",
    "a = name[99:10000]\n",
    "print(a)\n",
    "print(len(a))\n"
   ]
  },
  {
   "cell_type": "markdown",
   "metadata": {},
   "source": [
    "##### การ slice string สามารถหยิบ index เลขคู่ เลขคี่ได้\n",
    "\n",
    "โดยจะใช้ colon 2 อัน\n",
    "\n",
    "```python\n",
    "name = \"John1234\"\n",
    "```\n",
    "\n",
    "ต้องการเฉพาะ index ที่เป็นเลขคู่เท่านั้น เริ่มจาก 0 \n",
    "\n",
    "```python\n",
    "a = name[::2]\n",
    "```\n",
    "\n",
    "`::2` หมายความว่า นับ index เพิ่มขึ้นทีละ 2\n",
    "\n",
    "Syntax: `(start index) : (end index) : (step) `"
   ]
  },
  {
   "cell_type": "code",
   "execution_count": 34,
   "metadata": {},
   "outputs": [
    {
     "name": "stdout",
     "output_type": "stream",
     "text": [
      "Jh1\n"
     ]
    }
   ],
   "source": [
    "#ต้องการเฉพาะ index ที่เป็นเลขคู่เท่านั้น เริ่มจาก 0 \n",
    "name = \"John1234\"\n",
    "a = name[::2]\n",
    "print(a)"
   ]
  },
  {
   "cell_type": "code",
   "execution_count": 36,
   "metadata": {},
   "outputs": [
    {
     "name": "stdout",
     "output_type": "stream",
     "text": [
      "Jh13\n"
     ]
    }
   ],
   "source": [
    "#ต้องการเฉพาะ index ที่เป็นเลขคู่เท่านั้น เริ่มจาก 0 \n",
    "name = \"John1234\"\n",
    "a = name[0::2]\n",
    "print(a)"
   ]
  },
  {
   "cell_type": "code",
   "execution_count": 35,
   "metadata": {},
   "outputs": [
    {
     "name": "stdout",
     "output_type": "stream",
     "text": [
      "h13\n"
     ]
    }
   ],
   "source": [
    "#ต้องการเฉพาะ index ที่เป็นเลขคู่เท่านั้น เริ่มจาก 2 \n",
    "name = \"John1234\"\n",
    "a = name[2::2]\n",
    "print(a)"
   ]
  },
  {
   "cell_type": "code",
   "execution_count": 37,
   "metadata": {},
   "outputs": [
    {
     "name": "stdout",
     "output_type": "stream",
     "text": [
      "on24\n"
     ]
    }
   ],
   "source": [
    "#ต้องการเฉพาะ index ที่เป็นเลขคี่เท่านั้น เริ่มจาก 1 \n",
    "name = \"John1234\"\n",
    "a = name[1::2]\n",
    "print(a)"
   ]
  },
  {
   "cell_type": "markdown",
   "metadata": {},
   "source": [
    "### String method\n",
    "\n",
    "มีฟังก์ชันหลาย\n"
   ]
  }
 ],
 "metadata": {
  "interpreter": {
   "hash": "1f0945ea651c1069c7af037cbbaa82eca29c1e053adfed76f992832db8b6af67"
  },
  "kernelspec": {
   "display_name": "Python 3.9.10 64-bit",
   "language": "python",
   "name": "python3"
  },
  "language_info": {
   "codemirror_mode": {
    "name": "ipython",
    "version": 3
   },
   "file_extension": ".py",
   "mimetype": "text/x-python",
   "name": "python",
   "nbconvert_exporter": "python",
   "pygments_lexer": "ipython3",
   "version": "3.9.10"
  },
  "orig_nbformat": 4
 },
 "nbformat": 4,
 "nbformat_minor": 2
}
