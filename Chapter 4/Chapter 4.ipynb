{
 "cells": [
  {
   "cell_type": "markdown",
   "metadata": {},
   "source": [
    "# Basic Python \n",
    "\n",
    "## Chapter 4 - String"
   ]
  },
  {
   "cell_type": "markdown",
   "metadata": {},
   "source": [
    "### ทบทวน string\n",
    "\n",
    "- เก็บอักขระ (character) ตั้งแต่ 0 ตัวขึ้นไป เรียงจากซ้ายไปขวา ไว้ใน quote\n",
    "- อักขระแต่ละตัวเป็น ตัวเลข ตัวอักษร หรือสัญลักษณ์ต่าง ๆ \n",
    "- อักขระแต่ละตัวมีเลข index ระบุตำแหน่ง โดย index คัวแรกนับเริ่มจากซ้ายสุด คือ 0\n",
    "\n",
    "เปลี่ยน data type อื่น ๆ เป็น string ได้ ด้วยการ casting `str()`"
   ]
  },
  {
   "cell_type": "markdown",
   "metadata": {},
   "source": [
    "#### การเขียนสตริง\n",
    "เขียนได้ 4 แบบ\n",
    "1. ใช้ single quotes เช่น ` 'I am \"Python\".' `\n",
    "2. ใช้ double quotes เช่น ` \"I'm Python.\" `\n",
    "2. ใช้ tripple single quotes เช่น ` '''I am \"Python\".''' `\n",
    "2. ใช้ tripple double quotes เช่น ` \"\"\"I'm Python.\"\"\" `"
   ]
  },
  {
   "cell_type": "markdown",
   "metadata": {},
   "source": [
    "#### การนับ index \n",
    "\n",
    "จะเริ่มนับจากอักขระตัวแรก (ซ้ายสุด) นับเริ่มที่ 0 เช่น\n",
    "\n",
    "```python\n",
    "name = \"John1234\"\n",
    "```\n",
    "\n",
    "แยกอักขระแต่ละตัวได้ดังนี้\n",
    "\n",
    "|Character  |  Index       |Negative Index       |\n",
    "|-------    |--------------|----------|\n",
    "| `\"J\"`       | 0            | -8    |\n",
    "| `\"o\"`       | 1            | -7       |\n",
    "| `\"h\"`       | 2            | -6   |\n",
    "| `\"1\"`       | 4            | -4   |   \n",
    "| `\"n\"`       | 3            | -5   |\n",
    "| `\"2\"`       | 5            | -3   |\n",
    "| `\"3\"`       | 6            | -2   |\n",
    "| `\"4\"`       | 7            | -1   |\n",
    "\n",
    "*จุดสังเกต มีอักขระทั้งหมด 8 ตัว แต่ index ตัวสุดท้ายเท่ากับ 7 เพราะว่านับเริ่มที่ 0*"
   ]
  },
  {
   "cell_type": "markdown",
   "metadata": {},
   "source": [
    "#### การหาจำนวนของสตริง\n",
    "\n",
    "ใช้ฟังก์ชัน `len()` เพื่อหาจำนวน"
   ]
  },
  {
   "cell_type": "code",
   "execution_count": null,
   "metadata": {},
   "outputs": [],
   "source": [
    "name = \"John  1234\"\n",
    "print(len(name))"
   ]
  },
  {
   "cell_type": "code",
   "execution_count": null,
   "metadata": {},
   "outputs": [],
   "source": [
    "name = \"John 1234\"\n",
    "print(len(name))"
   ]
  },
  {
   "cell_type": "code",
   "execution_count": null,
   "metadata": {},
   "outputs": [],
   "source": [
    "name = \"12\"\n",
    "print(len(name))"
   ]
  },
  {
   "cell_type": "code",
   "execution_count": null,
   "metadata": {},
   "outputs": [],
   "source": [
    "name = ''\n",
    "print(len(name))"
   ]
  },
  {
   "cell_type": "code",
   "execution_count": null,
   "metadata": {},
   "outputs": [],
   "source": [
    "name = ' '\n",
    "print(len(name))"
   ]
  },
  {
   "cell_type": "markdown",
   "metadata": {},
   "source": [
    "#### การเข้าถึงอักขระแต่ละตัว\n",
    "\n",
    "```python\n",
    "name = \"John1234\"\n",
    "```\n",
    "\n",
    "เราสามารถเข้าถึงอักขระแต่ละตัวได้โดยการระบุ index ดังนี้\n",
    "```python\n",
    "first_char = name[0]\n",
    "second_char = name[1]\n",
    "third_char = name[2]\n",
    "```"
   ]
  },
  {
   "cell_type": "code",
   "execution_count": null,
   "metadata": {},
   "outputs": [],
   "source": [
    "# เข้าถึงสตริงแต่ละตัว\n",
    "name = \"John1234\"\n",
    "\n",
    "#index\n",
    "first_char = name[0]\n",
    "second_char = name[1]\n",
    "third_char = name[2]\n",
    "\n",
    "print(first_char)\n",
    "print(second_char)\n",
    "print(third_char)"
   ]
  },
  {
   "cell_type": "code",
   "execution_count": null,
   "metadata": {},
   "outputs": [],
   "source": [
    "# เข้าถึงสตริงแต่ละตัว\n",
    "name = \"John1234\"\n",
    "\n",
    "#reverse index\n",
    "first_char_negative = name[-8]\n",
    "second_char_negative = name[-7]\n",
    "third_char_negative = name[-6]\n",
    "\n",
    "print(first_char_negative)\n",
    "print(second_char_negative)\n",
    "print(third_char_negative)"
   ]
  },
  {
   "cell_type": "code",
   "execution_count": null,
   "metadata": {},
   "outputs": [],
   "source": [
    "# เข้าถึงสตริงแต่ละตัว\n",
    "name = \"John1234\"\n",
    "\n",
    "print(name[99]) # เกินจำนวนอักขระทั้งหมด จะ error"
   ]
  },
  {
   "cell_type": "markdown",
   "metadata": {},
   "source": [
    "#### String Slicing\n",
    "\n",
    "เราสามารถเข้าถึงอักขระเป็นกลุ่มได้ โดยการ slice string <br>\n",
    "โดยกำหนด start index และ end index แยกกันด้วยเครื่องหมาย colon ( : )<br>\n",
    "\n",
    "เช่น\n",
    "\n",
    "กำหนดให้\n",
    "```python\n",
    "name = \"John1234\"\n",
    "```\n",
    "\n",
    "ต้องการแค่คำว่า 'John' เก็บในตัวแปร a<br>\n",
    "สามารถ slice string ได้ดังนี้\n",
    "\n",
    "```python\n",
    "a = name[0:4]\n",
    "```\n",
    "\n",
    "โดย \n",
    "- 0 คือ index เริ่มต้น\n",
    "- 4 คือ index สุดท้าย (จะไม่นับ index นี้)\n",
    "\n",
    "**ถ้าไม่ใส่ start index จะกำหนดให้เริ่มจากตัวแรก**<br>\n",
    "**ถ้าไม่ใส่ end index จะกำหนดให้สิ้นสุดที่ตัวสุดท้าย**"
   ]
  },
  {
   "cell_type": "code",
   "execution_count": null,
   "metadata": {},
   "outputs": [],
   "source": [
    "# ค้องการแค่คำว่า 'John'  \n",
    "name = \"John1234\"\n",
    "\n",
    "print(\"name[4] =\", name[4])\n",
    "\n",
    "a = name[0:4]   # หมายความว่า เอาอักขระตัวที่ 0, 1, 2, 3 เท่านั้น ไม่เอา 4\n",
    "print(a)"
   ]
  },
  {
   "cell_type": "code",
   "execution_count": null,
   "metadata": {},
   "outputs": [],
   "source": [
    "# ค้องการแค่คำว่า 'hn123'  \n",
    "name = \"John1234\"\n",
    "\n",
    "print(\"name[7] =\", name[7])\n",
    "\n",
    "a = name[2:7]   # หมายความว่า เอาอักขระตัวที่ 2, 3, 4, 5, 6  เท่านั้น ไม่เอา 7\n",
    "print(a)"
   ]
  },
  {
   "cell_type": "code",
   "execution_count": null,
   "metadata": {},
   "outputs": [],
   "source": [
    "# ค้องการแค่คำว่า 'hn123' \n",
    "name = \"John1234\"\n",
    "\n",
    "print(\"name[-1] =\", name[-1])\n",
    "\n",
    "a = name[2:-1]   # หมายความว่า เอาอักขระตัวที่ 2 ถึงตัวสุดท้าย (-1)  เท่านั้น ไม่เอาตัวสุดท้าย\n",
    "print(a)"
   ]
  },
  {
   "cell_type": "code",
   "execution_count": null,
   "metadata": {},
   "outputs": [],
   "source": [
    "# ค้องการแค่คำว่า 'hn123' \n",
    "name = \"John1234\"\n",
    "\n",
    "print(\"name[-1] =\", name[-1])\n",
    "\n",
    "a = name[-6:7]   # หมายความว่า เอาอักขระตัวที่ -6 (ตัวที่ 2) ถึงตัวที่ 6 เท่านั้น ไม่เอาตัวที่ 7\n",
    "print(a)"
   ]
  },
  {
   "cell_type": "code",
   "execution_count": null,
   "metadata": {},
   "outputs": [],
   "source": [
    "#Slice from start\n",
    "name = \"John1234\"\n",
    "\n",
    "#ต้องการตัวแรกถึงตัวที่5\n",
    "a = name[:5]\n",
    "print(a)"
   ]
  },
  {
   "cell_type": "code",
   "execution_count": null,
   "metadata": {},
   "outputs": [],
   "source": [
    "#Slice to end\n",
    "name = \"John1234\"\n",
    "\n",
    "#ต้องการตัวที่ 3 ถึงตัวสุดท้าย\n",
    "a = name[3:]\n",
    "print(a)"
   ]
  },
  {
   "cell_type": "code",
   "execution_count": null,
   "metadata": {},
   "outputs": [],
   "source": [
    "#Slice from start to end\n",
    "name = \"John1234\"\n",
    "\n",
    "#ต้องการตัวแรกถึงตัวสุดท้าย\n",
    "a = name[:]\n",
    "print(a)\n",
    "\n",
    "# มีค่าเท่ากับ name \n",
    "# แต่ไม่นิยมใช้ [:] "
   ]
  },
  {
   "cell_type": "code",
   "execution_count": null,
   "metadata": {},
   "outputs": [],
   "source": [
    "#Slice โดยเกินจำนวนตัวอักขระ\n",
    "name = \"J*******4\"\n",
    "\n",
    "#ต้องการตัวแรกถึงตัวสุดท้าย\n",
    "a = name[6:3000]\n",
    "print(a)\n",
    "print(len(a))\n"
   ]
  },
  {
   "cell_type": "markdown",
   "metadata": {},
   "source": [
    "##### การ slice string สามารถหยิบ index เลขคู่ เลขคี่ได้\n",
    "\n",
    "โดยจะใช้ colon 2 อัน\n",
    "\n",
    "```python\n",
    "name = \"John1234\"\n",
    "```\n",
    "\n",
    "ต้องการเฉพาะ index ที่เป็นเลขคู่เท่านั้น เริ่มจาก 0 \n",
    "\n",
    "```python\n",
    "a = name[::2]\n",
    "```\n",
    "\n",
    "`::2` หมายความว่า นับ index เพิ่มขึ้นทีละ 2\n",
    "\n",
    "Syntax: `(start index) : (end index) : (step) `"
   ]
  },
  {
   "cell_type": "code",
   "execution_count": null,
   "metadata": {},
   "outputs": [],
   "source": [
    "#ต้องการเฉพาะ index ที่เป็นเลขคู่เท่านั้น เริ่มจาก 0 \n",
    "name = \"John1234\"\n",
    "a = name[::2]\n",
    "print(a)"
   ]
  },
  {
   "cell_type": "code",
   "execution_count": null,
   "metadata": {},
   "outputs": [],
   "source": [
    "#ต้องการเฉพาะ index ที่เป็นเลขคู่เท่านั้น เริ่มจาก 1\n",
    "name = \"John1234\"\n",
    "a = name[1::2]\n",
    "print(a)"
   ]
  },
  {
   "cell_type": "code",
   "execution_count": null,
   "metadata": {},
   "outputs": [],
   "source": [
    "#ต้องการเฉพาะ index ที่เป็นเลขคู่เท่านั้น เริ่มจาก 2 \n",
    "name = \"John1234\"\n",
    "a = name[2::2]\n",
    "print(a)"
   ]
  },
  {
   "cell_type": "code",
   "execution_count": null,
   "metadata": {},
   "outputs": [],
   "source": [
    "#ต้องการเฉพาะ index ที่เป็นเลขคี่เท่านั้น เริ่มจาก 1 \n",
    "name = \"John1234\"\n",
    "a = name[1::2]\n",
    "print(a)"
   ]
  },
  {
   "cell_type": "markdown",
   "metadata": {},
   "source": [
    "#### การดำเนินการพื้นฐาน"
   ]
  },
  {
   "cell_type": "markdown",
   "metadata": {},
   "source": [
    "#### การบวกสตริง\n",
    "นำสตริงมาบวกกัน คือ การนำสตริงมาต่อกัน"
   ]
  },
  {
   "cell_type": "code",
   "execution_count": null,
   "metadata": {},
   "outputs": [],
   "source": [
    "a = \"12\"\n",
    "b = \"34\"\n",
    "print(a + b + \" 5555\")"
   ]
  },
  {
   "cell_type": "markdown",
   "metadata": {},
   "source": [
    "#### การคูณของสตริง\n",
    "นำสตริงมาคูณกับจำนวนเต็ม คือ การนำสตริงมาต่อกันเป็นจำนวนครั้งเท่ากับค่าของจำนวนเต็มนั้น"
   ]
  },
  {
   "cell_type": "code",
   "execution_count": 116,
   "metadata": {},
   "outputs": [
    {
     "name": "stdout",
     "output_type": "stream",
     "text": [
      "aAaAaAaAaAaAaAaAaAaA\n"
     ]
    }
   ],
   "source": [
    "a = \"aA\"\n",
    "print(a * 10)"
   ]
  },
  {
   "cell_type": "markdown",
   "metadata": {},
   "source": [
    "### String method\n",
    "\n",
    "แนะนำ build-in ฟังก์ชัน\n",
    "\n",
    "1. `Upper case` ทำให้เป็นตัวพิมพ์ใหญ่ทั้งหมด\n",
    "2. `Lower case` ทำให้เป็นตัวพิมพ์เล็กทั้งหมด\n",
    "3. `Strip` ตัดช่องว่าง (Whitespace) หัวท้ายของข้อความ\n",
    "4. `Replace` แทนที่ข้อความ ส่ง parameter เข้าไป 2 ตัวคือ ข้อความเก่า และ ข้้อความใหม่\n",
    "5. `Split` แยกข้อความออกจากกันและเก็บลงใน list\n",
    "6. `Capitalize` ทำให้ตัวแรกเป็นตัวพิมพ์ใหญ่\n",
    "7. `Count` นับจำนวนคำในข้อความ\n",
    "8. `Is upper` ถ้าเป็นตัวพิมพ์ใหญ่ทุกตัวจะส่งค่า True\n",
    "9. `Is lower` ถ้าเป็นตัวพิมพ์เล็กทุกตัวจะส่งค่า True\n",
    "10. `Is numeric` ถ้าเป็นตัวเลขทุกตัวจะส่งค่า True\n",
    "11. `Is alphabet` ถ้าเป็นตัวอักษรภาษาอังกฤษทุกตัวจะส่งค่า True\n",
    "12. `Swapcase` เปลี่ยนตัวเล็กเป็นตัวใหญ่ ตัวใหญ่เป็นตัวเล็ก\n",
    "13. `zfill` เติมเลข 0 หน้าข้อความตามจำนวนที่กำหนด\n",
    "14. `startswith` ตรวจสอบคำขึ้นต้น \n",
    "15. `endswith` ตรวจสอบคำลงท้าย\n",
    "16. `index` ค้นหาข้อความ ว่าอยู่ที่ index อะไร\n",
    "17. `find` ค้นหา index ที่น้อยที่สุดของข้อความ ในสตริง \n",
    "18. `format` ใส่ตัวแปรลงในข้อความ\n"
   ]
  },
  {
   "cell_type": "code",
   "execution_count": null,
   "metadata": {},
   "outputs": [],
   "source": [
    "# Upper case\n",
    "\n",
    "name = \"john 1234\"\n",
    "print(name.upper())"
   ]
  },
  {
   "cell_type": "code",
   "execution_count": null,
   "metadata": {},
   "outputs": [],
   "source": [
    "# lower case\n",
    "\n",
    "name = \"JOhn 1234\"\n",
    "print(name.lower())"
   ]
  },
  {
   "cell_type": "code",
   "execution_count": null,
   "metadata": {},
   "outputs": [],
   "source": [
    "# strip\n",
    "\n",
    "name = \"     John 1234      \"\n",
    "print(name.strip())"
   ]
  },
  {
   "cell_type": "code",
   "execution_count": null,
   "metadata": {},
   "outputs": [],
   "source": [
    "# replace\n",
    "\n",
    "name = \"John 1234\"\n",
    "print(name.replace(name[1:-1], \"****\"))"
   ]
  },
  {
   "cell_type": "code",
   "execution_count": null,
   "metadata": {},
   "outputs": [],
   "source": [
    "# split\n",
    "\n",
    "name = \"John_1234_Tomas_5678_Marry_\"\n",
    "\n",
    "# แยกข้อความด้วย _\n",
    "print(name.split(\"_\"))\n"
   ]
  },
  {
   "cell_type": "code",
   "execution_count": null,
   "metadata": {},
   "outputs": [],
   "source": [
    "# split\n",
    "\n",
    "a = \"John_1234-Tomas_5678-Marry_99\"\n",
    "\n",
    "# แยกข้อความด้วย -\n",
    "print(a.split(\"-\"))"
   ]
  },
  {
   "cell_type": "code",
   "execution_count": null,
   "metadata": {},
   "outputs": [],
   "source": [
    "# cpitalize\n",
    "\n",
    "a = \"john mikeWWW\"\n",
    "\n",
    "print(a.capitalize())"
   ]
  },
  {
   "cell_type": "code",
   "execution_count": null,
   "metadata": {},
   "outputs": [],
   "source": [
    "# count\n",
    "\n",
    "a = \"Hello Hello Hello hello hello Hello Hello\"\n",
    "\n",
    "print(a.count(\"hello\"))"
   ]
  },
  {
   "cell_type": "code",
   "execution_count": null,
   "metadata": {},
   "outputs": [],
   "source": [
    "# is upper\n",
    "\n",
    "a =\"ABC\"\n",
    "b =\"abd\"\n",
    "\n",
    "print(a.isupper())\n",
    "print(b.isupper())"
   ]
  },
  {
   "cell_type": "code",
   "execution_count": null,
   "metadata": {},
   "outputs": [],
   "source": [
    "# is lower\n",
    "\n",
    "a =\"ABC\"\n",
    "b =\"abd\"\n",
    "\n",
    "print(a.islower())\n",
    "print(b.islower())"
   ]
  },
  {
   "cell_type": "code",
   "execution_count": null,
   "metadata": {},
   "outputs": [],
   "source": [
    "# is numeric\n",
    "\n",
    "a =\"ABC\"\n",
    "b =\"123\"\n",
    "\n",
    "print(a.isnumeric())\n",
    "print(b.isnumeric())"
   ]
  },
  {
   "cell_type": "code",
   "execution_count": null,
   "metadata": {},
   "outputs": [],
   "source": [
    "# is alphabet\n",
    "\n",
    "a = \"ASDE\"\n",
    "b = \"123 AAA\"\n",
    "\n",
    "print(a.isalpha())\n",
    "print(b.isalpha())"
   ]
  },
  {
   "cell_type": "code",
   "execution_count": null,
   "metadata": {},
   "outputs": [],
   "source": [
    "# zfill\n",
    "\n",
    "a =\"5\"\n",
    "b =\"\"\n",
    "c =\"AAAAA\"\n",
    "\n",
    "print(a.zfill(3))\n",
    "print(b.zfill(4))\n",
    "print(c.zfill(7))\n"
   ]
  },
  {
   "cell_type": "code",
   "execution_count": null,
   "metadata": {},
   "outputs": [],
   "source": [
    "# startswith\n",
    "\n",
    "name = \"Mr. John\"\n",
    "\n",
    "print(name.startswith('Mr.'))\n",
    "print(name.startswith('mr.'))"
   ]
  },
  {
   "cell_type": "code",
   "execution_count": null,
   "metadata": {},
   "outputs": [],
   "source": [
    "# endswith\n",
    "\n",
    "a = \"123456789\"\n",
    "\n",
    "print(a.endswith('0'))\n",
    "print(a.endswith('9'))\n",
    "print(a.endswith('89'))\n",
    "print(a.endswith(''))"
   ]
  },
  {
   "cell_type": "code",
   "execution_count": null,
   "metadata": {},
   "outputs": [],
   "source": [
    "# index\n",
    "\n",
    "a = 'ABCDEFGH'\n",
    "\n",
    "print(a.index('A'))\n",
    "print(a.index('E'))\n",
    "# print(a.index('P'))"
   ]
  },
  {
   "cell_type": "code",
   "execution_count": null,
   "metadata": {},
   "outputs": [],
   "source": [
    "# find \n",
    "\n",
    "a = 'ENGINEERING'\n",
    "\n",
    "result = a.find('NG')   # ค้นหาข้อความ 'NG' ใน สตริง a เริ่มต้นที่ index 0\n",
    "print(result)"
   ]
  },
  {
   "cell_type": "code",
   "execution_count": null,
   "metadata": {},
   "outputs": [],
   "source": [
    "# find \n",
    "\n",
    "a = 'ENGINEERING'\n",
    "\n",
    "result = a.find('NG', 2)   # ค้นหาข้อความ 'NG' ใน สตริง a เริ่มต้นที่ index 2\n",
    "print(result)"
   ]
  },
  {
   "cell_type": "code",
   "execution_count": null,
   "metadata": {},
   "outputs": [],
   "source": [
    "# format แบบ 1\n",
    "\n",
    "name = \"John\"\n",
    "id = 5\n",
    "\n",
    "greeting = \"my name is {}. id: {}\".format(name, id)\n",
    "print(greeting)"
   ]
  },
  {
   "cell_type": "code",
   "execution_count": null,
   "metadata": {},
   "outputs": [],
   "source": [
    "# format แบบ 2\n",
    "\n",
    "name = \"John\"\n",
    "id = 5\n",
    "\n",
    "greeting = \"my name is %s. id: %d\" %(name, id)\n",
    "print(greeting)"
   ]
  },
  {
   "cell_type": "code",
   "execution_count": null,
   "metadata": {},
   "outputs": [],
   "source": [
    "# format แบบย่อ\n",
    "\n",
    "name = \"John\"\n",
    "id = 5\n",
    "\n",
    "greeting = f\"my name is {name}. id: {id}\"\n",
    "print(greeting)"
   ]
  },
  {
   "cell_type": "markdown",
   "metadata": {},
   "source": [
    "### Escape string\n",
    "\n",
    "Python จะมีตัวอักษรพิเศษ หรือที่เรียกว่า Escape Character ซึ่งตัวอักษรเหล่านี้ได้แก่ \\ (Backslash), ' (Single quote) หรือ \" (Double quote) เป็นต้น <br>\n",
    "ซึ่งมันเอาไว้ใช้กับ Whitespace characters เช่น \\t สำหรับการย่อหน้า \\n สำหรับการขึ้นบรรทัดใหม่ <br>\n",
    "ซึ่งเราไม่สามารถที่จะแสดงตัวอักษรพิเศษดังกล่าวได้แบบปกติ\n",
    "\n",
    "เราสามารถใช้ escape character ได้หลายวิธี เช่น\n",
    "1. ใส่เครื่องหมาย \\ ลงไป\n",
    "2. ใส่ตัวอักษร `r` หน้า quote เพื่อทำให้เป็น raw string"
   ]
  },
  {
   "cell_type": "code",
   "execution_count": null,
   "metadata": {},
   "outputs": [],
   "source": [
    "x = \"My name is \\\"John\\\".\"\n",
    "print(x)"
   ]
  },
  {
   "cell_type": "code",
   "execution_count": null,
   "metadata": {},
   "outputs": [],
   "source": [
    "x = \"Hello.\\nMy name is \\\"John\\\".\\nNice to meet you\"\n",
    "print(x)"
   ]
  },
  {
   "cell_type": "code",
   "execution_count": null,
   "metadata": {},
   "outputs": [],
   "source": [
    "a = \"My name is \\\\ \\\"John\\\".\\n\"\n",
    "b = r\"My name is \\\\ \\\"John\\\".\\n\"\n",
    "print(a)\n",
    "print(b)\n"
   ]
  },
  {
   "cell_type": "markdown",
   "metadata": {},
   "source": [
    "### ใช้คำสั่ง in กับสตริง\n",
    "`in` ใช้สำหรับตรวจสอบว่า ข้อความที่ต้องการเป็นสมาชิกของอีกข้อความหรือไม่ <br>"
   ]
  },
  {
   "cell_type": "code",
   "execution_count": null,
   "metadata": {},
   "outputs": [],
   "source": [
    "# in\n",
    "focus = '5'\n",
    "numbers = '0123456789'\n",
    "\n",
    "print(focus in numbers)"
   ]
  },
  {
   "cell_type": "code",
   "execution_count": null,
   "metadata": {},
   "outputs": [],
   "source": [
    "# ใช้ in ใน if\n",
    "language = \"EN\"\n",
    "check = \"TH EN JP CH FR\"\n",
    "\n",
    "if language in check:\n",
    "    print('pass')\n",
    "else:\n",
    "    print('not pass')"
   ]
  },
  {
   "cell_type": "markdown",
   "metadata": {},
   "source": [
    "### ใช้คำสั่ง for กับสตริง\n",
    "`for` ใช้สำหรับแจกแจงอักขระแต่ละตัวในาตริง <br>"
   ]
  },
  {
   "cell_type": "code",
   "execution_count": null,
   "metadata": {},
   "outputs": [],
   "source": [
    "A = \"Hello John.\"\n",
    "for char in A:  # แจกแจงอักขระแต่ละตัวใน A เก็บไว้ในตัวแปร char\n",
    "    print(char)"
   ]
  },
  {
   "cell_type": "markdown",
   "metadata": {},
   "source": [
    "### ใช้ for loop กับ enumerate\n",
    "\n",
    "สามารถใช้คำสั่ง `enumerate`ร่วมกับ for loop เพื่อใช้เก็บตัวแปรจำนวนรอบที่ loop ได้ <br>\n",
    "เป็นการเพิ่มความสามารถให้กับ for loop<br>\n",
    "\n",
    "```python\n",
    "for i, x in enumerate(sequence):\n",
    "```\n",
    "ในแต่ละรอบการทำงานโปรแกรมจะ <br>\n",
    "- เก็บค่า รอบที่ทำงานใน loop ไว้ในตัวแปร i <br>\n",
    "- เก็บค่า item ใน sequence ไว้ในตัวแปร x"
   ]
  },
  {
   "cell_type": "code",
   "execution_count": null,
   "metadata": {},
   "outputs": [],
   "source": [
    "A = \"Hello John.\"\n",
    "for i, char in enumerate(A):  # แจกแจงอักขระแต่ละตัวใน A เก็บไว้ในตัวแปร char\n",
    "    print(f\"รอบที่ {i} : {char}\")"
   ]
  },
  {
   "cell_type": "markdown",
   "metadata": {},
   "source": [
    "## รูปแบบการทำงานกับสตริงที่เจอบ่อย\n"
   ]
  },
  {
   "cell_type": "markdown",
   "metadata": {},
   "source": [
    "ต้องการหยิบอักขระในสตริงจาก ซ้ายไปขวามาประมวลผลทีละตัว"
   ]
  },
  {
   "cell_type": "code",
   "execution_count": null,
   "metadata": {},
   "outputs": [],
   "source": [
    "#ต้องการนับว่าสตริง s มีคำว่า ตัวเลข 0-9 อยู่กี่คำ\n",
    "\n",
    "s = \"BA-8C8G70sSeAG46RTBF0DVABA555GUN5B93AAB12sde\"\n",
    "count = 0\n",
    "\n",
    "for char in s:\n",
    "    \n",
    "    if '0' <= char <= '9':\n",
    "        print(char)\n",
    "        count +=1\n",
    "\n",
    "print(count)"
   ]
  },
  {
   "cell_type": "markdown",
   "metadata": {},
   "source": [
    "ถ้าต้องการนับว่ามี t ปรากฏอยู่ในs กี่ครั้ง"
   ]
  },
  {
   "cell_type": "code",
   "execution_count": null,
   "metadata": {},
   "outputs": [],
   "source": [
    "s = \"ABCeeDFGeeeHRITeeS\"\n",
    "t = \"eee\"\n",
    "count = 0\n",
    "print(f\"len s = {len(s)}\")\n",
    "print(f\"len t = {len(t)}\")\n",
    "\n",
    "for i in range(len(s) - len(t)+1):\n",
    "    print(s[i:i + len(t)])\n",
    "    if s[i:i + len(t)] == t:\n",
    "        count += 1\n",
    "\n",
    "print(count)"
   ]
  },
  {
   "cell_type": "markdown",
   "metadata": {},
   "source": [
    "ใช้สตริงสะสมข้อมูลเพื่อนำมาแสดงทีหลัง"
   ]
  },
  {
   "cell_type": "code",
   "execution_count": 108,
   "metadata": {},
   "outputs": [
    {
     "name": "stdout",
     "output_type": "stream",
     "text": [
      "3, 6, 9, 12, 15, 18, 21, 24, 27, 30, 33, 36, 39, 42, 45, 48, \n"
     ]
    }
   ],
   "source": [
    "result = \"\"\n",
    "\n",
    "for n in range(2, 50):\n",
    "    if n%3 == 0 :\n",
    "        result += str(n) + \", \"\n",
    "\n",
    "print(result[:-2])\n",
    "# print(result)"
   ]
  },
  {
   "cell_type": "markdown",
   "metadata": {},
   "source": [
    "ใช้สตริงเป็นที่เก็บข้อมูลเพื่อแปลงจากจำนวนเต็มเป็นสตริง"
   ]
  },
  {
   "cell_type": "code",
   "execution_count": 110,
   "metadata": {},
   "outputs": [
    {
     "name": "stdout",
     "output_type": "stream",
     "text": [
      "month : FEB\n"
     ]
    }
   ],
   "source": [
    "# แปลงเลขเดือน เป็นชื่อเดือนแบบย่อ\n",
    "\n",
    "months = \"JANFEBMARAPRMAYJUNJULAUGSEPOCTNOVDEC\"\n",
    "m = int(input(\"Enter month 1-12\"))\n",
    "\n",
    "if 1 <= m <= 12:\n",
    "    print(f\"month : {months[(m-1)*3:m*3]}\") # m = 2 ; months[3:6] 3 4 5 \n",
    "else:\n",
    "    print('invalid month number')"
   ]
  }
 ],
 "metadata": {
  "interpreter": {
   "hash": "1f0945ea651c1069c7af037cbbaa82eca29c1e053adfed76f992832db8b6af67"
  },
  "kernelspec": {
   "display_name": "Python 3.9.10 64-bit",
   "language": "python",
   "name": "python3"
  },
  "language_info": {
   "codemirror_mode": {
    "name": "ipython",
    "version": 3
   },
   "file_extension": ".py",
   "mimetype": "text/x-python",
   "name": "python",
   "nbconvert_exporter": "python",
   "pygments_lexer": "ipython3",
   "version": "3.9.10"
  },
  "orig_nbformat": 4
 },
 "nbformat": 4,
 "nbformat_minor": 2
}
