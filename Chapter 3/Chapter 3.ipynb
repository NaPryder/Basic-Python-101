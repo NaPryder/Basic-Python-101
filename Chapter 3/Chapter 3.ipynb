{
 "cells": [
  {
   "cell_type": "markdown",
   "metadata": {},
   "source": [
    "# Basic Python \n",
    "\n",
    "## Chapter 3 - Repetition"
   ]
  },
  {
   "cell_type": "markdown",
   "metadata": {},
   "source": [
    "### Data type ประเภท Sequence\n",
    "จะกล่าวถึง 3 ตัวคือ\n",
    "- range\n",
    "- list\n",
    "- tuple\n",
    "\n"
   ]
  },
  {
   "cell_type": "markdown",
   "metadata": {},
   "source": [
    "### Range\n",
    "range เป็น data type ประเภท sequence\n",
    "range เป็นคำสั่งสำหรับมีไว้ในการลำดับจำนวนตัวเลข\n",
    "\n",
    "สามารถเรียกใช้ range ผ่านฟังก์ชัน `range()` โดยกำหนดค่าเริ่มต้นได้ คือ \n",
    "- start คือ ให้ range เริ่มจากค่าอะไร ค่าเริ่มต้นคือ 0\n",
    "- stop คือ ให้ range สิ้นสุดก่อนค่าอะไร ต้องใส่\n",
    "- step คือ ให้ range เพิ่มขึ้นทีละเท่าไหร่ ค่าเริ่มต้นคือ 1\n",
    "\n",
    "\n",
    "เราเรียกสิ่งที่ต้องกำหนดในคำสั่งต่าง ๆ ในวงเล็บ ( ) ว่า parameter ในกรณีของ ฟังก์ชัน range ตัว start, stop, step ก็คือ parameter\n",
    "\n",
    "range(start, stop, step)"
   ]
  },
  {
   "cell_type": "code",
   "execution_count": null,
   "metadata": {},
   "outputs": [],
   "source": [
    "# สร้าง range เริ่มต้นที่ค่า 0, สิ้นสุดที่ 5, เพิ่มขึ้นทีละ 1\n",
    "r = range(0, 5, 1)  # range(0, 5)  \n",
    "print(r, type(r))"
   ]
  },
  {
   "cell_type": "code",
   "execution_count": null,
   "metadata": {},
   "outputs": [],
   "source": [
    "# หรือกำหนดง่าย ๆ \n",
    "r = range(5)    # 5 คือค่า stop\n",
    "print(r, type(r))"
   ]
  },
  {
   "cell_type": "code",
   "execution_count": null,
   "metadata": {},
   "outputs": [],
   "source": [
    "# สร้าง range เริ่มต้นที่ค่า 10, สิ้นสุดที่ 0, เพิ่มขึ้นทีละ -1\n",
    "\n",
    "r = range(10, 0, -1)    \n",
    "print(r, type(r))"
   ]
  },
  {
   "cell_type": "code",
   "execution_count": null,
   "metadata": {},
   "outputs": [],
   "source": [
    "# กรณีกำหนด parameter แค่ 2 ตัว\n",
    "r = range(10, -1)   #start=10, stop=-1\n",
    "print(r, type(r), list(r))\n"
   ]
  },
  {
   "cell_type": "code",
   "execution_count": null,
   "metadata": {},
   "outputs": [],
   "source": [
    "# กรณีกำหนด parameter แค่ 2 ตัว\n",
    "r = range(-1, 10)   \n",
    "print(r, type(r) , list(r))"
   ]
  },
  {
   "cell_type": "code",
   "execution_count": null,
   "metadata": {},
   "outputs": [],
   "source": [
    "r = range(0)\n",
    "print(r)"
   ]
  },
  {
   "cell_type": "code",
   "execution_count": null,
   "metadata": {},
   "outputs": [],
   "source": [
    "r = range(0, 10, 2)\n",
    "print(r)"
   ]
  },
  {
   "cell_type": "code",
   "execution_count": null,
   "metadata": {},
   "outputs": [],
   "source": [
    "# กำหนดแบบนี้ไม่ได้ เพราะไม่ได้ใส่ parameter\n",
    "r = range()\n",
    "print(r)"
   ]
  },
  {
   "cell_type": "markdown",
   "metadata": {},
   "source": [
    "### ตรวจสอบค่าใน range\n",
    "การตรวจสอบจะ range ถ้าเราใช้ `print` จะเห็นเป็นช่วงเปิด/ปิดเท่านั้น เช่น<br>\n",
    "`range(0, 10)` คือ ลัำดับของจำนวนตัวเลข เริ่มต้นที่ 0 สิ้นสุดที่ 5 เพิ่มขึ้นทีละ 1 <br>\n",
    "เราไม่เห็นว่ามีสมาชิกอะไรบ้างใน range \n",
    "\n",
    "ดังนั้น แนะนำให้ casting range ให้เป็น list ก่อนจึงค่อย print ออกมา<br>\n",
    "โดยใช้คำสั่ง `list()`"
   ]
  },
  {
   "cell_type": "code",
   "execution_count": null,
   "metadata": {},
   "outputs": [],
   "source": [
    "r = range(0, 11, 1)\n",
    "print(r)\n",
    "print(list(r))"
   ]
  },
  {
   "cell_type": "code",
   "execution_count": null,
   "metadata": {},
   "outputs": [],
   "source": [
    "r = range(10, 1, -2)\n",
    "print(r)\n",
    "print(list(r))"
   ]
  },
  {
   "cell_type": "markdown",
   "metadata": {},
   "source": [
    "### จุดสังเกตุของ range \n",
    "จากตัวอย่างด้านบน\n",
    "\n",
    "`range(0, 10, 1)`\n",
    "สังเกตุได้ว่า parameter stop = 10 ไม่ได้แปลว่าตัวสุดท้ายของ range คือ 10 แต่เป็น 10-1 (9)\n",
    "\n",
    "ดังนั้นหากต้องการให้ค่าสุดท้ายเป็น 10 ต้องใช้ค่า `stop = 10 + 1`"
   ]
  },
  {
   "cell_type": "code",
   "execution_count": null,
   "metadata": {},
   "outputs": [],
   "source": [
    "r1 = range(1, 10, 1)\n",
    "r2 = range(1, 10+1, 1)\n",
    "print('r1', r1)\n",
    "print('r2', r2)\n",
    "print(list(r1))\n",
    "print(list(r2))"
   ]
  },
  {
   "cell_type": "markdown",
   "metadata": {},
   "source": [
    "### จุดสังเกตุของ range (ต่อ)\n",
    "จากตัวอย่างด้านบน\n",
    "\n",
    "`range(0, 10, 2)`\n",
    "สังเกตุได้ว่า parameter step = 2 ตือการเพิ่มขึ้นทีละ 2 จนกว่าจะถึงค่า 10 - 1 = 9\n",
    "\n",
    "ผลลัพธ์ได้ `[0, 2, 4, 6, 8]` สมาชิกตัวสุดท้าย 8 ไม่ใช่ 9 เพราะ 8 คือค่าสุดท้ายของจำนวนช่วง 0 ถึง 9 (stop=10)"
   ]
  },
  {
   "cell_type": "markdown",
   "metadata": {},
   "source": [
    "### การทำงานแบบ วนซ้ำ\n",
    "โดยปกติเราจะควบการทำงานที่มีลักษณะงานซ้ำ ๆ กัน โดยใช้คำสั่ง loop <br>\n",
    "ซึ่งจะทำงานซ้ำ ๆ ตามเงื่อนไขที่เรากำหนด และ สามารถเพิ่มความสามารถของโปรแกรม\n",
    "\n",
    "คำสั่ง loop ใน Python มี 2 คำสั่ง คือ \n",
    "- while loop\n",
    "- for loop\n",
    "\n",
    "ใน scope การทำงานของลูกแต่ละรอบ เราเรียกว่า `iteration`"
   ]
  },
  {
   "cell_type": "markdown",
   "metadata": {},
   "source": [
    "### while loop\n",
    "while loop จะใช้ควบคุมโปรแกรมให้ทำงานบางอย่างซ้ำ ๆ ในขณะที่เงื่อนไขของลูปนั้นยังคงเป็นจริงอยู่ \n",
    "\n",
    "Syntax:\n",
    "\n",
    "```python\n",
    "while (expression):\n",
    "    # statement\n",
    "```\n",
    "สร้างลูปด้วยคำสั่ง `while` และกำหนด `expression` ซึ่งเป็นเงื่อนไขที่จะให้โปรแกรมทำงาน <br>\n",
    "ซึ่งโปรแกรมจะทำงานจนกว่าเงื่อนไขจะเป็น False <br>\n",
    "ภายใน scope ของ while จะเป็นคำสั่งที่ต้องการให้ทำงานซ้ำ ๆ\n",
    "\n",
    "_ต้องปิด expression ด้วยเครื่องหมาย colon ( : ) ทุกครั้ง_"
   ]
  },
  {
   "cell_type": "code",
   "execution_count": null,
   "metadata": {},
   "outputs": [],
   "source": [
    "# ตัวอย่าง การทำงานของ while loop\n",
    "\n",
    "i = 0\n",
    "while (i <= 5) :  \n",
    "    print(i)        \n",
    "    i = i + 1\n",
    "print('End')"
   ]
  },
  {
   "cell_type": "markdown",
   "metadata": {},
   "source": [
    "#### โปรแกรมด้านบน มีขั้นตอนการทำงาน คือ \n",
    "1. กำหนดตัวแปร i = 0\n",
    "2. while: ตรวจสอบ expression ในคำสั่ง while i <= 5 ได้ จริง ให้ทำงานใน scope \n",
    "3. print ข้อความ i \n",
    "4. i = i + 1 \n",
    "5. กลับไปทำ step 2. ใหม่จนกว่า express จะเป็น False\n",
    "6. print ข้อความ \"End\"\n",
    "\n",
    "การ `print(i)` และ `i = i + 1` ในแต่ละรอบ คือ 1 iteration หรือ 1 รอบการทำงาน<br>\n",
    "ในโปรแกรมด้านบน ทำงานทั้งหมด 6 รอบ "
   ]
  },
  {
   "cell_type": "code",
   "execution_count": null,
   "metadata": {},
   "outputs": [],
   "source": [
    "# ตัวอย่าง การทำงานของ while loop\n",
    "\n",
    "i = 30\n",
    "while (i >= 0) :  \n",
    "    print(i)\n",
    "    i -= 10     # i = i - 10\n",
    "print('End')"
   ]
  },
  {
   "cell_type": "markdown",
   "metadata": {},
   "source": [
    "### ข้อควรระวังในการใช้ while loop\n",
    "ต้องมีเงื่อนไขการทำงานที่ชัดเจน และ ต้องมีเงื่อนไขที่สามารถออกจากลูปได้ <br>\n",
    "ถ้าไม่มีเงื่อนไขดังกล่าว จะเกิด Infinity loop คือการทำงานวนซ้ำแบบไม่รู้จบ<br>\n",
    "หรือ ไม่สามารเข้าสู่การทำงานใน scope loop ได้"
   ]
  },
  {
   "cell_type": "code",
   "execution_count": null,
   "metadata": {},
   "outputs": [],
   "source": [
    "# Infinity loop\n",
    "i = 30\n",
    "while (i >= 0) :    # เงื่อนไข ไม่สามารถเป็น False ได้เลย\n",
    "    print(i)\n",
    "    i += 10         # เพิ่มจำนวนขึ้นเรื่อยๆ\n",
    "print('End')"
   ]
  },
  {
   "cell_type": "code",
   "execution_count": 12,
   "metadata": {},
   "outputs": [
    {
     "name": "stdout",
     "output_type": "stream",
     "text": [
      "End\n"
     ]
    }
   ],
   "source": [
    "# ไม่สามารถทำงานใน loop ได้\n",
    "i = 30\n",
    "while (i < 30) :    # เงื่อนไข ไม่สามารถเป็น False ได้เลย\n",
    "    print(i)\n",
    "    i += 10         # เพิ่มจำนวนขึ้นเรื่อยๆ\n",
    "print('End')"
   ]
  },
  {
   "cell_type": "markdown",
   "metadata": {},
   "source": [
    "### ประยุกต์ใช้ while loop ร่วมกับ input\n",
    "เราสามารถทำงานวนซ้ำเพื่อควบคุมการรับ input จาก keyboard ได้เรื่อย ๆ"
   ]
  },
  {
   "cell_type": "code",
   "execution_count": null,
   "metadata": {},
   "outputs": [],
   "source": [
    "# รับ input เรื่อย ๆ \n",
    "\n",
    "# กำหนดเงื่อนไขเริ่มต้น\n",
    "max_input = 10\n",
    "\n",
    "i = 1\n",
    "while i <= max_input:\n",
    "    number = int(input(\"Enter number :\"))\n",
    "    print('i:',i, 'number:',  number)\n",
    "    i += 1\n",
    "print('End')"
   ]
  },
  {
   "cell_type": "markdown",
   "metadata": {},
   "source": [
    "### การคำนวณผลรวม ของค่าจำนวนจริงที่รับผ่าน input\n",
    "\n",
    "รับ input เป็นจำนวนจริง 5 จำนวน และหาผลรวมของทั้ง 5 จำนวนนั้น"
   ]
  },
  {
   "cell_type": "code",
   "execution_count": null,
   "metadata": {},
   "outputs": [],
   "source": [
    "# ถ้าไม่ใช้ loop \n",
    "n1 = int( input('Enter number:')) \n",
    "n2 = int( input('Enter number:')) \n",
    "n3 = int( input('Enter number:')) \n",
    "n4 = int( input('Enter number:')) \n",
    "n5 = int( input('Enter number:')) \n",
    "print('n 1 =', n1)\n",
    "print('n 2 =', n2)\n",
    "print('n 3 =', n3)\n",
    "print('n 4 =', n4)\n",
    "print('n 5 =', n5)\n",
    "result = n1 + n2 + n3 + n4 +n5\n",
    "print('result', result)"
   ]
  },
  {
   "cell_type": "code",
   "execution_count": null,
   "metadata": {},
   "outputs": [],
   "source": [
    "# ถ้าใช้ loop\n",
    "i = 0\n",
    "result = 0\n",
    "while i < 5:\n",
    "    n = int( input('Enter number:')) \n",
    "    print('n', i, '=', n)\n",
    "    result += n\n",
    "    i += 1\n",
    "print('result', result)"
   ]
  },
  {
   "cell_type": "markdown",
   "metadata": {},
   "source": [
    "### for loop\n",
    "for loop จะใช้ควบคุมโปรแกรมให้ทำงานบางอย่างซ้ำ ๆ ในจำนวนรอบที่แน่นอน\n",
    "\n",
    "Syntax:\n",
    "\n",
    "```python\n",
    "for i in (sequence): \n",
    "    # statement\n",
    "```\n",
    "`sequence` สามารถเป็นได้ทั้ง list, tuple, dictionary, set, string, range<br>\n",
    "`i` คือ item ใน `sequence` นั้น ๆ\n",
    "\n",
    "สร้างลูปด้วยคำสั่ง `for` และกำหนด `i` เป็นตัวแปรที่ต้องการเก็บค่า ใน `sequence`  <br>\n",
    "ซึ่งโปรแกรมจะทำงานจนกว่าจะทำถึง index ตัวสุดท้ายของ `sequence` <br>\n",
    "ภายใน scope ของ for จะเป็นคำสั่งที่ต้องการให้ทำงานซ้ำ ๆ\n",
    "\n",
    "_ต้องปิดท้ายบรรทัด for ด้วยเครื่องหมาย colon ( : ) ทุกครั้ง_"
   ]
  },
  {
   "cell_type": "code",
   "execution_count": 13,
   "metadata": {},
   "outputs": [
    {
     "name": "stdout",
     "output_type": "stream",
     "text": [
      "range: [0, 1, 2, 3, 4]\n",
      "0\n",
      "1\n",
      "2\n",
      "3\n",
      "4\n"
     ]
    }
   ],
   "source": [
    "# Use for with range\n",
    "print('range:', list(range(0, 5, 1)))\n",
    "\n",
    "for i in range(0, 5, 1):    # range(0, 5, 1) = [0, 1, 2, 3, 4]\n",
    "    print(i)"
   ]
  },
  {
   "cell_type": "code",
   "execution_count": 14,
   "metadata": {},
   "outputs": [
    {
     "name": "stdout",
     "output_type": "stream",
     "text": [
      "range: [5, 4, 3, 2, 1]\n",
      "5\n",
      "4\n",
      "3\n",
      "2\n",
      "1\n"
     ]
    }
   ],
   "source": [
    "# Use for with range \n",
    "print('range:', list(range(5, 0, -1)))\n",
    "\n",
    "for i in range(5, 0, -1):    # range(5, 0, -1) = [0, 1, 2, 3, 4]\n",
    "    print(i)"
   ]
  },
  {
   "cell_type": "markdown",
   "metadata": {},
   "source": [
    "### The break statement\n",
    "\n",
    "ใน Python คำสั่ง `break` ใช้ในการหยุดการทำงานของลูป\n",
    "\n",
    "เรามักจะใช้ break ร่วมกับเงื่อนไขเพื่อหยุดการทำงาน"
   ]
  },
  {
   "cell_type": "code",
   "execution_count": 16,
   "metadata": {},
   "outputs": [
    {
     "name": "stdout",
     "output_type": "stream",
     "text": [
      "0\n",
      "1\n",
      "2\n",
      "3\n",
      "4\n",
      "5\n",
      "6\n",
      "7\n",
      "8\n",
      "End\n"
     ]
    }
   ],
   "source": [
    "# ใช้ break หยุดการทำงาน\n",
    "\n",
    "for x in range(0, 10, 1):\n",
    "\n",
    "    print(x)\n",
    "    if x == 8:  # เมื่อค่าในตัวแปร x เป็น 5\n",
    "        break\n",
    "    \n",
    "    \n",
    "print('End')"
   ]
  },
  {
   "cell_type": "code",
   "execution_count": 17,
   "metadata": {},
   "outputs": [
    {
     "name": "stdout",
     "output_type": "stream",
     "text": [
      "0\n",
      "1\n",
      "2\n",
      "3\n",
      "4\n",
      "5\n",
      "6\n",
      "7\n",
      "End\n"
     ]
    }
   ],
   "source": [
    "x = 0\n",
    "while x < 10:\n",
    "\n",
    "    if x == 8:\n",
    "        break\n",
    "    \n",
    "    print(x)\n",
    "    \n",
    "    x += 1\n",
    "\n",
    "print('End')"
   ]
  },
  {
   "cell_type": "markdown",
   "metadata": {},
   "source": [
    "### The continue statement\n",
    "ใน Python คำสั่ง `continue` ใช้ในการหยุดการทำงานของ iteration ปัจจุบัน แล้วข้ามไป iteration ถัดไป\n",
    "\n",
    "เรามักจะใช้ continue ร่วมกับเงื่อนไขเพื่อข้ามการทำงาน iteration ที่ต้องการ\n",
    "\n",
    "_ข้อควรระวัง เมื่อใช้ continue ร่วมกับ while loop ต้องคำนึงถึงเงื่อนไขที่จะหยุดการทำงานด้วย_"
   ]
  },
  {
   "cell_type": "code",
   "execution_count": 18,
   "metadata": {},
   "outputs": [
    {
     "name": "stdout",
     "output_type": "stream",
     "text": [
      "0\n",
      "2\n",
      "4\n",
      "6\n",
      "8\n",
      "End loop\n"
     ]
    }
   ],
   "source": [
    "# ใน continue\n",
    "for x in range(0, 10, 1):\n",
    "\n",
    "    if x%2!=0 :   \n",
    "        continue    #\n",
    "    \n",
    "    print(x)\n",
    "\n",
    "print('End loop')"
   ]
  },
  {
   "cell_type": "code",
   "execution_count": null,
   "metadata": {},
   "outputs": [],
   "source": [
    "# ใน continue\n",
    "x = 0\n",
    "while x < 10:\n",
    "\n",
    "    x += 1\n",
    "    if x%2==0:\n",
    "        continue\n",
    "\n",
    "    print(x)\n",
    "    \n",
    "print('End')"
   ]
  },
  {
   "cell_type": "markdown",
   "metadata": {},
   "source": [
    "### The pass statement\n",
    "ใน Python คำสั่ง `pass` ใช้ในเพื่อ ข้ามการรทำงานโค้ดบรรทัดนั้น ๆ \n",
    "\n",
    "เรามักจะใช้ pass เพื่อป้องกัน syntax error \n",
    "เช่น เนื่องจาก python มี syntax ที่บังคับไว้ชัดเจน แต่ถ้าเรามี for loop ที่ยังไม่ได้เขียนทั้งหมด เราสามารถข้ามการทำงานได้โดยใช้ pass"
   ]
  },
  {
   "cell_type": "code",
   "execution_count": 19,
   "metadata": {},
   "outputs": [
    {
     "name": "stdout",
     "output_type": "stream",
     "text": [
      "End\n"
     ]
    }
   ],
   "source": [
    "for i in range(5):\n",
    "     pass\n",
    "     \n",
    "\n",
    "print('End')"
   ]
  },
  {
   "cell_type": "markdown",
   "metadata": {},
   "source": [
    "### else in loop\n",
    "\n",
    "เราสามารถใช้ `else` กับ loop ได้\n",
    "โดยจะมี syntax :\n",
    "\n",
    "```python\n",
    "while True:\n",
    "  # statement\n",
    "\n",
    "else:\n",
    "  # do something if end loop\n",
    "```\n",
    "\n",
    "หรือ \n",
    "\n",
    "```python\n",
    "for i in range(6):\n",
    "  # statement\n",
    "\n",
    "else:\n",
    "  # do something if end loop\n",
    "```\n",
    "\n",
    "_ข้อควรระวัง การใช้ else กับ loop จะไม่สามารถใช้ร่วม break ได้_"
   ]
  },
  {
   "cell_type": "code",
   "execution_count": 23,
   "metadata": {},
   "outputs": [
    {
     "name": "stdout",
     "output_type": "stream",
     "text": [
      "0\n",
      "1\n",
      "2\n",
      "3\n",
      "4\n",
      "5\n",
      "6\n",
      "7\n",
      "8\n",
      "9\n",
      "End loop 1 10\n",
      "End loop 2 10\n"
     ]
    }
   ],
   "source": [
    "# การใช้ else ร่วมกับลูป\n",
    "\n",
    "x = 0\n",
    "\n",
    "while x < 10:\n",
    "    print(x)\n",
    "\n",
    "    x += 1\n",
    "    if x == 5:\n",
    "        continue\n",
    "\n",
    "else:\n",
    "    print('End loop 1', x)\n",
    "    \n",
    "# print('End loop 1')\n",
    "\n",
    "print('End loop 2', x)\n",
    "    "
   ]
  },
  {
   "cell_type": "code",
   "execution_count": 24,
   "metadata": {},
   "outputs": [
    {
     "name": "stdout",
     "output_type": "stream",
     "text": [
      "0\n",
      "1\n",
      "2\n",
      "3\n",
      "End loop 2 3\n"
     ]
    }
   ],
   "source": [
    "# การใช้ else ร่วมกับลูป\n",
    "for x in range(6):\n",
    "  print(x)\n",
    "  if x == 3:\n",
    "    break\n",
    "\n",
    "else:\n",
    "  print(\"End loop 1\", x)\n",
    "\n",
    "print(\"End loop 2\", x)"
   ]
  },
  {
   "cell_type": "markdown",
   "metadata": {},
   "source": [
    "### loop ที่เจอบ่อย\n",
    "\n",
    "เมื่อต้องการทำงานซ้ำ ๆ กัน n ครั้ง ใช้ \n",
    "```python\n",
    "for i in range(n):\n",
    "    # งานที่ต้องทำ\n",
    "```\n",
    "\n",
    "เช่น ต้องการอ่านข้อมูลจำนวน 5 ตัว เพื่อหาผลรวม"
   ]
  },
  {
   "cell_type": "code",
   "execution_count": null,
   "metadata": {},
   "outputs": [],
   "source": [
    "s = 0\n",
    "for i in range(0, 5, 1):\n",
    "  number = float( input('Enter number:'))\n",
    "  s = s + number\n",
    "print('ผลรวม =', s)"
   ]
  },
  {
   "cell_type": "markdown",
   "metadata": {},
   "source": [
    "### loop ที่เจอบ่อย (ต่อ)\n",
    "\n",
    "เมื่อต้องการประมวลผลชุดคำสั่งซ้ำ ๆ จนกว่าเงื่อนไขในการหยุดจะเป็นจริง\n",
    "ใช้ `while` หรือ `if break` ในลูป \n",
    "\n",
    "เช่น ต้องการหาผลรวมของข้อมูลรับเข้ามาเรื่อย ๆ จนกว่าจะเจอค่าติดลบ"
   ]
  },
  {
   "cell_type": "code",
   "execution_count": null,
   "metadata": {},
   "outputs": [],
   "source": [
    "# while loop แบบใช้ if break\n",
    "s = 0\n",
    "counter = 0\n",
    "while True:\n",
    "    number = float( input('Enter number:'))\n",
    "    if number < 0:\n",
    "        break\n",
    "    s = s + number\n",
    "    counter += 1\n",
    "\n",
    "print('ผลรวม =', s)\n",
    "print('จำนวนครั้ง =', counter)"
   ]
  },
  {
   "cell_type": "code",
   "execution_count": null,
   "metadata": {},
   "outputs": [],
   "source": [
    "# while loop แบบใช้เงื่อนไขในการหยุุดลูป\n",
    "s = 0\n",
    "counter = 0\n",
    "number = 0\n",
    "\n",
    "while number >= 0:\n",
    "    number = float( input('Enter number:'))\n",
    "    s = s + number\n",
    "    counter += 1\n",
    "\n",
    "print('ผลรวม =', s)\n",
    "print('จำนวนครั้ง =', counter)"
   ]
  },
  {
   "cell_type": "markdown",
   "metadata": {},
   "source": [
    "### loop ที่เจอบ่อย (ต่อ)\n",
    "\n",
    "เมื่อต้องการแจกแจงการเลือกค่า จะใช้วอธีนำลูปมาซ็อนกัน เรียกว่า Nested loop\n"
   ]
  },
  {
   "cell_type": "code",
   "execution_count": 25,
   "metadata": {},
   "outputs": [
    {
     "name": "stdout",
     "output_type": "stream",
     "text": [
      "x= 1 y= 1\n",
      "x= 1 y= 2\n",
      "x= 1 y= 3\n",
      "x= 2 y= 1\n",
      "x= 2 y= 2\n",
      "x= 2 y= 3\n",
      "x= 3 y= 1\n",
      "x= 3 y= 2\n",
      "x= 3 y= 3\n"
     ]
    }
   ],
   "source": [
    "n = 4\n",
    "for x in range(1, n, 1):\n",
    "    for y in range(1, n, 1):\n",
    "\n",
    "        print('x=', x, 'y=', y)"
   ]
  },
  {
   "cell_type": "markdown",
   "metadata": {},
   "source": [
    "### Example\n",
    "\n",
    "รับค่าเลขจำนวนจริงค่าหนึ่ง ผ่าน keyboard แล้วแสดงผลค่ากำลังสองของเลขนั้น <br>\n",
    "โดยกำหนดให้ถ้ามีการป้อนค่าติดลบให้สิ้นสุดการทำงาน <br>\n",
    "\n",
    "ให้ใช้คำสั่ง while\n",
    "\n",
    "#### วิเคราะห์\n",
    "\n",
    "- กำหนดค่าจำนวนเริ่มต้น = 0\n",
    "- เงื่อนไขการทำงานใน while คือ num >= 0 \n",
    "- รับและแสดงจำนวนในลูป"
   ]
  },
  {
   "cell_type": "code",
   "execution_count": null,
   "metadata": {},
   "outputs": [],
   "source": [
    "num = 0\n",
    "while num >= 0:\n",
    "    num = input('Enter number:')\n",
    "    num = float(num)\n",
    "    print('power of number =', num**2)\n"
   ]
  },
  {
   "cell_type": "markdown",
   "metadata": {},
   "source": [
    "### Example\n",
    "\n",
    "ให้รับคะแนนของนักศึกษา n คน แล้วคำนวณและแสดงผลค่าเฉลี่ยของคะแนน <br>\n",
    "โดยค่า n ให้รับผ่านทาง keyboard <br>\n",
    "\n",
    "ให้ใช้คำสั่ง for\n",
    "\n",
    "#### วิเคราะห์\n",
    "\n",
    "- รับจำนวนนักศึกษาทั้งหมดเก็บไว้ในตัวแปร n \n",
    "- กำหนดตัวแปร total = 0 เพื่อเก็บผลรวมคะแนนทั้งหมด"
   ]
  },
  {
   "cell_type": "code",
   "execution_count": null,
   "metadata": {},
   "outputs": [],
   "source": [
    "n = int(input('Enter number of student:'))\n",
    "\n",
    "total = 0\n",
    "for i in range(n):\n",
    "    score = float(input(\"Enter score:\"))\n",
    "    total += score\n",
    "    print(score)\n",
    "\n",
    "print('total score =', total, 'Average =', total/n)"
   ]
  },
  {
   "cell_type": "markdown",
   "metadata": {},
   "source": [
    "### Example Game\n",
    "\n",
    "#### Coding\n",
    "การผ่านด่านของเกมส์ <br>\n",
    "มีจุดประสงค์คือ upgrade level ให้มากกว่าหรือเท่ากับ 10 และ ล่าบอสสำเร็จ จึงจะถือว่าผ่านด่าน กำหนดให้มีข้อจำกัดดังนี้ <br>\n",
    "- level เริ่มต้นคือ 1 และ EXP เริ่มต้นคือ 0\n",
    "- การ upgrade level ทำได้จากการเพิ่มค่าประสบการณ์ (EXP) คือ ล่ามอนส์เตอร์ ซึ่งจะได้ EXP ครั้งละ 40\n",
    "- ถ้าสะสม EXP มีค่าเกิน 100 หน่วย ให้ level เพิ่มขึ้น 1 และ EXP จะรีเซตเป็น 0\n",
    "- ถ้า level เท่ากับ 10 และ exp มากกว่า 60 จะสามารถ ล่าบอส ได้\n",
    "- ถ้าล่าบอสสำเร็จ จะถือว่าผ่านด่าน และจบเกมส์ \n",
    "- ถ้าล่าบอสไม่สำเร็จ จะถูกรีเซ็ต level เป็น 9 และให้ไปเก็บค่าประสบการณ์ใหม่ แต่จะไม่รีเซต exp เมื่อ level up\n",
    "- วิธีการล่าบอส ถ้าล่ามอนส์เตอร์ครบ 35 ตัว จะถือว่ามีความสามารถในการล่าบอสสำเร็จ\n"
   ]
  }
 ],
 "metadata": {
  "kernelspec": {
   "display_name": "Python 3",
   "language": "python",
   "name": "python3"
  },
  "language_info": {
   "codemirror_mode": {
    "name": "ipython",
    "version": 3
   },
   "file_extension": ".py",
   "mimetype": "text/x-python",
   "name": "python",
   "nbconvert_exporter": "python",
   "pygments_lexer": "ipython3",
   "version": "3.10.5"
  },
  "orig_nbformat": 4,
  "vscode": {
   "interpreter": {
    "hash": "2bd6cfaa8a8359414f85749a6a6580f591974caa3acf786ed1d87da5ed9452a8"
   }
  }
 },
 "nbformat": 4,
 "nbformat_minor": 2
}
