{
 "cells": [
  {
   "cell_type": "markdown",
   "metadata": {},
   "source": [
    "# Excercise 4 - Max"
   ]
  },
  {
   "cell_type": "markdown",
   "metadata": {},
   "source": [
    "## เขียนโปรแกรมสำหรับ คำนวณค่าที่มากที่สุด\n",
    "\n",
    "หาค่าที่มากที่สุด ผ่านข้อมูลที่กำหนด<br>\n",
    "\n",
    "Input: <br>\n",
    "บรรทัดที่ 1 รับจำนวนข้อมูลทั้งหมด เป็นจำนวนเต็มบวก โดยต้องมีค่าตั้งแต่ 1 ขึ้นไป\n",
    "บรรทัดที่ 2 รับจำนวนเต็มที่ต้องการคำนวณ\n",
    "\n",
    "Output:<br>\n",
    "บรรทัดที่ 1 แสดงจำนวนที่มีค่ามากที่สุด\n",
    "\n",
    "Hint:\n",
    "- กำหนดจำนวน max เป็นตัวแรกของข้อมูล\n",
    "- เปรียบเทียบจำนวนถัดไปกับค่า max "
   ]
  },
  {
   "cell_type": "markdown",
   "metadata": {},
   "source": [
    "### ตัวอย่าง\n",
    "|Input              |     Output       |\n",
    "|-------            |------------------|\n",
    "| 5<br>1<br>2<br>3<br>4<br>5     | Max = 5    |\n",
    "| 3<br>3<br>1<br>-2              | Max = 3    |"
   ]
  },
  {
   "cell_type": "code",
   "execution_count": 3,
   "metadata": {},
   "outputs": [
    {
     "name": "stdout",
     "output_type": "stream",
     "text": [
      "Max = 3\n"
     ]
    }
   ],
   "source": [
    "n = int(input(\"Enter n:\"))\n",
    "\n",
    "max_num = 0\n",
    "\n",
    "for i in range(n):\n",
    "    num = int(input('Enter number:'))\n",
    "    if i == 0:\n",
    "        max_num = num\n",
    "    else:\n",
    "        if num > max_num:\n",
    "            max_num = num\n",
    "\n",
    "print(\"Max =\", max_num)\n"
   ]
  }
 ],
 "metadata": {
  "interpreter": {
   "hash": "1f0945ea651c1069c7af037cbbaa82eca29c1e053adfed76f992832db8b6af67"
  },
  "kernelspec": {
   "display_name": "Python 3.9.10 64-bit",
   "language": "python",
   "name": "python3"
  },
  "language_info": {
   "codemirror_mode": {
    "name": "ipython",
    "version": 3
   },
   "file_extension": ".py",
   "mimetype": "text/x-python",
   "name": "python",
   "nbconvert_exporter": "python",
   "pygments_lexer": "ipython3",
   "version": "3.9.10"
  },
  "orig_nbformat": 4
 },
 "nbformat": 4,
 "nbformat_minor": 2
}
