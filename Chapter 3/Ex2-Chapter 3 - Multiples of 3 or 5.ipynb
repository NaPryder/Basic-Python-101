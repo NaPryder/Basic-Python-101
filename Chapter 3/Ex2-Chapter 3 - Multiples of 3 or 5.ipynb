{
 "cells": [
  {
   "cell_type": "markdown",
   "metadata": {},
   "source": [
    "# Excercise 2 - Multiples of 3 or 5"
   ]
  },
  {
   "cell_type": "markdown",
   "metadata": {},
   "source": [
    "## เขียนโปรแกรมสำหรับ คำนวณผลรวม\n",
    "\n",
    "รับค่าจำนวนเต็มบวก 1 จำนวนผ่าน keyboard และเก็บไว้ในตัวแปร x <br>\n",
    "คำนวณหาผลรวมของจำนวนเต็มบวกทุกจำนวน ที่มีค่าต่ำกว่า x และมี 3 หรือ 5 เป็นตัวประกอบ<br><br>\n",
    "เช่น<br>\n",
    " x = 20 คำตอบที่ได้คือ 3 + 5 + 6 + 9 + 10 + 12 + 15 + 18 = 78<br>\n",
    "_สังเกตว่าคำตอบไม่รวมค่า 20 เพราะ สนใจเฉพาะจำนวนที่มีค่าต่ำว่า 20_\n",
    "\n",
    "Hint:<br>\n",
    "- จำนวนเต็มที่มี 3 เป็นตัวประกอบคือ จำนวนหาร 3 ลงตัว"
   ]
  },
  {
   "cell_type": "markdown",
   "metadata": {},
   "source": [
    "### ตัวอย่าง\n",
    "|Input              |     Output       |\n",
    "|-------            |------------------|\n",
    "| 20       | 78     |\n",
    "| 25       | 143    |\n",
    "| 3        | 0      |\n",
    "| 5        |3       |"
   ]
  },
  {
   "cell_type": "code",
   "execution_count": 4,
   "metadata": {},
   "outputs": [
    {
     "name": "stdout",
     "output_type": "stream",
     "text": [
      "3\n"
     ]
    }
   ],
   "source": [
    "x = int(input(\"Enter x:\"))\n",
    "t = 0\n",
    "for i in range(1, x):\n",
    "    if (i%3 == 0) or (i%5==0):\n",
    "        t += i\n",
    "print(t)\n"
   ]
  }
 ],
 "metadata": {
  "interpreter": {
   "hash": "1f0945ea651c1069c7af037cbbaa82eca29c1e053adfed76f992832db8b6af67"
  },
  "kernelspec": {
   "display_name": "Python 3.9.10 64-bit",
   "language": "python",
   "name": "python3"
  },
  "language_info": {
   "codemirror_mode": {
    "name": "ipython",
    "version": 3
   },
   "file_extension": ".py",
   "mimetype": "text/x-python",
   "name": "python",
   "nbconvert_exporter": "python",
   "pygments_lexer": "ipython3",
   "version": "3.9.10"
  },
  "orig_nbformat": 4
 },
 "nbformat": 4,
 "nbformat_minor": 2
}
