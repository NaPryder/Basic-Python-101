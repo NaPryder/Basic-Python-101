{
 "cells": [
  {
   "cell_type": "markdown",
   "metadata": {},
   "source": [
    "# Excercise 3 - Calculate interest"
   ]
  },
  {
   "cell_type": "markdown",
   "metadata": {},
   "source": [
    "## เขียนโปรแกรมสำหรับ คำนวณดอกเบี้ย\n",
    "\n",
    "John ฝากเงินในบัญชีออมทรัพย์ในปีแรก เป็นเงิน $1000 <br>\n",
    "ได้อัดตราดอกเบี้ย 5% ต่อปี และดอกเบี้ยจะสะสมไว้ในบัญชีดังกล่าว<br>\n",
    "เมื่อฝากครบ x ปี โดยไม่ถอนเงินออกเลย John จะมีเงินทั้งหมดเท่าไร และ ดอกเบี้ยที่ได้รับทั้งหมดเท่าไร<br>\n",
    "โดย รับค่าจำนวนปีที่ต้องการฝากเงินผ่านทาง keyboard เก็บไว้ในตัวแปร x<br>\n",
    "\n",
    "`ดอกเบี้ยที่ได้รับต่อปี = จำนวนเงินคงเหลือในบัญชี * อัตราดอกเบี้ย` <br>\n",
    "\n",
    "เช่น มีเงินเหลือในบัญชี $100 ดอกเบี้ย = 100*0.05 = $5 <br>\n",
    "_อัตราดอกเบี้ย 5% = 5/100_\n",
    "\n",
    "Hint:<br>\n",
    "- จำนวนเงินคงเหลือในแต่ละปี จะต้องรวมดอกเบี้ยที่ได้รับด้วย"
   ]
  },
  {
   "cell_type": "markdown",
   "metadata": {},
   "source": [
    "### ตัวอย่าง\n",
    "|Input              |     Output       |\n",
    "|-------            |------------------|\n",
    "| 5       | จำนวนเงินคงเหลือทั้งหมด = 1276.28<br>ดอกเบี้ยที่ได้รับทั้งหมด = 276.28    |\n",
    "| 10      | จำนวนเงินคงเหลือทั้งหมด = 1628.89<br>ดอกเบี้ยที่ได้รับทั้งหมด = 628.89    |\n",
    "| 1        | จำนวนเงินคงเหลือทั้งหมด = 1050.0<br>ดอกเบี้ยที่ได้รับทั้งหมด = 50.0      |\n",
    "| 2        |จำนวนเงินคงเหลือทั้งหมด = 1102.5<br>ดอกเบี้ยที่ได้รับทั้งหมด = 102.5      |"
   ]
  },
  {
   "cell_type": "code",
   "execution_count": null,
   "metadata": {},
   "outputs": [],
   "source": [
    "x = int( input(\"Enter total yesr:\"))\n",
    "rate = 0.05\n",
    "start = 1000\n",
    "balance = start\n",
    "for i in range(x):\n",
    "    a = balance*rate\n",
    "    # print('จำนวนเงินคงเหลือของปีที่', i,'=', balance)\n",
    "    # print('ดอกเบี้ยของปีที่', i ,'=', a)\n",
    "    balance += a\n",
    "print('จำนวนเงินคงเหลือทั้งหมด =', round(balance, 2))\n",
    "print('ดอกเบี้ยที่ได้รับทั้งหมด =', round(balance - start, 2))"
   ]
  }
 ],
 "metadata": {
  "interpreter": {
   "hash": "1f0945ea651c1069c7af037cbbaa82eca29c1e053adfed76f992832db8b6af67"
  },
  "kernelspec": {
   "display_name": "Python 3.9.10 64-bit",
   "language": "python",
   "name": "python3"
  },
  "language_info": {
   "codemirror_mode": {
    "name": "ipython",
    "version": 3
   },
   "file_extension": ".py",
   "mimetype": "text/x-python",
   "name": "python",
   "nbconvert_exporter": "python",
   "pygments_lexer": "ipython3",
   "version": "3.9.10"
  },
  "orig_nbformat": 4
 },
 "nbformat": 4,
 "nbformat_minor": 2
}
