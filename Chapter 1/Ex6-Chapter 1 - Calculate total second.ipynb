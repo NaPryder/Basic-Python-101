{
 "cells": [
  {
   "cell_type": "markdown",
   "metadata": {},
   "source": [
    "# Excercise 6 - Calculate total second"
   ]
  },
  {
   "cell_type": "markdown",
   "metadata": {},
   "source": [
    "## เขียนโปรแกรมสำหรับ คำนวณหาจำนวนวินาทีทั้งหมด\n",
    "รับ input จาก keyboard เป็นตัวเลขจำนวนเต็ม (บรรทัดละจำนวน) <br>\n",
    "เก็บในตัวแปร ชั่วโมง, นาที, วินาที <br>\n",
    "คำนวณจำนวนวินาทีรวม ที่คิดจากตัวแปร ชั่วโมง นาที วินาที <br>\n",
    "จากนั้นให้ แสดงจำนวนวินาทีรวมทั้งหมดที่คำนวณได้"
   ]
  },
  {
   "cell_type": "markdown",
   "metadata": {},
   "source": [
    "### ตัวอย่าง\n",
    "Input: <br>\n",
    "hour = 10 <br>\n",
    "minute = 13 <br>\n",
    "second = 55 <br>\n",
    "\n",
    "จะได้ Output คือ <br>\n",
    "\n",
    "จำนวนวินาทีรวมทั้งหมด = 36835 วินาที"
   ]
  },
  {
   "cell_type": "code",
   "execution_count": 1,
   "metadata": {},
   "outputs": [
    {
     "name": "stdout",
     "output_type": "stream",
     "text": [
      "จำนวนวินาทีรวมทั้งหมด = 36835 วินาที\n"
     ]
    }
   ],
   "source": [
    "#เฉลย\n",
    "hour = int(input(\"Enter number hour:\"))\n",
    "minute = int(input(\"Enter number minute:\"))\n",
    "second = int(input(\"Enter number second:\"))\n",
    "print(\"จำนวนวินาทีรวมทั้งหมด =\", (hour*3600) + (minute*60) + second, \"วินาที\")"
   ]
  }
 ],
 "metadata": {
  "interpreter": {
   "hash": "1f0945ea651c1069c7af037cbbaa82eca29c1e053adfed76f992832db8b6af67"
  },
  "kernelspec": {
   "display_name": "Python 3.9.10 64-bit",
   "language": "python",
   "name": "python3"
  },
  "language_info": {
   "codemirror_mode": {
    "name": "ipython",
    "version": 3
   },
   "file_extension": ".py",
   "mimetype": "text/x-python",
   "name": "python",
   "nbconvert_exporter": "python",
   "pygments_lexer": "ipython3",
   "version": "3.9.10"
  },
  "orig_nbformat": 4
 },
 "nbformat": 4,
 "nbformat_minor": 2
}
