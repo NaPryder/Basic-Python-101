{
 "cells": [
  {
   "cell_type": "markdown",
   "metadata": {},
   "source": [
    "# Excercise 7 - คำนวณเปอร์เซ็น"
   ]
  },
  {
   "cell_type": "markdown",
   "metadata": {},
   "source": [
    "## เขียนโปรแกรมสำหรับ คำนวณหาอัตราส่วนของลูกบอล\n",
    "\n",
    "ในโรงยิม มีประเภทลูกบอลทั้งหมด 3 ชนิด คือ ลูกฟุตบอล, ลูกบาส และ ลูกวอลเลย์บอล <br>\n",
    "ให้รับ input จำนวนลูกบอลแต่ละชนิดตามลำดับ (บรรทัดละจำนวน)  <br>\n",
    "แล้วคำนวณหาว่า ร้อยละของลูกฟุตบอล, ร้อยละของลูกบาส และ ร้อยละของลูกวอลเลย์บอล ของจำนวนลูกบอลทั้งหมด\n",
    "ให้เปลี่ยนเป็นทศนิยม 2 ตำแหน่ง\n"
   ]
  },
  {
   "cell_type": "markdown",
   "metadata": {},
   "source": [
    "### ตัวอย่าง\n",
    "Input:\n",
    "\n",
    "จำนวนลูกฟุตบอล = 23 <br>\n",
    "จำนวนลูกบาส = 15 <br>\n",
    "จำนวนลูกวอลเลย์บอล = 18 <br>\n",
    "\n",
    "จะได้ Output คือ <br> \n",
    "\n",
    "% จำนวนลูกฟุตบอล = 41.07 % <br>\n",
    "% จำนวนลูกบาส = 26.79 % <br>\n",
    "% จำนวนลูกวอลเลย์บอล = 32.14 % <br>"
   ]
  },
  {
   "cell_type": "code",
   "execution_count": 6,
   "metadata": {},
   "outputs": [
    {
     "name": "stdout",
     "output_type": "stream",
     "text": [
      "% จำนวนลูกฟุตบอล = 41.07 %\n",
      "% จำนวนลูกบาส = 26.79 %\n",
      "% จำนวนลูกวอลเลย์บอล = 32.14 %\n"
     ]
    }
   ],
   "source": [
    "#เฉลย\n",
    "number_of_football = int( input(\"Enter number of football:\") )\n",
    "number_of_basketball = int( input(\"Enter number of basketball:\") )\n",
    "number_of_volleyball = int( input(\"Enter number of volleyball:\") )\n",
    "\n",
    "# หาผลรวมของจำนวนลูกบอลทั้งหมด\n",
    "total_ball = number_of_football + number_of_basketball + number_of_volleyball\n",
    "\n",
    "percent_football = number_of_football / total_ball * 100\n",
    "percent_basketball = number_of_basketball / total_ball * 100\n",
    "percent_volleyball  = number_of_volleyball / total_ball * 100\n",
    "\n",
    "print(\"% จำนวนลูกฟุตบอล =\", round(percent_football, 2) , \"%\")\n",
    "print(\"% จำนวนลูกบาส =\", round(percent_basketball, 2) , \"%\")\n",
    "print(\"% จำนวนลูกวอลเลย์บอล =\", round(percent_volleyball, 2) , \"%\")\n"
   ]
  }
 ],
 "metadata": {
  "interpreter": {
   "hash": "1f0945ea651c1069c7af037cbbaa82eca29c1e053adfed76f992832db8b6af67"
  },
  "kernelspec": {
   "display_name": "Python 3.9.10 64-bit",
   "language": "python",
   "name": "python3"
  },
  "language_info": {
   "codemirror_mode": {
    "name": "ipython",
    "version": 3
   },
   "file_extension": ".py",
   "mimetype": "text/x-python",
   "name": "python",
   "nbconvert_exporter": "python",
   "pygments_lexer": "ipython3",
   "version": "3.9.10"
  },
  "orig_nbformat": 4
 },
 "nbformat": 4,
 "nbformat_minor": 2
}
