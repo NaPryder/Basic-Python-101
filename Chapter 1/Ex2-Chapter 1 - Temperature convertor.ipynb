{
 "cells": [
  {
   "cell_type": "markdown",
   "metadata": {},
   "source": [
    "# Excercise Chapter 2 - Temperature convertor"
   ]
  },
  {
   "cell_type": "markdown",
   "metadata": {},
   "source": [
    "## เขียนโปรแกรมสำหรับ แปลงอุณหภูมิ \n",
    "กำหนดค่าข้อมูลอุณหภูมิ (องศาเซลเซียส) <br>\n",
    "คำนวณหาค่า อุณหภูมิ (องศาฟาเรนไฮต์)<br>\n",
    "คำนวณหาค่า อุณหภูมิ (เคลวิน)<br>\n",
    "\n",
    "\n",
    "ด้วยสมการ\n",
    "\n",
    "` F = 9/5 * C + 32 `<br><br>\n",
    "` K = C + 273.15 `<br>\n",
    "\n",
    "กำหนดให้ <br>\n",
    "C คือ องศาเซลเซียส <br>\n",
    "F คือ องศาฟาเรนไฮต์ <br>\n",
    "K คือ เคลวิน"
   ]
  },
  {
   "cell_type": "markdown",
   "metadata": {},
   "source": [
    "### ตัวอย่าง\n",
    "กำหนด \n",
    "\n",
    "C = 39.85  # อุณหภูมิหน่วยองศาเซลเซียส\n",
    "\n",
    "จะได้ Output คือ\n",
    "\n",
    "103.73 F<br>\n",
    "313.0 K\n",
    "\n",
    "Output บรรทัดแรกคือค่า F บรรทัดที่สองคือค่า K"
   ]
  },
  {
   "cell_type": "code",
   "execution_count": 2,
   "metadata": {},
   "outputs": [
    {
     "name": "stdout",
     "output_type": "stream",
     "text": [
      "103.73 F\n",
      "313.0 K\n"
     ]
    }
   ],
   "source": [
    "#เฉลย\n",
    "\n",
    "C = 39.85\n",
    "\n",
    "F = (9/5 * C) + 32\n",
    "K = C + 273.15\n",
    "\n",
    "print(F, \"F\")\n",
    "print(K, \"K\")"
   ]
  }
 ],
 "metadata": {
  "interpreter": {
   "hash": "1f0945ea651c1069c7af037cbbaa82eca29c1e053adfed76f992832db8b6af67"
  },
  "kernelspec": {
   "display_name": "Python 3.9.10 64-bit",
   "language": "python",
   "name": "python3"
  },
  "language_info": {
   "codemirror_mode": {
    "name": "ipython",
    "version": 3
   },
   "file_extension": ".py",
   "mimetype": "text/x-python",
   "name": "python",
   "nbconvert_exporter": "python",
   "pygments_lexer": "ipython3",
   "version": "3.9.10"
  },
  "orig_nbformat": 4
 },
 "nbformat": 4,
 "nbformat_minor": 2
}
