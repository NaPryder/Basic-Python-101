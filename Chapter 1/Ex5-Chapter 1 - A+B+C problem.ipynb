{
 "cells": [
  {
   "cell_type": "markdown",
   "metadata": {},
   "source": [
    "# Excercise 5 - A+B+C Problem"
   ]
  },
  {
   "cell_type": "markdown",
   "metadata": {},
   "source": [
    "## เขียนโปรแกรมสำหรับ คำนวณหาผลรวม\n",
    "รับ input จาก keyboard เป็นตัวเลขจำนวนเต็ม a, b และ c (บรรทัดละจำนวน) <br>\n",
    "จากนั้นให้ แสดงผลรวมของตัวเลขทั้ง 3 จำนวนออกทางจอภาพ"
   ]
  },
  {
   "cell_type": "markdown",
   "metadata": {},
   "source": [
    "### ตัวอย่าง\n",
    "กำหนด \n",
    "a = 10 <br>\n",
    "b = 13 <br>\n",
    "c = 5 <br>\n",
    "\n",
    "จะได้ Output คือ <br>\n",
    "\n",
    "ผลรวม = 28"
   ]
  },
  {
   "cell_type": "code",
   "execution_count": 1,
   "metadata": {},
   "outputs": [
    {
     "name": "stdout",
     "output_type": "stream",
     "text": [
      "ผลรวม = 15\n"
     ]
    }
   ],
   "source": [
    "#เฉลย\n",
    "a = int(input(\"Enter number a:\"))\n",
    "b = int(input(\"Enter number b:\"))\n",
    "c = int(input(\"Enter number c:\"))\n",
    "print(\"ผลรวม =\", a + b + c)"
   ]
  }
 ],
 "metadata": {
  "interpreter": {
   "hash": "1f0945ea651c1069c7af037cbbaa82eca29c1e053adfed76f992832db8b6af67"
  },
  "kernelspec": {
   "display_name": "Python 3.9.10 64-bit",
   "language": "python",
   "name": "python3"
  },
  "language_info": {
   "codemirror_mode": {
    "name": "ipython",
    "version": 3
   },
   "file_extension": ".py",
   "mimetype": "text/x-python",
   "name": "python",
   "nbconvert_exporter": "python",
   "pygments_lexer": "ipython3",
   "version": "3.9.10"
  },
  "orig_nbformat": 4
 },
 "nbformat": 4,
 "nbformat_minor": 2
}
