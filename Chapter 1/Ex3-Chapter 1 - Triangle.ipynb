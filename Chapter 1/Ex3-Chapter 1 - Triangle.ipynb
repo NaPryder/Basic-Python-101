{
 "cells": [
  {
   "cell_type": "markdown",
   "metadata": {},
   "source": [
    "# Excercise Chapter 3 - Triangle"
   ]
  },
  {
   "cell_type": "markdown",
   "metadata": {},
   "source": [
    "## เขียนโปรแกรมสำหรับ หาพื้นที่สามเหลี่ยมด้านเท่า\n",
    "\n",
    "กำหนดตัวแปร <br>\n",
    "ด้านฐาน (หน่วยเซนติเมตร) <br>\n",
    "ด้านสูง (หน่วยเซนติเมตร) <br>\n",
    "\n",
    "คำนวณหา พื้นที่สามเหลี่ยมด้านเท่า จากสูตร\n",
    "\n",
    "> พื้นที่สามเหลี่ยน = 1/2 * ความยาวฐาน * ความสูง"
   ]
  },
  {
   "cell_type": "markdown",
   "metadata": {},
   "source": [
    "### ตัวอย่าง\n",
    "กำหนด \n",
    "\n",
    "base = 10.5  # ความกว้างฐาน หน่วย ซม.<br>\n",
    "height = 20.8  # ความสูง หน่วย ซม.<br>\n",
    "\n",
    "จะได้ Output คือ\n",
    "\n",
    "109.2 (sq cm)<br>"
   ]
  },
  {
   "cell_type": "code",
   "execution_count": 1,
   "metadata": {},
   "outputs": [
    {
     "name": "stdout",
     "output_type": "stream",
     "text": [
      "109.2 (sq cm)\n"
     ]
    }
   ],
   "source": [
    "#เฉลย\n",
    "\n",
    "base = 10.5\n",
    "height = 20.8\n",
    "\n",
    "area = 1/2 * base * height\n",
    "\n",
    "print(area, \"(sq cm)\")"
   ]
  }
 ],
 "metadata": {
  "interpreter": {
   "hash": "1f0945ea651c1069c7af037cbbaa82eca29c1e053adfed76f992832db8b6af67"
  },
  "kernelspec": {
   "display_name": "Python 3.9.10 64-bit",
   "language": "python",
   "name": "python3"
  },
  "language_info": {
   "codemirror_mode": {
    "name": "ipython",
    "version": 3
   },
   "file_extension": ".py",
   "mimetype": "text/x-python",
   "name": "python",
   "nbconvert_exporter": "python",
   "pygments_lexer": "ipython3",
   "version": "3.9.10"
  },
  "orig_nbformat": 4
 },
 "nbformat": 4,
 "nbformat_minor": 2
}
