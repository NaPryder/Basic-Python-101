{
 "cells": [
  {
   "cell_type": "markdown",
   "metadata": {},
   "source": [
    "# Excercise Chapter 3 - Price sharing"
   ]
  },
  {
   "cell_type": "markdown",
   "metadata": {},
   "source": [
    "## เขียนโปรแกรมสำหรับ คำนวณหาค่าอาหารที่นักเรียนแต่ละคนต้องจ่าย\n",
    "ถ้านักเรียนไปรับประทานอาหารฉลองวันปิดเทอมกับเพื่อน และตกลงกันว่าจะจ่ายค่าอาหารคนละเท่า ๆ กัน <br>\n",
    "นักเรียนแต่ละคนต้องจ่ายค่าอาหารคนละเท่าใด?\n",
    "\n",
    "กำหนดตัวแปร <br>\n",
    "จำนวนนักเรียนที่จะหาร (หน่วยคน) <br>\n",
    "ราคาอาหารทั้งหมด (หน่วยบาท) <br>\n",
    "\n",
    "คำนวณหาว่า นักเรียนแต่ละคนต้องจ่ายค่าอาหารคนละเท่าใด\n"
   ]
  },
  {
   "cell_type": "markdown",
   "metadata": {},
   "source": [
    "### ตัวอย่าง\n",
    "กำหนด \n",
    "\n",
    "จำนวนนักเรียน = 10  # คน.<br>\n",
    "ราคาอาหารทั้งหมด = 400 # บาท.<br>\n",
    "\n",
    "จะได้ Output คือ\n",
    "\n",
    "จ่ายค่าอาหารคนละ 40.0 บาท<br>"
   ]
  },
  {
   "cell_type": "code",
   "execution_count": 1,
   "metadata": {},
   "outputs": [
    {
     "name": "stdout",
     "output_type": "stream",
     "text": [
      "จ่ายค่าอาหารคนละ 40.0 บาท\n"
     ]
    }
   ],
   "source": [
    "#เฉลย\n",
    "\n",
    "number_of_student = 10\n",
    "total_price = 400\n",
    "\n",
    "average_price = total_price / number_of_student\n",
    "\n",
    "print(\"จ่ายค่าอาหารคนละ\", average_price, \"บาท\")"
   ]
  }
 ],
 "metadata": {
  "interpreter": {
   "hash": "1f0945ea651c1069c7af037cbbaa82eca29c1e053adfed76f992832db8b6af67"
  },
  "kernelspec": {
   "display_name": "Python 3.9.10 64-bit",
   "language": "python",
   "name": "python3"
  },
  "language_info": {
   "codemirror_mode": {
    "name": "ipython",
    "version": 3
   },
   "file_extension": ".py",
   "mimetype": "text/x-python",
   "name": "python",
   "nbconvert_exporter": "python",
   "pygments_lexer": "ipython3",
   "version": "3.9.10"
  },
  "orig_nbformat": 4
 },
 "nbformat": 4,
 "nbformat_minor": 2
}
