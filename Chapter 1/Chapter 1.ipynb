{
 "cells": [
  {
   "cell_type": "markdown",
   "metadata": {},
   "source": [
    "# Basic Python \n",
    "\n",
    "## Chapter 1 - Intro to Python"
   ]
  },
  {
   "cell_type": "markdown",
   "metadata": {},
   "source": [
    "### Install Python and setup environment\n",
    "\n",
    "1. Download Pytohn จาก https://www.python.org/\n",
    "2. Install python and set PATH environment \n",
    "3. Install Text Editor (VS Code) จาก https://code.visualstudio.com/"
   ]
  },
  {
   "cell_type": "markdown",
   "metadata": {},
   "source": [
    "# Intro to python\n",
    "\n",
    "เราสามารถเขียน Python ได้ 2 วิธี ได้แก่\n",
    "\n",
    "    1. ติดตั้ง Python IDE บนเครื่องคอมตัวเอง เช่น ใช้ PyCharm, Visual Studio Code หรือ อื่น ๆ .\n",
    "\n",
    "    2. เขียนโปรแกรมออนไลน์ ซึ่งปัจจุบันมีหลายเว็บที่ให้บริการ เช่น https://repl.it/languages/python3.\n",
    "\n",
    "โหมดการใช้งาน Python มี 2 โหมด\n",
    "\n",
    "    1. โหมดสคริปต์ (Script mode) ต้องเขียนชุดคำสั่งทั้งหมดลงในไฟล์แล้วบันทึกไว้ เวลาสั่งรันโปรแกรมก็ให้ทำจากไฟล์ทีเดียวเลย ซึ่งข้อดีเราสามารถรันโปรแกรมได้ซ้ำๆ และแก้ไขเพิ่มเติมได้ภายหลัง\n",
    "    2. อินเตอร์แอคทีฟโหมด (interactive mode) เป็นการเขียนชุดคำสั่งที่ละคำสั่ง แล้วรันทันทีละคำสั่งด้วยมือเราเอง ไม่มีการบันทึกเป็นไฟล์\n",
    "\n",
    "* คำว่า \"รัน (Run)\" ในความหมายคอมพิวเตอร์ไม่ได้แปลว่า \"วิ่ง\" แต่หมายถึงให้คอมพิวเตอร์มันทำงานตามโปรแกรมที่เขียนไว้"
   ]
  },
  {
   "cell_type": "markdown",
   "metadata": {},
   "source": [
    "## Input & Output\n",
    "เรียกสั้น ๆ ว่า IO <br>\n",
    "เป็นการ ป้อนข้อมูลเข้าสู่คอมพิวเตอร์เพื่อประมวลผล และส่งผลลัพธ์ออกมาแสดงให้ user ทราบ<br>\n",
    "\n",
    "### การแสดงผล\n",
    "การแสดงผลจะใช้คำสั่ง `print()`\n",
    "\n",
    "\n",
    "### การรับข้อความเข้า\n",
    "การรับข้อความจาก keyboard ทำได้โดยการใช้คำสั่ง `input()`\n",
    "\n",
    "\n",
    "\n",
    "\n"
   ]
  },
  {
   "cell_type": "code",
   "execution_count": 7,
   "metadata": {},
   "outputs": [
    {
     "name": "stdout",
     "output_type": "stream",
     "text": [
      "Hello\n"
     ]
    }
   ],
   "source": [
    "# ตัวอย่าง คำสั่งแสดงผล\n",
    "print(\"Hello\")"
   ]
  },
  {
   "cell_type": "code",
   "execution_count": 8,
   "metadata": {},
   "outputs": [
    {
     "name": "stdout",
     "output_type": "stream",
     "text": [
      "5555\n"
     ]
    }
   ],
   "source": [
    "# ตัวอย่าง คำสั่งแสดงผล\n",
    "print(5555)"
   ]
  },
  {
   "cell_type": "code",
   "execution_count": 9,
   "metadata": {},
   "outputs": [
    {
     "name": "stdout",
     "output_type": "stream",
     "text": [
      "John\n"
     ]
    }
   ],
   "source": [
    "# ตัวอย่าง คำสั่งรับข้อมูลเข้า ผ่านการกำหนดค่า\n",
    "name = \"John\"\n",
    "print(name)"
   ]
  },
  {
   "cell_type": "code",
   "execution_count": null,
   "metadata": {},
   "outputs": [],
   "source": [
    "# ตัวอย่าง คำสั่งรับข้อมูล input\n",
    "name = input(\"Please enter your name: \")\n",
    "print(name)"
   ]
  },
  {
   "cell_type": "code",
   "execution_count": 38,
   "metadata": {},
   "outputs": [
    {
     "name": "stdout",
     "output_type": "stream",
     "text": [
      "Hello 1234 How are you\n"
     ]
    }
   ],
   "source": [
    "#การแสดงผลหลายข้อความของ คำสั่ง print \n",
    "print('Hello', 1234, \"How are you\")"
   ]
  },
  {
   "cell_type": "markdown",
   "metadata": {},
   "source": [
    "## Python syntax & scope\n",
    "\n",
    "สามารุถเขียนโปรแกรมบน Command line ได้โดยตรงเลย หรือจะเขียนบน Text Editor (IDE) ก็ได้.\n",
    "ในบทเรียนนี้จะใช้ VS code ในการเขียนโปรแกรม.\n",
    "\n",
    "Scope คือ ขอบเขตของการทำงานในส่วนต่างๆ ใน pytohn เราจะใช้ tab ในการกำหนด scope การทำงาน.\n",
    "\n",
    "ในภาษาอื่น ๆ เช่น Javascript จะกำหนด scope โดยใช้เครื่องหมาย { }\n",
    "```js\n",
    "    if (5 > 2) {\n",
    "        console.log(\"5 > 2\");\n",
    "    } \n",
    "```\n",
    "\n",
    "แต่ใน Python เราจะใช้แบบนี้ .\n",
    "```python\n",
    "    if 5 > 2:\n",
    "        print(\"5 > 2\")\n",
    "```\n",
    "\n",
    "### Comment\n",
    "Comment คือ การบอกคอมพิวเตอร์ไม่ให้ประมวลผลบรรทัดที่ถูก comment ไว้.\n",
    "\n",
    "เราจะ comment โดยใช้เครื่องหมาย # ไว้หน้าข้อความที่จะ comment."
   ]
  },
  {
   "cell_type": "code",
   "execution_count": null,
   "metadata": {},
   "outputs": [],
   "source": [
    "# ตัวอย่าง Comment\n",
    "print(\"Hello 1234\") #สั่งให้แสดงผลออกมาว่า Hello 1234"
   ]
  },
  {
   "cell_type": "code",
   "execution_count": null,
   "metadata": {},
   "outputs": [],
   "source": [
    "# ตัวอย่าง Comment\n",
    "print(\"Hello 1234 #สั่งให้แสดงผลออกมาว่า Hello 1234\" )"
   ]
  },
  {
   "cell_type": "code",
   "execution_count": null,
   "metadata": {},
   "outputs": [],
   "source": [
    "\"\"\"ตัวอย่าง Comment\n",
    "แบบใช้ double qoute 3 อัน\"\"\"\n",
    "\n",
    "print('Hello', '1234')"
   ]
  },
  {
   "cell_type": "markdown",
   "metadata": {},
   "source": [
    "## Data Type\n",
    "\n",
    "ชนิดของข้อมูลที่ built-in มากับโปรแกรมมี 8 ชนิด ดังนี้\n",
    "\n",
    "| Data Type     | Type                             |\n",
    "| -----------   | -----------                      |\n",
    "| **Text**      | _str_                            |\n",
    "| **Numeric**   | _int, float, complex_            |\n",
    "| **Boolean**   | _bool_                           |\n",
    "| **Sequence**  | _list, tuple, range_             |\n",
    "| **Set**       | _set, frozenset_                 |\n",
    "| **Mapping**   | _dict_                           |\n",
    "| **Binary**    | _bytes, bytearray, memoryview_   |\n",
    "| **None**      | _NoneType_                       |\n",
    "\n",
    "เราสามารถตรวจสอบชนิดของข้อมูลได้โดยการใช้คำสั่ง type "
   ]
  },
  {
   "cell_type": "markdown",
   "metadata": {},
   "source": [
    "### ในบทนี้จะกล่าวถึงชนิดของข้อมูล 2 ชนิด\n",
    "\n",
    "#### **Text (ข้อความ)**\n",
    "จะมี type เป็น string (str) <br>\n",
    "จัดเก็บอักขระ ตัวเลข ตัวอักษร ทุกตัวที่อยู่ระหว่างเครื่องหมาย ' (single qoute) หรือ \" (double quote)  <br>\n",
    "เช่น\n",
    "\n",
    "`'Hello ชาวโลก'` หรือ `\"Hello ชาวโลก\"`\n",
    "\n",
    "\n",
    "#### **Numeric (จำนวน)**\n",
    "จะมี 3 type คือ \n",
    "- จำนวนเต็ม หรือ Integer (int)\n",
    "- จำนวนจริง หรือ Real number (float) เป็นจำนวนที่มีทศนิยม (ทิศนิยม เท่ากับ 0 จะถือว่ามีทศนิยม แต่มีค่าเป็น 0) \n",
    "- จำนวนเชิงซ้อน หรือ Complex number (complex) ในบทนี้จะไม่กล่าวถึง"
   ]
  },
  {
   "cell_type": "code",
   "execution_count": 17,
   "metadata": {},
   "outputs": [
    {
     "data": {
      "text/plain": [
       "str"
      ]
     },
     "execution_count": 17,
     "metadata": {},
     "output_type": "execute_result"
    }
   ],
   "source": [
    "#ตรวจสอบชนิดของข้อมูล\n",
    "type(\"Hello\")"
   ]
  },
  {
   "cell_type": "code",
   "execution_count": 18,
   "metadata": {},
   "outputs": [
    {
     "data": {
      "text/plain": [
       "int"
      ]
     },
     "execution_count": 18,
     "metadata": {},
     "output_type": "execute_result"
    }
   ],
   "source": [
    "age = 10\n",
    "type(age)"
   ]
  },
  {
   "cell_type": "code",
   "execution_count": 19,
   "metadata": {},
   "outputs": [
    {
     "data": {
      "text/plain": [
       "float"
      ]
     },
     "execution_count": 19,
     "metadata": {},
     "output_type": "execute_result"
    }
   ],
   "source": [
    "heigth = 171.5\n",
    "type(heigth)"
   ]
  },
  {
   "cell_type": "code",
   "execution_count": 29,
   "metadata": {},
   "outputs": [
    {
     "name": "stdout",
     "output_type": "stream",
     "text": [
      "1000.0\n"
     ]
    },
    {
     "data": {
      "text/plain": [
       "float"
      ]
     },
     "execution_count": 29,
     "metadata": {},
     "output_type": "execute_result"
    }
   ],
   "source": [
    "money = 1000.00000\n",
    "print(money)\n",
    "type(money)"
   ]
  },
  {
   "cell_type": "code",
   "execution_count": 20,
   "metadata": {},
   "outputs": [
    {
     "name": "stdout",
     "output_type": "stream",
     "text": [
      "5.0\n"
     ]
    },
    {
     "data": {
      "text/plain": [
       "float"
      ]
     },
     "execution_count": 20,
     "metadata": {},
     "output_type": "execute_result"
    }
   ],
   "source": [
    "fraction = 50/10\n",
    "print(fraction)\n",
    "type(fraction)"
   ]
  },
  {
   "cell_type": "code",
   "execution_count": 30,
   "metadata": {},
   "outputs": [
    {
     "data": {
      "text/plain": [
       "float"
      ]
     },
     "execution_count": 30,
     "metadata": {},
     "output_type": "execute_result"
    }
   ],
   "source": [
    "fraction = 1/2\n",
    "type(fraction)"
   ]
  },
  {
   "cell_type": "code",
   "execution_count": 31,
   "metadata": {},
   "outputs": [
    {
     "data": {
      "text/plain": [
       "list"
      ]
     },
     "execution_count": 31,
     "metadata": {},
     "output_type": "execute_result"
    }
   ],
   "source": [
    "subjects = ['Math', 'English', 'Science']\n",
    "type(subjects)"
   ]
  },
  {
   "cell_type": "code",
   "execution_count": 32,
   "metadata": {},
   "outputs": [
    {
     "data": {
      "text/plain": [
       "dict"
      ]
     },
     "execution_count": 32,
     "metadata": {},
     "output_type": "execute_result"
    }
   ],
   "source": [
    "familyMembers = {\n",
    "    'James': 18 ,\n",
    "    'Mika' : 16 ,\n",
    "    'Mark' : 21 ,\n",
    "}\n",
    "type(familyMembers)\n"
   ]
  },
  {
   "cell_type": "code",
   "execution_count": 33,
   "metadata": {},
   "outputs": [
    {
     "data": {
      "text/plain": [
       "set"
      ]
     },
     "execution_count": 33,
     "metadata": {},
     "output_type": "execute_result"
    }
   ],
   "source": [
    "set_of_index = {1, 2, 3, 8}\n",
    "type( set_of_index )"
   ]
  },
  {
   "cell_type": "code",
   "execution_count": 34,
   "metadata": {},
   "outputs": [
    {
     "data": {
      "text/plain": [
       "tuple"
      ]
     },
     "execution_count": 34,
     "metadata": {},
     "output_type": "execute_result"
    }
   ],
   "source": [
    "tuple_of_columns = ('ID', 'Firstname', 'Lastname', 'Email', 'Age')\n",
    "type(tuple_of_columns)"
   ]
  },
  {
   "cell_type": "code",
   "execution_count": 35,
   "metadata": {},
   "outputs": [
    {
     "name": "stdout",
     "output_type": "stream",
     "text": [
      "<class 'bool'>\n",
      "<class 'bool'>\n"
     ]
    }
   ],
   "source": [
    "born_in_Thailand = True\n",
    "born_in_UK = False\n",
    "print(type(born_in_Thailand))\n",
    "print(type(born_in_UK))"
   ]
  },
  {
   "cell_type": "code",
   "execution_count": 36,
   "metadata": {},
   "outputs": [
    {
     "name": "stdout",
     "output_type": "stream",
     "text": [
      "ll\n",
      "<class 'str'>\n"
     ]
    }
   ],
   "source": [
    "nickname = input('Enter your nickname: ')\n",
    "print(nickname) \n",
    "print(type(nickname)) "
   ]
  },
  {
   "cell_type": "code",
   "execution_count": 37,
   "metadata": {},
   "outputs": [
    {
     "name": "stdout",
     "output_type": "stream",
     "text": [
      "55\n",
      "<class 'str'>\n"
     ]
    }
   ],
   "source": [
    "age = input('Enter your nickname: ') \n",
    "print(age) \n",
    "print(type(age)) "
   ]
  },
  {
   "cell_type": "markdown",
   "metadata": {},
   "source": [
    "**Note :** _Data type ของตัวแปรที่ได้จาก input() จะเป็น str เสมอ_"
   ]
  },
  {
   "cell_type": "markdown",
   "metadata": {},
   "source": [
    "# Assign variable\n",
    "\n",
    "การกำหนดตัวแปร คือ การกำหนดค่าต่าง ๆ เก็บไว้ใน ตัวแปร เพื่อนำไปใช้ต่อในโปรแกรม.\n",
    "\n",
    "ใน Python การตั้งชื่อตัวแปรจะเป็นรูปแบบ Case sensitive คือ ตัวใหญ่และตัวเล็ก ถือว่าเป็นคนละตัวกัน.\n",
    "\n",
    "\n",
    "#### ชื่อตัวแปรจะอยู่ด้านซ้ายของเครื่องหมา่ยเท่ากับ (=)"
   ]
  },
  {
   "cell_type": "code",
   "execution_count": null,
   "metadata": {},
   "outputs": [],
   "source": [
    "name = \"John\"   #เก็บข้อมูล สตริง ไว้ในตัวแปร name\n",
    "NAME = \"Tomas\"  #เก็บข้อมูล สตริง ไว้ในตัวแปร NAME\n",
    "Name = \"Miller\" #เก็บข้อมูล สตริง ไว้ในตัวแปร Name\n",
    "NaMe = \"Joe\"    #เก็บข้อมูล สตริง ไว้ในตัวแปร NaMe\n",
    "\n",
    "print(name)\n",
    "print(NAME)\n",
    "print(Name)\n",
    "print(NaMe)\n",
    "\n",
    "#ตัวแปร name, NAME, Name คือคนละตัวกัน"
   ]
  },
  {
   "cell_type": "markdown",
   "metadata": {},
   "source": [
    "# Re-assign variable \n",
    "\n",
    "ใน Python สามารถกำหนดตัวแปร ทับตัวแปรที่เคยกำหนดไว้แล้วได้ โดยไม่สนใจว่าตัวแปรนั้น ๆ จะเป็นชนิดข้อมูลอะไร"
   ]
  },
  {
   "cell_type": "code",
   "execution_count": null,
   "metadata": {},
   "outputs": [],
   "source": [
    "#First assign price\n",
    "price = 100\n",
    "print(\"สินค้า ราคา:\", price, type(price))\n",
    "\n",
    "#Re-assign price\n",
    "price = 100.25\n",
    "print(\"สินค้า ราคา:\", price, type(price))\n",
    "\n",
    "#Re-assign price\n",
    "price = \"100.25\"\n",
    "print(\"สินค้า ราคา:\", price, type(price))"
   ]
  },
  {
   "cell_type": "markdown",
   "metadata": {},
   "source": [
    "## ข้อกำหนดในการตั้งชื่อตัวแปร (Identifier)\n",
    "\n",
    "1. ชื่อตัวแปรประกอบด้วย ตัวอักษร ตัวเลข หรือเครื่องหมายขีดเส้นใต้ ( _ ) เครื่องหมายอื่นไม่สามารถใช้ได้\n",
    "2. ห้ามขึ้นตันด้วยตัวเลข\n",
    "3. ไม่ควรตั้งชื่อตัวแปรซ้ำกับชื่อชื่อตัวแปรใน Python เช่น int, str, max, sum, abs (ไม่ห้าม แต่ไม่ควรทำ)\n",
    "4. ห้ามตั้งชื่อซ้ำกับคำสงวนของ Python คือ` and, as, assert, break, class, continue, def, del, elif, else, except, exec, finally, for, from, global, if, import, in, is, lambda, not, or, pass, print, raise, return, try, while, with, yield`\n",
    "5. ควรตั้งชื่อให้สื่อความหมาย\n",
    "\n",
    "### สไตล์การเขียนชื่อตัวแปรที่นิยม\n",
    "\n",
    "> **camelCase** : มักไม่ใช้ underscore (_) คำถัดไปจะขึ้นต้นด้วยตัวพิมพ์ใหญ่.<br>\n",
    ">   ตัวอย่าง ตัวแปรที่ใช้เก็บจำนวนนักเรียน `numberOfStudent` หรือ `studentNumber` \n",
    "\n",
    "> **PascalCase** : เหมือน camel case แต่ตัวแรกของคำแรกจะเป็นตัวใหญ่. <br>\n",
    ">    ตัวอย่าง ตัวแปรที่ใช้เก็บจำนวนนักเรียน `NumberOfStudent` หรือ `StudentNumber` \n",
    "    \n",
    "> **snake_case** : จะใช้ underscore (_) แยกแต่ละคำ จะใช้ตัวใหญ่หรือตัวเล็กก็ได้ ส่วนใหญ่นิยมใช้ตัวเล็ก.<br>\n",
    ">    ตัวอย่าง ตัวแปรที่ใช้เก็บจำนวนนักเรียน `number_of_student` หรือ `student_number` \n",
    "\n",
    "\n"
   ]
  },
  {
   "cell_type": "code",
   "execution_count": null,
   "metadata": {},
   "outputs": [],
   "source": [
    "#กำหนดตัวแปร \n",
    "#camelCase\n",
    "studentName = \"Miller\"   \n",
    "firstSubject = \"English\"\n",
    "studentID = 33 \n",
    "birthYear = 2009\n",
    "studentAddress = \"900 ถนนสุขุมวิท เขตคลองเตย กทม. 10110\"\n",
    "\n",
    "#PascalCase\n",
    "StudentName = \"Mike\"   \n",
    "FirstSubject = \"Science\"\n",
    "StudentID = 25\n",
    "BirthYear = 2008\n",
    "StudentAddress = \"100/1 ถนนสุขุมวิท เขตคลองเตย กทม. 10110\"\n",
    "\n",
    "#snake_case\n",
    "student_name = \"John\"   \n",
    "first_subject = \"Math\"\n",
    "student_id = 8\n",
    "birth_year = 2005\n",
    "student_address = \"123 ถนนสุขุมวิท เขตคลองเตย กทม. 10110\"\n",
    "\n",
    "this_year = 2022\n",
    "\n"
   ]
  },
  {
   "cell_type": "code",
   "execution_count": null,
   "metadata": {},
   "outputs": [],
   "source": [
    "#การแสดงผลตัวแปร แบบง่าย\n",
    "print(\"Hello I'm\", student_name, \"my student ID is\", student_id , \". I'm\", this_year - birth_year, \"years old.\")\n",
    "print()\n",
    "#การแสดงผลตัวแปร แบบกำหนดตัวแปร\n",
    "say_hello = \"Hello I'm \" + student_name + \" my student ID is \" + str(student_id) + \" . I'm \" + str(this_year - birth_year) + \" years old.\"\n",
    "print(say_hello)\n",
    "\n",
    "#การแสดงผลตัวแปร แบบกำหนดบรรทัดเดียว\n",
    "print(\"Hello I'm \" + student_name + \" my student ID is \" + str(student_id) + \" . I'm \" + str(this_year - birth_year) + \" years old.\")"
   ]
  },
  {
   "cell_type": "markdown",
   "metadata": {},
   "source": [
    "## Casting\n",
    "\n",
    "คือ การแปลงชนิดข้อมูลจาก type หนึ่ง เป็น อีก type หนึ่ง\n",
    "\n",
    "ในที่นี้จะกล่าวถึงการ Casting 3 ชนิด\n",
    "\n",
    "* `int()` ใช้สำหรับแปลงตัวเลขที่เป็นจุดทศนิยม หรือ ตัวอักษร ไปเป็นตัวเลขจำนวนเต็ม type int\n",
    "* `float()` ใช้สำหรับแปลงตัวเลขจำนวนเต็ม หรือ ตัวอักษร ไปเป็นตัวเลขที่มีจุดทศนิยม type float\n",
    "* `str()` ใช้สำหรับแปลงข้อมูลต่าง ๆ เป็นตัวอักษร type string"
   ]
  },
  {
   "cell_type": "code",
   "execution_count": null,
   "metadata": {},
   "outputs": [],
   "source": [
    "#Casting to int\n",
    "a = int(100.50) #แปลง float ไปเป็น int\n",
    "b = int(50)     #แปลง int ไปเป็น int\n",
    "c = int(\"80\")   #แปลง str ไปเป็น int\n",
    "d = int(True)   #แปลง bool ไปเป็น int\n",
    "e = int(False)  #แปลง bool ไปเป็น int\n",
    "\n",
    "print(a, type(a))\n",
    "print(b, type(b))\n",
    "print(c, type(c))\n",
    "print(d, type(d))\n",
    "print(e, type(e))"
   ]
  },
  {
   "cell_type": "code",
   "execution_count": null,
   "metadata": {},
   "outputs": [],
   "source": [
    "#Casting to float\n",
    "a = float(100.50)       #แปลง float ไปเป็น float\n",
    "b = float(99.099)       #แปลง float ไปเป็น float\n",
    "c = float(50)           #แปลง int ไปเป็น float\n",
    "d = float(\"80.123\")     #แปลง str ไปเป็น float\n",
    "e = float(\"80\")         #แปลง str ไปเป็น float\n",
    "f = float(True)         #แปลง bool ไปเป็น float\n",
    "g = float(False)        #แปลง bool ไปเป็น float\n",
    "\n",
    "print(a, type(a))\n",
    "print(b, type(b))\n",
    "print(c, type(c))\n",
    "print(d, type(d))\n",
    "print(e, type(e))\n",
    "print(f, type(f))\n",
    "print(g, type(g))"
   ]
  },
  {
   "cell_type": "code",
   "execution_count": null,
   "metadata": {},
   "outputs": [],
   "source": [
    "#Casting to str\n",
    "a = str(100.50)       #แปลง float ไปเป็น str\n",
    "b = str(99.099)        #แปลง float ไปเป็น str\n",
    "c = str(50)           #แปลง int ไปเป็น str\n",
    "d = str(\"80.123\")     #แปลง str ไปเป็น str\n",
    "e = str(\"80\")         #แปลง str ไปเป็น str\n",
    "f = str(True)         #แปลง bool ไปเป็น str\n",
    "g = str(False)        #แปลง bool ไปเป็น str\n",
    "\n",
    "print(a, type(a))\n",
    "print(b, type(b))\n",
    "print(c, type(c))\n",
    "print(d, type(d))\n",
    "print(e, type(e))\n",
    "print(f, type(f))\n",
    "print(g, type(g))"
   ]
  },
  {
   "cell_type": "markdown",
   "metadata": {},
   "source": [
    "## Operator\n",
    "ได้แก่\n",
    "บวก ( + ), ลบ ( - ), คูณ ( * ), ยกกำลัง ( ** ), หาร ( / ) หารปัดเศษ ( // ), เศษจากการหาร ( % )"
   ]
  },
  {
   "cell_type": "code",
   "execution_count": null,
   "metadata": {},
   "outputs": [],
   "source": [
    "#การบวก +\n",
    "a = 1       #int\n",
    "b = 2       #int\n",
    "c = a + b   \n",
    "\n",
    "print(\"a + b =\",c ,type(c))"
   ]
  },
  {
   "cell_type": "code",
   "execution_count": null,
   "metadata": {},
   "outputs": [],
   "source": [
    "#การลบ -\n",
    "a = 1       #int\n",
    "b = 2       #int\n",
    "c = a - b   \n",
    "\n",
    "print(\"a - b =\",c ,type(c))"
   ]
  },
  {
   "cell_type": "code",
   "execution_count": null,
   "metadata": {},
   "outputs": [],
   "source": [
    "#การคูณ *\n",
    "a = 10       #int\n",
    "b = 25       #int\n",
    "c = a * b * 3  \n",
    "\n",
    "print(\"a * b * 3 =\",c ,type(c))"
   ]
  },
  {
   "cell_type": "code",
   "execution_count": null,
   "metadata": {},
   "outputs": [],
   "source": [
    "#การหาร / \n",
    "a = 100     #int\n",
    "b = 20      #int\n",
    "c = a / b   \n",
    "\n",
    "print(\"a / b =\",c ,type(c)) #จะได้ float เสมอ"
   ]
  },
  {
   "cell_type": "code",
   "execution_count": null,
   "metadata": {},
   "outputs": [],
   "source": [
    "#การหารปัดเศษ // \n",
    "a = 100     #int\n",
    "b = 1.5      #int\n",
    "c = a / b   \n",
    "d = a // b\n",
    "x = int(c)\n",
    "\n",
    "print(\"a / b =\", c ,type(c)) \n",
    "print(\"a // b =\", d ,type(d))       #ปัดเศษทิ้งหมดเลย\n",
    "print(\"int(a / b) =\", x, type(x))   #ปัดเศษทิ้งทั้งหมด และแปลงเป็น int"
   ]
  },
  {
   "cell_type": "code",
   "execution_count": null,
   "metadata": {},
   "outputs": [],
   "source": [
    "#การยกกำลัง ** \n",
    "a = 2       #int\n",
    "b = 3       #int\n",
    "c = a ** b   \n",
    "\n",
    "print(\"a ** b =\", c ,type(c)) "
   ]
  },
  {
   "cell_type": "code",
   "execution_count": null,
   "metadata": {},
   "outputs": [],
   "source": [
    "#การหาเศษจากการหาร % (modulo หรือ mod)\n",
    "a = 10      #int\n",
    "b = 2       #int\n",
    "c = 4       #int\n",
    "mod_1 = a % b   \n",
    "mod_2 = a % c\n",
    "\n",
    "print(\"a % b =\", mod_1 ,type(mod_1)) # 10 หาร 2 ลงตัว ได้เศษ 0\n",
    "print(\"a % c =\", mod_2 ,type(mod_2)) # 10 หาร 3 ไม่ลงตัว เหลือเศษ 1"
   ]
  },
  {
   "cell_type": "code",
   "execution_count": null,
   "metadata": {},
   "outputs": [],
   "source": [
    "# การดำเนินการระหว่างจำนวนเต็มกับจำนวนจริงจะได้ผลเป็นจำนวนจริง \n",
    "a = 1 + 2.0\n",
    "b = 1 * 2.0\n",
    "print(a ,type(a))\n",
    "print(b ,type(b))"
   ]
  },
  {
   "cell_type": "code",
   "execution_count": null,
   "metadata": {},
   "outputs": [],
   "source": [
    "#ลำดับการดำเนินการ \n",
    "a = 2\n",
    "b = 5\n",
    "\n",
    "result1 = 1 + a * b                #ลำดับการคำนวณ คูณ บวก \n",
    "result2 = 1 + a * b - 1            #ลำดับการคำนวณ คูณ บวก ลบ\n",
    "result3 = 1 + a * b - 1 / 2        #ลำดับการคำนวณ คูณ หาร บวก ลบ : 1 + (a * b) - (1 / 2) \n",
    "result4 = (1 + a * b - 1 ) / 2     #ลำดับการคำนวณ ทำในวงเล็บ คูณ บวก ลบ นอกวงเล็บ หาร \n",
    "result5 = (1 + a) * ( b - 2 ) / 2  #ลำดับการคำนวณ ทำในวงเล็บ (1+a) และ (b-2)ก่อน แล้วคูณ (1+a) กับ (b-2) แล้วหาร 3 : ( (1 + a) * ( b - 2 ) ) / 3\n",
    "\n",
    "print(\"result1 =\", result1, type(result1))\n",
    "print(\"result2 =\", result2, type(result2))\n",
    "print(\"result3 =\", result3, type(result3))\n",
    "print(\"result4 =\", result4, type(result4))\n",
    "print(\"result5 =\", result5, type(result5))"
   ]
  },
  {
   "cell_type": "markdown",
   "metadata": {},
   "source": [
    "## Example \n",
    "\n",
    "นักเรียนซื้อหนังสือ ราคา 117 บาท ที่ร้านสะดวกหนังสือ โดยจ่ายเงินด้วยธนบัตรหนึ่งร้อยบาท 2 ใบ \n",
    "ในลิ้นชักเก็บเงินของร้านมีแต่ธนบัตร 20 บาท และเหรียญหนึ่งบาท \n",
    "พนักงานจะต้องทอนเงินเป็นธนบัตร 20 บาท จำนวนกี่ใบ และเหรียญหนึ่งบาทจำนวนกี่เหรียญ?\n",
    "\n",
    "\n",
    "### วิเคราะห์โจทย์\n",
    "- รับเงินมา 200 บาท\n",
    "- สินค้าราคา 117 บาท\n",
    "- เงินทอน = จำนวนเงินที่รับมา - ราคาสินค้า\n",
    "- คำนวณว่าต้องใช้ ธนบัตร 20 บาท ทั้งหมดกี่ใบ จากการ หารปัดเศษ\n",
    "- คำนวณว่าต้องใช้ เหรียญ 1 บาท ทั้งหมดกี่เหร๊ยญ จากการ หาเศษจากการหาร"
   ]
  },
  {
   "cell_type": "code",
   "execution_count": null,
   "metadata": {},
   "outputs": [],
   "source": [
    "#กำหนดตัวแปร\n",
    "book_price = 117    #ราคาสินค้า\n",
    "earn_money = 200    #จำนวนเงินที่รับมา\n",
    "change = earn_money - book_price #เงินทอน\n",
    "\n",
    "print(\"เงินทอนทั้งหมด\", change, \"บาท\")\n",
    "\n",
    "#คำนวนหาจำนวน ธนบัตร 20 บาท ที่ต้องทอน จากการหารปัดเศษ\n",
    "banknotes_20 = change // 20     #จำนวนธนบัตร 20 บาท\n",
    "print(\"ทอนเป็น ธนบัตรยี่สิบบาท จำนวน\", banknotes_20, \"ใบ\" )\n",
    "\n",
    "#คำนวณหาจำนวน เหรียญ 1 บาท ที่ต้องทอน\n",
    "coin_1 = change % 20            #จำนวนเหรียญ 1 บาท\n",
    "print(\"ทอนเป็น เหรียญหนึ่งบาท จำนวน\", coin_1, \"เหรียญ\" )\n"
   ]
  }
 ],
 "metadata": {
  "interpreter": {
   "hash": "1f0945ea651c1069c7af037cbbaa82eca29c1e053adfed76f992832db8b6af67"
  },
  "kernelspec": {
   "display_name": "Python 3.9.10 64-bit",
   "language": "python",
   "name": "python3"
  },
  "language_info": {
   "codemirror_mode": {
    "name": "ipython",
    "version": 3
   },
   "file_extension": ".py",
   "mimetype": "text/x-python",
   "name": "python",
   "nbconvert_exporter": "python",
   "pygments_lexer": "ipython3",
   "version": "3.9.10"
  },
  "orig_nbformat": 4
 },
 "nbformat": 4,
 "nbformat_minor": 2
}
